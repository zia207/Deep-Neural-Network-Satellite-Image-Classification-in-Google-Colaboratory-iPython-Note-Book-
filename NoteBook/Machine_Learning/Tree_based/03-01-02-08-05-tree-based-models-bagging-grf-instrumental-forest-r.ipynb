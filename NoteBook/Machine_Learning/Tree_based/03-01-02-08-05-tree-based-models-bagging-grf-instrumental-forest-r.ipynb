{
  "cells": [
    {
      "cell_type": "markdown",
      "metadata": {
        "id": "view-in-github",
        "colab_type": "text"
      },
      "source": [
        "<a href=\"https://colab.research.google.com/github/zia207/Deep-Neural-Network-Satellite-Image-Classification-in-Google-Colaboratory-iPython-Note-Book-/blob/master/NoteBook/Machine_Learning/Tree_based/03-01-02-08-05-tree-based-models-bagging-grf-instrumental-forest-r.ipynb\" target=\"_parent\"><img src=\"https://colab.research.google.com/assets/colab-badge.svg\" alt=\"Open In Colab\"/></a>"
      ]
    },
    {
      "cell_type": "markdown",
      "metadata": {
        "id": "zYZbTX0qQrZb"
      },
      "source": [
        "![alt text](http://drive.google.com/uc?export=view&id=1bLQ3nhDbZrCCqy_WCxxckOne2lgVvn3l)"
      ]
    },
    {
      "cell_type": "markdown",
      "metadata": {
        "id": "RGBfrL2GQoII"
      },
      "source": [
        "# 2.8.5 Instrumental Forest\n",
        "\n",
        "An **Instrumental Forest** is a machine learning method, specifically an extension of the Generalized Random Forests (GRF) framework, used to estimate **conditional local average treatment effects (LATE)** in observational data studies or experiments with imperfect compliance. It combines the principles of instrumental variable (IV) analysis with random forest techniques to address issues of endogeneity and heterogeneity in treatment effects. It is particularly useful in causal inference for estimating how a treatment impacts an outcome when influenced by an instrument, accounting for confounding variables."
      ]
    },
    {
      "cell_type": "markdown",
      "metadata": {
        "id": "S77MsgmqIYD0"
      },
      "source": [
        "## Overview\n",
        "\n",
        "An Instrumental Forest is designed to estimate treatment effects using an **instrumental variable (Z)**, which is a variable that affects the treatment assignment (W) but does not directly affect the outcome (Y) except through the treatment. The forest estimates the conditional local average treatment effect, denoted as **τ(X)**, which represents the treatment effect for specific covariate values (X). Formally, it estimates:\n",
        "\n",
        "$$ τ(X) = \\frac{Cov[Y, Z | X = x]}{ Cov[W, Z | X = x]} $$\n",
        "\n",
        "Where:\n",
        "\n",
        "-   $Y$: Outcome variable (e.g., health outcome, sales, etc.).\n",
        "-   $W$: Treatment assignment (e.g., whether a patient received a drug).\n",
        "-   $Z$ Instrument (e.g., a randomized encouragement to take the drug).\n",
        "-   $X$: Covariates (e.g., patient characteristics like age, gender).\n",
        "-   $Cov[Y, Z | X = x]$: Covariance between the outcome and instrument given covariates.\n",
        "-   $Cov[W, Z | X = x]$: Covariance between the treatment and instrument given covariates.\n",
        "\n",
        "When the instrument $Z$ and treatment $W$ are the same, the Instrumental Forest reduces to a Causal Forest, a related method for estimating causal effects without instruments.\n",
        "\n"
      ]
    },
    {
      "cell_type": "markdown",
      "metadata": {
        "id": "f7xL_QjNAsmh"
      },
      "source": [
        "### Instrumental variable (IV)\n",
        "\n",
        "An **instrumental variable (IV)** is a tool used in statistics and econometrics to estimate causal relationships when a randomized controlled trial is not feasible, or when there is concern about endogeneity—i.e., when the treatment or exposure variable is correlated with unobserved factors that also affect the outcome. IV methods help isolate the causal effect of a treatment (or independent variable) on an outcome by leveraging an external variable, called the instrument, that influences the treatment but does not directly affect the outcome except through the treatment.\n",
        "\n",
        "The **Conditional Local Average Treatment Effect (LATE)** is a causal effect measure used in instrumental variable (IV) analysis to estimate the effect of a treatment (or exposure) on an outcome for a specific subpopulation, known as the \"compliers,\" conditional on a set of covariates $X$. It extends the Local Average Treatment Effect (LATE) by allowing the treatment effect to vary across different values of covariates, making it particularly useful in heterogeneous treatment effect estimation."
      ]
    },
    {
      "cell_type": "markdown",
      "metadata": {
        "id": "VwEoykvwI2dS"
      },
      "source": [
        "### How It Work\n",
        "\n",
        "Instrumental Forests build on decision trees and random forests to estimate heterogeneous treatment effects while addressing endogeneity (i.e., when the treatment assignment is correlated with unobserved factors affecting the outcome). Here’s a step-by-step explanation of how it works:\n",
        "\n",
        "1.  Input Data\n",
        "\n",
        "-   `Covariates (X)`: Features or characteristics of the units (e.g., patients, customers).\n",
        "-   `Outcome (Y)`: The variable of interest (e.g., recovery rate, revenue).\n",
        "-   `Treatment (W)`: The intervention or exposure (binary or continuous).\n",
        "-   `Instrument (Z)`: A variable that influences W but is uncorrelated with unmeasured confounders affecting Y.\n",
        "-   Optional: Pre-estimated values like $\\hat{Y}$ (expected outcome), $\\hat{W}$ (treatment propensity), and $\\hat{Z}$ (instrument propensity) can be provided; otherwise, they are estimated using regression forests.\n",
        "\n",
        "2.  Tree Construction\n",
        "\n",
        "-   The algorithm constructs multiple decision trees, each splitting the data based on covariates (X) to maximize differences in the estimated treatment effect $τ(X)$.\n",
        "\n",
        "-   Unlike standard random forests, Instrumental Forests use an `instrumental variable splitting criterion`. Splits are chosen to maximize the heterogeneity in the treatment effect while accounting for the instrument’s role in isolating exogenous variation in $W$.\n",
        "\n",
        "-   Parameters like `min.node.size` (minimum observations per tree leaf), `sample.fraction` (fraction of data used per tree), and `mtry` (number of features considered for splitting) control the tree structure.\n",
        "\n",
        "-   `Honesty`: The algorithm can use “honest splitting” (separating data for split selection and effect estimation) to reduce bias. The `honesty.fraction` parameter determines the proportion of data used for splitting.\n",
        "\n",
        "3.  Instrumental Variable Estimation\n",
        "\n",
        "-   For each leaf in a tree, the algorithm estimates $τ(X)$ using the instrumental variable formula:\n",
        "\n",
        "$$ \\tau(X) = \\frac{\\text{Cov}[Y - \\hat{Y}, Z - \\hat{Z} | X = x]}{\\text{Cov}[W - \\hat{W}, Z - \\hat{Z} | X = x]} $$\n",
        "\n",
        "-   This isolates the causal effect of $W$ on $Y$ by leveraging the exogenous variation induced by Z, mitigating bias from unmeasured confounders.\n",
        "\n",
        "4.  Forest Aggregation\n",
        "\n",
        "-   Multiple trees are grown (a “forest”), each using a random subset of the data and features to ensure robustness and reduce overfitting.\n",
        "\n",
        "-   The final estimate for $τ(X)$ at a given covariate value X = x is the average of the treatment effect estimates across all trees where x falls into a leaf.\n",
        "\n",
        "5.  Prediction\n",
        "\n",
        "-   For new data points (or out-of-bag training samples), the forest predicts $τ(X)$ by averaging the estimates from all trees.\n",
        "\n",
        "-   Optionally, confidence intervals can be computed if the $ci.group.size$ parameter is set to at least 2, allowing for uncertainty quantification.\n",
        "\n",
        "6.  Tuning\n",
        "\n",
        "-   Instrumental Forests are sensitive to hyperparameters (e.g., `min.node.size`, `alpha`, `imbalance.penalty`). Tuning these parameters is critical for accurate estimation, as suboptimal settings can lead to poor performance, especially in IV settings where effects are often weak.\n",
        "\n",
        "-   Tuning can be automated using methods like cross-validation to minimize the “debiased error” (a measure of estimation accuracy).[ ](https://github.com/grf-labs/grf/issues/501)\n",
        "\n",
        "7.  Output\n",
        "\n",
        "-   A trained Instrumental Forest object containing the estimated treatment effects **τ(X)** for each data point, along with metadata like the seed, number of threads, and tuning parameters.\n",
        "-   Predictions can be made for new data or out-of-bag (OOB) samples, providing estimates of the treatment effect conditional on covariates."
      ]
    },
    {
      "cell_type": "markdown",
      "metadata": {
        "id": "A2tB_TxOs0nQ"
      },
      "source": [
        "### Key Features and Considerations:\n",
        "\n",
        "-   `Endogeneity Correction`: [By using an instrument, the forest corrects for biases due to unmeasured confounders, unlike standard regression or causal forests](https://pubsonline.informs.org/doi/abs/10.1287/mnsc.2021.4084)\n",
        "\n",
        "-   `Heterogeneous Effects`:[It captures how treatment effects vary across subgroups defined by covariates (X), making it suitable for personalized medicine, targeted marketing, etc](https://pubsonline.informs.org/doi/abs/10.1287/mnsc.2021.4084)\n",
        "\n",
        "-   `Challenges`:\n",
        "\n",
        "-   Requires a valid instrument ($Z$ must affect $W$ but not $Y$ directly, except through $W$).\n",
        "\n",
        "-   Sensitive to tuning parameters, which can significantly impact performance.[ ](https://github.com/grf-labs/grf/issues/501)\n",
        "\n",
        "-   Computationally intensive, especially for large datasets or when tuning is involved.\n",
        "\n",
        "-   `Applications`: [Used in fields like economics, medicine, and policy evaluation to estimate causal effects in observational data studies, such as the effect of early surgery on patient outcomes or laparoscopic colectomy in hospitals](https://bmcmedresmethodol.biomedcentral.com/articles/10.1186/s12874-022-01663-0)[ ](https://pubsonline.informs.org/doi/abs/10.1287/mnsc.2021.4084)\n"
      ]
    },
    {
      "cell_type": "markdown",
      "metadata": {
        "id": "bIBhNo81s-Nt"
      },
      "source": [
        "### Between Instrumental Forest and Causal Forests\n",
        "\n",
        "Both Instrumental Forests and Causal Forests are machine learning methods within the `Generalized Random Forests (GRF)` framework, implemented in the `{grf}` package in R, designed for estimating causal effects\\* in observational data or experimental settings. They aim to estimate `heterogeneous treatment effects` (i.e., how the effect of a treatment varies across subgroups defined by covariates). However, they differ in their assumptions, use cases, and how they handle endogeneity. Below is a detailed comparison of Instrumental Forests`and Causal Forests`, including their differences, similarities, and when to use each.\n",
        "\n",
        "| **Aspect** | **Causal Forest** | **Instrumental Forest** |\n",
        "|------------------|---------------------------|---------------------------|\n",
        "| `Purpose` | Estimates CATE for a treatment assuming unconfoundedness. | Estimates LATE using an instrumental variable to address endogeneity. |\n",
        "| `Key Assumption` | Unconfoundedness: Treatment assignment $W$ is independent of potential outcomes $Y(0), Y(1)$ given covariates $X$. | Valid instrument: $Z$ affects $W$, not $Y$ directly (exclusion restriction), and is uncorrelated with confounders (independence). |\n",
        "| `Treatment (W)` | Binary or continuous, assumed exogenous (random or conditionally random given $X$). | Binary or continuous, potentially endogenous (affected by unobserved confounders). |\n",
        "| `Instrument (Z)` | Not required (assumes $W = Z$). | Required: A variable that influences $W$ but not $Y$ except through $W$. |\n",
        "| `Endogeneity` | Cannot handle unobserved confounding. | Explicitly addresses unobserved confounding via the instrument. |\n",
        "| `Estimation Formula` | $\\tau(X) = E[Y(1) - Y(0) | X = x]$ | $\\tau(X) = \\frac{\\text{Cov}[Y - \\hat{Y}, Z - \\hat{Z} | X = x]}{\\text{Cov}[W - \\hat{W}, Z - \\hat{Z} | X = x]}$ |\n",
        "| `Use Case` | Randomized experiments or observational studies with strong unconfoundedness. | Observational studies with endogeneity or imperfect compliance in experiments. |\n",
        "| `Output` | CATE for the entire treated population. | LATE for the subpopulation of compliers (those whose ( W ) is influenced by ( Z )). |\n"
      ]
    },
    {
      "cell_type": "markdown",
      "metadata": {
        "id": "Bn4w4oqMCagF"
      },
      "source": [
        "## Setup R in Python Runtype"
      ]
    },
    {
      "cell_type": "markdown",
      "metadata": {
        "id": "yerTCtKKCmik"
      },
      "source": [
        "### Install {rpy2}\n",
        "\n",
        "{rpy2} is a Python package that provides an interface to the R programming language, allowing Python users to run R code, call R functions, and manipulate R objects directly from Python. It enables seamless integration between Python and R, leveraging R's statistical and graphical capabilities while using Python's flexibility. The package supports passing data between the two languages and is widely used for statistical analysis, data visualization, and machine learning tasks that benefit from R's specialized libraries."
      ]
    },
    {
      "cell_type": "code",
      "execution_count": 1,
      "metadata": {
        "colab": {
          "base_uri": "https://localhost:8080/"
        },
        "id": "OqeCyNf0Crlc",
        "outputId": "28bbdee1-cf65-4346-e04a-ba7544c47f8f"
      },
      "outputs": [
        {
          "output_type": "stream",
          "name": "stdout",
          "text": [
            "Found existing installation: rpy2 3.5.17\n",
            "Uninstalling rpy2-3.5.17:\n",
            "  Successfully uninstalled rpy2-3.5.17\n",
            "Collecting rpy2==3.5.1\n",
            "  Downloading rpy2-3.5.1.tar.gz (201 kB)\n",
            "\u001b[2K     \u001b[90m━━━━━━━━━━━━━━━━━━━━━━━━━━━━━━━━━━━━━━━\u001b[0m \u001b[32m201.7/201.7 kB\u001b[0m \u001b[31m3.7 MB/s\u001b[0m eta \u001b[36m0:00:00\u001b[0m\n",
            "\u001b[?25h  Preparing metadata (setup.py) ... \u001b[?25l\u001b[?25hdone\n",
            "Requirement already satisfied: cffi>=1.10.0 in /usr/local/lib/python3.11/dist-packages (from rpy2==3.5.1) (1.17.1)\n",
            "Requirement already satisfied: jinja2 in /usr/local/lib/python3.11/dist-packages (from rpy2==3.5.1) (3.1.6)\n",
            "Requirement already satisfied: pytz in /usr/local/lib/python3.11/dist-packages (from rpy2==3.5.1) (2025.2)\n",
            "Requirement already satisfied: tzlocal in /usr/local/lib/python3.11/dist-packages (from rpy2==3.5.1) (5.3.1)\n",
            "Requirement already satisfied: pycparser in /usr/local/lib/python3.11/dist-packages (from cffi>=1.10.0->rpy2==3.5.1) (2.22)\n",
            "Requirement already satisfied: MarkupSafe>=2.0 in /usr/local/lib/python3.11/dist-packages (from jinja2->rpy2==3.5.1) (3.0.2)\n",
            "Building wheels for collected packages: rpy2\n",
            "  Building wheel for rpy2 (setup.py) ... \u001b[?25l\u001b[?25hdone\n",
            "  Created wheel for rpy2: filename=rpy2-3.5.1-cp311-cp311-linux_x86_64.whl size=314972 sha256=9c4a0f56c2894e92b2630cce0d2b87f2214da4485c5171ca3246282c1de26876\n",
            "  Stored in directory: /root/.cache/pip/wheels/e9/55/d1/47be85a5f3f1e1f4d1e91cb5e3a4dcb40dd72147f184c5a5ef\n",
            "Successfully built rpy2\n",
            "Installing collected packages: rpy2\n",
            "Successfully installed rpy2-3.5.1\n"
          ]
        }
      ],
      "source": [
        "!pip uninstall rpy2 -y\n",
        "!pip install rpy2==3.5.1\n",
        "%load_ext rpy2.ipython"
      ]
    },
    {
      "cell_type": "markdown",
      "metadata": {
        "id": "vOzGUgYCCyqg"
      },
      "source": [
        "### Mount Google Drive"
      ]
    },
    {
      "cell_type": "code",
      "execution_count": 2,
      "metadata": {
        "colab": {
          "base_uri": "https://localhost:8080/"
        },
        "id": "_lngQQKKC2lc",
        "outputId": "9a43b8ec-b6e8-4e74-af67-c9117407751f"
      },
      "outputs": [
        {
          "output_type": "stream",
          "name": "stdout",
          "text": [
            "Mounted at /content/drive\n"
          ]
        }
      ],
      "source": [
        "from google.colab import drive\n",
        "drive.mount('/content/drive')"
      ]
    },
    {
      "cell_type": "markdown",
      "metadata": {
        "id": "bh7jEhGCLDZA"
      },
      "source": [
        "## Instrumental Forest with R\n",
        "\n",
        "This tutorial demonstrates how to implement an Instrumental Forest using the `{grf}` package in R, focusing on estimating treatment effects in a hypothetical scenario using the lung dataset. The lung dataset is commonly used for survival analysis and contains information about patients with lung cancer, including their treatment and survival outcomes.\n",
        "\n"
      ]
    },
    {
      "cell_type": "markdown",
      "metadata": {
        "id": "RlLmnBj77AMx"
      },
      "source": [
        "### Load and Check Required Libraries"
      ]
    },
    {
      "cell_type": "code",
      "execution_count": 3,
      "metadata": {
        "id": "9rXvjfapLYED"
      },
      "outputs": [],
      "source": [
        "%%R\n",
        "packages <- c('tidyverse',\n",
        "              'plyr',\n",
        "              'grf',\n",
        "              'survival',\n",
        "              'mlbench',\n",
        "              'Metrics')"
      ]
    },
    {
      "cell_type": "markdown",
      "metadata": {
        "id": "MDwlBWYYLc1e"
      },
      "source": [
        "### Install Missing Packages"
      ]
    },
    {
      "cell_type": "code",
      "execution_count": null,
      "metadata": {
        "id": "PWzWe7xULb2L"
      },
      "outputs": [],
      "source": [
        "%%R\n",
        "# Install missing packages\n",
        "new.packages <- packages[!(packages %in% installed.packages(lib='drive/My Drive/R/')[,\"Package\"])]\n",
        "if(length(new.packages)) install.packages(new.packages, lib='drive/My Drive/R/')"
      ]
    },
    {
      "cell_type": "markdown",
      "metadata": {
        "id": "HM3Bl4-PLfFF"
      },
      "source": [
        "### Verify Installation"
      ]
    },
    {
      "cell_type": "code",
      "execution_count": 4,
      "metadata": {
        "colab": {
          "base_uri": "https://localhost:8080/"
        },
        "id": "pHr9zUJvLfNl",
        "outputId": "6df0d625-ae2c-4cd5-84f1-2e7ba0107748"
      },
      "outputs": [
        {
          "output_type": "stream",
          "name": "stdout",
          "text": [
            "Installed packages:\n",
            "tidyverse      plyr       grf  survival   mlbench   Metrics \n",
            "     TRUE      TRUE      TRUE      TRUE      TRUE      TRUE \n"
          ]
        }
      ],
      "source": [
        "%%R\n",
        "# set library path\n",
        ".libPaths('drive/My Drive/R')\n",
        "# Verify installation\n",
        "cat(\"Installed packages:\\n\")\n",
        "print(sapply(packages, requireNamespace, quietly = TRUE))"
      ]
    },
    {
      "cell_type": "markdown",
      "metadata": {
        "id": "2cPLFz1GLlRD"
      },
      "source": [
        "### Load R Packages"
      ]
    },
    {
      "cell_type": "code",
      "execution_count": 5,
      "metadata": {
        "id": "jIlm0D69x_70"
      },
      "outputs": [],
      "source": [
        "%%R\n",
        "# set library path\n",
        ".libPaths('drive/My Drive/R')\n",
        "# Load packages with suppressed messages\n",
        "invisible(lapply(packages, function(pkg) {\n",
        "  suppressPackageStartupMessages(library(pkg, character.only = TRUE))\n",
        "}))\n"
      ]
    },
    {
      "cell_type": "markdown",
      "metadata": {
        "id": "AH4vKW2yL1OF"
      },
      "source": [
        "### Check Loaded Packages"
      ]
    },
    {
      "cell_type": "code",
      "execution_count": null,
      "metadata": {
        "colab": {
          "base_uri": "https://localhost:8080/"
        },
        "id": "Du3QbdUeL1Yw",
        "outputId": "65fcf1d8-2971-473c-c492-854b0541954f"
      },
      "outputs": [
        {
          "name": "stdout",
          "output_type": "stream",
          "text": [
            "Successfully loaded packages:\n",
            " [1] \"package:Metrics\"   \"package:mlbench\"   \"package:survival\" \n",
            " [4] \"package:grf\"       \"package:plyr\"      \"package:lubridate\"\n",
            " [7] \"package:forcats\"   \"package:stringr\"   \"package:dplyr\"    \n",
            "[10] \"package:purrr\"     \"package:readr\"     \"package:tidyr\"    \n",
            "[13] \"package:tibble\"    \"package:ggplot2\"   \"package:tidyverse\"\n",
            "[16] \"package:tools\"     \"package:stats\"     \"package:graphics\" \n",
            "[19] \"package:grDevices\" \"package:utils\"     \"package:datasets\" \n",
            "[22] \"package:methods\"   \"package:base\"     \n"
          ]
        }
      ],
      "source": [
        "%%R\n",
        "# Check loaded packages\n",
        "cat(\"Successfully loaded packages:\\n\")\n",
        "print(search()[grepl(\"package:\", search())])# Check loaded packageswer)"
      ]
    },
    {
      "cell_type": "markdown",
      "metadata": {
        "id": "IPobetr0zFC5"
      },
      "source": [
        "### Load and Prepare the Lung Dataset\n",
        "\n",
        "For this tutorial, we will construct a hypothetical instrumental variable scenario since the lung dataset does not naturally include an instrument. The goal is to estimate the effect of a treatment (e.g., a hypothetical surgical intervention) on survival time, using an instrument (e.g., a randomized encouragement to undergo surgery).\n",
        "\n",
        "-   We select covariates $X$, survival time $Y$, and simulate a binary treatment ($W$: surgery uptake) and instrument ($Z$: randomized encouragement).\n",
        "\n",
        "-   A latent confounder ($Q$) is simulated to introduce endogeneity, mimicking real-world scenarios where treatment assignment is not random.\n",
        "\n",
        "-   The true treatment effect ($\\tau$) is set to decrease with age, and the outcome is generated as a function of covariates, treatment, confounder, and noise.\n"
      ]
    },
    {
      "cell_type": "code",
      "execution_count": 6,
      "metadata": {
        "id": "RmfGVScmzF8P"
      },
      "outputs": [],
      "source": [
        "%%R\n",
        "# Load Data\n",
        "data(lung, package = \"survival\")\n",
        "# Remove rows with missing values for simplicity\n",
        "lung <- lung[complete.cases(lung), ]\n",
        "# Covariates (X): age, sex, ph.ecog (ECOG performance score), wt.loss (weight loss)\n",
        "X <- lung[, c(\"age\", \"sex\", \"ph.ecog\", \"wt.loss\")]\n",
        "# Outcome (Y): Survival time (time)\n",
        "Y <- lung$time\n",
        "# Status (1 = death, 0 = censored); for simplicity, we assume all events are observed\n",
        "# In practice, censoring should be handled appropriately\n",
        "status <- lung$status - 1  # Convert to 0/1 (1 = death)\n",
        "\n",
        "# Simulate a treatment and instrument\n",
        "set.seed(123)  # For reproducibility\n",
        "n <- nrow(lung)\n",
        "# Simulated instrument (Z): Randomized encouragement to undergo surgery (binary)\n",
        "Z <- rbinom(n, 1, 0.5)\n",
        "# Simulated confounder (Q): Latent health condition affecting treatment and outcome\n",
        "Q <- rbinom(n, 1, 0.5)\n",
        "# Simulated treatment (W): Surgery uptake, influenced by Z and Q\n",
        "W <- as.numeric(runif(n) < 0.3 + 0.4 * Z + 0.2 * Q)  # Treatment probability depends on Z and Q\n",
        "# Simulate true treatment effect: Varies by age (stronger effect for younger patients)\n",
        "tau <- 100 * (1 - (X$age - min(X$age)) / (max(X$age) - min(X$age)))  # Linearly decreasing with age\n",
        "# Simulated outcome: Y = baseline + treatment effect * W + confounder + noise\n",
        "Y <- 200 + tau * W + 50 * Q + rnorm(n, 0, 50)"
      ]
    },
    {
      "cell_type": "markdown",
      "metadata": {
        "id": "IYYxCKtVtO-I"
      },
      "source": [
        "### Training an Instrumental Forest\n",
        "\n",
        "We will use the `instrumental_forest()` function from the `{grf}` package to estimate the treatment effects. The function requires covariates, outcome, treatment, and instrument as inputs. Below `instrumental_forest()` parameters:\n",
        "\n",
        "-   `X`: Covariates\n",
        "-   `Y`: Outcome (survival time)\n",
        "-   `W`: Treatment (surgery uptake)\n",
        "-   `Z`: Instrument (encouragement)\n",
        "-   `num`.trees: Number of trees (default 2000)\n",
        "-   `honesty`: Use honest splitting for unbiased estimates\n",
        "-   `tune.parameters`: Automatically tune hyperparameters\n"
      ]
    },
    {
      "cell_type": "code",
      "execution_count": 8,
      "metadata": {
        "id": "jbX9jRGczLuL",
        "colab": {
          "base_uri": "https://localhost:8080/"
        },
        "outputId": "fa10faae-f357-4742-e4ad-ac90ae54485f"
      },
      "outputs": [
        {
          "output_type": "stream",
          "name": "stdout",
          "text": [
            "GRF forest object of type instrumental_forest \n",
            "Number of trees: 1000 \n",
            "Number of training samples: 167 \n",
            "Variable importance: \n",
            "1 2 3 4 \n",
            "0 0 0 0 \n"
          ]
        }
      ],
      "source": [
        "%%R\n",
        "# Train an instrumental forest\n",
        "iv_forest <- instrumental_forest(\n",
        "  X = X,\n",
        "  Y = Y,\n",
        "  W = W,\n",
        "  Z = Z,\n",
        "  num.trees = 1000,  # Reduced for speed; increase for better accuracy\n",
        "  honesty = TRUE,\n",
        "  tune.parameters = \"all\"  # Automatically tune parameters\n",
        ")\n",
        "iv_forest"
      ]
    },
    {
      "cell_type": "markdown",
      "metadata": {
        "id": "2KI7kD5R0Qa9"
      },
      "source": [
        "### Predicting Treatment Effects"
      ]
    },
    {
      "cell_type": "code",
      "execution_count": 9,
      "metadata": {
        "id": "JipnL_6X0RJl",
        "colab": {
          "base_uri": "https://localhost:8080/"
        },
        "outputId": "a2fd4414-4cd4-447d-946e-71b146074830"
      },
      "outputs": [
        {
          "output_type": "stream",
          "name": "stdout",
          "text": [
            "Average Treatment Effect (ATE): 63.18 +/- 43.8 \n",
            "   Age True_Tau Estimated_Tau\n",
            "1   68 32.55814      77.50334\n",
            "2   57 58.13953      80.13024\n",
            "3   74 18.60465      77.97821\n",
            "4   68 32.55814      77.39293\n",
            "5   71 25.58140      80.87128\n",
            "6   53 67.44186      75.93521\n",
            "7   61 48.83721      77.18662\n",
            "8   57 58.13953      78.38655\n",
            "9   57 58.13953      75.40800\n",
            "10  70 27.90698      76.59893\n"
          ]
        }
      ],
      "source": [
        "%%R\n",
        "# Predict treatment effects\n",
        "# Out-of-bag predictions for training data\n",
        "iv_pred <- predict(iv_forest)\n",
        "tau_hat <- iv_pred$predictions  # Estimated treatment effects\n",
        "\n",
        "# Step 6: Summarize results\n",
        "# Average treatment effect (ATE)\n",
        "ate <- average_treatment_effect(iv_forest)\n",
        "cat(\"Average Treatment Effect (ATE):\", round(ate[\"estimate\"], 2),\n",
        "    \"+/-\", round(1.96 * ate[\"std.err\"], 2), \"\\n\")\n",
        "\n",
        "# Compare estimated vs. true treatment effects\n",
        "results <- data.frame(\n",
        "  Age = X$age,\n",
        "  True_Tau = tau,\n",
        "  Estimated_Tau = tau_hat\n",
        ")\n",
        "head(results, 10)  # Display first 10 rows of results)\n"
      ]
    },
    {
      "cell_type": "markdown",
      "metadata": {
        "id": "jxK5d0frBs8O"
      },
      "source": [
        "### Visualizing Results"
      ]
    },
    {
      "cell_type": "code",
      "execution_count": 10,
      "metadata": {
        "id": "Ou9edbC9Bt5M",
        "colab": {
          "base_uri": "https://localhost:8080/",
          "height": 497
        },
        "outputId": "2017f5ea-b4b7-42e3-ef1b-2b0501ea3d7d"
      },
      "outputs": [
        {
          "output_type": "display_data",
          "data": {
            "image/png": "[encoded data removed]"
          },
          "metadata": {}
        }
      ],
      "source": [
        "%%R\n",
        "# Plot true vs. estimated treatment effects\n",
        "plot(results$Age, results$True_Tau, col = \"blue\", pch = 16,\n",
        "     xlab = \"Age\", ylab = \"Treatment Effect\", main = \"True vs. Estimated Treatment Effects\")\n",
        "points(results$Age, results$Estimated_Tau, col = \"red\", pch = 17)\n",
        "legend(\"topright\", legend = c(\"True\", \"Estimated\"), col = c(\"blue\", \"red\"), pch = c(16, 17))"
      ]
    },
    {
      "cell_type": "markdown",
      "metadata": {
        "id": "7KgHx7kY9EEg"
      },
      "source": [
        "### Predicting Treatment Effects for New Data"
      ]
    },
    {
      "cell_type": "code",
      "execution_count": 11,
      "metadata": {
        "colab": {
          "base_uri": "https://localhost:8080/"
        },
        "id": "m0vovr-CfwBZ",
        "outputId": "77eac4c5-3fc5-46de-8242-bb3af40a97d8"
      },
      "outputs": [
        {
          "output_type": "stream",
          "name": "stdout",
          "text": [
            "Predicted treatment effect for new patient: 77.88 \n"
          ]
        }
      ],
      "source": [
        "%%R\n",
        "# Predict treatment effects for new data\n",
        "# Example: Predict for a new patient (age = 60, male, ph.ecog = 1, wt.loss = 10)\n",
        "new_patient <- data.frame(age = 60, sex = 1, ph.ecog = 1, wt.loss = 10)\n",
        "new_pred <- predict(iv_forest, newdata = new_patient)\n",
        "cat(\"Predicted treatment effect for new patient:\", round(new_pred$predictions, 2), \"\\n\")"
      ]
    },
    {
      "cell_type": "markdown",
      "metadata": {
        "id": "6Uc9PcoOgJjF"
      },
      "source": [
        "### Evaluate Model Performance"
      ]
    },
    {
      "cell_type": "code",
      "execution_count": 12,
      "metadata": {
        "id": "6SoYugD6CEgf",
        "colab": {
          "base_uri": "https://localhost:8080/"
        },
        "outputId": "a92d0b20-8630-4d8d-e147-5dbc695d18f0"
      },
      "outputs": [
        {
          "output_type": "stream",
          "name": "stdout",
          "text": [
            "Debiased error (if tuned): 3876.876 \n"
          ]
        }
      ],
      "source": [
        "%%R\n",
        "# Evaluate model performance\n",
        "# Compute debiased error (if tuned)\n",
        "tuning_info <- iv_forest$debiased.error\n",
        "cat(\"Debiased error (if tuned):\", round(mean(tuning_info, na.rm = TRUE), 4), \"\\n\")"
      ]
    },
    {
      "cell_type": "markdown",
      "metadata": {
        "id": "q8IDjanqCJly"
      },
      "source": [
        " - In practice, use a valid instrument ($Z$) that satisfies IV assumptions.\n",
        "\n",
        " - Handle censoring in survival data appropriately (e.g., using inverse probability weighting).\n",
        "\n",
        " - Increase num.trees and adjust tuning parameters for better accuracy.\n",
        "\n",
        " - Check instrument strength using first-stage regression diagnostics."
      ]
    },
    {
      "cell_type": "markdown",
      "metadata": {
        "id": "_j759RVMQMut"
      },
      "source": [
        "## Summary and Conclusion\n",
        "\n",
        "Instrumental Forest is a powerful tool for estimating treatment effects in the presence of endogeneity, leveraging the strengths of random forests and instrumental variable analysis. It allows researchers to estimate heterogeneous treatment effects while addressing confounding issues, making it suitable for various applications in causal inference. This tutorial provided a step-by-step guide to implementing an Instrumental Forest using the `{grf}` package in R, demonstrating how to estimate treatment effects in a simulated scenario with a hypothetical surgical intervention and an instrument. At end of the tutorial, we summarized the results, including the average treatment effect and a comparison of true vs. estimated treatment effects. The code can be adapted to real-world datasets with appropriate instruments and covariates."
      ]
    },
    {
      "cell_type": "markdown",
      "metadata": {
        "id": "SaZTnZx3QPGI"
      },
      "source": [
        "## References\n",
        "\n",
        "## References\n",
        "\n",
        "1.   [Athey, Susan, Julie Tibshirani, and Stefan Wager. \"Generalized Random Forests.\" Annals of Statistics, 47(2), 2019](https://grf-labs.github.io/grf/reference/instrumental_forest.html)[ ](https://rdrr.io/cran/grf/man/instrumental_forest.html)\n",
        "\n",
        "2.   [Chernozhukov, Victor, and Christian Hansen. \"The reduced form: A simple approach to inference with weak instruments.\" Economics Letters, 100(1), 2008.](https://github.com/grf-labs/grf/issues/501)\n",
        "\n",
        "3.  [Wang, Guihua, et al. \"An Instrumental Variable Forest Approach for Detecting Heterogeneous Treatment Effects in Observational Studies.\" Management Science, 2021](https://pubsonline.informs.org/doi/abs/10.1287/mnsc.2021.4084)"
      ]
    }
  ],
  "metadata": {
    "colab": {
      "provenance": [],
      "toc_visible": true,
      "authorship_tag": "ABX9TyMhWE3cN6oh4CESn64sHnz9",
      "include_colab_link": true
    },
    "kernelspec": {
      "display_name": "Python 3",
      "name": "python3"
    },
    "language_info": {
      "name": "python"
    }
  },
  "nbformat": 4,
  "nbformat_minor": 0
}