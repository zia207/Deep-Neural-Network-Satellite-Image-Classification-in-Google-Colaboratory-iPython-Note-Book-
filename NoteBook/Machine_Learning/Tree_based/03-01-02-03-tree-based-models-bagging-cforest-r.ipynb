{
  "nbformat": 4,
  "nbformat_minor": 0,
  "metadata": {
    "colab": {
      "provenance": [],
      "toc_visible": true,
      "authorship_tag": "ABX9TyMRt4dcAoxNQJ/qDpjETknc",
      "include_colab_link": true
    },
    "kernelspec": {
      "name": "python3",
      "display_name": "Python 3"
    },
    "language_info": {
      "name": "python"
    }
  },
  "cells": [
    {
      "cell_type": "markdown",
      "metadata": {
        "id": "view-in-github",
        "colab_type": "text"
      },
      "source": [
        "<a href=\"https://colab.research.google.com/github/zia207/Deep-Neural-Network-Satellite-Image-Classification-in-Google-Colaboratory-iPython-Note-Book-/blob/master/NoteBook/Machine_Learning/Tree_based/03-01-02-03-tree-based-models-bagging-cforest-r.ipynb\" target=\"_parent\"><img src=\"https://colab.research.google.com/assets/colab-badge.svg\" alt=\"Open In Colab\"/></a>"
      ]
    },
    {
      "cell_type": "markdown",
      "source": [
        "![alt text](http://drive.google.com/uc?export=view&id=1bLQ3nhDbZrCCqy_WCxxckOne2lgVvn3l)"
      ],
      "metadata": {
        "id": "zYZbTX0qQrZb"
      }
    },
    {
      "cell_type": "markdown",
      "source": [
        "# 2.3 Conditional Random Forest (cforest)\n",
        "\n",
        "Conditional Random Forest (cforest) builds on ensemble learning method that constructs multiple decision trees but uses **conditional inference trees** (implemented via the `ctree` algorithm) instead of standard CART (Classification and Regression Trees). These trees are based on a statistical framework that tests the independence between predictors and the response variable to guide splitting decisions. This notebook will cover the theoretical background, implementation details, and practical applications of cforest in R."
      ],
      "metadata": {
        "id": "RGBfrL2GQoII"
      }
    },
    {
      "cell_type": "markdown",
      "source": [
        "## Overview\n",
        "\n",
        "A **Conditional Random Forest (cforest)** is an extension of the Random Forest algorithm that uses **conditional inference trees** as its base learners instead of standard decision trees. It was introduced to address some limitations of traditional Random Forests, particularly in handling variable selection bias and providing more robust statistical inference. The `cforest` algorithm is implemented in the R package `party` and is designed to work within a conditional inference framework, which ensures unbiased variable selection and better handling of complex data structures.\n",
        "\n",
        "Key Features of cforest:\n",
        "\n",
        "-   `Unbiased Variable Selection`: Unlike traditional Random Forests, which may favor variables with more categories or continuous variables, cforest uses conditional inference to select variables without bias.\n",
        "\n",
        "-   `Statistical Rigor`: It incorporates permutation-based significance tests to decide splits, making it more robust for datasets with complex relationships or correlated predictors. -`Flexibility`: cforest can handle various types of response variables (e.g., continuous, categorical, survival data) and is less sensitive to overfitting in certain scenarios.\n"
      ],
      "metadata": {
        "id": "7ZqlGV65Qme0"
      }
    },
    {
      "cell_type": "markdown",
      "source": [
        "### How Does Conditional Random Forest (cforest) Work?\n",
        "\n",
        "The **Conditional Random Forest (cforest)** algorithm combines the ensemble approach of Random Forests with the **conditional inference framework** to reduce bias in variable selection and handle mixed data types effectively. Below is a detailed explanation, incorporating mathematical formulations where relevant:\n",
        "\n",
        "1. Input Data\n",
        "\n",
        "-   `Dataset`: Let $D = \\{(\\mathbf{x}_i, y_i)\\}_{i=1}^n$ be the dataset, where:\n",
        "\n",
        "  -   $\\mathbf{x}_i = (x_{i1}, x_{i2}, \\dots, x_{ip})$ is a vector of $p$ predictor variables (numeric or categorical).\n",
        "\n",
        "  -   $y_i$ is the response variable (continuous for regression, categorical for classification).\n",
        "\n",
        "-   The goal is to predict $y$ given $\\mathbf{x}$ using an ensemble of conditional inference trees.\n",
        "\n",
        "2. Bootstrapping or Subsampling\n",
        "\n",
        "-   `Bagging`: For each tree $t = 1, 2, \\dots, T$, a bootstrap sample $D_t$ is drawn from $D$ with replacement, typically of size $n$. The probability that a specific observation $(\\mathbf{x}_i, y_i)$ is included in $D_t$ is approximately $1 - (1 - 1/n)^n \\approx 1 - e^{-1} \\approx 0.632$.\n",
        "\n",
        "-   `Subsampling`: Alternatively, a random subset of size $m< n$ is drawn without replacement. This reduces correlation between trees compared to bagging.\n",
        "\n",
        "-   `Out-of-Bag (OOB) Sample`: Observations not included in $D_t$ form the OOB sample, used for estimating generalization error.\n",
        "\n",
        "3.  Building Conditional Inference Trees\n",
        "\n",
        "Each tree in cforest is a **conditional inference tree** (`ctree`), constructed using a statistical framework to ensure unbiased variable selection. The process involves:\n",
        "\n",
        "3.1  `Variable Selection via Conditional Inference`:\n",
        "\n",
        "  -   At each node, cforest tests the null hypothesis $H_0: Y \\perp X_j \\mid \\mathbf{X}_{-j}$ for each predictor $X_j$, where $\\mathbf{X}_{-j}$ denotes all other predictors.\n",
        "\n",
        "    -   The test is based on a `permutation test`:\n",
        "\n",
        "        -   Compute a test statistic (e.g., for regression, a correlation-based statistic; for classification, a chi-squared or Gini-based statistic).\n",
        "\n",
        "        -   Permute the values of $X_j$ while keeping $Y$ and $\\mathbf{X}_{-j}$ fixed to generate a null distribution.\n",
        "\n",
        "        -   Calculate the p-value as the proportion of permuted test statistics exceeding the observed statistic:\n",
        "\n",
        "$$  p_j = P(T(\\mathbf{X}_j^{\\text{perm}}, Y) \\geq T(\\mathbf{X}_j, Y) \\mid \\mathbf{X}_{-j}) $$\n",
        "\n",
        "        \n",
        " - Select the predictor $X_j$ with the smallest p-value, provided $p_j < \\alpha$ (e.g., $\\alpha = 0.05$).\n",
        "\n",
        "  - This ensures unbiased variable selection, unlike standard Random Forest, which may favor variables with more split points (e.g., continuous variables).\n",
        "\n",
        "\n",
        "3.2 `Split Point Selection`:\n",
        "\n",
        "  -   For the selected predictor $X_j$:\n",
        "\n",
        "        -   If $X_j$ is continuous, evaluate split points $\\in {x_{ij} \\mid i \\in \\text{node}}$.\n",
        "\n",
        "        -   If $X_j$ is categorical with levels ${c_1, c_2, \\dots, c_k}$, consider all possible binary splits (e.g., ${c_1, c_2}$ vs. ${c_3, \\dots, c_k}$).\n",
        "\n",
        "    -   Choose the split that maximizes a test statistic, such as the standardized linear statistic:\n",
        "\n",
        "$$  T_j(s) = \\sum_{i \\in \\text{node}} w_i (y_i - \\bar{y}) (x_{ij} - \\bar{x}_j) \\cdot I(x_{ij} \\leq s) $$\n",
        "\n",
        "        \n",
        " where $w_i $ are weights (typically 1), and $I$ is the indicator function.\n",
        "\n",
        "\n",
        "-   The split maximizes the separation of $Y$ values in the child nodes.\n",
        "\n",
        "3.3  `Recursive Partitioning*`\n",
        "\n",
        "   -   Split the node into two child nodes based on the selected variable and split point.\n",
        "\n",
        "   -   Recursively apply the above steps to each child node until a stopping criterion is met.\n",
        "\n",
        "3.4  `topping Criteria`:\n",
        "\n",
        "  -   Stop splitting if:\n",
        "\n",
        "       -   No predictor has a p-value $< \\alpha$ (no significant association).\n",
        "\n",
        "        -   The node size is below a threshold (e.g., $n_{\\text{min}} = 10$).\n",
        "\n",
        "        -   A maximum tree depth is reached.\n",
        "\n",
        "    -   The terminal node assigns a prediction (e.g., mean $y$ for regression, majority class for classification).\n",
        "\n",
        "4. Ensemble Prediction\n",
        "\n",
        "-   `Regression`:\n",
        "\n",
        "   -   For a new observation $\\mathbf{x}$, each tree \\$t \\$ predicts $\\hat{y}_t(\\mathbf{x})$.\n",
        "\n",
        "   -   The final prediction is the average across all trees:\n",
        "\n",
        "$$ \\hat{y}(\\mathbf{x}) = \\frac{1}{T} \\sum_{t=1}^T \\hat{y}_t(\\mathbf{x}) $$\n",
        "\n",
        "-   `Classification`:\n",
        "\n",
        "  -   Each tree votes for a class $\\hat{y}_t(\\mathbf{x})$.\n",
        "  -   The final prediction is the majority class or averaged class probabilities:\n",
        "\n",
        "$$  \\hat{y}(\\mathbf{x}) = \\arg\\max_c \\left( \\frac{1}{T} \\sum_{t=1}^T I(\\hat{y}_t(\\mathbf{x}) = c) \\right) $$\n",
        "\n",
        "-   `OOB Error`:\n",
        "\n",
        "   -   For each observation $(\\mathbf{x}_i, y_i)$, use only trees where $(\\mathbf{x}_i, y_i) \\notin D_t$.\n",
        "\n",
        "  -   Compute OOB predictions and estimate error (e.g., RMSE for regression, misclassification rate for classification).\n",
        "\n",
        "5. Variable Importance\n",
        "\n",
        "-   `Permutation Importance`:\n",
        "\n",
        "  -   For predictor $X_j$, permute its values in the OOB sample for tree $t$.\n",
        "  \n",
        "  -   Compute the increase in OOB error (e.g., MSE for regression):\n",
        "\n",
        "$$  \\text{Importance}(X_j) = \\frac{1}{T} \\sum_{t=1}^T \\left( \\text{MSE}_{\\text{perm},t} - \\text{MSE}_{\\text{orig},t} \\right) $$\n",
        "\n",
        "-   Higher values indicate greater importance.\n"
      ],
      "metadata": {
        "id": "8TpOehy1B7gE"
      }
    },
    {
      "cell_type": "markdown",
      "source": [
        "Below is a flowchart illustrating the process of building a Conditional Random Forest (cforest):\n",
        "\n",
        "![alt text](http://drive.google.com/uc?export=view&id=1nRfrCMuys21NkrUx43xOsJ_mkTSQDNyr)\n"
      ],
      "metadata": {
        "id": "MfeqJ2MyFVfU"
      }
    },
    {
      "cell_type": "markdown",
      "source": [
        "### Comparison with Standard Random Forest\n",
        "\n",
        "| **Aspect** | **Random Forest (CART)** | **Conditional Random Forest (cforest)** |\n",
        "|------------------|---------------------------|---------------------------|\n",
        "| **Base Learner** | CART (decision trees) | Conditional inference trees (`ctree`) |\n",
        "| **Variable Selection** | Based on impurity (Gini, MSE) | Based on conditional inference (p-values) |\n",
        "| **Bias in Splitting** | Biased toward variables with more categories | Unbiased, uses permutation tests |\n",
        "| **Computational Speed** | Faster | Slower due to statistical tests |\n",
        "| **Implementation** | Widely available (e.g., scikit-learn, R) | Primarily in R’s `party` package |\n",
        "| **Interpretability** | Less statistically rigorous | More rigorous (p-value-based splits) |"
      ],
      "metadata": {
        "id": "5kbEVEgICPd5"
      }
    },
    {
      "cell_type": "markdown",
      "source": [
        "## Setup R in Python Runtype"
      ],
      "metadata": {
        "id": "Bn4w4oqMCagF"
      }
    },
    {
      "cell_type": "markdown",
      "source": [
        "### Install {rpy2}\n",
        "\n",
        "{rpy2} is a Python package that provides an interface to the R programming language, allowing Python users to run R code, call R functions, and manipulate R objects directly from Python. It enables seamless integration between Python and R, leveraging R's statistical and graphical capabilities while using Python's flexibility. The package supports passing data between the two languages and is widely used for statistical analysis, data visualization, and machine learning tasks that benefit from R's specialized libraries."
      ],
      "metadata": {
        "id": "yerTCtKKCmik"
      }
    },
    {
      "cell_type": "code",
      "source": [
        "!pip uninstall rpy2 -y\n",
        "!pip install rpy2==3.5.1\n",
        "%load_ext rpy2.ipython"
      ],
      "metadata": {
        "colab": {
          "base_uri": "https://localhost:8080/"
        },
        "id": "OqeCyNf0Crlc",
        "outputId": "9abeda1a-214f-4658-cc01-fab981066535"
      },
      "execution_count": 1,
      "outputs": [
        {
          "output_type": "stream",
          "name": "stdout",
          "text": [
            "Found existing installation: rpy2 3.5.17\n",
            "Uninstalling rpy2-3.5.17:\n",
            "  Successfully uninstalled rpy2-3.5.17\n",
            "Collecting rpy2==3.5.1\n",
            "  Downloading rpy2-3.5.1.tar.gz (201 kB)\n",
            "\u001b[2K     \u001b[90m━━━━━━━━━━━━━━━━━━━━━━━━━━━━━━━━━━━━━━━\u001b[0m \u001b[32m201.7/201.7 kB\u001b[0m \u001b[31m8.8 MB/s\u001b[0m eta \u001b[36m0:00:00\u001b[0m\n",
            "\u001b[?25h  Preparing metadata (setup.py) ... \u001b[?25l\u001b[?25hdone\n",
            "Requirement already satisfied: cffi>=1.10.0 in /usr/local/lib/python3.11/dist-packages (from rpy2==3.5.1) (1.17.1)\n",
            "Requirement already satisfied: jinja2 in /usr/local/lib/python3.11/dist-packages (from rpy2==3.5.1) (3.1.6)\n",
            "Requirement already satisfied: pytz in /usr/local/lib/python3.11/dist-packages (from rpy2==3.5.1) (2025.2)\n",
            "Requirement already satisfied: tzlocal in /usr/local/lib/python3.11/dist-packages (from rpy2==3.5.1) (5.3.1)\n",
            "Requirement already satisfied: pycparser in /usr/local/lib/python3.11/dist-packages (from cffi>=1.10.0->rpy2==3.5.1) (2.22)\n",
            "Requirement already satisfied: MarkupSafe>=2.0 in /usr/local/lib/python3.11/dist-packages (from jinja2->rpy2==3.5.1) (3.0.2)\n",
            "Building wheels for collected packages: rpy2\n",
            "  Building wheel for rpy2 (setup.py) ... \u001b[?25l\u001b[?25hdone\n",
            "  Created wheel for rpy2: filename=rpy2-3.5.1-cp311-cp311-linux_x86_64.whl size=314972 sha256=2e662a66fca6c78b3c704a7b1075da37f69d1164b49cb9900148dbbba5b90640\n",
            "  Stored in directory: /root/.cache/pip/wheels/e9/55/d1/47be85a5f3f1e1f4d1e91cb5e3a4dcb40dd72147f184c5a5ef\n",
            "Successfully built rpy2\n",
            "Installing collected packages: rpy2\n",
            "Successfully installed rpy2-3.5.1\n"
          ]
        }
      ]
    },
    {
      "cell_type": "markdown",
      "source": [
        "### Mount Google Drive"
      ],
      "metadata": {
        "id": "vOzGUgYCCyqg"
      }
    },
    {
      "cell_type": "code",
      "source": [
        "from google.colab import drive\n",
        "drive.mount('/content/drive')"
      ],
      "metadata": {
        "colab": {
          "base_uri": "https://localhost:8080/"
        },
        "id": "_lngQQKKC2lc",
        "outputId": "4fc57934-287c-49f4-feac-e85df9c63f38"
      },
      "execution_count": 3,
      "outputs": [
        {
          "output_type": "stream",
          "name": "stdout",
          "text": [
            "Mounted at /content/drive\n"
          ]
        }
      ]
    },
    {
      "cell_type": "markdown",
      "source": [
        "## Conditional Random Forest (cforest) from scratch\n",
        "\n",
        "I'll implement conditional Random Forest models for both classification (using iris dataset) and regression (using Boston Housing dataset) in R from scratch. Since you specified not to use any R packages for the Random Forest implementation, The implementation will include tree building, bootstrapping, and prediction logic without relying on external libraries.\n"
      ],
      "metadata": {
        "id": "xLU0BT_LCVBr"
      }
    },
    {
      "cell_type": "markdown",
      "source": [
        "### Decision tree node structure\n",
        "\n",
        "The `create_node` function creates a decision tree node as a list with `feature`, `threshold`, `left`, `right`, `value` (all NULL), and `is_leaf` (FALSE), used for building Random Forest trees."
      ],
      "metadata": {
        "id": "_W-exb0KKCFd"
      }
    },
    {
      "cell_type": "code",
      "source": [
        "%%R\n",
        "# Node structure for decision tree\n",
        "create_node <- function() {\n",
        "  list(\n",
        "    feature = NULL,\n",
        "    threshold = NULL,\n",
        "    left = NULL,\n",
        "    right = NULL,\n",
        "    value = NULL,\n",
        "    is_leaf = FALSE\n",
        "  )\n",
        "}"
      ],
      "metadata": {
        "id": "bnJ7L5JfKEFZ"
      },
      "execution_count": 4,
      "outputs": []
    },
    {
      "cell_type": "markdown",
      "source": [
        "### Splitting criteria (Gini for classification, variance reduction for regression)\n",
        "\n",
        "The following functions calculate splitting criteria for classification and regression tasks:\n",
        "\n",
        "- `gini_impurity`: Calculates Gini impurity for classification. Returns 0 if no labels; otherwise, computes 1 minus the sum of squared probabilities of each class.\n",
        "- `variance`: Calculates variance for regression. Returns 0 if one or no values; otherwise, computes average squared deviation from the mean."
      ],
      "metadata": {
        "id": "hm5QODWQKJVX"
      }
    },
    {
      "cell_type": "code",
      "source": [
        "%%R\n",
        "# Gini impurity for classification\n",
        "gini_impurity <- function(labels) {\n",
        "  if (length(labels) == 0) return(0)\n",
        "  probs <- table(labels) / length(labels)\n",
        "  1 - sum(probs^2)\n",
        "}\n",
        "\n",
        "# Variance for regression\n",
        "variance <- function(values) {\n",
        "  if (length(values) <= 1) return(0)\n",
        "  mean_val <- mean(values)\n",
        "  sum((values - mean_val)^2) / length(values)\n",
        "}\n"
      ],
      "metadata": {
        "id": "OUT8e-YsKMkn"
      },
      "execution_count": 6,
      "outputs": []
    },
    {
      "cell_type": "markdown",
      "source": [
        "### Finding the best split for classification and regression\n",
        "\n",
        "The following functions find the best split for classification and regression tasks:\n",
        "\n",
        "- `find_best_split_classification`: Finds the best split for classification by testing each feature and threshold (midpoints of sorted values). It selects the split with the lowest weighted Gini impurity, returning the feature, threshold, and Gini value.\n",
        "\n",
        "- `find_best_split_regression`: Finds the best split for regression by testing each feature and threshold. It selects the split with the lowest weighted variance, returning the feature, threshold, and variance."
      ],
      "metadata": {
        "id": "C5jja0V6KRFN"
      }
    },
    {
      "cell_type": "code",
      "source": [
        "%%R\n",
        "# Find best split for classification\n",
        "find_best_split_classification <- function(data, labels, features) {\n",
        "  best_gini <- Inf\n",
        "  best_feature <- NULL\n",
        "  best_threshold <- NULL\n",
        "\n",
        "  for (feature in features) {\n",
        "    values <- data[, feature]\n",
        "    unique_vals <- sort(unique(values))\n",
        "    thresholds <- (unique_vals[-length(unique_vals)] + unique_vals[-1]) / 2\n",
        "\n",
        "    for (threshold in thresholds) {\n",
        "      left_idx <- values <= threshold\n",
        "      right_idx <- !left_idx\n",
        "\n",
        "      if (sum(left_idx) == 0 || sum(right_idx) == 0) next\n",
        "\n",
        "      left_labels <- labels[left_idx]\n",
        "      right_labels <- labels[right_idx]\n",
        "\n",
        "      gini_left <- gini_impurity(left_labels)\n",
        "      gini_right <- gini_impurity(right_labels)\n",
        "      weight_left <- sum(left_idx) / length(labels)\n",
        "      weight_right <- sum(right_idx) / length(labels)\n",
        "      gini_total <- weight_left * gini_left + weight_right * gini_right\n",
        "\n",
        "      if (gini_total < best_gini) {\n",
        "        best_gini <- gini_total\n",
        "        best_feature <- feature\n",
        "        best_threshold <- threshold\n",
        "      }\n",
        "    }\n",
        "  }\n",
        "\n",
        "  list(feature = best_feature, threshold = best_threshold, gini = best_gini)\n",
        "}\n",
        "\n",
        "# Find best split for regression\n",
        "find_best_split_regression <- function(data, values, features) {\n",
        "  best_var <- Inf\n",
        "  best_feature <- NULL\n",
        "  best_threshold <- NULL\n",
        "\n",
        "  for (feature in features) {\n",
        "    vals <- data[, feature]\n",
        "    unique_vals <- sort(unique(vals))\n",
        "    thresholds <- (unique_vals[-length(unique_vals)] + unique_vals[-1]) / 2\n",
        "\n",
        "    for (threshold in thresholds) {\n",
        "      left_idx <- vals <= threshold\n",
        "      right_idx <- !left_idx\n",
        "\n",
        "      if (sum(left_idx) == 0 || sum(right_idx) == 0) next\n",
        "\n",
        "      left_vals <- values[left_idx]\n",
        "      right_vals <- values[right_idx]\n",
        "\n",
        "      var_left <- variance(left_vals)\n",
        "      var_right <- variance(right_vals)\n",
        "      weight_left <- sum(left_idx) / length(values)\n",
        "      weight_right <- sum(right_idx) / length(values)\n",
        "      var_total <- weight_left * var_left + weight_right * var_right\n",
        "\n",
        "      if (var_total < best_var) {\n",
        "        best_var <- var_total\n",
        "        best_feature <- feature\n",
        "        best_threshold <- threshold\n",
        "      }\n",
        "    }\n",
        "  }\n",
        "\n",
        "  list(feature = best_feature, threshold = best_threshold, variance = best_var)\n",
        "}"
      ],
      "metadata": {
        "id": "CGiOCpS2KZRD"
      },
      "execution_count": 7,
      "outputs": []
    },
    {
      "cell_type": "markdown",
      "source": [
        "### Random Forest ensemble creation\n",
        "\n",
        "The `build_tree` function recursively builds a decision tree:\n",
        "- Creates a node.\n",
        "- Stops if max depth reached or data size ≤ min_size, setting node as leaf with majority class (classification) or mean value (regression).\n",
        "- Randomly selects sqrt(features) for splitting.\n",
        "- Finds best split using Gini (classification) or variance (regression).\n",
        "- If no valid split, sets node as leaf.\n",
        "- Splits data into left/right based on feature/threshold, recursively builds child nodes.\n",
        "- Returns the node."
      ],
      "metadata": {
        "id": "5PFZp4r6KTZX"
      }
    },
    {
      "cell_type": "code",
      "source": [
        "%%R\n",
        "# Build a single decision tree\n",
        "build_tree <- function(data, target, type = \"classification\", max_depth = 10, min_size = 5, depth = 0) {\n",
        "  node <- create_node()\n",
        "\n",
        "  # Stopping criteria\n",
        "  if (depth >= max_depth || nrow(data) <= min_size) {\n",
        "    node$is_leaf <- TRUE\n",
        "    if (type == \"classification\") {\n",
        "      node$value <- names(which.max(table(target)))\n",
        "    } else {\n",
        "      node$value <- mean(target)\n",
        "    }\n",
        "    return(node)\n",
        "  }\n",
        "\n",
        "  # Randomly select features (sqrt of total features)\n",
        "  n_features <- ncol(data)\n",
        "  mtry <- floor(sqrt(n_features))\n",
        "  features <- sample(1:n_features, mtry)\n",
        "\n",
        "  # Find best split\n",
        "  if (type == \"classification\") {\n",
        "    split <- find_best_split_classification(data, target, features)\n",
        "  } else {\n",
        "    split <- find_best_split_regression(data, target, features)\n",
        "  }\n",
        "\n",
        "  if (is.null(split$feature)) {\n",
        "    node$is_leaf <- TRUE\n",
        "    if (type == \"classification\") {\n",
        "      node$value <- names(which.max(table(target)))\n",
        "    } else {\n",
        "      node$value <- mean(target)\n",
        "    }\n",
        "    return(node)\n",
        "  }\n",
        "\n",
        "  # Split data\n",
        "  left_idx <- data[, split$feature] <= split$threshold\n",
        "  right_idx <- !left_idx\n",
        "\n",
        "  if (sum(left_idx) == 0 || sum(right_idx) == 0) {\n",
        "    node$is_leaf <- TRUE\n",
        "    if (type == \"classification\") {\n",
        "      node$value <- names(which.max(table(target)))\n",
        "    } else {\n",
        "      node$value <- mean(target)\n",
        "    }\n",
        "    return(node)\n",
        "  }\n",
        "\n",
        "  # Create child nodes\n",
        "  node$feature <- split$feature\n",
        "  node$threshold <- split$threshold\n",
        "  node$left <- build_tree(data[left_idx, ], target[left_idx], type, max_depth, min_size, depth + 1)\n",
        "  node$right <- build_tree(data[right_idx, ], target[right_idx], type, max_depth, min_size, depth + 1)\n",
        "\n",
        "  node\n",
        "}"
      ],
      "metadata": {
        "id": "X6VIewBPKgkI"
      },
      "execution_count": 8,
      "outputs": []
    },
    {
      "cell_type": "markdown",
      "source": [
        "The `bootstrap_sample` function:\n",
        "\n",
        "- Randomly samples `n` rows (with replacement) from data and target.\n",
        "- Returns list of sampled data and target."
      ],
      "metadata": {
        "id": "oxLlrw98KLyp"
      }
    },
    {
      "cell_type": "code",
      "source": [
        "%%R\n",
        "# Bootstrap sampling\n",
        "bootstrap_sample <- function(data, target) {\n",
        "  n <- nrow(data)\n",
        "  idx <- sample(1:n, n, replace = TRUE)\n",
        "  list(data = data[idx, ], target = target[idx])\n",
        "}"
      ],
      "metadata": {
        "id": "5h4WeJNRKkKg"
      },
      "execution_count": 9,
      "outputs": []
    },
    {
      "cell_type": "markdown",
      "source": [
        "The `random_forest` function:\n",
        "\n",
        "- Creates a list of `n_trees` decision trees.\n",
        "- For each tree, takes a bootstrap sample and builds a tree using `build_tree`.\n",
        "- Returns a list with the trees and model type (classification or regression)."
      ],
      "metadata": {
        "id": "p2FWv2CzKozl"
      }
    },
    {
      "cell_type": "code",
      "source": [
        "%%R\n",
        "# Build Random Forest\n",
        "random_forest <- function(data, target, type = \"classification\", n_trees = 100, max_depth = 10, min_size = 5) {\n",
        "  trees <- list()\n",
        "  for (i in 1:n_trees) {\n",
        "    sample <- bootstrap_sample(data, target)\n",
        "    tree <- build_tree(sample$data, sample$target, type, max_depth, min_size)\n",
        "    trees[[i]] <- tree\n",
        "  }\n",
        "  list(trees = trees, type = type)\n",
        "}"
      ],
      "metadata": {
        "id": "2kbMJ8KMKpou"
      },
      "execution_count": 10,
      "outputs": []
    },
    {
      "cell_type": "markdown",
      "source": [
        "\n",
        "### Prediction functions for the Random Forest\n",
        "\n",
        "- `predict_tree`: Predicts for one tree: returns leaf value if leaf node; else recursively follows left or right child based on feature/threshold comparison.\n",
        "\n",
        "- `predict_rf`: Predicts for Random Forest: collects predictions from all trees for each row; returns majority class (classification) or mean value (regression)."
      ],
      "metadata": {
        "id": "v6JaxlLvKwL7"
      }
    },
    {
      "cell_type": "code",
      "source": [
        "%%R\n",
        "# Predict for a single tree\n",
        "predict_tree <- function(tree, row) {\n",
        "  if (tree$is_leaf) return(tree$value)\n",
        "\n",
        "  if (row[tree$feature] <= tree$threshold) {\n",
        "    predict_tree(tree$left, row)\n",
        "  } else {\n",
        "    predict_tree(tree$right, row)\n",
        "  }\n",
        "}\n",
        "\n",
        "# Predict for Random Forest\n",
        "predict_rf <- function(forest, data) {\n",
        "  predictions <- matrix(NA, nrow = nrow(data), ncol = length(forest$trees))\n",
        "\n",
        "  for (i in 1:length(forest$trees)) {\n",
        "    predictions[, i] <- apply(data, 1, function(row) predict_tree(forest$trees[[i]], row))\n",
        "  }\n",
        "\n",
        "  if (forest$type == \"classification\") {\n",
        "    apply(predictions, 1, function(x) names(which.max(table(x))))\n",
        "  } else {\n",
        "    apply(predictions, 1, mean)\n",
        "  }\n",
        "}"
      ],
      "metadata": {
        "id": "HLV5BUwOKxAE"
      },
      "execution_count": 11,
      "outputs": []
    },
    {
      "cell_type": "markdown",
      "source": [
        "### Example Usage: Classification"
      ],
      "metadata": {
        "id": "GLbnVYCTK2hj"
      }
    },
    {
      "cell_type": "code",
      "source": [
        "%%R\n",
        "# Load datasets\n",
        "data(iris)\n",
        "\n",
        "# Classification: Iris dataset\n",
        "set.seed(123)\n",
        "train_idx <- sample(1:nrow(iris), 0.7 * nrow(iris))\n",
        "train_iris <- iris[train_idx, ]\n",
        "test_iris <- iris[-train_idx, ]\n",
        "\n",
        "# Train and predict classification Random Forest\n",
        "rf_class <- random_forest(train_iris[, 1:4], train_iris$Species, type = \"classification\", n_trees = 50)\n",
        "pred_class <- predict_rf(rf_class, test_iris[, 1:4])\n",
        "\n",
        "# Evaluate classification (accuracy)\n",
        "accuracy <- mean(pred_class == test_iris$Species)\n",
        "cat(\"Classification Accuracy (Iris):\", accuracy, \"\\n\")"
      ],
      "metadata": {
        "colab": {
          "base_uri": "https://localhost:8080/"
        },
        "id": "ewvVb58MK6Xc",
        "outputId": "50f897ec-6b07-48e3-f501-d47969838be9"
      },
      "execution_count": 12,
      "outputs": [
        {
          "output_type": "stream",
          "name": "stdout",
          "text": [
            "Classification Accuracy (Iris): 0.9777778 \n"
          ]
        }
      ]
    },
    {
      "cell_type": "markdown",
      "source": [
        "### Example Usage: Regression"
      ],
      "metadata": {
        "id": "5svgZkqmLBEY"
      }
    },
    {
      "cell_type": "code",
      "source": [
        "%%R\n",
        "data(Boston, package = \"MASS\")\n",
        "# Regression: Boston Housing dataset\n",
        "train_idx <- sample(1:nrow(Boston), 0.7 * nrow(Boston))\n",
        "train_boston <- Boston[train_idx, ]\n",
        "test_boston <- Boston[-train_idx, ]\n",
        "\n",
        "# Train and predict regression Random Forest\n",
        "rf_reg <- random_forest(train_boston[, -14], train_boston$medv, type = \"regression\", n_trees = 50)\n",
        "pred_reg <- predict_rf(rf_reg, test_boston[, -14])\n",
        "\n",
        "# Evaluate regression (RMSE)\n",
        "rmse <- sqrt(mean((pred_reg - test_boston$medv)^2))\n",
        "cat(\"Regression RMSE (Boston):\", rmse, \"\\n\")"
      ],
      "metadata": {
        "colab": {
          "base_uri": "https://localhost:8080/"
        },
        "id": "eDQate6zLGeq",
        "outputId": "aec28429-ff24-4536-fadd-d1a614c33ce8"
      },
      "execution_count": 13,
      "outputs": [
        {
          "output_type": "stream",
          "name": "stdout",
          "text": [
            "Regression RMSE (Boston): 2.836893 \n"
          ]
        }
      ]
    },
    {
      "cell_type": "markdown",
      "source": [
        "## Conditional Random Forest (cforest) in R\n",
        "\n",
        "I'll guide you through performing Conditional Random Forest (cforest) classification and regression in R using the {partykit} package. I'll include steps for building, pruning, summarizing, plotting, predicting, and assessing variable importance, then compare CIT with CART (using the {rpart} package)."
      ],
      "metadata": {
        "id": "bh7jEhGCLDZA"
      }
    },
    {
      "cell_type": "markdown",
      "source": [
        "### Check amd Install Required R Packages\n",
        "\n",
        "Following R packages are required to run this notebook. If any of these packages are not installed, you can install them using the code below:"
      ],
      "metadata": {
        "id": "WTLU1efLLUUS"
      }
    },
    {
      "cell_type": "code",
      "source": [
        "%%R\n",
        "packages <- c('tidyverse',\n",
        "              'plyr',\n",
        "              'partykit',\n",
        "              'mlbench',\n",
        "              'ggparty'\n",
        "         )"
      ],
      "metadata": {
        "id": "9rXvjfapLYED"
      },
      "execution_count": 14,
      "outputs": []
    },
    {
      "cell_type": "markdown",
      "source": [
        "### Install Missing Packages"
      ],
      "metadata": {
        "id": "MDwlBWYYLc1e"
      }
    },
    {
      "cell_type": "code",
      "source": [
        "%%R\n",
        "# Install missing packages\n",
        "new.packages <- packages[!(packages %in% installed.packages(lib='drive/My Drive/R/')[,\"Package\"])]\n",
        "if(length(new.packages)) install.packages(new.packages, lib='drive/My Drive/R/')"
      ],
      "metadata": {
        "id": "PWzWe7xULb2L"
      },
      "execution_count": null,
      "outputs": []
    },
    {
      "cell_type": "markdown",
      "source": [
        "### Verify Installation"
      ],
      "metadata": {
        "id": "HM3Bl4-PLfFF"
      }
    },
    {
      "cell_type": "code",
      "source": [
        "%%R\n",
        "# set library path\n",
        ".libPaths('drive/My Drive/R')\n",
        "# Verify installation\n",
        "cat(\"Installed packages:\\n\")\n",
        "print(sapply(packages, requireNamespace, quietly = TRUE))"
      ],
      "metadata": {
        "colab": {
          "base_uri": "https://localhost:8080/"
        },
        "id": "pHr9zUJvLfNl",
        "outputId": "888c91d7-b44e-4a28-c113-ca59a8c23b92"
      },
      "execution_count": 15,
      "outputs": [
        {
          "output_type": "stream",
          "name": "stdout",
          "text": [
            "Installed packages:\n",
            "tidyverse      plyr  partykit   mlbench   ggparty \n",
            "     TRUE      TRUE      TRUE      TRUE      TRUE \n"
          ]
        }
      ]
    },
    {
      "cell_type": "markdown",
      "source": [
        "### Load R Packages"
      ],
      "metadata": {
        "id": "2cPLFz1GLlRD"
      }
    },
    {
      "cell_type": "code",
      "source": [
        "%%R\n",
        "# set library path\n",
        ".libPaths('drive/My Drive/R')\n",
        "# Load packages with suppressed messages\n",
        "invisible(lapply(packages, function(pkg) {\n",
        "  suppressPackageStartupMessages(library(pkg, character.only = TRUE))\n",
        "}))"
      ],
      "metadata": {
        "id": "cQl-1GIuLmCD"
      },
      "execution_count": 16,
      "outputs": []
    },
    {
      "cell_type": "markdown",
      "source": [
        "### Check Loaded Packages"
      ],
      "metadata": {
        "id": "AH4vKW2yL1OF"
      }
    },
    {
      "cell_type": "code",
      "source": [
        "%%R\n",
        "# Check loaded packages\n",
        "cat(\"Successfully loaded packages:\\n\")\n",
        "print(search()[grepl(\"package:\", search())])# Check loaded packageswer)"
      ],
      "metadata": {
        "colab": {
          "base_uri": "https://localhost:8080/"
        },
        "id": "Du3QbdUeL1Yw",
        "outputId": "abd8ac98-4a11-492e-a801-5658b206d905"
      },
      "execution_count": 18,
      "outputs": [
        {
          "output_type": "stream",
          "name": "stdout",
          "text": [
            "Successfully loaded packages:\n",
            " [1] \"package:ggparty\"   \"package:mlbench\"   \"package:partykit\" \n",
            " [4] \"package:mvtnorm\"   \"package:libcoin\"   \"package:grid\"     \n",
            " [7] \"package:plyr\"      \"package:lubridate\" \"package:forcats\"  \n",
            "[10] \"package:stringr\"   \"package:dplyr\"     \"package:purrr\"    \n",
            "[13] \"package:readr\"     \"package:tidyr\"     \"package:tibble\"   \n",
            "[16] \"package:ggplot2\"   \"package:tidyverse\" \"package:tools\"    \n",
            "[19] \"package:stats\"     \"package:graphics\"  \"package:grDevices\"\n",
            "[22] \"package:utils\"     \"package:datasets\"  \"package:methods\"  \n",
            "[25] \"package:base\"     \n"
          ]
        }
      ]
    },
    {
      "cell_type": "markdown",
      "source": [
        "### Classification Problem\n",
        "\n",
        "This section demonstrates how to use Conditional Random Forest (cforest) for classification tasks in R, specifically using the `{party}` package. We will build a cforest model on the Health Insurance dataset, which contains information about individuals' choices of insurance products based on various features."
      ],
      "metadata": {
        "id": "aS-CaRU1MCaR"
      }
    },
    {
      "cell_type": "markdown",
      "source": [
        "#### Data\n",
        "\n",
        "For classification, we will use the {party} packages to build a cforest model on [Health Iinsurance](http://peopleanalytics-regression-book.org/data/health_insurance.csv) data. The dataset contains information about individuals' choices of insurance products based on various features.\n",
        "\n",
        "We will use `read_csv()` function of {readr} package to import data as a **tidy** data.\n"
      ],
      "metadata": {
        "id": "euKDzTA_OEl-"
      }
    },
    {
      "cell_type": "code",
      "source": [
        "%%R\n",
        "# Load data\n",
        "mf<-readr::read_csv(\"https://github.com/zia207/r-colab/raw/main/Data/Machine_Learning/health_insurance.csv\")\n",
        "glimpse(mf)\n",
        "# convert factor\n",
        "mf$product <- as.factor(mf$product)\n",
        "mf$gender <- as.factor(mf$gender)\n",
        "# Split Data to Train and Test\n",
        "seeds = 11076\n",
        "tr_prop = 0.70\n",
        "# training data (70% data)\n",
        "train= ddply(mf,.(product, gender ),\n",
        "                 function(., seed) { set.seed(seed); .[sample(1:nrow(.), trunc(nrow(.) * tr_prop)), ] }, seed = 101)\n",
        "test = ddply(mf, .(product , gender),\n",
        "            function(., seed) { set.seed(seed); .[-sample(1:nrow(.), trunc(nrow(.) * tr_prop)), ] }, seed = 101)"
      ],
      "metadata": {
        "colab": {
          "base_uri": "https://localhost:8080/"
        },
        "id": "OiC3ipq-OHim",
        "outputId": "25ef41a8-9ab1-4705-a8d7-4086a1689bc8"
      },
      "execution_count": 17,
      "outputs": [
        {
          "output_type": "stream",
          "name": "stdout",
          "text": [
            "Rows: 1448 Columns: 6\n",
            "── Column specification ────────────────────────────────────────────────────────\n",
            "Delimiter: \",\"\n",
            "chr (2): product, gender\n",
            "dbl (4): age, household, position_level, absent\n",
            "\n",
            "ℹ Use `spec()` to retrieve the full column specification for this data.\n",
            "ℹ Specify the column types or set `show_col_types = FALSE` to quiet this message.\n",
            "Rows: 1,448\n",
            "Columns: 6\n",
            "$ product        <chr> \"C\", \"A\", \"C\", \"A\", \"A\", \"A\", \"A\", \"B\", \"C\", \"B\", \"B\", …\n",
            "$ age            <dbl> 57, 21, 66, 36, 23, 31, 37, 37, 55, 66, 58, 62, 31, 45,…\n",
            "$ household      <dbl> 2, 7, 7, 4, 0, 5, 3, 0, 3, 2, 1, 2, 2, 5, 3, 5, 4, 7, 7…\n",
            "$ position_level <dbl> 2, 2, 2, 2, 2, 1, 3, 3, 3, 4, 2, 2, 2, 2, 4, 4, 4, 4, 4…\n",
            "$ gender         <chr> \"Male\", \"Male\", \"Male\", \"Female\", \"Male\", \"Male\", \"Male…\n",
            "$ absent         <dbl> 10, 7, 1, 6, 11, 14, 12, 25, 3, 18, 1, 25, 0, 10, 20, 2…\n"
          ]
        }
      ]
    },
    {
      "cell_type": "markdown",
      "source": [
        "#### Fit the cforest Model\n",
        "\n",
        "The `cforest()` function in the R `{party}` package builds a **conditional random forest** using **conditional inference trees** as base learners. It fits an ensemble of trees on bootstrap samples, with random feature selection at each split. Unlike `randomForest`, it uses unbiased splitting (avoiding bias toward variables with many categories) and aggregates predictions via observation weights. Key parameters include `ntree` (number of trees), `mtry` (number of features per split), and `mincriterion` (tree depth control). It supports classification, regression, censored responses, and multivariate outcomes, with out-of-bag (OOB) predictions via `predict(..., OOB = TRUE)`."
      ],
      "metadata": {
        "id": "JaFT5tP5OrTO"
      }
    },
    {
      "cell_type": "code",
      "source": [
        "%%R\n",
        "# Fit the cforest model\n",
        "set.seed(seeds)\n",
        "cforest_model <- cforest(product ~ age + household + position_level + absent + gender,\n",
        "                         data = train,\n",
        "                         control = ctree_control( mtry = floor(sqrt(5)),\n",
        "                                                  teststat = \"quad\",\n",
        "                                                  testtype = \"Univariate\",\n",
        "                                                  mincriterion = 0.95))\n",
        "summary(cforest_model)"
      ],
      "metadata": {
        "colab": {
          "base_uri": "https://localhost:8080/"
        },
        "id": "H6vVnAayOuQ6",
        "outputId": "c12f6a7a-4c9a-44e2-c55f-6f082fa1ca75"
      },
      "execution_count": 19,
      "outputs": [
        {
          "output_type": "stream",
          "name": "stdout",
          "text": [
            "         Length Class      Mode    \n",
            "nodes    500    -none-     list    \n",
            "data       6    data.frame list    \n",
            "weights  500    -none-     list    \n",
            "fitted     2    data.frame list    \n",
            "terms      3    terms      call    \n",
            "info       2    -none-     list    \n",
            "trafo      1    -none-     function\n",
            "predictf   2    terms      call    \n"
          ]
        }
      ]
    },
    {
      "cell_type": "markdown",
      "source": [
        "#### Prediction and Evaluation"
      ],
      "metadata": {
        "id": "aGdnDz8-O2QF"
      }
    },
    {
      "cell_type": "code",
      "source": [
        "%%R\n",
        "# Predict with holdout test data\n",
        "cforest_predictions <- predict(cforest_model, newdata = test)\n",
        "\n",
        "# SValidate model\n",
        "cforest_accuracy <- mean(cforest_predictions == test$product)\n",
        "cat(\"CIT Classification Accuracy:\", cforest_accuracy, \"\\n\")"
      ],
      "metadata": {
        "colab": {
          "base_uri": "https://localhost:8080/"
        },
        "id": "TNGjn3RLO85q",
        "outputId": "214e4152-b465-4908-b3b5-381d519d7e2f"
      },
      "execution_count": 20,
      "outputs": [
        {
          "output_type": "stream",
          "name": "stdout",
          "text": [
            "CIT Classification Accuracy: 0.8287671 \n"
          ]
        }
      ]
    },
    {
      "cell_type": "markdown",
      "source": [
        "#### Variable Importance"
      ],
      "metadata": {
        "id": "LbYzS8pYPGVB"
      }
    },
    {
      "cell_type": "code",
      "source": [
        "%%R\n",
        "# Calculate variable importance\n",
        "var_imp_cforest <- varimp(cforest_model)\n",
        "var_imp_cforest <- sort(var_imp_cforest, decreasing = TRUE) # Sort by importance\n",
        "var_imp_cforest <- data.frame(Variable = names(var_imp_cforest), Importance = var_imp_cforest)\n",
        "# plot variable importance\n",
        "ggplot(var_imp_cforest, aes(x = reorder(Variable, Importance), y = Importance)) +\n",
        "  geom_bar(stat = \"identity\") +\n",
        "  coord_flip() +\n",
        "  labs(title = \"Variable Importance for cforest-Classification\", x = \"Variable\", y = \"Importance\")"
      ],
      "metadata": {
        "colab": {
          "base_uri": "https://localhost:8080/",
          "height": 497
        },
        "id": "x_u70FxvPLSr",
        "outputId": "71784e04-7ac6-48b3-b781-f9ac8c0835c1"
      },
      "execution_count": 21,
      "outputs": [
        {
          "output_type": "display_data",
          "data": {
            "image/png": "[encoded data removed]"
          },
          "metadata": {}
        }
      ]
    },
    {
      "cell_type": "markdown",
      "source": [
        "### Regression Example\n",
        "\n",
        "For regression, we will use the `cforest()` function from the `{partykit}` package to build a Conditional Random Forest model on the Soil Organic Carbon (SOC) dataset. This dataset contains various soil properties and their relationship with SOC.\n"
      ],
      "metadata": {
        "id": "SN2wTqH2PTqt"
      }
    },
    {
      "cell_type": "markdown",
      "source": [
        "#### Data"
      ],
      "metadata": {
        "id": "zqooJblKPaDv"
      }
    },
    {
      "cell_type": "code",
      "source": [
        "%%R\n",
        "# Read file from github\n",
        "mf = readr::read_csv( \"https://github.com//zia207/r-colab/raw/main/Data/Machine_Learning/gp_soil_data.csv\")\n",
        "# Create a data frame with selected variables\n",
        "df <- mf %>% dplyr::select(SOC, DEM, Slope, Aspect, TPI, KFactor, SiltClay, MAT, MAP, NDVI, NLCD, FRG)\n",
        "\n",
        "# Convert categorical variables to factors\n",
        "df$NLCD <- as.factor(df$NLCD)\n",
        "df$FRG <- as.factor(df$FRG)\n",
        "\n",
        "# Set seed for reproducibility\n",
        "seeds <- 11076\n",
        "tr_prop <- 0.70\n",
        "\n",
        "# Split data into training and test sets, stratified by NLCD and FRG\n",
        "set.seed(seeds)\n",
        "train <- ddply(df, .(NLCD, FRG),\n",
        "               function(., seed) { set.seed(seed); .[sample(1:nrow(.), trunc(nrow(.) * tr_prop)), ] }, seed = 101)\n",
        "test <- ddply(df, .(NLCD, FRG),\n",
        "              function(., seed) { set.seed(seed); .[-sample(1:nrow(.), trunc(nrow(.) * tr_prop)), ] }, seed = 101)\n",
        "\n",
        "# Scale numeric features (exclude SOC, NLCD, FRG)\n",
        "train[-c(1, 11, 12)] <- scale(train[-c(1, 11, 12)])\n",
        "test[-c(1, 11, 12)] <- scale(test[-c(1, 11, 12)])"
      ],
      "metadata": {
        "colab": {
          "base_uri": "https://localhost:8080/"
        },
        "id": "Iq9VcQt7Pbm9",
        "outputId": "cd7368a7-9f41-4cf1-f952-5e5a8f8096cb"
      },
      "execution_count": 22,
      "outputs": [
        {
          "output_type": "stream",
          "name": "stdout",
          "text": [
            "Rows: 467 Columns: 19\n",
            "── Column specification ────────────────────────────────────────────────────────\n",
            "Delimiter: \",\"\n",
            "chr  (4): STATE, COUNTY, NLCD, FRG\n",
            "dbl (15): ID, FIPS, STATE_ID, Longitude, Latitude, SOC, DEM, Aspect, Slope, ...\n",
            "\n",
            "ℹ Use `spec()` to retrieve the full column specification for this data.\n",
            "ℹ Specify the column types or set `show_col_types = FALSE` to quiet this message.\n"
          ]
        }
      ]
    },
    {
      "cell_type": "markdown",
      "source": [
        "#### Fit the cforest Model"
      ],
      "metadata": {
        "id": "wbVv7GD1PgnP"
      }
    },
    {
      "cell_type": "code",
      "source": [
        "%%R\n",
        "# Fit the cforest model with unbiased control settings\n",
        "set.seed(seeds)\n",
        "cforest_model <- cforest(SOC ~ DEM + Slope + Aspect + TPI + KFactor + SiltClay + MAT + MAP + NDVI + NLCD + FRG,\n",
        "                         data = train,\n",
        "                         control = ctree_control( mtry = floor(sqrt(11)),\n",
        "                                                  teststat = \"quad\",\n",
        "                                                  testtype = \"Univariate\",\n",
        "                                                  mincriterion = 0.95))"
      ],
      "metadata": {
        "id": "N059JmapPhQ8"
      },
      "execution_count": 24,
      "outputs": []
    },
    {
      "cell_type": "markdown",
      "source": [
        "#### Prediction and Evaluation"
      ],
      "metadata": {
        "id": "oTOC7MItPyP_"
      }
    },
    {
      "cell_type": "code",
      "source": [
        "%%R\n",
        "# Make predictions on the test set\n",
        "test$SOC.pred.cforest = predict(cforest_model, newdata = test)\n",
        "\n",
        "# Evaluate performance\n",
        "RMSE<- Metrics::rmse(test$SOC, test$SOC.pred.cforest)\n",
        "MAE<- Metrics::mae(test$SOC, test$SOC.pred.cforest)\n",
        "RMSE\n",
        "MAE"
      ],
      "metadata": {
        "colab": {
          "base_uri": "https://localhost:8080/"
        },
        "id": "L9ycjSCdPwiM",
        "outputId": "42e30c71-af99-46ef-ee0e-029a55ed5e22"
      },
      "execution_count": 25,
      "outputs": [
        {
          "output_type": "stream",
          "name": "stdout",
          "text": [
            "[1] 2.919315\n"
          ]
        }
      ]
    },
    {
      "cell_type": "markdown",
      "source": [
        "#### 1:1 Plot for Predicted vs Observed values"
      ],
      "metadata": {
        "id": "V2eBtQZ9P_6s"
      }
    },
    {
      "cell_type": "code",
      "source": [
        "%%R\n",
        "library(ggpmisc)\n",
        "formula<-y~x\n",
        "\n",
        "ggplot(test, aes(SOC,SOC.pred.cforest)) +\n",
        "  geom_point() +\n",
        "  geom_smooth(method = \"lm\")+\n",
        "  stat_poly_eq(use_label(c(\"eq\", \"adj.R2\")), formula = formula) +\n",
        "  ggtitle(\"cforest: Predicted vs Observed SOC\") +\n",
        "  xlab(\"Observed\") + ylab(\"Predicted\") +\n",
        "  scale_x_continuous(limits=c(0,25), breaks=seq(0, 25, 5))+\n",
        "  scale_y_continuous(limits=c(0,25), breaks=seq(0, 25, 5)) +\n",
        "  # Flip the bars\n",
        "  theme(\n",
        "    panel.background = element_rect(fill = \"grey95\",colour = \"gray75\",size = 0.5, linetype = \"solid\"),\n",
        "    axis.line = element_line(colour = \"grey\"),\n",
        "    plot.title = element_text(size = 14, hjust = 0.5),\n",
        "    axis.title.x = element_text(size = 14),\n",
        "    axis.title.y = element_text(size = 14),\n",
        "    axis.text.x=element_text(size=13, colour=\"black\"),\n",
        "    axis.text.y=element_text(size=13,angle = 90,vjust = 0.5, hjust=0.5, colour='black'))"
      ],
      "metadata": {
        "colab": {
          "base_uri": "https://localhost:8080/",
          "height": 792
        },
        "id": "KY1-zUWLQA88",
        "outputId": "e8d95e69-1237-4b12-8507-25e9439b8a71"
      },
      "execution_count": 26,
      "outputs": [
        {
          "output_type": "stream",
          "name": "stderr",
          "text": [
            "WARNING:rpy2.rinterface_lib.callbacks:R[write to console]: Loading required package: ggpp\n",
            "\n",
            "WARNING:rpy2.rinterface_lib.callbacks:R[write to console]: Registered S3 methods overwritten by 'ggpp':\n",
            "  method                  from   \n",
            "  heightDetails.titleGrob ggplot2\n",
            "  widthDetails.titleGrob  ggplot2\n",
            "\n",
            "WARNING:rpy2.rinterface_lib.callbacks:R[write to console]: \n",
            "Attaching package: ‘ggpp’\n",
            "\n",
            "\n",
            "WARNING:rpy2.rinterface_lib.callbacks:R[write to console]: The following object is masked from ‘package:ggplot2’:\n",
            "\n",
            "    annotate\n",
            "\n",
            "\n"
          ]
        },
        {
          "output_type": "stream",
          "name": "stdout",
          "text": [
            "`geom_smooth()` using formula = 'y ~ x'\n"
          ]
        },
        {
          "output_type": "display_data",
          "data": {
            "image/png": "[encoded data removed]"
          },
          "metadata": {}
        }
      ]
    },
    {
      "cell_type": "markdown",
      "source": [
        "#### Variable Importance"
      ],
      "metadata": {
        "id": "k2SC3iPoQF5p"
      }
    },
    {
      "cell_type": "code",
      "source": [
        "%%R\n",
        "var_imp_cforest <- varimp(cforest_model)\n",
        "var_imp_cforest <- sort(var_imp_cforest, decreasing = TRUE) # Sort by importance\n",
        "var_imp_cforest <- data.frame(Variable = names(var_imp_cforest), Importance = var_imp_cforest)\n",
        "# plot variable importance\n",
        "ggplot(var_imp_cforest, aes(x = reorder(Variable, Importance), y = Importance)) +\n",
        "  geom_bar(stat = \"identity\") +\n",
        "  coord_flip() +\n",
        "  labs(title = \"Variable Importance for cforest-Regression\", x = \"Variable\", y = \"Importance\")\n"
      ],
      "metadata": {
        "id": "jiRIzHrcQGt7"
      },
      "execution_count": null,
      "outputs": []
    },
    {
      "cell_type": "markdown",
      "source": [
        "### Hyperparameter Tuning for cforest\n",
        "\n",
        "To perform hyperparameter tuning for a `cforest` regression model using the provided code and the `{party}` package in R, you need to optimize key parameters such as `mtry` (number of features considered at each split), `ntree` (number of trees), and `mincriterion` (controls tree depth). Below is a concise guide to tune these parameters using a grid search with cross-validation, building on your code."
      ],
      "metadata": {
        "id": "5Hw6_6o0S9Ay"
      }
    },
    {
      "cell_type": "markdown",
      "source": [
        "Steps for Hyperparameter Tuning:\n",
        "\n",
        "1. **Define Parameter Grid**: Create a grid for `mtry`, `ntree`, and `mincriterion`.\n",
        "\n",
        "   - `mtry`: Test values like `floor(sqrt(11))` (~3), 5, 7 (since you have 11 predictors).\n",
        "   - `ntree`: Test 100, 500, 1000 (balance performance and computation).\n",
        "   - `mincriterion`: Test 0.90, 0.95, 0.99 (controls tree pruning).\n"
      ],
      "metadata": {
        "id": "AqAqV4HmTBvV"
      }
    },
    {
      "cell_type": "code",
      "source": [
        "%%R\n",
        "# Define parameter grid\n",
        "param_grid <- expand.grid(\n",
        "  mtry = c(3, 5, 7),\n",
        "  ntree = 25,  # Reduced for speed; use c(100, 500, 1000) in production\n",
        "  mincriterion = c(0.90, 0.95, 0.99)\n",
        ")"
      ],
      "metadata": {
        "id": "f5DsGtZaRJEy"
      },
      "execution_count": 27,
      "outputs": []
    },
    {
      "cell_type": "markdown",
      "source": [
        "2. **Cross-Validation Setup**: Use k-fold cross-validation (e.g., 5-fold) on the training data to evaluate each parameter combination."
      ],
      "metadata": {
        "id": "lMUqAroqTH8j"
      }
    },
    {
      "cell_type": "code",
      "source": [
        "%%R\n",
        "# Function to calculate RMSE\n",
        "rmse <- function(actual, predicted) sqrt(mean((actual - predicted)^2))\n",
        "# 5-fold cross-validation\n",
        "k <- 5\n",
        "set.seed(seeds)\n",
        "folds <- sample(rep(1:k, length.out = nrow(train)))\n",
        "results <- data.frame()\n",
        "\n",
        "for (i in 1:nrow(param_grid)) {\n",
        "  mtry_val <- param_grid$mtry[i]\n",
        "  ntree_val <- param_grid$ntree[i]\n",
        "  mincriterion_val <- param_grid$mincriterion[i]\n",
        "\n",
        "  cv_rmse <- numeric(k)\n",
        "  for (j in 1:k) {\n",
        "    # Split into training and validation folds\n",
        "    train_cv <- train[folds != j, ]\n",
        "    val_cv <- train[folds, ]\n",
        "\n",
        "    # Train model\n",
        "    model <- cforest(\n",
        "      SOC ~ DEM + Slope + Aspect + TPI + KFactor + SiltClay + MAT + MAP + NDVI + NLCD + FRG,\n",
        "      data = train_cv,\n",
        "      ntree = ntree_val,\n",
        "      control = ctree_control(\n",
        "        mtry = mtry_val,\n",
        "        teststat = \"quad\",\n",
        "        testtype = \"Univariate\",\n",
        "        mincriterion = mincriterion_val\n",
        "      )\n",
        "    )\n",
        "\n",
        "    # Predict and calculate RMSE\n",
        "    pred <- predict(model, newdata = val_cv)\n",
        "    cv_rmse[j] <- rmse(val_cv$SOC, pred)\n",
        "  }\n",
        "\n",
        "  # Store mean RMSE\n",
        "  results <- rbind(results, data.frame(\n",
        "    mtry = mtry_val,\n",
        "    ntree = ntree_val,\n",
        "    mincriterion = mincriterion_val,\n",
        "    mean_rmse = mean(cv_rmse)\n",
        "  ))\n",
        "}"
      ],
      "metadata": {
        "id": "W2FzMy5dTJbr"
      },
      "execution_count": 28,
      "outputs": []
    },
    {
      "cell_type": "markdown",
      "source": [
        "3. **Select Best Parameters**: Choose the combination with the lowest average RMSE."
      ],
      "metadata": {
        "id": "yfw9dkZETQTZ"
      }
    },
    {
      "cell_type": "code",
      "source": [
        "%%R\n",
        "# Best parameters\n",
        "best_params <- results[which.min(results$mean_rmse), ]\n",
        "print(\"Best Parameters:\")\n",
        "print(best_params)"
      ],
      "metadata": {
        "colab": {
          "base_uri": "https://localhost:8080/"
        },
        "id": "XttIHEMITRY8",
        "outputId": "52f577ff-c740-4957-cba1-179cfe5ed631"
      },
      "execution_count": 29,
      "outputs": [
        {
          "output_type": "stream",
          "name": "stdout",
          "text": [
            "[1] \"Best Parameters:\"\n",
            "  mtry ntree mincriterion mean_rmse\n",
            "1    3    25          0.9  3.579862\n"
          ]
        }
      ]
    },
    {
      "cell_type": "markdown",
      "source": [
        "4. **Train Final Model**: Fit the `cforest` model with the best parameters on the full training data and evaluate on the test set."
      ],
      "metadata": {
        "id": "dtWZkeLsTXNK"
      }
    },
    {
      "cell_type": "code",
      "source": [
        "%%R\n",
        "# Train final model with best parameters\n",
        "set.seed(seeds)\n",
        "final_model <- cforest(\n",
        "  SOC ~ DEM + Slope + Aspect + TPI + KFactor + SiltClay + MAT + MAP + NDVI + NLCD + FRG,\n",
        "  data = train,\n",
        "  ntree = best_params$ntree,\n",
        "  control = ctree_control(\n",
        "    mtry = best_params$mtry,\n",
        "    teststat = \"quad\",\n",
        "    testtype = \"Univariate\",\n",
        "    mincriterion = best_params$mincriterion\n",
        "  )\n",
        ")"
      ],
      "metadata": {
        "id": "JMk3nWxyTa42"
      },
      "execution_count": 30,
      "outputs": []
    },
    {
      "cell_type": "markdown",
      "source": [
        "5. Evaluate Final Model\n",
        "\n",
        "Finally, evaluate the performance of the tuned model on the test set using RMSE."
      ],
      "metadata": {
        "id": "tijOErB9TZwS"
      }
    },
    {
      "cell_type": "code",
      "source": [
        "%%R\n",
        "# Evaluate on test set\n",
        "test_pred <- predict(final_model, newdata = test)\n",
        "test_rmse <- rmse(test$SOC, test_pred)\n",
        "cat(\"Test RMSE:\", test_rmse, \"\\n\")"
      ],
      "metadata": {
        "colab": {
          "base_uri": "https://localhost:8080/"
        },
        "id": "_6dUp47yTjC0",
        "outputId": "43c4bb6c-c3e6-4670-8684-190e728801d2"
      },
      "execution_count": 31,
      "outputs": [
        {
          "output_type": "stream",
          "name": "stdout",
          "text": [
            "Test RMSE: 3.982229 \n"
          ]
        }
      ]
    },
    {
      "cell_type": "markdown",
      "source": [
        "## Summary and Conclusion\n",
        "\n",
        "Conditional Random Forest (cforest) is a powerful ensemble learning method that builds on the strengths of traditional Random Forests while addressing some of their limitations. By using conditional inference trees and permutation-based significance tests, cforest provides unbiased variable selection, robust statistical inference, and flexibility in handling various types of response variables. It is particularly useful in scenarios where variable importance and interpretability are crucial. This tutorial demonstrated how to implement cforest in R for both classification and regression tasks, showcasing its capabilities in real-world applications. By leveraging the strengths of cforest, data scientists and statisticians can build more reliable and interpretable models for complex datasets."
      ],
      "metadata": {
        "id": "_j759RVMQMut"
      }
    },
    {
      "cell_type": "markdown",
      "source": [
        "## References\n",
        "\n",
        "1.  Hothorn, T., Hornik, K., & Zeileis, A. (2006). Unbiased Recursive Partitioning: A Conditional Inference Framework. *Journal of Computational and Graphical Statistics, 15*(3), 651–674.\n",
        "\n",
        "2.  Strobl, C., Boulesteix, A.-L., Zeileis, A., & Hothorn, T. (2007). Bias in Random Forest Variable Importance Measures: Illustrations, Sources and a Solution. *BMC Bioinformatics, 8*(25).\n",
        "\n",
        "3.  Hothorn, T., & Zeileis, A. (2015). partykit: A Modular Toolkit for Recursive Partytioning in R. *The Journal of Machine Learning Research, 16*(1), 3905–3909.\n",
        "\n",
        "4.  Hastie, T., Tibshirani, R., & Friedman, J. (2009). *The Elements of Statistical Learning: Data Mining, Inference, and Prediction* (2nd ed.). Springer.\n",
        "\n",
        "5.  [partykit R Package Documentation](https://cran.r-project.org/web/packages/partykit/partykit.pdf)\n"
      ],
      "metadata": {
        "id": "SaZTnZx3QPGI"
      }
    }
  ]
}