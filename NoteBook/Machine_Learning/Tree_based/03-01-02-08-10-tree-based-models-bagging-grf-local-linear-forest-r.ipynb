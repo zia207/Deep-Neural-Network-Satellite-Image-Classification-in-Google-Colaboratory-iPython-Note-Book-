{
  "cells": [
    {
      "cell_type": "markdown",
      "metadata": {
        "id": "view-in-github",
        "colab_type": "text"
      },
      "source": [
        "<a href=\"https://colab.research.google.com/github/zia207/Deep-Neural-Network-Satellite-Image-Classification-in-Google-Colaboratory-iPython-Note-Book-/blob/master/NoteBook/Machine_Learning/Tree_based/03-01-02-08-10-tree-based-models-bagging-grf-local-linear-forest-r.ipynb\" target=\"_parent\"><img src=\"https://colab.research.google.com/assets/colab-badge.svg\" alt=\"Open In Colab\"/></a>"
      ]
    },
    {
      "cell_type": "markdown",
      "metadata": {
        "id": "zYZbTX0qQrZb"
      },
      "source": [
        "![alt text](http://drive.google.com/uc?export=view&id=1bLQ3nhDbZrCCqy_WCxxckOne2lgVvn3l)"
      ]
    },
    {
      "cell_type": "markdown",
      "metadata": {
        "id": "RGBfrL2GQoII"
      },
      "source": [
        "# 2.8.10 Local Linear Forest\n",
        "\n",
        "A **Local Linear Forest (LLF)**, as implemented in the `{grf}` package in R, is an advanced extension of the random forest framework that combines the flexibility of random forests with local linear regression to improve prediction accuracy, particularly for smooth relationships between features and outcomes. It is designed to refine the predictions of a standard random forest by incorporating local linear corrections, making it especially effective for regression tasks where the underlying relationship varies smoothly across the feature space. Below, I’ll explain the concept, its implementation in `{grf}`, and how it differs from standard regression forests.\n"
      ]
    },
    {
      "cell_type": "markdown",
      "metadata": {
        "id": "S77MsgmqIYD0"
      },
      "source": [
        "## Overview\n",
        "\n",
        "A Local Linear Forest builds on the generalized random forest framework by adding a **local linear correction** step to the predictions made by a random forest. While a standard random forest predicts outcomes by averaging the response values in a leaf (a step function), LLF refines these predictions by fitting a local linear regression model at each prediction point, using the forest’s similarity weights to define the \"neighborhood\" of that point. This approach captures smooth trends in the data while retaining the random forest’s ability to handle non-linear relationships and high-dimensional feature spaces.\n",
        "\n"
      ]
    },
    {
      "cell_type": "markdown",
      "source": [
        "### Key features\n",
        "\n",
        "- `Random Forest Foundation`: Like other random forests, LLF uses an ensemble of decision trees trained on random subsets of data and features.\n",
        "- `Local Linear Correction`: For each prediction, LLF fits a weighted linear regression model, where weights are derived from the forest’s tree structure (based on how often data points share leaves with the target point).\n",
        "- `Honest Splitting`: Supports honest estimation (separating data for tree splits and leaf estimates) to reduce bias.\n",
        "- `Smooth Predictions`: Produces smoother predictions than standard random forests, which are piecewise constant within leaves.\n"
      ],
      "metadata": {
        "id": "EnR-z3S9vTpk"
      }
    },
    {
      "cell_type": "markdown",
      "metadata": {
        "id": "VwEoykvwI2dS"
      },
      "source": [
        "### How Local Linear Forests Work in `{grf}`\n",
        "\n",
        "The `ll_regression_forest()` function in `{grf}` implements Local Linear Forests. Here’s how it works:\n",
        "\n",
        "1. Input Data\n",
        "\n",
        "   - A feature matrix $X$ (predictors) and a vector $Y$ (continuous outcome).\n",
        "   - Optional parameters like `num.trees`, `honesty`, `ll.lambda` (regularization for the linear correction), and `enable.ll.split` (to incorporate local linear splitting).\n",
        "\n",
        "2. Tree Construction\n",
        "\n",
        "   - Each tree is grown using a bootstrap sample of the data and a random subset of features for splits.\n",
        "   - Splits are typically chosen to minimize mean squared error (MSE), but `{grf}` allows for local linear splitting criteria (`enable.ll.split = TRUE`), which optimize splits based on local linear fits.\n",
        "   - If `honesty = TRUE`, data is split into two parts: one for building the tree structure and another for estimating leaf values.\n",
        "\n",
        "3. Local Linear Correction\n",
        "\n",
        "   - For a new data point $x$, the forest computes **similarity weights** based on how often $x$ shares a leaf with training points across all trees. These weights define a local neighborhood around $x$.\n",
        "   \n",
        "   - A weighted linear regression is fitted using the training data, with weights from the forest, to predict the outcome at $x$. The regression model is typically of the form:\n",
        "  \n",
        "  $$ \\hat{y}(x) = \\hat{\\beta}_0 + \\hat{\\beta}_1 x_1 + \\cdots + \\hat{\\beta}_p x_p $$\n",
        "  \n",
        "  where $\\hat{\\beta}$coefficients are estimated locally, and `ll.lambda` controls ridge regularization to prevent overfitting.\n",
        "\n",
        "4. Prediction\n",
        "\n",
        "   - The final prediction combines the forest’s structure with the local linear fit, producing a smoother estimate than the step-wise predictions of a standard random forest.\n",
        "\n",
        "5. Output\n",
        "\n",
        "   - Predictions for new data points.\n",
        "   - Optional outputs like variable importance or variance estimates.\n"
      ]
    },
    {
      "cell_type": "markdown",
      "metadata": {
        "id": "bIBhNo81s-Nt"
      },
      "source": [
        "### Advantages of Local Linear Forests\n",
        "\n",
        "1. `Smoother Predictions`: LLF produces predictions that vary smoothly with features, unlike the step-like predictions of standard random forests, making it better suited for smooth relationships.\n",
        "\n",
        "2. `Improved Accuracy`: The local linear correction can improve predictive performance, especially in regions where the relationship between features and outcomes is approximately linear.\n",
        "\n",
        "3. `Flexibility`: Combines the non-linear modeling of random forests with the local linearity of regression, balancing complexity and smoothness.\n",
        "\n",
        "4. `Honest Estimation`: Inherits `{grf}`’s honest splitting, reducing bias in predictions.\n",
        "\n",
        "5. `Robustness`: Handles high-dimensional data and non-linear relationships effectively, like standard random forests."
      ]
    },
    {
      "cell_type": "markdown",
      "source": [
        "### Limitations`\n",
        "\n",
        "1. `Computational Cost`: The local linear correction step increases computation time compared to standard regression forests, especially for large datasets or many predictions.\n",
        "\n",
        "2. `Regularization Sensitivity`: The `ll.lambda` parameter (ridge penalty) needs careful tuning to avoid overfitting or underfitting the local linear models.\n",
        "\n",
        "3. `Assumes Local Smoothness`: LLF performs best when the outcome varies smoothly with features. If the relationship is highly non-linear or discontinuous, a standard regression forest may be sufficient.\n",
        "\n",
        "4. `Complexity`: Interpreting the local linear coefficients can be challenging compared to the simpler averaging in standard forests."
      ],
      "metadata": {
        "id": "NmMsBJhJvpJR"
      }
    },
    {
      "cell_type": "markdown",
      "source": [
        "### Applications\n",
        "\n",
        "- `Economics`: Predicting outcomes like housing prices or income, where smooth relationships with features (e.g., location, size) are expected.\n",
        "- `Environmental Science`: Modeling smooth spatial or temporal trends, such as temperature or pollution levels.\n",
        "- `Healthcare`: Predicting continuous health metrics (e.g., blood pressure) that vary smoothly with patient characteristics.\n",
        "- `Any Regression Task`: Where the outcome is expected to have locally smooth behavior with respect to predictors."
      ],
      "metadata": {
        "id": "sB4AWWpIHVOa"
      }
    },
    {
      "cell_type": "markdown",
      "source": [
        "### Key Differences from Standard Regression Forest\n",
        "\n",
        "| **Aspect**                     | **Standard Regression Forest** (`regression_forest`) | **Local Linear Forest** (`ll_regression_forest`) |\n",
        "|--------------------------------|----------------------------------------------------|-----------------------------------------------|\n",
        "| `Prediction Method`          | Averages outcomes in the leaf where a point falls. | Fits a local linear regression using forest weights. |\n",
        "| `Smoothness`                 | Piecewise constant (step function within leaves).  | Smooth predictions via local linear adjustments. |\n",
        "| `Splitting Criterion`        | Minimizes MSE for the outcome.                    | Can use local linear splitting (`enable.ll.split`). |\n",
        "| `Use Case`                   | General regression tasks with complex, non-smooth relationships. | Regression tasks where the outcome varies smoothly with features. |\n",
        "| `Computational Cost`         | Lower (simpler prediction step).                  | Higher (due to local linear regression per prediction). |\n",
        "| `Regularization`             | No explicit regularization in prediction.          | Uses ridge regularization (`ll.lambda`) in local fits. |\n",
        "\n",
        "\n",
        "\n"
      ],
      "metadata": {
        "id": "-u2tkR3KvrbW"
      }
    },
    {
      "cell_type": "markdown",
      "metadata": {
        "id": "Bn4w4oqMCagF"
      },
      "source": [
        "## Setup R in Python Runtype"
      ]
    },
    {
      "cell_type": "markdown",
      "metadata": {
        "id": "yerTCtKKCmik"
      },
      "source": [
        "### Install {rpy2}\n",
        "\n",
        "{rpy2} is a Python package that provides an interface to the R programming language, allowing Python users to run R code, call R functions, and manipulate R objects directly from Python. It enables seamless integration between Python and R, leveraging R's statistical and graphical capabilities while using Python's flexibility. The package supports passing data between the two languages and is widely used for statistical analysis, data visualization, and machine learning tasks that benefit from R's specialized libraries."
      ]
    },
    {
      "cell_type": "code",
      "execution_count": 1,
      "metadata": {
        "colab": {
          "base_uri": "https://localhost:8080/"
        },
        "id": "OqeCyNf0Crlc",
        "outputId": "d002b0e0-4b39-443f-daf6-d2c703d7a221"
      },
      "outputs": [
        {
          "output_type": "stream",
          "name": "stdout",
          "text": [
            "Found existing installation: rpy2 3.5.17\n",
            "Uninstalling rpy2-3.5.17:\n",
            "  Successfully uninstalled rpy2-3.5.17\n",
            "Collecting rpy2==3.5.1\n",
            "  Downloading rpy2-3.5.1.tar.gz (201 kB)\n",
            "\u001b[2K     \u001b[90m━━━━━━━━━━━━━━━━━━━━━━━━━━━━━━━━━━━━━━━\u001b[0m \u001b[32m201.7/201.7 kB\u001b[0m \u001b[31m3.6 MB/s\u001b[0m eta \u001b[36m0:00:00\u001b[0m\n",
            "\u001b[?25h  Preparing metadata (setup.py) ... \u001b[?25l\u001b[?25hdone\n",
            "Requirement already satisfied: cffi>=1.10.0 in /usr/local/lib/python3.11/dist-packages (from rpy2==3.5.1) (1.17.1)\n",
            "Requirement already satisfied: jinja2 in /usr/local/lib/python3.11/dist-packages (from rpy2==3.5.1) (3.1.6)\n",
            "Requirement already satisfied: pytz in /usr/local/lib/python3.11/dist-packages (from rpy2==3.5.1) (2025.2)\n",
            "Requirement already satisfied: tzlocal in /usr/local/lib/python3.11/dist-packages (from rpy2==3.5.1) (5.3.1)\n",
            "Requirement already satisfied: pycparser in /usr/local/lib/python3.11/dist-packages (from cffi>=1.10.0->rpy2==3.5.1) (2.22)\n",
            "Requirement already satisfied: MarkupSafe>=2.0 in /usr/local/lib/python3.11/dist-packages (from jinja2->rpy2==3.5.1) (3.0.2)\n",
            "Building wheels for collected packages: rpy2\n",
            "  Building wheel for rpy2 (setup.py) ... \u001b[?25l\u001b[?25hdone\n",
            "  Created wheel for rpy2: filename=rpy2-3.5.1-cp311-cp311-linux_x86_64.whl size=314979 sha256=44a00c98e93a7f5f2c3eaae70b13b203d55af61b291567bd4cb649899129cbd6\n",
            "  Stored in directory: /root/.cache/pip/wheels/e9/55/d1/47be85a5f3f1e1f4d1e91cb5e3a4dcb40dd72147f184c5a5ef\n",
            "Successfully built rpy2\n",
            "Installing collected packages: rpy2\n",
            "Successfully installed rpy2-3.5.1\n"
          ]
        }
      ],
      "source": [
        "!pip uninstall rpy2 -y\n",
        "!pip install rpy2==3.5.1\n",
        "%load_ext rpy2.ipython"
      ]
    },
    {
      "cell_type": "markdown",
      "metadata": {
        "id": "vOzGUgYCCyqg"
      },
      "source": [
        "### Mount Google Drive"
      ]
    },
    {
      "cell_type": "code",
      "execution_count": 2,
      "metadata": {
        "colab": {
          "base_uri": "https://localhost:8080/"
        },
        "id": "_lngQQKKC2lc",
        "outputId": "582ffa8e-ca83-42d1-9b6d-6eab2819463d"
      },
      "outputs": [
        {
          "output_type": "stream",
          "name": "stdout",
          "text": [
            "Mounted at /content/drive\n"
          ]
        }
      ],
      "source": [
        "from google.colab import drive\n",
        "drive.mount('/content/drive')"
      ]
    },
    {
      "cell_type": "markdown",
      "metadata": {
        "id": "bh7jEhGCLDZA"
      },
      "source": [
        "\n",
        "## Multi-task Regression Forest with R\n",
        "\n",
        "To illustrate, let’s use the Boston Housing dataset to predict two related outcomes: `medv` (median housing price) and `tax` (property tax rate). We’ll fit a `multi_regression_forest()`, predict on a test set, and evaluate performance.\n",
        "\n",
        "\n"
      ]
    },
    {
      "cell_type": "markdown",
      "metadata": {
        "id": "RlLmnBj77AMx"
      },
      "source": [
        "### Load and Check Required Libraries"
      ]
    },
    {
      "cell_type": "code",
      "execution_count": 3,
      "metadata": {
        "id": "9rXvjfapLYED"
      },
      "outputs": [],
      "source": [
        "%%R\n",
        "packages <- c('tidyverse',\n",
        "              'plyr',\n",
        "              'grf',\n",
        "              'rdd',\n",
        "              'survival',\n",
        "              'mlbench',\n",
        "              'Metrics'\n",
        "         )"
      ]
    },
    {
      "cell_type": "markdown",
      "metadata": {
        "id": "MDwlBWYYLc1e"
      },
      "source": [
        "### Install Missing Packages"
      ]
    },
    {
      "cell_type": "code",
      "execution_count": null,
      "metadata": {
        "id": "PWzWe7xULb2L"
      },
      "outputs": [],
      "source": [
        "%%R\n",
        "# Install missing packages\n",
        "new.packages <- packages[!(packages %in% installed.packages(lib='drive/My Drive/R/')[,\"Package\"])]\n",
        "if(length(new.packages)) install.packages(new.packages, lib='drive/My Drive/R/')"
      ]
    },
    {
      "cell_type": "markdown",
      "metadata": {
        "id": "HM3Bl4-PLfFF"
      },
      "source": [
        "### Verify Installation"
      ]
    },
    {
      "cell_type": "code",
      "execution_count": null,
      "metadata": {
        "colab": {
          "base_uri": "https://localhost:8080/"
        },
        "id": "pHr9zUJvLfNl",
        "outputId": "0e1e70ce-78f9-4d43-b842-7689763479f5"
      },
      "outputs": [
        {
          "output_type": "stream",
          "name": "stdout",
          "text": [
            "Installed packages:\n",
            "tidyverse      plyr       grf       rdd  survival   mlbench   Metrics \n",
            "     TRUE      TRUE      TRUE      TRUE      TRUE      TRUE      TRUE \n"
          ]
        }
      ],
      "source": [
        "%%R\n",
        "# set library path\n",
        ".libPaths('drive/My Drive/R')\n",
        "# Verify installation\n",
        "cat(\"Installed packages:\\n\")\n",
        "print(sapply(packages, requireNamespace, quietly = TRUE))"
      ]
    },
    {
      "cell_type": "markdown",
      "metadata": {
        "id": "2cPLFz1GLlRD"
      },
      "source": [
        "### Load R Packages"
      ]
    },
    {
      "cell_type": "code",
      "execution_count": 4,
      "metadata": {
        "id": "jIlm0D69x_70"
      },
      "outputs": [],
      "source": [
        "%%R\n",
        "# set library path\n",
        ".libPaths('drive/My Drive/R')\n",
        "# Load packages with suppressed messages\n",
        "invisible(lapply(packages, function(pkg) {\n",
        "  suppressPackageStartupMessages(library(pkg, character.only = TRUE))\n",
        "}))\n"
      ]
    },
    {
      "cell_type": "markdown",
      "metadata": {
        "id": "AH4vKW2yL1OF"
      },
      "source": [
        "### Check Loaded Packages"
      ]
    },
    {
      "cell_type": "code",
      "execution_count": null,
      "metadata": {
        "colab": {
          "base_uri": "https://localhost:8080/"
        },
        "id": "Du3QbdUeL1Yw",
        "outputId": "f7da74cd-9086-495e-c8f0-f2d6693c910a"
      },
      "outputs": [
        {
          "output_type": "stream",
          "name": "stdout",
          "text": [
            "Successfully loaded packages:\n",
            " [1] \"package:rdd\"       \"package:Formula\"   \"package:AER\"      \n",
            " [4] \"package:car\"       \"package:carData\"   \"package:lmtest\"   \n",
            " [7] \"package:zoo\"       \"package:sandwich\"  \"package:Metrics\"  \n",
            "[10] \"package:mlbench\"   \"package:survival\"  \"package:grf\"      \n",
            "[13] \"package:plyr\"      \"package:lubridate\" \"package:forcats\"  \n",
            "[16] \"package:stringr\"   \"package:dplyr\"     \"package:purrr\"    \n",
            "[19] \"package:readr\"     \"package:tidyr\"     \"package:tibble\"   \n",
            "[22] \"package:ggplot2\"   \"package:tidyverse\" \"package:tools\"    \n",
            "[25] \"package:stats\"     \"package:graphics\"  \"package:grDevices\"\n",
            "[28] \"package:utils\"     \"package:datasets\"  \"package:methods\"  \n",
            "[31] \"package:base\"     \n"
          ]
        }
      ],
      "source": [
        "%%R\n",
        "# Check loaded packages\n",
        "cat(\"Successfully loaded packages:\\n\")\n",
        "print(search()[grepl(\"package:\", search())])# Check loaded packageswer)"
      ]
    },
    {
      "cell_type": "markdown",
      "metadata": {
        "id": "IPobetr0zFC5"
      },
      "source": [
        "### Load and Prepare the Dataset\n"
      ]
    },
    {
      "cell_type": "code",
      "execution_count": 5,
      "metadata": {
        "id": "RmfGVScmzF8P"
      },
      "outputs": [],
      "source": [
        "%%R\n",
        "# Load Boston Housing dataset\n",
        "data(BostonHousing, package = \"mlbench\")\n",
        "# Split data into training (70%) and test (30%) sets\n",
        "# Set seed for reproducibility\n",
        "set.seed(123)\n",
        "n <- nrow(BostonHousing)\n",
        "train_idx <- sample(1:n, size = 0.7 * n)\n",
        "train_data <- BostonHousing[train_idx, ]\n",
        "test_data <- BostonHousing[-train_idx, ]"
      ]
    },
    {
      "cell_type": "markdown",
      "source": [
        "\n",
        "### Prepare Features and Target Variable"
      ],
      "metadata": {
        "id": "_2kVPmofcc0H"
      }
    },
    {
      "cell_type": "code",
      "source": [
        "%%R\n",
        "# Prepare features (X) and target (Y)\n",
        "X_train <- model.matrix(~ . - medv, data = train_data)[, -1]  # Exclude medv, intercept\n",
        "Y_train <- train_data$medv\n",
        "X_test <- model.matrix(~ . - medv, data = test_data)[, -1]   # Exclude medv, intercept\n",
        "Y_test <- test_data$medv"
      ],
      "metadata": {
        "id": "JMfWgFsjcdfZ"
      },
      "execution_count": 6,
      "outputs": []
    },
    {
      "cell_type": "markdown",
      "metadata": {
        "id": "jxK5d0frBs8O"
      },
      "source": [
        "### Fit Local Linear Forest\n",
        "\n",
        "We  will use `ll_regression_forest()` with 500 trees, `honesty = TRUE,` and a small ridge penalty (`ll.split.lambda = 0.01`) for the local linear correction. The `ll.split.lambda` parameter controls regularization to stabilize the local linear fits."
      ]
    },
    {
      "cell_type": "code",
      "execution_count": 7,
      "metadata": {
        "id": "Ou9edbC9Bt5M",
        "colab": {
          "base_uri": "https://localhost:8080/"
        },
        "outputId": "4a77ddff-8a63-421e-ae37-a82fdc4e732b"
      },
      "outputs": [
        {
          "output_type": "stream",
          "name": "stdout",
          "text": [
            "GRF forest object of type ll_regression_forest \n",
            "Number of trees: 500 \n",
            "Number of training samples: 354 \n",
            "Variable importance: \n",
            "    1     2     3     4     5     6     7     8     9    10    11    12    13 \n",
            "0.032 0.001 0.012 0.002 0.020 0.363 0.012 0.024 0.003 0.011 0.017 0.011 0.493 \n"
          ]
        }
      ],
      "source": [
        "%%R\n",
        "# Fit local linear forest\n",
        "ll_rf <- ll_regression_forest(X_train, Y_train, num.trees = 500,\n",
        "                              honesty = TRUE,\n",
        "                              ll.split.lambda = 0.1)\n",
        "print(ll_rf)"
      ]
    },
    {
      "cell_type": "markdown",
      "metadata": {
        "id": "7KgHx7kY9EEg"
      },
      "source": [
        "### Predict on Test Set and Evaluate Model"
      ]
    },
    {
      "cell_type": "code",
      "execution_count": 9,
      "metadata": {
        "colab": {
          "base_uri": "https://localhost:8080/"
        },
        "id": "m0vovr-CfwBZ",
        "outputId": "5b842866-1896-419b-e350-20f94e716513"
      },
      "outputs": [
        {
          "output_type": "stream",
          "name": "stdout",
          "text": [
            "Test Set RMSE: 4.277437 \n",
            "Test Set R-squared: 0.7935353 \n"
          ]
        }
      ],
      "source": [
        "%%R\n",
        "# Predict on test set\n",
        "predictions <- predict(ll_rf, X_test)$predictions\n",
        "\n",
        "# Calculate RMSE and R-squared\n",
        "rmse <- sqrt(mean((predictions - Y_test)^2))\n",
        "sst <- sum((Y_test - mean(Y_test))^2)\n",
        "sse <- sum((predictions - Y_test)^2)\n",
        "r_squared <- 1 - sse / sst\n",
        "\n",
        "# Print performance metrics\n",
        "cat(\"Test Set RMSE:\", rmse, \"\\n\")\n",
        "cat(\"Test Set R-squared:\", r_squared, \"\\n\")"
      ]
    },
    {
      "cell_type": "code",
      "execution_count": 10,
      "metadata": {
        "id": "6SoYugD6CEgf",
        "colab": {
          "base_uri": "https://localhost:8080/",
          "height": 497
        },
        "outputId": "185259c3-1652-4b49-9c0a-8c635b321133"
      },
      "outputs": [
        {
          "output_type": "display_data",
          "data": {
            "image/png": "[encoded data removed]"
          },
          "metadata": {}
        }
      ],
      "source": [
        "%%R\n",
        "# Scatter plot of predicted vs observed values\n",
        "plot(Y_test, predictions,\n",
        "     main = \"Predicted vs Observed Median Housing Prices (Local Linear Forest)\",\n",
        "     xlab = \"Observed medv ($1000s)\",\n",
        "     ylab = \"Predicted medv ($1000s)\",\n",
        "     pch = 19, col = \"blue\",\n",
        "     xlim = range(c(Y_test, predictions)),\n",
        "     ylim = range(c(Y_test, predictions)))\n",
        "abline(0, 1, col = \"red\", lty = 2)  # Add 45-degree reference line\n",
        "legend(\"topleft\",\n",
        "       legend = c(sprintf(\"R-squared: %.3f\", r_squared),\n",
        "                  sprintf(\"RMSE: %.3f\", rmse)),\n",
        "       bty = \"n\", cex = 1.2)"
      ]
    },
    {
      "cell_type": "markdown",
      "metadata": {
        "id": "_j759RVMQMut"
      },
      "source": [
        "\n",
        "## Summary and Conclusion\n",
        "\n",
        "Local Linear Forests (LLF) provide a powerful extension to traditional regression forests by incorporating local linear corrections, resulting in smoother predictions that better capture the underlying relationships in the data. In this tutorial, we demonstrated how to fit a Local Linear Forest model using the `{grf}` package in R, applied it to the Boston Housing dataset, and evaluated its performance using RMSE and R-squared metrics. The results showed that LLF can effectively model complex relationships while maintaining the flexibility and robustness of random forests. This makes LLF a valuable tool for regression tasks where smooth trends are expected."
      ]
    },
    {
      "cell_type": "markdown",
      "metadata": {
        "id": "SaZTnZx3QPGI"
      },
      "source": [
        "\n",
        "## References\n",
        "\n",
        "1. Friedberg, Rina, Julie Tibshirani, Susan Athey, and Stefan Wager. \"Local Linear Forests\". Journal of Computational and Graphical Statistics, 30(2), 2020.\n",
        "\n",
        "\n",
        "2. [Local linear forest](https://grf-labs.github.io/grf/reference/ll_regression_forest.html)\n",
        "\n"
      ]
    }
  ],
  "metadata": {
    "colab": {
      "provenance": [],
      "toc_visible": true,
      "authorship_tag": "ABX9TyPM27YIIamLB1n+dEGV08ha",
      "include_colab_link": true
    },
    "kernelspec": {
      "display_name": "Python 3",
      "name": "python3"
    },
    "language_info": {
      "name": "python"
    }
  },
  "nbformat": 4,
  "nbformat_minor": 0
}