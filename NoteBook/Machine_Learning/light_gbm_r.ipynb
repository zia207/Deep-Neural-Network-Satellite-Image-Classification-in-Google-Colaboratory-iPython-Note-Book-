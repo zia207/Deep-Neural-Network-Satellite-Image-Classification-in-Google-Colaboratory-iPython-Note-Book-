{
  "nbformat": 4,
  "nbformat_minor": 0,
  "metadata": {
    "colab": {
      "provenance": [],
      "authorship_tag": "ABX9TyOcal1Vjyc/ReBE7WP1i+AB",
      "include_colab_link": true
    },
    "kernelspec": {
      "name": "python3",
      "display_name": "Python 3"
    },
    "language_info": {
      "name": "python"
    }
  },
  "cells": [
    {
      "cell_type": "markdown",
      "metadata": {
        "id": "view-in-github",
        "colab_type": "text"
      },
      "source": [
        "<a href=\"https://colab.research.google.com/github/zia207/Deep-Neural-Network-Satellite-Image-Classification-in-Google-Colaboratory-iPython-Note-Book-/blob/master/NoteBook/Machine_Learning/light_gbm_r.ipynb\" target=\"_parent\"><img src=\"https://colab.research.google.com/assets/colab-badge.svg\" alt=\"Open In Colab\"/></a>"
      ]
    },
    {
      "cell_type": "markdown",
      "source": [
        "# Light Gradient Boosting Machine (LightGBM) in R\n",
        "\n",
        "Zia Ahmed, University at Buffalo"
      ],
      "metadata": {
        "id": "Rfsu7apzs1c4"
      }
    },
    {
      "cell_type": "markdown",
      "source": [
        "LightGBM (Light Gradient Boosting Machine) is an open-source gradient boosting framework that is designed to be both efficient and scalable. It is based on the gradient boosting framework and uses a tree-based learning algorithm. LightGBM uses a novel technique called \"Gradient-based One-Side Sampling\" (GOSS) to achieve a faster and more accurate training process. It also uses a \"Leaf-wise\" strategy, which grows the tree by splitting the leaf that yields the maximum reduction in the loss function, resulting in a more balanced and less deep tree.\n",
        "\n",
        "::: callout-note\n",
        "Gradient-based One-Side Sampling\" (GOSS):\n",
        "\n",
        "Gradient-based One-Side Sampling (GOSS) is a data subsampling method used in LightGBM. GOSS is designed to speed up the training process of gradient boosting algorithms while maintaining or improving the model's accuracy.GOSS works by first sorting the training instances according to their gradients. The instances with larger gradients are considered more important for the model, as they provide more information about the loss function\n",
        ":::\n",
        "\n",
        "The key benefits of LightGBM are its speed, scalability, and accuracy. It can handle large-scale datasets with millions of samples and thousands of features, making it ideal for big data scenarios. It also has a smaller memory footprint compared to other gradient boosting algorithms, which makes it easier to train models on limited memory resources. It is designed to be distributed and efficient with the following advantages:\n",
        "\n",
        "-   Faster training speed and higher efficiency.\n",
        "\n",
        "-   Lower memory usage.\n",
        "\n",
        "-   Better accuracy.\n",
        "\n",
        "-   Support of parallel, distributed, and GPU learning.\n",
        "\n",
        "-   Capable of handling large-scale data.\n",
        "\n",
        "GBM (Gradient Boosting Machine) and LightGBM (Light Gradient Boosting Machine) are both gradient boosting algorithms used for supervised learning problems. While they share the same general approach to model training, there are several key differences between the two algorithms:\n",
        "\n",
        "1.  Speed: LightGBM is generally faster than GBM. This is because it uses a more efficient algorithm for finding the best split points, and it employs parallel processing to speed up the training process.\n",
        "\n",
        "2.  Memory Usage: LightGBM has a smaller memory footprint than GBM, which allows it to handle larger datasets with high-dimensional features.\n",
        "\n",
        "3.  Categorical Features Handling: LightGBM has built-in support for handling categorical features, which can be a common feature type in real-world datasets. GBM does not have this feature.\n",
        "\n",
        "4.  Leaf-wise Growth: LightGBM uses a \"Leaf-wise\" growth strategy, which grows the tree by splitting the leaf that yields the maximum reduction in the loss function, resulting in a more balanced and less deep tree. GBM uses a \"Level-wise\" growth strategy, which grows the tree level-by-level, resulting in a deeper and more unbalanced tree.\n",
        "\n",
        "**Leaf-wise Growth**: \"Leaf-wise\" growth strategy is a tree building algorithm used in gradient boosting algorithms such as LightGBM. In this strategy, the tree is grown leaf-wise, meaning that it starts by growing the tree with a single root node, and then at each step, it selects the leaf node that yields the largest reduction in the loss function, and splits it into two child nodes"
      ],
      "metadata": {
        "id": "_faYgdIQtBvx"
      }
    },
    {
      "cell_type": "markdown",
      "source": [
        "### Install Python Package rpy2"
      ],
      "metadata": {
        "id": "MAbXHDzwtrFH"
      }
    },
    {
      "cell_type": "code",
      "execution_count": 1,
      "metadata": {
        "colab": {
          "base_uri": "https://localhost:8080/"
        },
        "id": "v1zi4ufGswo-",
        "outputId": "aa3d5787-b945-4756-b5dc-272c7c7b30e5"
      },
      "outputs": [
        {
          "output_type": "stream",
          "name": "stdout",
          "text": [
            "Found existing installation: rpy2 3.4.2\n",
            "Uninstalling rpy2-3.4.2:\n",
            "  Successfully uninstalled rpy2-3.4.2\n",
            "Collecting rpy2==3.5.1\n",
            "  Downloading rpy2-3.5.1.tar.gz (201 kB)\n",
            "\u001b[2K     \u001b[90m━━━━━━━━━━━━━━━━━━━━━━━━━━━━━━━━━━━━━━━\u001b[0m \u001b[32m201.7/201.7 kB\u001b[0m \u001b[31m4.1 MB/s\u001b[0m eta \u001b[36m0:00:00\u001b[0m\n",
            "\u001b[?25h  Preparing metadata (setup.py) ... \u001b[?25l\u001b[?25hdone\n",
            "Requirement already satisfied: cffi>=1.10.0 in /usr/local/lib/python3.10/dist-packages (from rpy2==3.5.1) (1.15.1)\n",
            "Requirement already satisfied: jinja2 in /usr/local/lib/python3.10/dist-packages (from rpy2==3.5.1) (3.1.2)\n",
            "Requirement already satisfied: pytz in /usr/local/lib/python3.10/dist-packages (from rpy2==3.5.1) (2023.3)\n",
            "Requirement already satisfied: tzlocal in /usr/local/lib/python3.10/dist-packages (from rpy2==3.5.1) (5.0.1)\n",
            "Requirement already satisfied: pycparser in /usr/local/lib/python3.10/dist-packages (from cffi>=1.10.0->rpy2==3.5.1) (2.21)\n",
            "Requirement already satisfied: MarkupSafe>=2.0 in /usr/local/lib/python3.10/dist-packages (from jinja2->rpy2==3.5.1) (2.1.3)\n",
            "Building wheels for collected packages: rpy2\n",
            "  Building wheel for rpy2 (setup.py) ... \u001b[?25l\u001b[?25hdone\n",
            "  Created wheel for rpy2: filename=rpy2-3.5.1-cp310-cp310-linux_x86_64.whl size=314928 sha256=0ade5b37d7aecf1a2c98dccc2f17ce9fe4300c7df127630447f6ff414f6c9e70\n",
            "  Stored in directory: /root/.cache/pip/wheels/73/a6/ff/4e75dd1ce1cfa2b9a670cbccf6a1e41c553199e9b25f05d953\n",
            "Successfully built rpy2\n",
            "Installing collected packages: rpy2\n",
            "Successfully installed rpy2-3.5.1\n"
          ]
        }
      ],
      "source": [
        "!pip uninstall rpy2 -y\n",
        "!pip install rpy2==3.5.1\n",
        "%load_ext rpy2.ipython"
      ]
    },
    {
      "cell_type": "markdown",
      "source": [
        "### Mount Google Drive"
      ],
      "metadata": {
        "id": "7LDngrp6tMqj"
      }
    },
    {
      "cell_type": "code",
      "source": [
        "from google.colab import drive\n",
        "drive.mount('/content/drive')"
      ],
      "metadata": {
        "colab": {
          "base_uri": "https://localhost:8080/"
        },
        "id": "hDjVIzypt1Xr",
        "outputId": "258d830e-1da9-495e-aff2-ea125742a4df"
      },
      "execution_count": 2,
      "outputs": [
        {
          "output_type": "stream",
          "name": "stdout",
          "text": [
            "Mounted at /content/drive\n"
          ]
        }
      ]
    },
    {
      "cell_type": "markdown",
      "source": [
        "### Installed required packages"
      ],
      "metadata": {
        "id": "xM5PKCL1upYN"
      }
    },
    {
      "cell_type": "code",
      "source": [
        "%%R\n",
        "pkg <- c('tidyverse', 'tidymodels', 'caret', 'Metrics', 'ggpmisc', 'vip', 'patchwork','randomForest','ranger', 'lightgbm', 'fastDummies', 'bonsai')\n",
        "new.packages <- pkg[!(pkg %in% installed.packages(lib='drive/My Drive/R/')[,\"Package\"])]\n",
        "if(length(new.packages)) install.packages(new.packages, lib='drive/My Drive/R/')"
      ],
      "metadata": {
        "id": "KTKsc16DupiG"
      },
      "execution_count": null,
      "outputs": []
    },
    {
      "cell_type": "markdown",
      "source": [
        "### Load R Packages"
      ],
      "metadata": {
        "id": "1FQvGwlIxSlj"
      }
    },
    {
      "cell_type": "code",
      "source": [
        "%%R\n",
        "# set library path\n",
        ".libPaths('drive/My Drive/R')\n",
        "library(tidyverse)\n",
        "library(tidymodels)\n",
        "library(caret)\n",
        "library(ggpmisc)\n",
        "library(vip)\n",
        "library(patchwork)\n",
        "library(lightgbm)\n",
        "library(fastDummies)\n",
        "library(bonsai)"
      ],
      "metadata": {
        "colab": {
          "base_uri": "https://localhost:8080/"
        },
        "id": "cbZbKcmCxSvZ",
        "outputId": "1ae10525-aa39-4356-c400-ec3a9f31f0a8"
      },
      "execution_count": 6,
      "outputs": [
        {
          "output_type": "stream",
          "name": "stdout",
          "text": [
            "── Attaching core tidyverse packages ──────────────────────── tidyverse 2.0.0 ──\n",
            "✔ dplyr     1.1.2     ✔ readr     2.1.4\n",
            "✔ forcats   1.0.0     ✔ stringr   1.5.0\n",
            "✔ ggplot2   3.4.2     ✔ tibble    3.2.1\n",
            "✔ lubridate 1.9.2     ✔ tidyr     1.3.0\n",
            "✔ purrr     1.0.1     \n",
            "── Conflicts ────────────────────────────────────────── tidyverse_conflicts() ──\n",
            "✖ dplyr::filter() masks stats::filter()\n",
            "✖ dplyr::lag()    masks stats::lag()\n",
            "ℹ Use the conflicted package (<http://conflicted.r-lib.org/>) to force all conflicts to become errors\n"
          ]
        },
        {
          "output_type": "stream",
          "name": "stderr",
          "text": [
            "WARNING:rpy2.rinterface_lib.callbacks:R[write to console]: ── Attaching packages ────────────────────────────────────── tidymodels 1.1.0 ──\n",
            "\n",
            "WARNING:rpy2.rinterface_lib.callbacks:R[write to console]: ✔ broom        1.0.5     ✔ rsample      1.1.1\n",
            "✔ dials        1.2.0     ✔ tune         1.1.1\n",
            "✔ infer        1.0.4     ✔ workflows    1.1.3\n",
            "✔ modeldata    1.1.0     ✔ workflowsets 1.0.1\n",
            "✔ parsnip      1.1.0     ✔ yardstick    1.2.0\n",
            "✔ recipes      1.0.6     \n",
            "\n",
            "WARNING:rpy2.rinterface_lib.callbacks:R[write to console]: ── Conflicts ───────────────────────────────────────── tidymodels_conflicts() ──\n",
            "✖ scales::discard() masks purrr::discard()\n",
            "✖ dplyr::filter()   masks stats::filter()\n",
            "✖ recipes::fixed()  masks stringr::fixed()\n",
            "✖ dplyr::lag()      masks stats::lag()\n",
            "✖ yardstick::spec() masks readr::spec()\n",
            "✖ recipes::step()   masks stats::step()\n",
            "• Use suppressPackageStartupMessages() to eliminate package startup messages\n",
            "\n",
            "WARNING:rpy2.rinterface_lib.callbacks:R[write to console]: Loading required package: lattice\n",
            "\n",
            "WARNING:rpy2.rinterface_lib.callbacks:R[write to console]: \n",
            "Attaching package: ‘caret’\n",
            "\n",
            "\n",
            "WARNING:rpy2.rinterface_lib.callbacks:R[write to console]: The following objects are masked from ‘package:yardstick’:\n",
            "\n",
            "    precision, recall, sensitivity, specificity\n",
            "\n",
            "\n",
            "WARNING:rpy2.rinterface_lib.callbacks:R[write to console]: The following object is masked from ‘package:purrr’:\n",
            "\n",
            "    lift\n",
            "\n",
            "\n",
            "WARNING:rpy2.rinterface_lib.callbacks:R[write to console]: Loading required package: ggpp\n",
            "\n",
            "WARNING:rpy2.rinterface_lib.callbacks:R[write to console]: \n",
            "Attaching package: ‘ggpp’\n",
            "\n",
            "\n",
            "WARNING:rpy2.rinterface_lib.callbacks:R[write to console]: The following object is masked from ‘package:ggplot2’:\n",
            "\n",
            "    annotate\n",
            "\n",
            "\n",
            "WARNING:rpy2.rinterface_lib.callbacks:R[write to console]: Registered S3 method overwritten by 'ggpmisc':\n",
            "  method                  from   \n",
            "  as.character.polynomial polynom\n",
            "\n",
            "WARNING:rpy2.rinterface_lib.callbacks:R[write to console]: \n",
            "Attaching package: ‘vip’\n",
            "\n",
            "\n",
            "WARNING:rpy2.rinterface_lib.callbacks:R[write to console]: The following object is masked from ‘package:utils’:\n",
            "\n",
            "    vi\n",
            "\n",
            "\n",
            "WARNING:rpy2.rinterface_lib.callbacks:R[write to console]: Loading required package: R6\n",
            "\n",
            "WARNING:rpy2.rinterface_lib.callbacks:R[write to console]: \n",
            "Attaching package: ‘lightgbm’\n",
            "\n",
            "\n",
            "WARNING:rpy2.rinterface_lib.callbacks:R[write to console]: The following object is masked from ‘package:dplyr’:\n",
            "\n",
            "    slice\n",
            "\n",
            "\n",
            "WARNING:rpy2.rinterface_lib.callbacks:R[write to console]: Thank you for using fastDummies!\n",
            "\n",
            "WARNING:rpy2.rinterface_lib.callbacks:R[write to console]: To acknowledge our work, please cite the package:\n",
            "\n",
            "WARNING:rpy2.rinterface_lib.callbacks:R[write to console]: Kaplan, J. & Schlegel, B. (2023). fastDummies: Fast Creation of Dummy (Binary) Columns and Rows from Categorical Variables. Version 1.7.1. URL: https://github.com/jacobkap/fastDummies, https://jacobkap.github.io/fastDummies/.\n",
            "\n"
          ]
        }
      ]
    },
    {
      "cell_type": "markdown",
      "source": [
        "### Data\n",
        "\n",
        "In this exercise we will use following data set and use DEM, MAP, MAT, NAVI, NLCD, NLCD, and FRG to fit LightGbm regression model."
      ],
      "metadata": {
        "id": "2W8kg4rlx1cM"
      }
    },
    {
      "cell_type": "code",
      "source": [
        "%%R\n",
        "# load data from github\n",
        "urlfile = \"https://github.com//zia207/r-colab/raw/main/Data/USA/gp_soil_data.csv\"\n",
        "mf<-read_csv(url(urlfile))\n",
        "# Create a data-frame\n",
        "df<-mf %>% dplyr::select(SOC, DEM, Slope, Aspect, TPI, KFactor, SiltClay, MAT, MAP,NDVI, NLCD, FRG)%>%\n",
        "    glimpse()"
      ],
      "metadata": {
        "colab": {
          "base_uri": "https://localhost:8080/"
        },
        "id": "C1kcyDYFx2nx",
        "outputId": "a55e76af-e77e-4eec-95f8-4bf77af09b96"
      },
      "execution_count": 7,
      "outputs": [
        {
          "output_type": "stream",
          "name": "stdout",
          "text": [
            "Rows: 467 Columns: 19\n",
            "── Column specification ────────────────────────────────────────────────────────\n",
            "Delimiter: \",\"\n",
            "chr  (4): STATE, COUNTY, NLCD, FRG\n",
            "dbl (15): ID, FIPS, STATE_ID, Longitude, Latitude, SOC, DEM, Aspect, Slope, ...\n",
            "\n",
            "ℹ Use `spec()` to retrieve the full column specification for this data.\n",
            "ℹ Specify the column types or set `show_col_types = FALSE` to quiet this message.\n",
            "Rows: 467\n",
            "Columns: 12\n",
            "$ SOC      <dbl> 15.763, 15.883, 18.142, 10.745, 10.479, 16.987, 24.954, 6.288…\n",
            "$ DEM      <dbl> 2229.079, 1889.400, 2423.048, 2484.283, 2396.195, 2360.573, 2…\n",
            "$ Slope    <dbl> 5.6716146, 8.9138117, 4.7748051, 7.1218114, 7.9498644, 9.6632…\n",
            "$ Aspect   <dbl> 159.1877, 156.8786, 168.6124, 198.3536, 201.3215, 208.9732, 2…\n",
            "$ TPI      <dbl> -0.08572358, 4.55913162, 2.60588670, 5.14693117, 3.75570583, …\n",
            "$ KFactor  <dbl> 0.31999999, 0.26121211, 0.21619999, 0.18166667, 0.12551020, 0…\n",
            "$ SiltClay <dbl> 64.84270, 72.00455, 57.18700, 54.99166, 51.22857, 45.02000, 5…\n",
            "$ MAT      <dbl> 4.5951686, 3.8599243, 0.8855000, 0.4707811, 0.7588266, 1.3586…\n",
            "$ MAP      <dbl> 468.3245, 536.3522, 859.5509, 869.4724, 802.9743, 1121.2744, …\n",
            "$ NDVI     <dbl> 0.4139390, 0.6939532, 0.5466033, 0.6191013, 0.5844722, 0.6028…\n",
            "$ NLCD     <chr> \"Shrubland\", \"Shrubland\", \"Forest\", \"Forest\", \"Forest\", \"Fore…\n",
            "$ FRG      <chr> \"Fire Regime Group IV\", \"Fire Regime Group IV\", \"Fire Regime …\n"
          ]
        }
      ]
    },
    {
      "cell_type": "markdown",
      "source": [
        "### Data Processing"
      ],
      "metadata": {
        "id": "REWqh4CpyJHz"
      }
    },
    {
      "cell_type": "code",
      "source": [
        "%%R\n",
        "tmp <- df[, c(11:12)]\n",
        "# create dummy variables\n",
        "tmp1 <- dummy_cols(tmp)\n",
        "tmp1 <- tmp1[,3:12]\n",
        "\n",
        "# create a dataframe\n",
        "d <- data.frame(df[, c(1:10)], tmp1)\n",
        "m <- as.matrix(d)"
      ],
      "metadata": {
        "id": "I7cUvloayJRc"
      },
      "execution_count": 8,
      "outputs": []
    },
    {
      "cell_type": "markdown",
      "source": [
        "### Create training anddataset test"
      ],
      "metadata": {
        "id": "4WplegnGydKD"
      }
    },
    {
      "cell_type": "code",
      "source": [
        "%%R\n",
        "set.seed(123)\n",
        "indices <- sample(1:nrow(df), size = 0.75 * nrow(df))\n",
        "train <- m[indices,]\n",
        "test <- m[-indices,]"
      ],
      "metadata": {
        "id": "lwxqau_8ydn6"
      },
      "execution_count": 10,
      "outputs": []
    },
    {
      "cell_type": "markdown",
      "source": [
        "### Load the train and test data into the LightGBM dataset object"
      ],
      "metadata": {
        "id": "j_Wb1GJAzIWv"
      }
    },
    {
      "cell_type": "code",
      "source": [
        "%%R\n",
        "y_train <- train[,1]\n",
        "y_test <- test[,1]\n",
        "train_lgb <- lgb.Dataset(train[,2:20],label=y_train)\n",
        "test_lgb <- lgb.Dataset.create.valid(train_lgb,test[,2:20],label = y_test)"
      ],
      "metadata": {
        "id": "YrZPuO7_zHuC"
      },
      "execution_count": 11,
      "outputs": []
    },
    {
      "cell_type": "markdown",
      "source": [
        "### Fit lightGBM model\n",
        "\n",
        "Next, we'll fit the XGBoost model by using the lgb.train() function, which displays the training and testing RMSE (root mean squared error) for each round of boosting"
      ],
      "metadata": {
        "id": "HQuoHe4zzdlA"
      }
    },
    {
      "cell_type": "code",
      "source": [
        "%%R\n",
        "lightgbm_model <- lgb.train(\n",
        "  params = list(\n",
        "    objective = \"regression\",\n",
        "    metric = \"l2\"\n",
        "  ),\n",
        "  data = train_lgb\n",
        ")\n"
      ],
      "metadata": {
        "id": "-9e1QYquzeSr"
      },
      "execution_count": null,
      "outputs": []
    },
    {
      "cell_type": "markdown",
      "source": [
        "### Prediction"
      ],
      "metadata": {
        "id": "keCOmld6zn2U"
      }
    },
    {
      "cell_type": "code",
      "source": [
        "%%R\n",
        "yhat_fit_train <- predict(lightgbm_model,train[,2:20])\n",
        "yhat_predict_test <- predict(lightgbm_model,test[,2:20])"
      ],
      "metadata": {
        "id": "LBvdEo9OzoC7"
      },
      "execution_count": 13,
      "outputs": []
    },
    {
      "cell_type": "code",
      "source": [
        "%%R\n",
        "rmse_train <- RMSE(y_train,yhat_fit_train)\n",
        "rmse_train"
      ],
      "metadata": {
        "colab": {
          "base_uri": "https://localhost:8080/"
        },
        "id": "wc3sImp1z1qO",
        "outputId": "2650bd49-b632-4f7a-9837-8d8374cb9524"
      },
      "execution_count": 14,
      "outputs": [
        {
          "output_type": "stream",
          "name": "stdout",
          "text": [
            "[1] 1.667434\n"
          ]
        }
      ]
    },
    {
      "cell_type": "code",
      "source": [
        "%%R\n",
        "rmse_test <- RMSE(y_test,yhat_predict_test)\n",
        "rmse_test"
      ],
      "metadata": {
        "colab": {
          "base_uri": "https://localhost:8080/"
        },
        "id": "RF9s_LJfz2re",
        "outputId": "bf8ea36d-a5cd-4f0c-8222-447ae94bc897"
      },
      "execution_count": 15,
      "outputs": [
        {
          "output_type": "stream",
          "name": "stdout",
          "text": [
            "[1] 4.216184\n"
          ]
        }
      ]
    },
    {
      "cell_type": "markdown",
      "source": [
        "## Tunning LightGBM with tidymodel\n",
        "\n",
        "The tidymodels provides a comprehensive framework for building, tuning, and evaluating LightGBM model while following the principles of the tidyverse."
      ],
      "metadata": {
        "id": "RPhf2oHi0RNx"
      }
    },
    {
      "cell_type": "markdown",
      "source": [
        "### Load data and Preprocessing\n"
      ],
      "metadata": {
        "id": "2CNeZ4WE0Xqx"
      }
    },
    {
      "cell_type": "code",
      "source": [
        "%%R\n",
        "# load data\n",
        "urlfile = \"https://github.com//zia207/r-colab/raw/main/Data/USA/gp_soil_data.csv\"\n",
        "mf<-read_csv(url(urlfile))\n",
        "# Create a data-frame\n",
        "df<-mf %>% dplyr::select(SOC, DEM, Slope, Aspect, TPI, KFactor, SiltClay, MAT, MAP,NDVI, NLCD, FRG)\n",
        "# convrt factor\n",
        "df$NLCD <- as.factor(df$NLCD)\n",
        "df$FRG <- as.factor(df$FRG)\n",
        "# Split data\n",
        "set.seed(1245)   # for reproducibility\n",
        "split <- initial_split(df, prop = 0.8, strata = SOC)\n",
        "train <- split %>% training()\n",
        "test <-  split %>% testing()\n",
        "# Set 10 fold cross-validation data set\n",
        "cv_folds <- vfold_cv(train, v = 5)"
      ],
      "metadata": {
        "colab": {
          "base_uri": "https://localhost:8080/"
        },
        "id": "uW6W6qgE0Np7",
        "outputId": "58ef2467-edba-43bd-fb60-210d8a55d624"
      },
      "execution_count": 24,
      "outputs": [
        {
          "output_type": "stream",
          "name": "stdout",
          "text": [
            "Rows: 467 Columns: 19\n",
            "── Column specification ────────────────────────────────────────────────────────\n",
            "Delimiter: \",\"\n",
            "chr  (4): STATE, COUNTY, NLCD, FRG\n",
            "dbl (15): ID, FIPS, STATE_ID, Longitude, Latitude, SOC, DEM, Aspect, Slope, ...\n",
            "\n",
            "ℹ Use `spec()` to retrieve the full column specification for this data.\n",
            "ℹ Specify the column types or set `show_col_types = FALSE` to quiet this message.\n"
          ]
        }
      ]
    },
    {
      "cell_type": "markdown",
      "source": [
        "### Create Recipe\n",
        "\n",
        "A recipe is a description of the steps to be applied to a data set in order to prepare it for data analysis. Before training the model, we can use a recipe to do some pre-processing required by the model."
      ],
      "metadata": {
        "id": "r2btHyoI0gh2"
      }
    },
    {
      "cell_type": "code",
      "source": [
        "%%R\n",
        "lightGBM_recipe <-\n",
        "  recipe(SOC ~ ., data = train) %>%\n",
        "  step_zv(all_predictors()) %>%\n",
        "  step_dummy(all_nominal()) %>%\n",
        "  step_normalize(all_numeric_predictors())"
      ],
      "metadata": {
        "id": "gHrTCt1i0hL6"
      },
      "execution_count": 25,
      "outputs": []
    },
    {
      "cell_type": "markdown",
      "source": [
        "### Specify tunable Hypermeters of LightGBM\n",
        "\n",
        "Parsnip could not support an implementation for `boost_tree` regression model specifications using the `lightgbm` engine. The parsnip extension package \"bonsai\" implements support for this specification. We need to install it and load to continue.\n",
        "\n",
        "According to the lightgbm parameter tuning guide the hyperparameters number of leaves, min_data_in_leaf, and max_depth are the most important features. Currently implemented for lightgbm in (treesnip) are:\n",
        "\n",
        "-   feature_fraction (mtry)\n",
        "\n",
        "-   num_iterations (trees)\n",
        "\n",
        "-   min_data_in_leaf (min_n)\n",
        "\n",
        "-   max_depth (tree_depth)\n",
        "\n",
        "-   learning_rate (learn_rate)\n",
        "\n",
        "-   min_gain_to_split (loss_reduction)\n",
        "\n",
        "-   bagging_fraction (sample_size)\n",
        "\n"
      ],
      "metadata": {
        "id": "B9Aff_eO0qCS"
      }
    },
    {
      "cell_type": "code",
      "source": [
        "%%R\n",
        "lightgbm_model<-\n",
        "  boost_tree(\n",
        "    mtry = 5,\n",
        "    trees = 100,\n",
        "    min_n = tune(),\n",
        "    tree_depth = tune(),\n",
        "    loss_reduction = tune(),\n",
        "    learn_rate = tune(),\n",
        "    sample_size = 0.75\n",
        "  ) %>%\n",
        "  set_mode(\"regression\") %>%\n",
        "  set_engine(\"lightgbm\")\n",
        "\n",
        "lightgbm_model"
      ],
      "metadata": {
        "colab": {
          "base_uri": "https://localhost:8080/"
        },
        "id": "cc8dxXbe05oO",
        "outputId": "9dfb2bbb-3299-47ba-b3fa-6f6e55802311"
      },
      "execution_count": 26,
      "outputs": [
        {
          "output_type": "stream",
          "name": "stdout",
          "text": [
            "Boosted Tree Model Specification (regression)\n",
            "\n",
            "Main Arguments:\n",
            "  mtry = 5\n",
            "  trees = 100\n",
            "  min_n = tune()\n",
            "  tree_depth = tune()\n",
            "  learn_rate = tune()\n",
            "  loss_reduction = tune()\n",
            "  sample_size = 0.75\n",
            "\n",
            "Computational engine: lightgbm \n",
            "\n"
          ]
        }
      ]
    },
    {
      "cell_type": "markdown",
      "source": [
        "### Create Workflow"
      ],
      "metadata": {
        "id": "9mGg8Nnu0_Or"
      }
    },
    {
      "cell_type": "code",
      "source": [
        "%%R\n",
        "lightgbm_wf <- workflow() %>%\n",
        "    add_model(lightgbm_model) %>%\n",
        "    add_recipe(lightGBM_recipe)\n",
        "\n",
        "lightgbm_wf\n"
      ],
      "metadata": {
        "colab": {
          "base_uri": "https://localhost:8080/"
        },
        "id": "5Lhl89UK0_W4",
        "outputId": "dd429150-9aff-427e-d2ff-594870ec9a4e"
      },
      "execution_count": 27,
      "outputs": [
        {
          "output_type": "stream",
          "name": "stdout",
          "text": [
            "══ Workflow ════════════════════════════════════════════════════════════════════\n",
            "Preprocessor: Recipe\n",
            "Model: boost_tree()\n",
            "\n",
            "── Preprocessor ────────────────────────────────────────────────────────────────\n",
            "3 Recipe Steps\n",
            "\n",
            "• step_zv()\n",
            "• step_dummy()\n",
            "• step_normalize()\n",
            "\n",
            "── Model ───────────────────────────────────────────────────────────────────────\n",
            "Boosted Tree Model Specification (regression)\n",
            "\n",
            "Main Arguments:\n",
            "  mtry = 5\n",
            "  trees = 100\n",
            "  min_n = tune()\n",
            "  tree_depth = tune()\n",
            "  learn_rate = tune()\n",
            "  loss_reduction = tune()\n",
            "  sample_size = 0.75\n",
            "\n",
            "Computational engine: lightgbm \n",
            "\n"
          ]
        }
      ]
    },
    {
      "cell_type": "markdown",
      "source": [
        "### Define random grid prameters"
      ],
      "metadata": {
        "id": "PU-QM0nn1JAj"
      }
    },
    {
      "cell_type": "code",
      "source": [
        "%%R\n",
        "lightgbm_grid <- parameters(lightgbm_model) %>%\n",
        "    finalize(train) %>%\n",
        "    grid_random(size = 20)\n",
        "head(lightgbm_grid)"
      ],
      "metadata": {
        "colab": {
          "base_uri": "https://localhost:8080/"
        },
        "id": "GG4xCAEM1JJD",
        "outputId": "dbd64077-4921-4ba9-9ab0-631fcb86f2fc"
      },
      "execution_count": 28,
      "outputs": [
        {
          "output_type": "stream",
          "name": "stdout",
          "text": [
            "# A tibble: 6 × 4\n",
            "  min_n tree_depth    learn_rate loss_reduction\n",
            "  <int>      <int>         <dbl>          <dbl>\n",
            "1     5          4 0.0498               1.71e-8\n",
            "2     2         11 0.0000276            2.75e-7\n",
            "3    39          9 0.000000453          3.09e-9\n",
            "4    17         12 0.00000000325        1.71e-8\n",
            "5    13          1 0.00000277           1.23e-8\n",
            "6    28          9 0.0623               1.29e+1\n"
          ]
        }
      ]
    },
    {
      "cell_type": "markdown",
      "source": [
        "### Tune grid"
      ],
      "metadata": {
        "id": "DYkcNu1o1P6Q"
      }
    },
    {
      "cell_type": "code",
      "source": [
        "%%R\n",
        "set.seed(345)\n",
        "# grid search\n",
        "lightgbm_tune_grid <- lightgbm_wf %>%\n",
        "    tune_grid(\n",
        "        resamples = cv_folds,\n",
        "        grid = lightgbm_grid,\n",
        "        control = control_grid(verbose = F),\n",
        "        metrics = metric_set(rmse, rsq, mae)\n",
        "    )"
      ],
      "metadata": {
        "id": "2L04eT611S8l"
      },
      "execution_count": 29,
      "outputs": []
    },
    {
      "cell_type": "markdown",
      "source": [
        "collect_metrics(lightgbm_tune_grid )"
      ],
      "metadata": {
        "id": "EO8uWzqo1oSg"
      }
    },
    {
      "cell_type": "code",
      "source": [
        "%%R\n",
        "collect_metrics(lightgbm_tune_grid )"
      ],
      "metadata": {
        "colab": {
          "base_uri": "https://localhost:8080/"
        },
        "id": "3hRrZseo1pYA",
        "outputId": "cdffef18-1bc3-4b6b-dde2-a51f1d1bbd9a"
      },
      "execution_count": 30,
      "outputs": [
        {
          "output_type": "stream",
          "name": "stdout",
          "text": [
            "# A tibble: 60 × 10\n",
            "   min_n tree_depth    learn_rate loss_reduction .metric .estimator  mean     n\n",
            "   <int>      <int>         <dbl>          <dbl> <chr>   <chr>      <dbl> <int>\n",
            " 1     5          4 0.0498         0.0000000171  mae     standard   2.85      5\n",
            " 2     5          4 0.0498         0.0000000171  rmse    standard   4.01      5\n",
            " 3     5          4 0.0498         0.0000000171  rsq     standard   0.375     5\n",
            " 4     2         11 0.0000276      0.000000275   mae     standard   3.80      5\n",
            " 5     2         11 0.0000276      0.000000275   rmse    standard   5.00      5\n",
            " 6     2         11 0.0000276      0.000000275   rsq     standard   0.380     5\n",
            " 7    39          9 0.000000453    0.00000000309 mae     standard   3.80      5\n",
            " 8    39          9 0.000000453    0.00000000309 rmse    standard   5.00      5\n",
            " 9    39          9 0.000000453    0.00000000309 rsq     standard   0.364     5\n",
            "10    17         12 0.00000000325  0.0000000171  mae     standard   3.80      5\n",
            "# ℹ 50 more rows\n",
            "# ℹ 2 more variables: std_err <dbl>, .config <chr>\n",
            "# ℹ Use `print(n = ...)` to see more rows\n"
          ]
        }
      ]
    },
    {
      "cell_type": "code",
      "source": [
        "%%R -w 550 -h 500 -u px\n",
        "autoplot(lightgbm_tune_grid)"
      ],
      "metadata": {
        "colab": {
          "base_uri": "https://localhost:8080/",
          "height": 517
        },
        "id": "Xz3hKosU3fXj",
        "outputId": "694fec60-cfa0-4181-f577-5a7fea985b34"
      },
      "execution_count": 31,
      "outputs": [
        {
          "output_type": "display_data",
          "data": {
            "image/png": "[encoded data removed]"
          },
          "metadata": {}
        }
      ]
    },
    {
      "cell_type": "markdown",
      "source": [
        "### The best lightgbm"
      ],
      "metadata": {
        "id": "T0ygu3TS3rYg"
      }
    },
    {
      "cell_type": "code",
      "source": [
        "%%R\n",
        "best_rmse <- select_best(lightgbm_tune_grid , \"rmse\")\n",
        "\n",
        "lightgbm_final <- finalize_model(\n",
        "  lightgbm_model,\n",
        "  best_rmse\n",
        ")\n",
        "\n",
        "lightgbm_final"
      ],
      "metadata": {
        "colab": {
          "base_uri": "https://localhost:8080/"
        },
        "id": "ipyu9ERN3uxY",
        "outputId": "eeb587e3-fdc6-45dc-b8e7-21fd7f03b1a8"
      },
      "execution_count": 32,
      "outputs": [
        {
          "output_type": "stream",
          "name": "stdout",
          "text": [
            "Boosted Tree Model Specification (regression)\n",
            "\n",
            "Main Arguments:\n",
            "  mtry = 5\n",
            "  trees = 100\n",
            "  min_n = 28\n",
            "  tree_depth = 9\n",
            "  learn_rate = 0.0623082219881162\n",
            "  loss_reduction = 12.8917083526204\n",
            "  sample_size = 0.75\n",
            "\n",
            "Computational engine: lightgbm \n",
            "\n"
          ]
        }
      ]
    },
    {
      "cell_type": "markdown",
      "source": [
        "### Fit the model\n",
        "\n",
        "We can either fit final_tree to training data using fit() or to the testing/training split using last_fit(), which will give us some other results along with the fitted output."
      ],
      "metadata": {
        "id": "ayXFA6i-33zI"
      }
    },
    {
      "cell_type": "code",
      "source": [
        "%%R\n",
        "final_fit <- fit(lightgbm_final, SOC ~ .,train)"
      ],
      "metadata": {
        "id": "I0-WpaBx34hF"
      },
      "execution_count": 33,
      "outputs": []
    },
    {
      "cell_type": "markdown",
      "source": [
        "### Prediction"
      ],
      "metadata": {
        "id": "soIfaAhY4AHU"
      }
    },
    {
      "cell_type": "code",
      "source": [
        "%%R\n",
        "test$SOC.pred = predict(final_fit,test)"
      ],
      "metadata": {
        "id": "e_n20LEI4AP5"
      },
      "execution_count": 34,
      "outputs": []
    },
    {
      "cell_type": "code",
      "source": [
        "%%R\n",
        "RMSE<- Metrics::rmse(test$SOC, test$SOC.pred$.pred)\n",
        "RMSE"
      ],
      "metadata": {
        "colab": {
          "base_uri": "https://localhost:8080/"
        },
        "id": "ODXzkZ164E42",
        "outputId": "669b51b9-eaa3-4b95-9efc-df68e2a5437a"
      },
      "execution_count": 36,
      "outputs": [
        {
          "output_type": "stream",
          "name": "stdout",
          "text": [
            "[1] 3.474282\n"
          ]
        }
      ]
    },
    {
      "cell_type": "markdown",
      "source": [
        "### 1:1 Plot of Predicted vs Observed values"
      ],
      "metadata": {
        "id": "xqyNPSug4NRw"
      }
    },
    {
      "cell_type": "code",
      "source": [
        "%%R -w 400 -h 350 -u px\n",
        "formula<-y~x\n",
        "\n",
        "ggplot(test, aes(SOC,SOC.pred$.pred)) +\n",
        "  geom_point() +\n",
        "  geom_smooth(method = \"lm\")+\n",
        "  stat_poly_eq(use_label(c(\"eq\", \"adj.R2\")), formula = formula) +\n",
        "  ggtitle(\"LightGBM\") +\n",
        "  xlab(\"Observed\") + ylab(\"Predicted\") +\n",
        "  scale_x_continuous(limits=c(0,25), breaks=seq(0, 25, 5))+\n",
        "  scale_y_continuous(limits=c(0,25), breaks=seq(0, 25, 5)) +\n",
        "  # Flip the bars\n",
        "  theme(\n",
        "    panel.background = element_rect(fill = \"grey95\",colour = \"gray75\",size = 0.5, linetype = \"solid\"),\n",
        "    axis.line = element_line(colour = \"grey\"),\n",
        "    plot.title = element_text(size = 14, hjust = 0.5),\n",
        "    axis.title.x = element_text(size = 14),\n",
        "    axis.title.y = element_text(size = 14),\n",
        "    axis.text.x=element_text(size=13, colour=\"black\"),\n",
        "    axis.text.y=element_text(size=13,angle = 90,vjust = 0.5, hjust=0.5, colour='black'))"
      ],
      "metadata": {
        "colab": {
          "base_uri": "https://localhost:8080/",
          "height": 384
        },
        "id": "BDZeLsOz4TWn",
        "outputId": "b2ea5663-3777-4e0c-9885-9194f17f3f8b"
      },
      "execution_count": 37,
      "outputs": [
        {
          "output_type": "stream",
          "name": "stdout",
          "text": [
            "`geom_smooth()` using formula = 'y ~ x'\n"
          ]
        },
        {
          "output_type": "display_data",
          "data": {
            "image/png": "[encoded data removed]"
          },
          "metadata": {}
        }
      ]
    },
    {
      "cell_type": "markdown",
      "source": [
        "### Variable Importance"
      ],
      "metadata": {
        "id": "L3wEEtm54nKe"
      }
    },
    {
      "cell_type": "code",
      "source": [
        "%%R -w 350 -h 450 -u px\n",
        "extract_fit_engine(final_fit) %>%\n",
        "  lightgbm::lgb.importance() %>%\n",
        "  lightgbm::lgb.plot.importance(top_n = 10)"
      ],
      "metadata": {
        "colab": {
          "base_uri": "https://localhost:8080/",
          "height": 467
        },
        "id": "OwhEuVsy4nRu",
        "outputId": "283f1160-c930-41da-a807-e25c75bead65"
      },
      "execution_count": 39,
      "outputs": [
        {
          "output_type": "display_data",
          "data": {
            "image/png": "[encoded data removed]"
          },
          "metadata": {}
        }
      ]
    },
    {
      "cell_type": "markdown",
      "source": [
        "### Further Reading\n",
        "\n",
        "1.  [R LightGBM Regression](https://www.r-bloggers.com/2022/07/r-lightgbm-regression/)\n",
        "\n",
        "2.  [How to Use Lightgbm with Tidymodels](https://www.r-bloggers.com/2020/08/how-to-use-lightgbm-with-tidymodels/)\n",
        "\n",
        "3.  [lightgbm with tidymodels](https://www.kaggle.com/code/athosdamiani/lightgbm-with-tidymodels)\n",
        "\n",
        "### YouTube Video\n",
        "\n",
        "1.  What is Light GBM and how does it compare against XGBoost?\n",
        "\n",
        "{{< video https://www.youtube.com/watch?v=n_ZMQj09S6w >}}\n",
        "\n",
        "Source: [DigitalSreeni](https://www.youtube.com/@DigitalSreeni)"
      ],
      "metadata": {
        "id": "4xmeKLyJ47TB"
      }
    }
  ]
}