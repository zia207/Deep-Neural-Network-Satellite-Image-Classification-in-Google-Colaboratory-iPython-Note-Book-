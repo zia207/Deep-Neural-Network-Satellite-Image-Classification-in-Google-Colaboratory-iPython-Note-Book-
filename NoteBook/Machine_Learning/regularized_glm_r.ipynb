{
  "nbformat": 4,
  "nbformat_minor": 0,
  "metadata": {
    "colab": {
      "provenance": [],
      "gpuType": "T4",
      "authorship_tag": "ABX9TyMxvyYSg12QoRxXs9YKu1Iu",
      "include_colab_link": true
    },
    "kernelspec": {
      "name": "python3",
      "display_name": "Python 3"
    },
    "language_info": {
      "name": "python"
    },
    "accelerator": "GPU"
  },
  "cells": [
    {
      "cell_type": "markdown",
      "metadata": {
        "id": "view-in-github",
        "colab_type": "text"
      },
      "source": [
        "<a href=\"https://colab.research.google.com/github/zia207/Deep-Neural-Network-Satellite-Image-Classification-in-Google-Colaboratory-iPython-Note-Book-/blob/master/NoteBook/Machine_Learning/regularized_glm_r.ipynb\" target=\"_parent\"><img src=\"https://colab.research.google.com/assets/colab-badge.svg\" alt=\"Open In Colab\"/></a>"
      ]
    },
    {
      "cell_type": "markdown",
      "source": [
        "# Regularized Generalized Linear Models in R\n",
        "\n",
        "Zia Ahmed, University at Buffalo.\n",
        "\n",
        "Regularized Generalized Linear Models (GLMs) are a family of statistical models that combine the benefits of generalized linear models (GLMs) with regularization techniques to improve generalization performance and reduce overfitting. Overfitting occurs when a model becomes too complex and starts fitting the noise in the data, resulting in poor performance on new, unseen data. Regularization addresses this issue by adding a penalty term to the loss function that the model is trying to minimize.\n",
        "\n",
        "Several types of regularization techniques include L1 regularization (Lasso), L2 regularization (Ridge), and Elastic Net regularization. Like classical linear regression, Ridge and Lasso also build the linear model, but their fundamental peculiarity is regularization. These methods aim to improve the loss function so that it depends not only on the sum of the squared differences but also on the regression coefficients.\n",
        "\n",
        "L1 regularization adds a penalty term proportional to the absolute value of the coefficients, which results in sparse solutions where some coefficients are precisely zero. This can be used for feature selection, as it tends to set coefficients of less important features to zero.\n",
        "\n",
        "L2 regularization adds a penalty term proportional to the square of the coefficients, which tends to shrink the coefficients towards zero, but does not set them precisely to zero. This can be useful when all the features are considered necessary, but some may have minimal effects.\n",
        "\n",
        "Elastic Net regularization combines both L1 and L2 regularization and balances feature selection and coefficient shrinkage.\n",
        "\n",
        "Regularization can be a powerful tool for improving the performance of machine learning models, particularly when dealing with high-dimensional data or datasets with a limited number of observations. It can help to prevent overfitting, improve the interpretability of the model, and provide insights into the importance of different features in the data.\n",
        "\n",
        "**Loss function**: In machine learning, a loss function is a mathematical function that measures the difference between the predicted output of a model and the true output, given a set of input data. The loss function quantifies how well the model is performing and provides a way to optimize the model's parameters during training.\n",
        "\n",
        "The goal of machine learning is to minimize the loss function, which represents the error between the predicted output of the model and the actual output. By minimizing the loss function, the model learns to make better predictions on new data that it has not seen before."
      ],
      "metadata": {
        "id": "Dzp9ZseROTcY"
      }
    },
    {
      "cell_type": "markdown",
      "source": [
        "### Ridge, Lasso, and Elastic Net Regressions\n",
        "\n",
        "Lasso and Ridge and regression is a linear regression technique that adds a L1 and L2 regularization term to the cost function to prevent overfitting, respectively. The regularization term adds a penalty to the sum of squared regression coefficients, which shrinks the coefficients towards zero. The regularization parameter, alpha, controls the strength of the regularization. Larger values of alpha result in more shrinkage of the coefficients towards zero, and can lead to a simpler model with reduced variance, but potentially increased bias. Smaller values of alpha result in less shrinkage and a model that is closer to ordinary linear regression.\n",
        "\n",
        "Ridge and Lasso regressions can be used when there is multicollinearity among the predictor variables, which can cause instability in the estimates of the regression coefficients. By adding the regularization term, ridge regression can help to stabilize the estimates and improve the accuracy of the model.\n",
        "\n",
        "Elastic Net regularization is a combination of Lasso and Ridge regularization techniques. Elastic Net regularization adds two penalty terms to the cost function of a linear regression model: the L1 penalty and the L2 penalty. The L1 penalty encourages sparsity in the model by setting some of the coefficients to zero, while the L2 penalty shrinks the magnitude of the coefficients towards zero.\n",
        "\n",
        "The Elastic Net penalty term is a weighted sum of the L1 and L2 penalties, controlled by a hyperparameter called alpha. When alpha is set to zero, Elastic Net is equivalent to Ridge regularization, and when alpha is set to one, Elastic Net is equivalent to Lasso regularization.\n",
        "\n",
        "The “glmnet” method in caret has an alpha argument that determines what type of model is fit. If alpha = 0 then a ridge regression model is fit,  if alpha = 1 then a lasso model is fi, a a value between 0 and 1 (say 0.3) for elastic net regression will be fit. Here we’ll use caret as a wrapper for glment package."
      ],
      "metadata": {
        "id": "U1aGkFPAOx7p"
      }
    },
    {
      "cell_type": "markdown",
      "source": [
        "### Install rpy2"
      ],
      "metadata": {
        "id": "SDp3ULld8Gb9"
      }
    },
    {
      "cell_type": "code",
      "source": [
        "!pip uninstall rpy2 -y\n",
        "!pip install rpy2==3.5.1\n",
        "%load_ext rpy2.ipython"
      ],
      "metadata": {
        "id": "CiM6y-Mw8AJp"
      },
      "execution_count": null,
      "outputs": []
    },
    {
      "cell_type": "markdown",
      "source": [
        "### Mount Google Drive"
      ],
      "metadata": {
        "id": "O1zeuaCowiBt"
      }
    },
    {
      "cell_type": "code",
      "source": [
        "from google.colab import drive\n",
        "drive.mount('/content/drive')"
      ],
      "metadata": {
        "colab": {
          "base_uri": "https://localhost:8080/"
        },
        "id": "9J-4ie4bwiJ1",
        "outputId": "8bc4231e-7546-4c56-8f27-58cf786e61dc"
      },
      "execution_count": null,
      "outputs": [
        {
          "output_type": "stream",
          "name": "stdout",
          "text": [
            "Mounted at /content/drive\n"
          ]
        }
      ]
    },
    {
      "cell_type": "markdown",
      "source": [
        "### Install Packages"
      ],
      "metadata": {
        "id": "yXu-XY0mw1A8"
      }
    },
    {
      "cell_type": "code",
      "source": [
        "%%R\n",
        "install.packages(c('tidyverse', 'tidymodels', 'caret', 'Metrics', 'ggmisc', 'glmnet', 'patchwork'), lib='drive/My Drive/R/', repos='http://cran.rstudio.com/')\n"
      ],
      "metadata": {
        "id": "TeYB57l0wz5N"
      },
      "execution_count": null,
      "outputs": []
    },
    {
      "cell_type": "code",
      "source": [
        "%%R\n",
        "pkgs <- c(\"RCurl\",\"jsonlite\")\n",
        "for (pkg in pkgs) {\n",
        "  if (! (pkg %in% rownames(installed.packages(lib='drive/My Drive/R/')))) { install.packages(pkg) }\n",
        "}\n",
        "install.packages(\"h2o\", lib='drive/My Drive/R/', type=\"source\", repos=(c(\"http://h2o-release.s3.amazonaws.com/h2o/late"
      ],
      "metadata": {
        "id": "fkDqJzg0y5Ag"
      },
      "execution_count": null,
      "outputs": []
    },
    {
      "cell_type": "markdown",
      "source": [
        "### Load packages"
      ],
      "metadata": {
        "id": "MV7R29xfyWQz"
      }
    },
    {
      "cell_type": "code",
      "source": [
        "%%R\n",
        "# set library path\n",
        ".libPaths('drive/My Drive/R')"
      ],
      "metadata": {
        "id": "s0dV3S0fyWae"
      },
      "execution_count": null,
      "outputs": []
    },
    {
      "cell_type": "code",
      "source": [
        "%%R\n",
        "library(tidyverse)\n",
        "library(tidymodels)\n",
        "library(caret)"
      ],
      "metadata": {
        "id": "232jNAHBykUL"
      },
      "execution_count": null,
      "outputs": []
    },
    {
      "cell_type": "markdown",
      "source": [
        "### Data\n",
        "\n",
        "In this exercise we will use following data set.\n",
        "\n",
        "[gp_soil_data.csv](https://www.dropbox.com/s/9ikm5yct36oflei/gp_soil_data.csv?dl=0)"
      ],
      "metadata": {
        "id": "rSJqB05rO5ES"
      }
    },
    {
      "cell_type": "code",
      "execution_count": null,
      "metadata": {
        "colab": {
          "base_uri": "https://localhost:8080/"
        },
        "id": "CFpt_H01OPsa",
        "outputId": "1d98e9da-38f3-431b-aa81-6282b3322dbd"
      },
      "outputs": [
        {
          "output_type": "stream",
          "name": "stdout",
          "text": [
            "Rows: 467 Columns: 19\n",
            "── Column specification ────────────────────────────────────────────────────────\n",
            "Delimiter: \",\"\n",
            "chr  (4): STATE, COUNTY, NLCD, FRG\n",
            "dbl (15): ID, FIPS, STATE_ID, Longitude, Latitude, SOC, DEM, Aspect, Slope, ...\n",
            "\n",
            "ℹ Use `spec()` to retrieve the full column specification for this data.\n",
            "ℹ Specify the column types or set `show_col_types = FALSE` to quiet this message.\n",
            "Rows: 467\n",
            "Columns: 12\n",
            "$ SOC      <dbl> 15.763, 15.883, 18.142, 10.745, 10.479, 16.987, 24.954, 6.288…\n",
            "$ DEM      <dbl> 2229.079, 1889.400, 2423.048, 2484.283, 2396.195, 2360.573, 2…\n",
            "$ Slope    <dbl> 5.6716146, 8.9138117, 4.7748051, 7.1218114, 7.9498644, 9.6632…\n",
            "$ Aspect   <dbl> 159.1877, 156.8786, 168.6124, 198.3536, 201.3215, 208.9732, 2…\n",
            "$ TPI      <dbl> -0.08572358, 4.55913162, 2.60588670, 5.14693117, 3.75570583, …\n",
            "$ KFactor  <dbl> 0.31999999, 0.26121211, 0.21619999, 0.18166667, 0.12551020, 0…\n",
            "$ SiltClay <dbl> 64.84270, 72.00455, 57.18700, 54.99166, 51.22857, 45.02000, 5…\n",
            "$ MAT      <dbl> 4.5951686, 3.8599243, 0.8855000, 0.4707811, 0.7588266, 1.3586…\n",
            "$ MAP      <dbl> 468.3245, 536.3522, 859.5509, 869.4724, 802.9743, 1121.2744, …\n",
            "$ NDVI     <dbl> 0.4139390, 0.6939532, 0.5466033, 0.6191013, 0.5844722, 0.6028…\n",
            "$ NLCD     <chr> \"Shrubland\", \"Shrubland\", \"Forest\", \"Forest\", \"Forest\", \"Fore…\n",
            "$ FRG      <chr> \"Fire Regime Group IV\", \"Fire Regime Group IV\", \"Fire Regime …\n"
          ]
        }
      ],
      "source": [
        "%%R\n",
        "# load data from github\n",
        "urlfile = \"https://github.com//zia207/r-colab/raw/main/Data/USA/gp_soil_data.csv\"\n",
        "mf<-read_csv(url(urlfile))\n",
        "df<-mf %>% dplyr::select(SOC, DEM, Slope, Aspect, TPI, KFactor, SiltClay, MAT, MAP,NDVI, NLCD, FRG)%>%\n",
        "    glimpse()"
      ]
    },
    {
      "cell_type": "markdown",
      "source": [
        "## Ridge, Lasso, and Elastic Net Regressions with caret package\n",
        "\n",
        "#### Create A Full Set of Dummy Variables\n",
        "\n",
        "dummyVars() from caret package creates a full set of dummy variables (i.e. less than full rank parameterization)\n"
      ],
      "metadata": {
        "id": "Wbv0HBRaPPnU"
      }
    },
    {
      "cell_type": "markdown",
      "source": [
        "### Create A Full Set of Dummy Variables\n",
        "dummyVars() from caret package creates a full set of dummy variables (i.e. less than full rank parameterization)"
      ],
      "metadata": {
        "id": "dxU1bYMWPd82"
      }
    },
    {
      "cell_type": "code",
      "source": [
        "%%R\n",
        "library(caret)\n",
        "# create dummy variable\n",
        "dummies <- dummyVars(SOC ~ ., data = df)\n",
        "dummies.df<-as.data.frame(predict(dummies, newdata = df))\n",
        "dummies.df$SOC<-df$SOC\n"
      ],
      "metadata": {
        "id": "8ixZccb4PPvc"
      },
      "execution_count": null,
      "outputs": []
    },
    {
      "cell_type": "markdown",
      "source": [
        "### Data  Split"
      ],
      "metadata": {
        "id": "ZliFa6NNIN-u"
      }
    },
    {
      "cell_type": "code",
      "source": [
        "%%R\n",
        "set.seed(3456)\n",
        "trainIndex <- createDataPartition(dummies.df$SOC, p = .80,\n",
        "                                  list = FALSE,\n",
        "                                  times = 1)\n",
        "df_train <- dummies.df[ trainIndex,]\n",
        "df_test  <- dummies.df[-trainIndex,]"
      ],
      "metadata": {
        "id": "hYIgLGafUx-O"
      },
      "execution_count": null,
      "outputs": []
    },
    {
      "cell_type": "code",
      "source": [
        "%%R\n",
        "ggplot()+\n",
        "  geom_density(data = dummies.df, aes(SOC))+\n",
        "  geom_density(data = df_train, aes(SOC), color = \"green\")+\n",
        "  geom_density(data = df_test, aes(SOC), color = \"red\") +\n",
        "      xlab(\"Soil Organic Carbon (kg/g)\") +\n",
        "     ylab(\"Density\")"
      ],
      "metadata": {
        "colab": {
          "base_uri": "https://localhost:8080/",
          "height": 497
        },
        "id": "A2JpdWnyIS9N",
        "outputId": "f2cc438a-c984-4d68-ee99-0cf95c303611"
      },
      "execution_count": null,
      "outputs": [
        {
          "output_type": "display_data",
          "data": {
            "image/png": "[encoded data removed]"
          },
          "metadata": {}
        }
      ]
    },
    {
      "cell_type": "markdown",
      "source": [
        "### Set control prameters"
      ],
      "metadata": {
        "id": "nlp8BuN1Iaxt"
      }
    },
    {
      "cell_type": "code",
      "source": [
        "%%R\n",
        "train.control <- trainControl(method = \"repeatedcv\",\n",
        "                              number = 10, repeats = 5,\n",
        "                              preProc = c(\"center\", \"scale\", \"nzv\"))"
      ],
      "metadata": {
        "id": "jlOoNaGhIgVM"
      },
      "execution_count": null,
      "outputs": []
    },
    {
      "cell_type": "markdown",
      "source": [
        "### Lesso Regression"
      ],
      "metadata": {
        "id": "HNGwI3J-ImJJ"
      }
    },
    {
      "cell_type": "code",
      "source": [
        "%%R\n",
        "model.lasso <- train(SOC ~., data = df_train,\n",
        "                     method = \"glmnet\",\n",
        "                     tuneGrid = expand.grid(alpha =1, lambda =1),\n",
        "                     trControl = train.control)"
      ],
      "metadata": {
        "id": "P-GlgV4xIp3W"
      },
      "execution_count": null,
      "outputs": []
    },
    {
      "cell_type": "code",
      "source": [
        "%%R\n",
        "print(model.lasso)"
      ],
      "metadata": {
        "colab": {
          "base_uri": "https://localhost:8080/"
        },
        "id": "Or9hkqsXJeim",
        "outputId": "ba4cf287-b4c5-418e-91ad-9904a6e92e23"
      },
      "execution_count": null,
      "outputs": [
        {
          "output_type": "stream",
          "name": "stdout",
          "text": [
            "glmnet \n",
            "\n",
            "375 samples\n",
            " 19 predictor\n",
            "\n",
            "No pre-processing\n",
            "Resampling: Cross-Validated (10 fold, repeated 5 times) \n",
            "Summary of sample sizes: 338, 336, 337, 339, 336, 338, ... \n",
            "Resampling results:\n",
            "\n",
            "  RMSE      Rsquared   MAE     \n",
            "  4.102033  0.3810634  3.000984\n",
            "\n",
            "Tuning parameter 'alpha' was held constant at a value of 1\n",
            "Tuning\n",
            " parameter 'lambda' was held constant at a value of 1\n"
          ]
        }
      ]
    },
    {
      "cell_type": "markdown",
      "source": [
        "### Ridge Regression"
      ],
      "metadata": {
        "id": "-6LorkoxJR6I"
      }
    },
    {
      "cell_type": "code",
      "source": [
        "%%R\n",
        "model.ridge <- train(SOC ~., data = df_train,\n",
        "                     method = \"glmnet\",\n",
        "                     tuneGrid = expand.grid(alpha =0, lambda =1),\n",
        "                     trControl = train.control)"
      ],
      "metadata": {
        "id": "w6Jfj-SDJSGz"
      },
      "execution_count": null,
      "outputs": []
    },
    {
      "cell_type": "code",
      "source": [
        "%%R\n",
        "print(model.ridge)"
      ],
      "metadata": {
        "colab": {
          "base_uri": "https://localhost:8080/"
        },
        "id": "esbQ-X6vJnB2",
        "outputId": "422c0c49-293a-4e7f-af4f-6e677c70c141"
      },
      "execution_count": null,
      "outputs": [
        {
          "output_type": "stream",
          "name": "stdout",
          "text": [
            "glmnet \n",
            "\n",
            "375 samples\n",
            " 19 predictor\n",
            "\n",
            "No pre-processing\n",
            "Resampling: Cross-Validated (10 fold, repeated 5 times) \n",
            "Summary of sample sizes: 337, 337, 338, 337, 336, 339, ... \n",
            "Resampling results:\n",
            "\n",
            "  RMSE     Rsquared   MAE     \n",
            "  3.86499  0.4153834  2.788611\n",
            "\n",
            "Tuning parameter 'alpha' was held constant at a value of 0\n",
            "Tuning\n",
            " parameter 'lambda' was held constant at a value of 1\n"
          ]
        }
      ]
    },
    {
      "cell_type": "markdown",
      "source": [
        "### Prediction"
      ],
      "metadata": {
        "id": "cm45AgwSJxLY"
      }
    },
    {
      "cell_type": "code",
      "source": [
        "%%R\n",
        "df_test$Pred.lasso = predict(model.lasso, df_test)\n",
        "df_test$Pred.ridge = predict(model.ridge, df_test)"
      ],
      "metadata": {
        "id": "4zlm-CPaJwYe"
      },
      "execution_count": null,
      "outputs": []
    },
    {
      "cell_type": "markdown",
      "source": [
        "### Model Performance"
      ],
      "metadata": {
        "id": "cX5V2rSaJ_1n"
      }
    },
    {
      "cell_type": "code",
      "source": [
        "%%R\n",
        "RMSE.lasso<- Metrics::rmse(df_test$SOC, df_test$Pred.lasso)\n",
        "RMSE.ridge<- Metrics::rmse(df_test$SOC, df_test$Pred.ridge)"
      ],
      "metadata": {
        "id": "yvjtZ41bKFBh"
      },
      "execution_count": null,
      "outputs": []
    },
    {
      "cell_type": "code",
      "source": [
        "%%R\n",
        "RMSE.lasso"
      ],
      "metadata": {
        "colab": {
          "base_uri": "https://localhost:8080/"
        },
        "id": "EuUE2KNIK5Vh",
        "outputId": "d8a348bb-142e-4b87-8093-1902ad402479"
      },
      "execution_count": null,
      "outputs": [
        {
          "output_type": "stream",
          "name": "stdout",
          "text": [
            "[1] 4.076164\n"
          ]
        }
      ]
    },
    {
      "cell_type": "code",
      "source": [
        "%%R\n",
        "RMSE.ridge"
      ],
      "metadata": {
        "colab": {
          "base_uri": "https://localhost:8080/"
        },
        "id": "tMXXYGMaK5zO",
        "outputId": "b989aaf6-e20c-4ece-a984-ea804394fb73"
      },
      "execution_count": null,
      "outputs": [
        {
          "output_type": "stream",
          "name": "stdout",
          "text": [
            "[1] 3.6876\n"
          ]
        }
      ]
    },
    {
      "cell_type": "markdown",
      "source": [],
      "metadata": {
        "id": "j9Q_GFLlLMdw"
      }
    },
    {
      "cell_type": "code",
      "source": [
        "%%R\n",
        "\n",
        "library(ggpmisc)\n",
        "formula<-y~x\n",
        "\n",
        "# Lasso Regression\n",
        "p1=ggplot(df_test, aes(SOC,Pred.lasso)) +\n",
        "  geom_point() +\n",
        "  geom_smooth(method = \"lm\")+\n",
        "  stat_poly_eq(use_label(c(\"eq\", \"adj.R2\")), formula = formula) +\n",
        "  ggtitle(\"Lasso Regression \") +\n",
        "  xlab(\"Observed\") + ylab(\"Predicted\") +\n",
        "  scale_x_continuous(limits=c(0,25), breaks=seq(0, 25, 5))+\n",
        "  scale_y_continuous(limits=c(0,25), breaks=seq(0, 25, 5)) +\n",
        "  # Flip the bars\n",
        "  theme(\n",
        "    panel.background = element_rect(fill = \"grey95\",colour = \"gray75\",size = 0.5, linetype = \"solid\"),\n",
        "    axis.line = element_line(colour = \"grey\"),\n",
        "    plot.title = element_text(size = 14, hjust = 0.5),\n",
        "    axis.title.x = element_text(size = 14),\n",
        "    axis.title.y = element_text(size = 14),\n",
        "    axis.text.x=element_text(size=13, colour=\"black\"),\n",
        "    axis.text.y=element_text(size=13,angle = 90,vjust = 0.5, hjust=0.5, colour='black'))\n",
        "\n",
        "# Ridge Regression\n",
        "p2=ggplot(df_test, aes(SOC,Pred.ridge)) +\n",
        "  geom_point() +\n",
        "  geom_smooth(method = \"lm\")+\n",
        "  stat_poly_eq(use_label(c(\"eq\", \"adj.R2\")), formula = formula) +\n",
        "  ggtitle(\"Ridge Regression\") +\n",
        "  xlab(\"Observed\") + ylab(\"Predicted\") +\n",
        "  scale_x_continuous(limits=c(0,25), breaks=seq(0, 25, 5))+\n",
        "  scale_y_continuous(limits=c(0,25), breaks=seq(0, 25, 5)) +\n",
        "  # Flip the bars\n",
        "  theme(\n",
        "    panel.background = element_rect(fill = \"grey95\",colour = \"gray75\",size = 0.5, linetype = \"solid\"),\n",
        "    axis.line = element_line(colour = \"grey\"),\n",
        "    plot.title = element_text(size = 14, hjust = 0.5),\n",
        "    axis.title.x = element_text(size = 14),\n",
        "    axis.title.y = element_text(size = 14),\n",
        "    axis.text.x=element_text(size=13, colour=\"black\"),\n",
        "    axis.text.y=element_text(size=13,angle = 90,vjust = 0.5, hjust=0.5, colour='black'))\n",
        "\n"
      ],
      "metadata": {
        "id": "un2cdvbeLMqa"
      },
      "execution_count": null,
      "outputs": []
    },
    {
      "cell_type": "markdown",
      "source": [
        "### Plot side by sise"
      ],
      "metadata": {
        "id": "2r-bkZpHL2_C"
      }
    },
    {
      "cell_type": "code",
      "source": [
        "%%R\n",
        "library(patchwork)\n",
        "p1+p2"
      ],
      "metadata": {
        "colab": {
          "base_uri": "https://localhost:8080/",
          "height": 532
        },
        "id": "WEtRMBiuL0Jb",
        "outputId": "5b7eafa8-b569-4124-fe56-85f6e7099990"
      },
      "execution_count": null,
      "outputs": [
        {
          "output_type": "stream",
          "name": "stdout",
          "text": [
            "`geom_smooth()` using formula = 'y ~ x'\n",
            "`geom_smooth()` using formula = 'y ~ x'\n"
          ]
        },
        {
          "output_type": "display_data",
          "data": {
            "image/png": "[encoded data removed]"
          },
          "metadata": {}
        }
      ]
    },
    {
      "cell_type": "markdown",
      "source": [
        "### Train Elastic Net Regessiion\n",
        "\n",
        "The elastic net regression can be easily computed using the caret workflow, with glmnet package. We use caret to automatically select the best tuning parameters alpha and lambda. The caret packages tests a range of possible alpha and lambda values, then selects the best values for lambda and alpha, resulting to a final model that is an elastic net model.\n",
        "\n",
        "Here, we’ll test the combination of 10 different values for alpha and lambda. This is specified using the option tuneLength. The best alpha and lambda values are those values that minimize the cross-validation error.\n"
      ],
      "metadata": {
        "id": "5jU_fo4ZMJPq"
      }
    },
    {
      "cell_type": "code",
      "source": [
        "%%R\n",
        "# Elastic Net Regression\n",
        "model.elasticNet <- train(SOC ~., data = df_train,\n",
        "                     method = \"glmnet\",\n",
        "                     trControl = train.control,\n",
        "                     tuneLength = 10)"
      ],
      "metadata": {
        "id": "Dvqi7TntMHIQ"
      },
      "execution_count": null,
      "outputs": []
    },
    {
      "cell_type": "markdown",
      "source": [
        "#### The Best tuning parameter\n"
      ],
      "metadata": {
        "id": "cB9Jc4y_MYsb"
      }
    },
    {
      "cell_type": "code",
      "source": [
        "%%R\n",
        "model.elasticNet$bestTune"
      ],
      "metadata": {
        "colab": {
          "base_uri": "https://localhost:8080/"
        },
        "id": "XW3cabITMdcD",
        "outputId": "770526c9-744f-472b-8942-ffdcd11e5526"
      },
      "execution_count": null,
      "outputs": [
        {
          "output_type": "stream",
          "name": "stdout",
          "text": [
            "   alpha    lambda\n",
            "57   0.6 0.2044128\n"
          ]
        }
      ]
    },
    {
      "cell_type": "markdown",
      "source": [
        "#### Model coefficients"
      ],
      "metadata": {
        "id": "CGXU4CqFMnAL"
      }
    },
    {
      "cell_type": "code",
      "source": [
        "%%R\n",
        "coef(model.elasticNet$finalModel, model.elasticNet$bestTune$lambda)"
      ],
      "metadata": {
        "colab": {
          "base_uri": "https://localhost:8080/"
        },
        "id": "TgGcEM1NMrmV",
        "outputId": "d36edc64-a04c-4b2c-9afa-5f77c9c74a1b"
      },
      "execution_count": null,
      "outputs": [
        {
          "output_type": "stream",
          "name": "stdout",
          "text": [
            "20 x 1 sparse Matrix of class \"dgCMatrix\"\n",
            "                                      s1\n",
            "(Intercept)                 5.108541e-01\n",
            "DEM                         .           \n",
            "Slope                       8.319210e-02\n",
            "Aspect                      6.842909e-03\n",
            "TPI                        -2.200308e-06\n",
            "KFactor                     .           \n",
            "SiltClay                    1.664273e-02\n",
            "MAT                        -2.956952e-01\n",
            "MAP                         5.761716e-03\n",
            "NDVI                        7.333893e+00\n",
            "NLCDForest                  6.274464e-01\n",
            "NLCDHerbaceous              .           \n",
            "`NLCDPlanted/Cultivated`    .           \n",
            "NLCDShrubland               .           \n",
            "`FRGFire Regime Group I`   -1.640581e+00\n",
            "`FRGFire Regime Group II`   .           \n",
            "`FRGFire Regime Group III`  .           \n",
            "`FRGFire Regime Group IV`  -8.237457e-01\n",
            "`FRGFire Regime Group V`    .           \n",
            "`FRGIndeterminate FRG`     -1.944834e-01\n"
          ]
        }
      ]
    },
    {
      "cell_type": "markdown",
      "source": [
        "### Prediction"
      ],
      "metadata": {
        "id": "9QKzql-PM1n2"
      }
    },
    {
      "cell_type": "code",
      "source": [
        "%%R\n",
        "df_test$Pred.elasticNET = predict(model.elasticNet, df_test)"
      ],
      "metadata": {
        "id": "of3LwoHUM1xD"
      },
      "execution_count": null,
      "outputs": []
    },
    {
      "cell_type": "code",
      "source": [
        "%%R\n",
        "RMSE.elasticNET<- Metrics::rmse(df_test$SOC, df_test$Pred.elasticNET)\n",
        "RMSE.elasticNET"
      ],
      "metadata": {
        "colab": {
          "base_uri": "https://localhost:8080/"
        },
        "id": "A3BNHxklNJHB",
        "outputId": "50bfceb7-8e53-44b0-e16a-1f9dc7cd485a"
      },
      "execution_count": null,
      "outputs": [
        {
          "output_type": "stream",
          "name": "stdout",
          "text": [
            "[1] 3.674035\n"
          ]
        }
      ]
    },
    {
      "cell_type": "code",
      "source": [
        "%%R\n",
        "\n",
        "library(ggpmisc)\n",
        "formula<-y~x\n",
        "\n",
        "ggplot(df_test, aes(SOC,Pred.elasticNET)) +\n",
        "  geom_point() +\n",
        "  geom_smooth(method = \"lm\")+\n",
        "  stat_poly_eq(use_label(c(\"eq\", \"adj.R2\")), formula = formula) +\n",
        "  ggtitle(\"Elastic Net Regression\") +\n",
        "  xlab(\"Observed\") + ylab(\"Predicted\") +\n",
        "  scale_x_continuous(limits=c(0,25), breaks=seq(0, 25, 5))+\n",
        "  scale_y_continuous(limits=c(0,25), breaks=seq(0, 25, 5)) +\n",
        "  # Flip the bars\n",
        "  theme(\n",
        "    panel.background = element_rect(fill = \"grey95\",colour = \"gray75\",size = 0.5, linetype = \"solid\"),\n",
        "    axis.line = element_line(colour = \"grey\"),\n",
        "    plot.title = element_text(size = 14, hjust = 0.5),\n",
        "    axis.title.x = element_text(size = 14),\n",
        "    axis.title.y = element_text(size = 14),\n",
        "    axis.text.x=element_text(size=13, colour=\"black\"),\n",
        "    axis.text.y=element_text(size=13,angle = 90,vjust = 0.5, hjust=0.5, colour='black'))"
      ],
      "metadata": {
        "colab": {
          "base_uri": "https://localhost:8080/",
          "height": 514
        },
        "id": "aQR77AVsNOqb",
        "outputId": "164581d8-1147-419a-b4bd-600bc6c50642"
      },
      "execution_count": null,
      "outputs": [
        {
          "output_type": "stream",
          "name": "stdout",
          "text": [
            "`geom_smooth()` using formula = 'y ~ x'\n"
          ]
        },
        {
          "output_type": "display_data",
          "data": {
            "image/png": "[encoded data removed]"
          },
          "metadata": {}
        }
      ]
    },
    {
      "cell_type": "markdown",
      "source": [
        "## Ridge Regressions with tidymodels\n",
        "\n",
        "The tidymodels provides a comprehensive framework for building, tuning, and evaluating regularized GLM models in R while following the principles of the tidyverse."
      ],
      "metadata": {
        "id": "5wk4R_H9NW3A"
      }
    },
    {
      "cell_type": "markdown",
      "source": [
        "### Data split"
      ],
      "metadata": {
        "id": "IaUKFaZRQG20"
      }
    },
    {
      "cell_type": "code",
      "source": [
        "%%R\n",
        "set.seed(1245)   # for reproducibility\n",
        "split <- initial_split(df, prop = 0.8, strata = SOC)\n",
        "train <- split %>% training()\n",
        "test <-  split %>% testing()\n",
        "# Set 10 fold cross-validation data set\n",
        "cv_fold <- vfold_cv(train, v = 10)"
      ],
      "metadata": {
        "id": "ZQ9hQmkiQGMo"
      },
      "execution_count": null,
      "outputs": []
    },
    {
      "cell_type": "markdown",
      "source": [
        "### Create Recipe\n",
        "\n",
        "A recipe is a description of the steps to be applied to a data set in order to prepare it for data analysis. Before training the model, we can use a recipe to do some preprocessing required by the model."
      ],
      "metadata": {
        "id": "NG3qXUao1U9J"
      }
    },
    {
      "cell_type": "code",
      "source": [
        "%%R\n",
        "model_recipe <-\n",
        "  recipe(SOC ~ ., data = train) %>%\n",
        "  step_zv(all_predictors()) %>%\n",
        "  step_dummy(all_nominal()) %>%\n",
        "  step_normalize(all_numeric_predictors())"
      ],
      "metadata": {
        "id": "oS8hKmZO1VJv"
      },
      "execution_count": null,
      "outputs": []
    },
    {
      "cell_type": "markdown",
      "source": [
        "### Build a Ridge Regression model\n",
        "\n",
        "set_engine() is used to specify which package or system will be used to fit the model, along with any arguments specific to that software. We will use \"glm\" without any regularization parameters. The mixture argument specifies the amount of different types of regularization, mixture = 0 specifies only ridge regularization and mixture = 1 specifies only lasso regularization. When using the glmnet engine, we also need to set a penalty to be able to fit the model. The penalty = tune() tells tune_grid() that penalty parameter should be tuned."
      ],
      "metadata": {
        "id": "G2MOCwbM1gk8"
      }
    },
    {
      "cell_type": "code",
      "source": [
        "%%R\n",
        "ridge_mod <-\n",
        "   linear_reg(mixture = 0, penalty = tune()) %>%\n",
        "\n",
        "   set_mode(\"regression\") %>%\n",
        "   set_engine(\"glmnet\")"
      ],
      "metadata": {
        "id": "F5Qb3hHb1gse"
      },
      "execution_count": null,
      "outputs": []
    },
    {
      "cell_type": "markdown",
      "source": [
        "#### Creatae a workflow\n",
        "\n",
        "A workflow is a container object that aggregates information required to fit and predict from a model. This information might be a recipe used in pre-processing, specified through add_recipe(), or the model specification to fit, specified through add_model()."
      ],
      "metadata": {
        "id": "M-3RnN6z122Q"
      }
    },
    {
      "cell_type": "code",
      "source": [
        "%%R\n",
        "ridge_wflow <-\n",
        "  workflow() %>%\n",
        "  add_model(ridge_mod) %>%\n",
        "  add_recipe(model_recipe)"
      ],
      "metadata": {
        "id": "5xouR-v013BB"
      },
      "execution_count": null,
      "outputs": []
    },
    {
      "cell_type": "markdown",
      "source": [
        "#### Set Penalty Grid\n",
        "\n",
        "This can be created using grid_regular() which creates a grid of evenly spaces parameter values. We use the penalty() function from the dials package to denote the parameter and set the range of the grid we are searching for. Note that this range is log-scaled."
      ],
      "metadata": {
        "id": "q-uCR6eb2FJv"
      }
    },
    {
      "cell_type": "code",
      "source": [
        "%%R\n",
        "penalty_grid <- grid_regular(penalty(range = c(-5, 5)), levels = 50)\n",
        "penalty_grid"
      ],
      "metadata": {
        "colab": {
          "base_uri": "https://localhost:8080/"
        },
        "id": "XAqkknOf2GN7",
        "outputId": "aad2c975-3a35-4b65-b518-84a3a754fc46"
      },
      "execution_count": null,
      "outputs": [
        {
          "output_type": "stream",
          "name": "stdout",
          "text": [
            "# A tibble: 50 × 1\n",
            "     penalty\n",
            "       <dbl>\n",
            " 1 0.00001  \n",
            " 2 0.0000160\n",
            " 3 0.0000256\n",
            " 4 0.0000409\n",
            " 5 0.0000655\n",
            " 6 0.000105 \n",
            " 7 0.000168 \n",
            " 8 0.000268 \n",
            " 9 0.000429 \n",
            "10 0.000687 \n",
            "# ℹ 40 more rows\n",
            "# ℹ Use `print(n = ...)` to see more rows\n"
          ]
        }
      ]
    },
    {
      "cell_type": "markdown",
      "source": [
        "#### Grid search for the best penalty"
      ],
      "metadata": {
        "id": "H5YoEk6o2NhG"
      }
    },
    {
      "cell_type": "code",
      "source": [
        "%%R\n",
        "tune_res <- tune_grid(\n",
        "  ridge_wflow,\n",
        "  resamples = cv_fold,\n",
        "  grid = penalty_grid\n",
        ")\n",
        "\n",
        "tune_res"
      ],
      "metadata": {
        "id": "Rw2xWoMv2Nvr"
      },
      "execution_count": null,
      "outputs": []
    },
    {
      "cell_type": "markdown",
      "source": [
        "The output of tune_grid() can be visualize with autoplot() function:"
      ],
      "metadata": {
        "id": "DcOzTEzT26J5"
      }
    },
    {
      "cell_type": "code",
      "source": [
        "%%R\n",
        "autoplot(tune_res)"
      ],
      "metadata": {
        "colab": {
          "base_uri": "https://localhost:8080/",
          "height": 497
        },
        "id": "KcxtnnJG267i",
        "outputId": "99959cf6-145e-46b6-c158-8a732f0cd6eb"
      },
      "execution_count": null,
      "outputs": [
        {
          "output_type": "display_data",
          "data": {
            "image/png": "[encoded data removed]"
          },
          "metadata": {}
        }
      ]
    },
    {
      "cell_type": "markdown",
      "source": [
        "We can also see the raw metrics that created this chart by calling collect_matrics():"
      ],
      "metadata": {
        "id": "zy-HrptH3ARB"
      }
    },
    {
      "cell_type": "code",
      "source": [
        "%%R\n",
        "collect_metrics(tune_res)"
      ],
      "metadata": {
        "colab": {
          "base_uri": "https://localhost:8080/"
        },
        "id": "zE5kFxUR3AaP",
        "outputId": "5feed7d4-1f20-4e1f-d63d-0f4562b82ec7"
      },
      "execution_count": null,
      "outputs": [
        {
          "output_type": "stream",
          "name": "stdout",
          "text": [
            "# A tibble: 100 × 7\n",
            "     penalty .metric .estimator  mean     n std_err .config              \n",
            "       <dbl> <chr>   <chr>      <dbl> <int>   <dbl> <chr>                \n",
            " 1 0.00001   rmse    standard   3.90     10  0.300  Preprocessor1_Model01\n",
            " 2 0.00001   rsq     standard   0.393    10  0.0399 Preprocessor1_Model01\n",
            " 3 0.0000160 rmse    standard   3.90     10  0.300  Preprocessor1_Model02\n",
            " 4 0.0000160 rsq     standard   0.393    10  0.0399 Preprocessor1_Model02\n",
            " 5 0.0000256 rmse    standard   3.90     10  0.300  Preprocessor1_Model03\n",
            " 6 0.0000256 rsq     standard   0.393    10  0.0399 Preprocessor1_Model03\n",
            " 7 0.0000409 rmse    standard   3.90     10  0.300  Preprocessor1_Model04\n",
            " 8 0.0000409 rsq     standard   0.393    10  0.0399 Preprocessor1_Model04\n",
            " 9 0.0000655 rmse    standard   3.90     10  0.300  Preprocessor1_Model05\n",
            "10 0.0000655 rsq     standard   0.393    10  0.0399 Preprocessor1_Model05\n",
            "# ℹ 90 more rows\n",
            "# ℹ Use `print(n = ...)` to see more rows\n"
          ]
        }
      ]
    },
    {
      "cell_type": "markdown",
      "source": [
        "The “best” values of this can be selected using select_best(), this function requires us to specify a matric that it should select against."
      ],
      "metadata": {
        "id": "I3p3HlcT3L-z"
      }
    },
    {
      "cell_type": "code",
      "source": [
        "%%R\n",
        "best_penalty <- select_best(tune_res, metric = \"rsq\")\n",
        "best_penalty"
      ],
      "metadata": {
        "colab": {
          "base_uri": "https://localhost:8080/"
        },
        "id": "7Te-d80Y3NHj",
        "outputId": "7a9f94c6-f1f4-4b46-98b2-d8184c2df31c"
      },
      "execution_count": null,
      "outputs": [
        {
          "output_type": "stream",
          "name": "stdout",
          "text": [
            "# A tibble: 1 × 2\n",
            "  penalty .config              \n",
            "    <dbl> <chr>                \n",
            "1    1.26 Preprocessor1_Model26\n"
          ]
        }
      ]
    },
    {
      "cell_type": "markdown",
      "source": [
        "#### Fit the model with the best penalty value\n",
        "\n",
        "This value of penalty can then be used with finalize_workflow() to update/finalize the recipe by replacing tune() with the value of best_penalty. Now, this model should be fit again, this time using the whole training data set."
      ],
      "metadata": {
        "id": "Pivt4Xtl3T9B"
      }
    },
    {
      "cell_type": "code",
      "source": [
        "%%R\n",
        "# update penalty\n",
        "ridge_final <- finalize_workflow(ridge_wflow, best_penalty)\n",
        "# fit the model\n",
        "ridge_final_fit <- fit(ridge_final,\n",
        "                       data = train)"
      ],
      "metadata": {
        "id": "xZXOoCL13ZF-"
      },
      "execution_count": null,
      "outputs": []
    },
    {
      "cell_type": "markdown",
      "source": [
        "This object has the finalized recipe and fitted model objects inside. You may want to extract the model or recipe objects from the workflow. To do this, you can use the helper functions extract_fit_parsnip():"
      ],
      "metadata": {
        "id": "70sNps3P3eDN"
      }
    },
    {
      "cell_type": "code",
      "source": [
        "%%R\n",
        "ridge_final_fit %>%\n",
        "  extract_fit_parsnip() %>%\n",
        "  tidy()"
      ],
      "metadata": {
        "colab": {
          "base_uri": "https://localhost:8080/"
        },
        "id": "Fe4k7Bl63ggh",
        "outputId": "bafa51af-fb8b-431e-d6f3-8ec9b28eea23"
      },
      "execution_count": null,
      "outputs": [
        {
          "output_type": "stream",
          "name": "stdout",
          "text": [
            "# A tibble: 18 × 3\n",
            "   term                      estimate penalty\n",
            "   <chr>                        <dbl>   <dbl>\n",
            " 1 (Intercept)                 6.32      1.26\n",
            " 2 DEM                         0.166     1.26\n",
            " 3 Slope                       0.754     1.26\n",
            " 4 Aspect                      0.131     1.26\n",
            " 5 TPI                        -0.0892    1.26\n",
            " 6 KFactor                     0.0326    1.26\n",
            " 7 SiltClay                    0.371     1.26\n",
            " 8 MAT                        -0.860     1.26\n",
            " 9 MAP                         0.978     1.26\n",
            "10 NDVI                        1.15      1.26\n",
            "11 NLCD_Herbaceous            -0.150     1.26\n",
            "12 NLCD_Planted.Cultivated    -0.146     1.26\n",
            "13 NLCD_Shrubland             -0.353     1.26\n",
            "14 FRG_Fire.Regime.Group.II    0.383     1.26\n",
            "15 FRG_Fire.Regime.Group.III   0.0854    1.26\n",
            "16 FRG_Fire.Regime.Group.IV    0.167     1.26\n",
            "17 FRG_Fire.Regime.Group.V    -0.110     1.26\n",
            "18 FRG_Indeterminate.FRG      -0.0548    1.26\n"
          ]
        }
      ]
    },
    {
      "cell_type": "markdown",
      "source": [
        "### Prediction"
      ],
      "metadata": {
        "id": "sNr2dFcF3mv_"
      }
    },
    {
      "cell_type": "code",
      "source": [
        "%%R\n",
        "test$ridge.SOC<-as.data.frame(predict(ridge_final_fit, new_data = test))"
      ],
      "metadata": {
        "id": "Dy5mb9KK3lvN"
      },
      "execution_count": null,
      "outputs": []
    },
    {
      "cell_type": "code",
      "source": [
        "%%R\n",
        "RMSE<- Metrics::rmse(test$SOC, test$ridge.SOC$.pred)\n",
        "RMSE"
      ],
      "metadata": {
        "colab": {
          "base_uri": "https://localhost:8080/"
        },
        "id": "7tysigpJ3xzu",
        "outputId": "d548f52d-160c-4b05-fe3b-911249d77643"
      },
      "execution_count": null,
      "outputs": [
        {
          "output_type": "stream",
          "name": "stdout",
          "text": [
            "[1] 3.520696\n"
          ]
        }
      ]
    },
    {
      "cell_type": "code",
      "source": [
        "%%R\n",
        "MAE<- Metrics::mae(test$SOC, test$ridge.SOC$.pred)\n",
        "MAE"
      ],
      "metadata": {
        "colab": {
          "base_uri": "https://localhost:8080/"
        },
        "id": "IfwCAzYF30Pf",
        "outputId": "f8413538-21dd-468b-939f-8a7feca2ed7b"
      },
      "execution_count": null,
      "outputs": [
        {
          "output_type": "stream",
          "name": "stdout",
          "text": [
            "[1] 2.616406\n"
          ]
        }
      ]
    },
    {
      "cell_type": "code",
      "source": [
        "%%R\n",
        "augment(ridge_final_fit, new_data = test) %>%\n",
        "  rsq(truth = SOC, estimate = .pred)"
      ],
      "metadata": {
        "colab": {
          "base_uri": "https://localhost:8080/"
        },
        "id": "_i8ytIB94E3E",
        "outputId": "c411eec8-a27d-4197-8554-1ef622a10c2a"
      },
      "execution_count": null,
      "outputs": [
        {
          "output_type": "stream",
          "name": "stdout",
          "text": [
            "# A tibble: 1 × 3\n",
            "  .metric .estimator .estimate\n",
            "  <chr>   <chr>          <dbl>\n",
            "1 rsq     standard       0.568\n"
          ]
        }
      ]
    },
    {
      "cell_type": "code",
      "source": [
        "%%R\n",
        "library(ggpmisc)\n",
        "formula<-y~x\n",
        "\n",
        "ggplot(test, aes(SOC,ridge.SOC$.pred)) +\n",
        "  geom_point() +\n",
        "  geom_smooth(method = \"lm\")+\n",
        "  stat_poly_eq(use_label(c(\"eq\", \"adj.R2\")), formula = formula) +\n",
        "  ggtitle(\"Ridge Regressin  with Grid Search \") +\n",
        "  xlab(\"Observed\") + ylab(\"Predicted\") +\n",
        "  scale_x_continuous(limits=c(0,25), breaks=seq(0, 25, 5))+\n",
        "  scale_y_continuous(limits=c(0,25), breaks=seq(0, 25, 5)) +\n",
        "  # Flip the bars\n",
        "  theme(\n",
        "    panel.background = element_rect(fill = \"grey95\",colour = \"gray75\",size = 0.5, linetype = \"solid\"),\n",
        "    axis.line = element_line(colour = \"grey\"),\n",
        "    plot.title = element_text(size = 14, hjust = 0.5),\n",
        "    axis.title.x = element_text(size = 14),\n",
        "    axis.title.y = element_text(size = 14),\n",
        "    axis.text.x=element_text(size=13, colour=\"black\"),\n",
        "    axis.text.y=element_text(size=13,angle = 90,vjust = 0.5, hjust=0.5, colour='black'))"
      ],
      "metadata": {
        "colab": {
          "base_uri": "https://localhost:8080/",
          "height": 514
        },
        "id": "3Xo8Rx1f4IJ-",
        "outputId": "c893f25b-9a2e-4668-bcff-c1b55337558a"
      },
      "execution_count": null,
      "outputs": [
        {
          "output_type": "stream",
          "name": "stdout",
          "text": [
            "`geom_smooth()` using formula = 'y ~ x'\n"
          ]
        },
        {
          "output_type": "display_data",
          "data": {
            "image/png": "[encoded data removed]"
          },
          "metadata": {}
        }
      ]
    },
    {
      "cell_type": "markdown",
      "source": [
        "## GLM with h20\n",
        "\n",
        "The h2o package provides an open-source implementation of GLM that is specifically designed for big data. To use the GLM function in h2o, you will need to first install and load the package in your R environment.\n",
        "\n",
        "H2O supports elastic net regularization, which is a combination of the l1 and l2 penalties parametrized by the alpha and lambda arguments.\n",
        "\n",
        "**alpha** controls the elastic net penalty distribution between the l1 and l2 norms. It can have any value in the [0; 1] range or a vector of values (which triggers grid search). If alpha = 0, H2O solves the GLM using ridge regression. If alpha = 1, the Lasso penalty is used.\n",
        "\n",
        "**lambda** controls the penalty strength. The range is any positive value or a vector of values (which triggers grid search).\n",
        "\n",
        "We will use Random Grid Search (RGS) to find the optimal parameters for  the GLM models. We employ  the K-fold cross validation method to determine the optimal hyper-parameters from a set of all possible hyper-parameter value combinations of alpha and lambda.\n",
        "\n",
        "We can view the results of the grid search by printing the grid object. We can use this information to select the best model based on its CV performance  and then use it to make predictions on new data."
      ],
      "metadata": {
        "id": "yumiGMS-4Rgi"
      }
    },
    {
      "cell_type": "markdown",
      "source": [
        "### Convert to factor"
      ],
      "metadata": {
        "id": "j5l5sXWl78vr"
      }
    },
    {
      "cell_type": "code",
      "source": [
        "%%R\n",
        "df$NLCD <- as.factor(df$NLCD)\n",
        "df$FRG <- as.factor(df$FRG)"
      ],
      "metadata": {
        "id": "dCq6s86k787Q"
      },
      "execution_count": null,
      "outputs": []
    },
    {
      "cell_type": "markdown",
      "source": [
        "### Data Split"
      ],
      "metadata": {
        "id": "KQyoKh764jQa"
      }
    },
    {
      "cell_type": "code",
      "source": [
        "%%R\n",
        "set.seed(1245)   # for reproducibility\n",
        "split.df <- initial_split(df, prop = 0.8, strata = SOC)\n",
        "train.df <- split.df %>% training()\n",
        "test.df <-  split.df %>% testing()"
      ],
      "metadata": {
        "id": "vu8_ADZ04jZQ"
      },
      "execution_count": null,
      "outputs": []
    },
    {
      "cell_type": "markdown",
      "source": [
        "### Load h2o"
      ],
      "metadata": {
        "id": "7NgL2JOp4tFa"
      }
    },
    {
      "cell_type": "code",
      "source": [
        "%%R\n",
        "library(h2o)\n",
        "h2o.init()\n",
        "#disable progress bar for RMarkdown\n",
        "h2o.no_progress()\n",
        "# Optional: remove anything from previous session\n",
        "h2o.removeAll()"
      ],
      "metadata": {
        "id": "nXBRBmMv4tPC"
      },
      "execution_count": null,
      "outputs": []
    },
    {
      "cell_type": "markdown",
      "source": [
        "### Import data into h2o cluster"
      ],
      "metadata": {
        "id": "U9VoAMD_41Ne"
      }
    },
    {
      "cell_type": "code",
      "source": [
        "%%R\n",
        "h_df=as.h2o(df)\n",
        "h_train = as.h2o(train.df)\n",
        "h_test = as.h2o(test.df)"
      ],
      "metadata": {
        "id": "pYwe9B_J41Vo"
      },
      "execution_count": null,
      "outputs": []
    },
    {
      "cell_type": "code",
      "source": [
        "%%R\n",
        "CV.xy<- as.data.frame(h_train)\n",
        "test.xy<- as.data.frame(h_test)"
      ],
      "metadata": {
        "id": "cZYJUJne5fKl"
      },
      "execution_count": null,
      "outputs": []
    },
    {
      "cell_type": "markdown",
      "source": [
        "### Define response and predictors"
      ],
      "metadata": {
        "id": "pyleQ6ei5jp5"
      }
    },
    {
      "cell_type": "code",
      "source": [
        "%%R\n",
        "y <- \"SOC\"\n",
        "x <- setdiff(names(h_df), y)"
      ],
      "metadata": {
        "id": "hJ_JILO65jxa"
      },
      "execution_count": null,
      "outputs": []
    },
    {
      "cell_type": "markdown",
      "source": [
        "### Grid Search for Hyperprameter\n",
        "\n",
        "We must find the optimal values of the alpha and lambda regularization parameters to get the best possible model. To find the optimal values, H2O provides grid search over alpha and lambda and a particular form of grid search called \"lambda search\" over lambda. For a detailed explanation, refer to Regularization. The recommended way to find optimal regularization settings on H2O is to do a grid search over a few alpha values with an automatic lambda search for each alpha.\n",
        "\n",
        "The alpha parameter controls the distribution between the l1 (Lasso) and l2 (Ridge regression) penalties. A value of 1.0 for alpha represents Lasso, and an alpha value of 0.0 produces ridge regression. The lambda parameter controls the amount of regularization applied. If lambda is 0.0, no regularization is applied and the alpha parameter is ignored. The default value for lambda is calculated by H2O using a heuristic based on the training data. If you let H2O calculate the value for lambda, you can see the chosen value in the model output."
      ],
      "metadata": {
        "id": "40cBHSNL5sDj"
      }
    },
    {
      "cell_type": "markdown",
      "source": [
        "To perform a hyperparameter grid search in h2o R, you can use the h2o.grid() function. This function takes a set of hyperparameters and their corresponding values, and trains and evaluates models with all possible combinations of those hyperparameters."
      ],
      "metadata": {
        "id": "Yosdswxx6i6y"
      }
    },
    {
      "cell_type": "code",
      "source": [
        "%%R\n",
        "# prameters\n",
        "glm_hyper_params <-list(\n",
        "             alpha = c(0,0.25,0.5,0.75,1),\n",
        "             lambda = c(1, 0.5, 0.1, 0.01, 0.001, 0.0001, 0.00001, 0))\n",
        "glm_grid <- h2o.grid(\n",
        "                  algorithm=\"glm\",\n",
        "                  grid_id = \"glm_grid_ID\",\n",
        "                  x= x,\n",
        "                  y = y,\n",
        "                  training_frame = h_train,\n",
        "                  standardize = TRUE,\n",
        "                  nfolds=10,\n",
        "                  keep_cross_validation_predictions = TRUE,\n",
        "                  hyper_params = glm_hyper_params,\n",
        "                  seed = 42)"
      ],
      "metadata": {
        "id": "L_QrW_5V5sLc"
      },
      "execution_count": null,
      "outputs": []
    },
    {
      "cell_type": "markdown",
      "source": [
        "### Grid parameters"
      ],
      "metadata": {
        "id": "pHnQakip7y1e"
      }
    },
    {
      "cell_type": "code",
      "source": [
        "%%R\n",
        "glm_get_grid <- h2o.getGrid(\"glm_grid_ID\",sort_by=\"RMSE\",decreasing=FALSE)\n",
        "glm_get_grid@summary_table[1,]\n",
        "# number of models\n",
        "length(glm_grid@model_ids)"
      ],
      "metadata": {
        "colab": {
          "base_uri": "https://localhost:8080/"
        },
        "id": "GPfbNOV97y8f",
        "outputId": "3cf0e38c-8fe0-4af8-9b11-ddc627bd10c8"
      },
      "execution_count": null,
      "outputs": [
        {
          "output_type": "stream",
          "name": "stdout",
          "text": [
            "[1] 40\n"
          ]
        }
      ]
    },
    {
      "cell_type": "markdown",
      "source": [
        "### The best GLM"
      ],
      "metadata": {
        "id": "pjRUD5ab8DNW"
      }
    },
    {
      "cell_type": "code",
      "source": [
        "%%R\n",
        "best_glm <- h2o.getModel(glm_get_grid@model_ids[[1]])\n",
        "summary(best_glm)"
      ],
      "metadata": {
        "colab": {
          "base_uri": "https://localhost:8080/"
        },
        "id": "hHBAVs5P8DVi",
        "outputId": "a475a1c2-b208-46df-bdd1-caaa0a797ee5"
      },
      "execution_count": null,
      "outputs": [
        {
          "output_type": "stream",
          "name": "stdout",
          "text": [
            "Model Details:\n",
            "==============\n",
            "\n",
            "H2ORegressionModel: glm\n",
            "Model Key:  glm_grid_ID_model_14 \n",
            "GLM Model: summary\n",
            "    family     link                            regularization\n",
            "1 gaussian identity Elastic Net (alpha = 0.75, lambda = 0.1 )\n",
            "  number_of_predictors_total number_of_active_predictors number_of_iterations\n",
            "1                          9                           7                    1\n",
            "       training_frame\n",
            "1 train.df_sid_83ee_3\n",
            "\n",
            "H2ORegressionMetrics: glm\n",
            "** Reported on training data. **\n",
            "\n",
            "MSE:  14.94673\n",
            "RMSE:  3.8661\n",
            "MAE:  2.709148\n",
            "RMSLE:  0.4947271\n",
            "Mean Residual Deviance :  14.94673\n",
            "R^2 :  0.4037181\n",
            "Null Deviance :9299.692\n",
            "Null D.o.F. :370\n",
            "Residual Deviance :5545.238\n",
            "Residual D.o.F. :363\n",
            "AIC :2074.219\n",
            "\n",
            "\n",
            "\n",
            "H2ORegressionMetrics: glm\n",
            "** Reported on cross-validation data. **\n",
            "** 10-fold cross-validation on training data (Metrics computed for combined holdout predictions) **\n",
            "\n",
            "MSE:  15.89779\n",
            "RMSE:  3.987203\n",
            "MAE:  2.784915\n",
            "RMSLE:  0.5055076\n",
            "Mean Residual Deviance :  15.89779\n",
            "R^2 :  0.3657768\n",
            "Null Deviance :9353.5\n",
            "Null D.o.F. :370\n",
            "Residual Deviance :5898.08\n",
            "Residual D.o.F. :363\n",
            "AIC :2097.105\n",
            "\n",
            "\n",
            "Cross-Validation Metrics Summary: \n",
            "                             mean         sd cv_1_valid  cv_2_valid cv_3_valid\n",
            "mae                      2.796968   0.545378   2.282536    2.830629   3.507456\n",
            "mean_residual_deviance  15.874402   5.622195  12.089437   15.867692  22.894457\n",
            "mse                     15.874402   5.622195  12.089437   15.867692  22.894457\n",
            "null_deviance          935.350000 347.376740 653.781400 1423.715800 719.756200\n",
            "r2                       0.337318   0.155925   0.199472    0.389240   0.067977\n",
            "residual_deviance      589.808000 240.119050 471.488000  840.987700 663.939300\n",
            "rmse                     3.932327   0.675942   3.476987    3.983427   4.784815\n",
            "rmsle                    0.502568   0.074271   0.493774    0.535939   0.615127\n",
            "                       cv_4_valid  cv_5_valid cv_6_valid  cv_7_valid\n",
            "mae                      2.890813    2.587336   2.284633    3.411604\n",
            "mean_residual_deviance  16.897390   14.494819  10.009520   15.903203\n",
            "mse                     16.897390   14.494819  10.009520   15.903203\n",
            "null_deviance          874.229250 1055.323900 485.732200 1076.116000\n",
            "r2                       0.338503    0.362547   0.348898    0.540640\n",
            "residual_deviance      557.613900  652.266850 310.295100  492.999270\n",
            "rmse                     4.110643    3.807206   3.163782    3.987882\n",
            "rmsle                    0.535847    0.446076   0.428237    0.591020\n",
            "                        cv_8_valid cv_9_valid cv_10_valid\n",
            "mae                       3.584229   2.507442    2.083003\n",
            "mean_residual_deviance   27.585480  13.516527    9.485494\n",
            "mse                      27.585480  13.516527    9.485494\n",
            "null_deviance          1556.020800 629.988040  878.836500\n",
            "r2                        0.282472   0.241153    0.602279\n",
            "residual_deviance      1103.419200 473.078430  331.992280\n",
            "rmse                      5.252188   3.676483    3.079853\n",
            "rmsle                     0.548825   0.435499    0.395334\n",
            "\n",
            "Scoring History: \n",
            "            timestamp   duration iterations negative_log_likelihood objective\n",
            "1 2023-07-26 20:40:30  0.000 sec          0              9299.69196  25.06656\n",
            "2 2023-07-26 20:40:30  0.002 sec          1                      NA        NA\n",
            "  training_rmse training_deviance training_mae training_r2\n",
            "1            NA                NA           NA          NA\n",
            "2       3.86610          14.94673      2.70915     0.40372\n",
            "\n",
            "Variable Importances: (Extract with `h2o.varimp`) \n",
            "=================================================\n",
            "\n",
            "Variable Importances: \n",
            "  variable relative_importance scaled_importance percentage\n",
            "1     NDVI            1.469057          1.000000   0.326869\n",
            "2      MAP            0.960991          0.654155   0.213823\n",
            "3      MAT            0.929065          0.632423   0.206719\n",
            "4    Slope            0.742492          0.505421   0.165206\n",
            "5 SiltClay            0.314929          0.214375   0.070073\n",
            "6      TPI            0.073287          0.049887   0.016306\n",
            "7  KFactor            0.004513          0.003072   0.001004\n",
            "8      DEM            0.000000          0.000000   0.000000\n",
            "9   Aspect            0.000000          0.000000   0.000000\n"
          ]
        }
      ]
    },
    {
      "cell_type": "markdown",
      "source": [
        "### Model Performance"
      ],
      "metadata": {
        "id": "48dj5kRS8bSi"
      }
    },
    {
      "cell_type": "code",
      "source": [
        "%%R\n",
        "# training\n",
        " h2o.performance(best_glm, h_train)\n"
      ],
      "metadata": {
        "colab": {
          "base_uri": "https://localhost:8080/"
        },
        "id": "7G7qnH9p8bXn",
        "outputId": "24f433f6-047a-4eea-d275-af9844e8f22f"
      },
      "execution_count": null,
      "outputs": [
        {
          "output_type": "stream",
          "name": "stdout",
          "text": [
            "H2ORegressionMetrics: glm\n",
            "\n",
            "MSE:  14.94673\n",
            "RMSE:  3.8661\n",
            "MAE:  2.709148\n",
            "RMSLE:  0.4947271\n",
            "Mean Residual Deviance :  14.94673\n",
            "R^2 :  0.4037181\n",
            "Null Deviance :9299.692\n",
            "Null D.o.F. :370\n",
            "Residual Deviance :5545.238\n",
            "Residual D.o.F. :363\n",
            "AIC :2074.219\n",
            "\n"
          ]
        }
      ]
    },
    {
      "cell_type": "code",
      "source": [
        "%%R\n",
        "# CV - prediction\n",
        "pred.cv<-as.data.frame(h2o.getFrame(best_glm@model[[\"cross_validation_holdout_predictions_frame_id\"]][[\"name\"]]))\n",
        "# Get CV predicted values\n",
        "CV.xy$SOC.pred<-pred.cv$predict\n",
        "# load Metrics package\n",
        "library(Metrics)\n",
        "# Get several Metrics\n",
        "cv.lm<-lm(SOC ~ SOC.pred, CV.xy)\n",
        "cv.matrics <- cbind(\"RMSE\"=rmse(CV.xy$SOC, CV.xy$SOC.pred),\n",
        "              \"MAE\"=mae(CV.xy$SOC, CV.xy$SOC.pred),\n",
        "              \"Bias\"=bias(CV.xy$SOC, CV.xy$SOC.pred),\n",
        "              \"MSE\"= mse(CV.xy$SOC, CV.xy$SOC.pred),\n",
        "              \"MDAE\"=mdae(CV.xy$SOC, CV.xy$SOC.pred),\n",
        "               \"R2\"= summary(cv.lm)$r.squared\n",
        "                  )\n",
        "cv.matrics"
      ],
      "metadata": {
        "colab": {
          "base_uri": "https://localhost:8080/"
        },
        "id": "QFMsft4N8qKI",
        "outputId": "3869bbe5-949c-497e-b0c4-a5a4648e196d"
      },
      "execution_count": null,
      "outputs": [
        {
          "output_type": "stream",
          "name": "stdout",
          "text": [
            "         RMSE      MAE       Bias      MSE     MDAE        R2\n",
            "[1,] 3.987203 2.784915 -0.0145531 15.89779 1.878295 0.3657911\n"
          ]
        }
      ]
    },
    {
      "cell_type": "code",
      "source": [
        "%%R\n",
        "# test performance\n",
        "h2o.performance(best_glm, h_test)\n",
        "\n",
        "\n"
      ],
      "metadata": {
        "colab": {
          "base_uri": "https://localhost:8080/"
        },
        "id": "g4QFIvhf8yrD",
        "outputId": "25008ae2-7f26-4796-bb39-64a26eff24a6"
      },
      "execution_count": null,
      "outputs": [
        {
          "output_type": "stream",
          "name": "stdout",
          "text": [
            "H2ORegressionMetrics: glm\n",
            "\n",
            "MSE:  11.98074\n",
            "RMSE:  3.46132\n",
            "MAE:  2.591632\n",
            "RMSLE:  0.4980717\n",
            "Mean Residual Deviance :  11.98074\n",
            "R^2 :  0.551004\n",
            "Null Deviance :2563.204\n",
            "Null D.o.F. :95\n",
            "Residual Deviance :1150.151\n",
            "Residual D.o.F. :88\n",
            "AIC :528.833\n",
            "\n"
          ]
        }
      ]
    },
    {
      "cell_type": "markdown",
      "source": [
        "### Prediction"
      ],
      "metadata": {
        "id": "AoBKNguM9AUx"
      }
    },
    {
      "cell_type": "code",
      "source": [
        "%%R\n",
        "test.pred<-as.data.frame(h2o.predict(object = best_glm,newdata = h_test))\n",
        "\n",
        "test.xy$SOC.pred<-test.pred$predict\n",
        "test.lm<-lm(SOC ~ SOC.pred, test.xy)\n",
        "test.matrics <- cbind(\"RMSE\"=rmse(test.xy$SOC, test.xy$SOC.pred),\n",
        "              \"MAE\"=mae(test.xy$SOC, test.xy$SOC.pred),\n",
        "              \"Bias\"=bias(test.xy$SOC, test.xy$SOC.pred),\n",
        "              \"MSE\"= mse(test.xy$SOC, test.xy$SOC.pred),\n",
        "              \"MDAE\"=mdae(test.xy$SOC, CV.xy$SOC.pred),\n",
        "              \"R2\"= summary(test.lm)$r.squared\n",
        "              )\n",
        "test.matrics"
      ],
      "metadata": {
        "colab": {
          "base_uri": "https://localhost:8080/"
        },
        "id": "Il4g_lj39AdW",
        "outputId": "3e41ec10-970a-4849-90ab-ae1f5b9e8e67"
      },
      "execution_count": null,
      "outputs": [
        {
          "output_type": "stream",
          "name": "stdout",
          "text": [
            "        RMSE      MAE        Bias      MSE     MDAE        R2\n",
            "[1,] 3.46132 2.591632 -0.02500417 11.98074 3.418814 0.5748404\n"
          ]
        }
      ]
    },
    {
      "cell_type": "code",
      "source": [
        "%%R\n",
        "library(ggpmisc)\n",
        "formula<-y~x\n",
        "\n",
        "ggplot(test.xy, aes(SOC,SOC.pred)) +\n",
        "  geom_point() +\n",
        "  geom_smooth(method = \"lm\")+\n",
        "  stat_poly_eq(use_label(c(\"eq\", \"adj.R2\")), formula = formula) +\n",
        "  ggtitle(\"H2O: Observed vs Predicted SOC \") +\n",
        "  xlab(\"Observed\") + ylab(\"Predicted\") +\n",
        "  scale_x_continuous(limits=c(0,25), breaks=seq(0, 25, 5))+\n",
        "  scale_y_continuous(limits=c(0,25), breaks=seq(0, 25, 5)) +\n",
        "  # Flip the bars\n",
        "  theme(\n",
        "    panel.background = element_rect(fill = \"grey95\",colour = \"gray75\",size = 0.5, linetype = \"solid\"),\n",
        "    axis.line = element_line(colour = \"grey\"),\n",
        "    plot.title = element_text(size = 14, hjust = 0.5),\n",
        "    axis.title.x = element_text(size = 14),\n",
        "    axis.title.y = element_text(size = 14),\n",
        "    axis.text.x=element_text(size=13, colour=\"black\"),\n",
        "    axis.text.y=element_text(size=13,angle = 90,vjust = 0.5, hjust=0.5, colour='black'))"
      ],
      "metadata": {
        "colab": {
          "base_uri": "https://localhost:8080/",
          "height": 514
        },
        "id": "e_IiKkP79K9u",
        "outputId": "14fd884f-61c7-48af-b196-365680ff6755"
      },
      "execution_count": null,
      "outputs": [
        {
          "output_type": "stream",
          "name": "stdout",
          "text": [
            "`geom_smooth()` using formula = 'y ~ x'\n"
          ]
        },
        {
          "output_type": "display_data",
          "data": {
            "image/png": "[encoded data removed]"
          },
          "metadata": {}
        }
      ]
    },
    {
      "cell_type": "markdown",
      "source": [
        "### Variable Importnace\n",
        "\n",
        "Variable importance in GLM regression model represents the coefficient magnitudes. The standardized coefficients are returned if the standardize option is enabled (which is the default). These are the predictor weights of the standardized data and are included only for informational purposes like comparing the relative variable importance."
      ],
      "metadata": {
        "id": "KosCc_n29TU1"
      }
    },
    {
      "cell_type": "code",
      "source": [
        "%%R\n",
        "h2o.varimp(best_glm)"
      ],
      "metadata": {
        "colab": {
          "base_uri": "https://localhost:8080/"
        },
        "id": "uP2lwsq89VY2",
        "outputId": "16870e45-9236-4f96-92ae-598f31bcd6c3"
      },
      "execution_count": null,
      "outputs": [
        {
          "output_type": "stream",
          "name": "stdout",
          "text": [
            "Variable Importances: \n",
            "  variable relative_importance scaled_importance percentage\n",
            "1     NDVI            1.469057          1.000000   0.326869\n",
            "2      MAP            0.960991          0.654155   0.213823\n",
            "3      MAT            0.929065          0.632423   0.206719\n",
            "4    Slope            0.742492          0.505421   0.165206\n",
            "5 SiltClay            0.314929          0.214375   0.070073\n",
            "6      TPI            0.073287          0.049887   0.016306\n",
            "7  KFactor            0.004513          0.003072   0.001004\n",
            "8      DEM            0.000000          0.000000   0.000000\n",
            "9   Aspect            0.000000          0.000000   0.000000\n"
          ]
        }
      ]
    },
    {
      "cell_type": "markdown",
      "source": [
        "To plot variable importance for the model, we use the h2o.varimp_plot() function and pass the trained model as an argument. The function generates a bar plot of the relative importance of each input variable, sorted in descending order by importance.\n",
        "\n",
        "The h2o.varimp_plot() function also has several optional arguments that you can use to customize the appearance of the plot, such as num_of_features to limit the number of features displayed on the plot, title to set a title for the plot, and col to set the color of the bars."
      ],
      "metadata": {
        "id": "itJEoeEf9b2c"
      }
    },
    {
      "cell_type": "code",
      "source": [
        "%%R\n",
        "h2o.varimp_plot(best_glm)"
      ],
      "metadata": {
        "colab": {
          "base_uri": "https://localhost:8080/",
          "height": 497
        },
        "id": "GhiFW5VX9cv0",
        "outputId": "8e3d0632-6018-44b3-e40d-034a8e6b5bca"
      },
      "execution_count": null,
      "outputs": [
        {
          "output_type": "display_data",
          "data": {
            "image/png": "[encoded data removed]"
          },
          "metadata": {}
        }
      ]
    },
    {
      "cell_type": "markdown",
      "source": [
        "### Further Reading\n",
        "\n",
        "1. [Linear Model Selection and Regularization](https://emilhvitfeldt.github.io/ISLR-tidymodels-labs/06-regularization.html)\n",
        "\n",
        "2. [Grid Search H20](https://docs.h2o.ai/h2o/latest-stable/h2o-docs/grid-search.html)\n",
        "\n",
        "3. [H20 variable importance](https://docs.h2o.ai/h2o/latest-stable/h2o-docs/variable-importance.html)\n",
        "\n",
        "\n",
        "###  YouTube Video\n",
        "\n",
        "1. Regularization Part 1: Ridge (L2) Regression\n",
        "\n",
        "{{< video https://www.youtube.com/watch?v=Q81RR3yKn30 >}}\n",
        "\n",
        "Source: [StatQuest with Josh Starme](https://www.youtube.com/@statquest)\n",
        "\n",
        "2. Regularization Part 2: Lasso (L1) Regression\n",
        "\n",
        "{{< video https://www.youtube.com/watch?v=Q81RR3yKn30 >}}\n",
        "\n",
        "Source: [StatQuest with Josh Starme](https://www.youtube.com/@statquest)"
      ],
      "metadata": {
        "id": "rUHrNY9J9lMg"
      }
    }
  ]
}