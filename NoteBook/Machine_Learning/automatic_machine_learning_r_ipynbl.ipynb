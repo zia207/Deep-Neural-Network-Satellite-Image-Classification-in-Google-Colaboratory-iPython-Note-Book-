{
  "nbformat": 4,
  "nbformat_minor": 0,
  "metadata": {
    "colab": {
      "provenance": [],
      "authorship_tag": "ABX9TyMFI1VEEVeMkAndGS6Mi9VC",
      "include_colab_link": true
    },
    "kernelspec": {
      "name": "python3",
      "display_name": "Python 3"
    },
    "language_info": {
      "name": "python"
    }
  },
  "cells": [
    {
      "cell_type": "markdown",
      "metadata": {
        "id": "view-in-github",
        "colab_type": "text"
      },
      "source": [
        "<a href=\"https://colab.research.google.com/github/zia207/Deep-Neural-Network-Satellite-Image-Classification-in-Google-Colaboratory-iPython-Note-Book-/blob/master/NoteBook/Machine_Learning/automatic_machine_learning_r_ipynbl.ipynb\" target=\"_parent\"><img src=\"https://colab.research.google.com/assets/colab-badge.svg\" alt=\"Open In Colab\"/></a>"
      ]
    },
    {
      "cell_type": "markdown",
      "source": [
        "#  **Automatic Machine Learning (AutoML) in R**\n",
        "\n",
        "Zia Ahmed, University at Buffalo, NY"
      ],
      "metadata": {
        "id": "ug5LKfFU8Qq4"
      }
    },
    {
      "cell_type": "markdown",
      "source": [
        "Automatic Machine Learning, often abbreviated as AutoML, is a comprehensive approach to streamline and automate the process of building and deploying machine learning models. It aims to make machine learning more accessible to individuals and organizations with varying levels of expertise in data science and machine learning.\n",
        "\n",
        "Key characteristics of Automatic Machine Learning include:\n",
        "\n",
        "1. **Automation of Model Selection**: AutoML platforms automatically select the most appropriate machine learning algorithms and model architectures for a given dataset. This helps in eliminating the need for manual model selection, which can be a time-consuming and error-prone task.\n",
        "\n",
        "2. **Hyperparameter Optimization**: AutoML tools search for the best hyperparameters for a chosen model, helping improve its performance. This involves tuning parameters like learning rates, batch sizes, and regularization terms to achieve optimal results.\n",
        "\n",
        "3. **Feature Engineering**: AutoML can automate the process of feature selection and engineering, identifying relevant features from the dataset and transforming them to improve model accuracy.\n",
        "\n",
        "4. **Data Preprocessing**: Automatic Machine Learning tools handle data preprocessing tasks, such as handling missing values, encoding categorical variables, and scaling numerical features, making the data ready for model training.\n",
        "\n",
        "5. **Model Evaluation**: AutoML systems automatically evaluate and compare the performance of different models, using appropriate metrics like accuracy, precision, recall, and F1 score. This helps users identify the best model for their specific problem.\n",
        "\n",
        "6. **AutoML Frameworks**: There are various AutoML frameworks and libraries available, both open-source and commercial, that enable users to implement automatic machine learning pipelines without extensive manual coding.\n",
        "\n",
        "7. **Time and Resource Efficiency**: AutoML simplifies and accelerates the process of creating machine learning models, making it feasible to generate models more quickly and with fewer resources, thus reducing the barrier to entry for machine learning adoption.\n",
        "\n",
        "8. **Customization and Expert Intervention**: While AutoML automates many aspects of model development, it often allows experts to fine-tune the process or make manual adjustments when necessary, striking a balance between automation and human expertise.\n",
        "\n",
        "9. **Scalability**: AutoML can be scaled to work with large datasets and complex problems, making it a valuable tool for organizations dealing with big data.\n",
        "\n",
        "AutoML is particularly valuable in democratizing machine learning, enabling businesses and individuals without extensive machine learning expertise to leverage the power of data-driven insights and predictive modeling. It is commonly used in a wide range of applications, including image and speech recognition, natural language processing, predictive analytics, and more.\n",
        "\n",
        "H2O's AutoML can be used for automating the machine learning workflow, which includes automatic training and tuning of many models within a user-specified time-limit.\n",
        "\n",
        "H2O offers a number of model explainability methods that apply to AutoML objects (groups of models), as well as individual models (e.g. leader model). Explanations can be generated automatically with a single function call, providing a simple interface to exploring and explaining the AutoML models.\n",
        "\n",
        "In this excercise we will cover:\n",
        "\n",
        "1. [AutoML with H2O](#automl-with-h2o)\n",
        "\n",
        "2. [AutoML H2O with tidymodel](automl-tidymodel)\n"
      ],
      "metadata": {
        "id": "Z8AKCA988buS"
      }
    },
    {
      "cell_type": "markdown",
      "source": [
        "### Install rpy2\n",
        "\n"
      ],
      "metadata": {
        "id": "0uPtsm7g80aL"
      }
    },
    {
      "cell_type": "code",
      "source": [
        "!pip uninstall rpy2 -y\n",
        "!pip install rpy2==3.5.1\n",
        "%load_ext rpy2.ipython"
      ],
      "metadata": {
        "colab": {
          "base_uri": "https://localhost:8080/",
          "height": 391
        },
        "id": "oJTATvcx8tZy",
        "outputId": "a1959c03-b445-46c9-997c-3ac16fa87007"
      },
      "execution_count": null,
      "outputs": [
        {
          "output_type": "stream",
          "name": "stdout",
          "text": [
            "Found existing installation: rpy2 3.5.1\n",
            "Uninstalling rpy2-3.5.1:\n",
            "  Successfully uninstalled rpy2-3.5.1\n",
            "Collecting rpy2==3.5.1\n",
            "  Using cached rpy2-3.5.1-cp310-cp310-linux_x86_64.whl\n",
            "Requirement already satisfied: cffi>=1.10.0 in /usr/local/lib/python3.10/dist-packages (from rpy2==3.5.1) (1.16.0)\n",
            "Requirement already satisfied: jinja2 in /usr/local/lib/python3.10/dist-packages (from rpy2==3.5.1) (3.1.2)\n",
            "Requirement already satisfied: pytz in /usr/local/lib/python3.10/dist-packages (from rpy2==3.5.1) (2023.3.post1)\n",
            "Requirement already satisfied: tzlocal in /usr/local/lib/python3.10/dist-packages (from rpy2==3.5.1) (5.1)\n",
            "Requirement already satisfied: pycparser in /usr/local/lib/python3.10/dist-packages (from cffi>=1.10.0->rpy2==3.5.1) (2.21)\n",
            "Requirement already satisfied: MarkupSafe>=2.0 in /usr/local/lib/python3.10/dist-packages (from jinja2->rpy2==3.5.1) (2.1.3)\n",
            "Installing collected packages: rpy2\n",
            "Successfully installed rpy2-3.5.1\n"
          ]
        },
        {
          "output_type": "display_data",
          "data": {
            "application/vnd.colab-display-data+json": {
              "pip_warning": {
                "packages": [
                  "_rinterface_cffi_api",
                  "rpy2"
                ]
              }
            }
          },
          "metadata": {}
        },
        {
          "output_type": "stream",
          "name": "stdout",
          "text": [
            "The rpy2.ipython extension is already loaded. To reload it, use:\n",
            "  %reload_ext rpy2.ipython\n"
          ]
        }
      ]
    },
    {
      "cell_type": "markdown",
      "source": [
        "### Mount Google Drive"
      ],
      "metadata": {
        "id": "V1V6VqhQLObp"
      }
    },
    {
      "cell_type": "code",
      "source": [
        "from google.colab import drive\n",
        "drive.mount('/content/drive')"
      ],
      "metadata": {
        "colab": {
          "base_uri": "https://localhost:8080/"
        },
        "id": "I-FaCHlALOjG",
        "outputId": "9b30e03d-86b6-4ab1-d74b-a1e6aa2d3ec6"
      },
      "execution_count": null,
      "outputs": [
        {
          "output_type": "stream",
          "name": "stdout",
          "text": [
            "Drive already mounted at /content/drive; to attempt to forcibly remount, call drive.mount(\"/content/drive\", force_remount=True).\n"
          ]
        }
      ]
    },
    {
      "cell_type": "markdown",
      "source": [
        "### Check and Install Required R Packages"
      ],
      "metadata": {
        "id": "fqpB8UOt9Fi5"
      }
    },
    {
      "cell_type": "code",
      "source": [
        "%%R\n",
        "pkg <- c('tidyverse','tidymodels', 'gridExtra', 'devtools', 'data.table', 'Hmisc','corrplot',\n",
        "        'ggpmisc', 'plyr', 'Metrics','patchwork' )\n",
        "new.packages <- pkg[!(pkg %in% installed.packages(lib='drive/My Drive/R/')[,\"Package\"])]\n",
        "if(length(new.packages)) install.packages(new.packages, lib='drive/My Drive/R/')"
      ],
      "metadata": {
        "id": "-dCxzZO69Fq8"
      },
      "execution_count": null,
      "outputs": []
    },
    {
      "cell_type": "markdown",
      "source": [
        "### Install H2O"
      ],
      "metadata": {
        "id": "vqaAtHl1QBFM"
      }
    },
    {
      "cell_type": "code",
      "source": [
        "%%R\n",
        "pkgs <- c(\"RCurl\",\"jsonlite\")\n",
        "for (pkg in pkgs) {\n",
        "  if (! (pkg %in% rownames(installed.packages(lib='drive/My Drive/R/')))) { install.packages(pkg) }\n",
        "}\n",
        "install.packages(\"h2o\", type=\"source\",lib='drive/My Drive/R/', repos=(c(\"http://h2o-release.s3.amazonaws.com/h2o/latest_stable_R\")))"
      ],
      "metadata": {
        "id": "m_lVeV1CR0nN"
      },
      "execution_count": null,
      "outputs": []
    },
    {
      "cell_type": "code",
      "source": [
        "%%R\n",
        "install.packages(\"agua\", type=\"source\",lib='drive/My Drive/R/')"
      ],
      "metadata": {
        "id": "g9uNN-mUw8C8"
      },
      "execution_count": null,
      "outputs": []
    },
    {
      "cell_type": "markdown",
      "source": [
        "### Load R Packages"
      ],
      "metadata": {
        "id": "dS7Et08UQOuz"
      }
    },
    {
      "cell_type": "code",
      "source": [
        "%%R\n",
        "# set library path\n",
        ".libPaths('drive/My Drive/R')\n",
        "library(tidyverse)\n",
        "library(tidymodels)\n",
        "library(Metrics)\n",
        "library(ggpmisc)\n",
        "library(vip)\n",
        "library(gridExtra)\n",
        "library(agua)"
      ],
      "metadata": {
        "id": "R48Iczf7QNrQ"
      },
      "execution_count": null,
      "outputs": []
    },
    {
      "cell_type": "markdown",
      "source": [
        "### Data\n",
        "\n",
        "The data use in this excersise could be found in my [Dropbox](https://www.dropbox.com/scl/fo/6cswerwra1k7qs6fzxieq/h?rlkey=6kqt1ztnkgrdt7cjmaqfkd7fd&dl=0) or [Github](https://github.com/zia207/r-colab/tree/main/Data/Machine_Learning) folder. Or you can load in directly in R using following comand.  "
      ],
      "metadata": {
        "id": "uJdW40159Gik"
      }
    },
    {
      "cell_type": "code",
      "source": [
        "%%R\n",
        "urlfile = \"https://github.com//zia207/r-colab/raw/main/Data/Machine_Learning/GP_all_data.csv\"\n",
        "mf<-read_csv(url(urlfile))\n",
        "#mf<-read_csv(\"/content/drive/MyDrive/R_Website/Machine_Learning/Data/gp_soil_data_syn.csv\")"
      ],
      "metadata": {
        "colab": {
          "base_uri": "https://localhost:8080/"
        },
        "id": "HlKb4RZ69Gq1",
        "outputId": "9c248a47-7437-47bc-f1b8-3a64be52e744"
      },
      "execution_count": 129,
      "outputs": [
        {
          "output_type": "stream",
          "name": "stdout",
          "text": [
            "Rows: 471 Columns: 21\n",
            "── Column specification ────────────────────────────────────────────────────────\n",
            "Delimiter: \",\"\n",
            "chr  (4): STATE, COUNTY, NLCD_DES, FRG_DES\n",
            "dbl (17): ID, STATE_ID, FIPS, x, y, SOC, ELEV, Aspect, Slope, TPI, K_Factor,...\n",
            "\n",
            "ℹ Use `spec()` to retrieve the full column specification for this data.\n",
            "ℹ Specify the column types or set `show_col_types = FALSE` to quiet this message.\n"
          ]
        }
      ]
    },
    {
      "cell_type": "code",
      "source": [
        "%%R\n",
        "# Create a data-frame\n",
        "df<-mf %>% dplyr::select(SOC, ELEV, Slope, Aspect, TPI, K_Factor, Silt_Clay, MAT, MAP,NDVI, NLCD, FRG)%>%\n",
        "    glimpse()"
      ],
      "metadata": {
        "colab": {
          "base_uri": "https://localhost:8080/"
        },
        "id": "UjwzGPdjXZUG",
        "outputId": "c80672ef-a79b-4fcc-945e-248e2a405844"
      },
      "execution_count": null,
      "outputs": [
        {
          "output_type": "stream",
          "name": "stdout",
          "text": [
            "Rows: 471\n",
            "Columns: 12\n",
            "$ SOC       <dbl> 7.256, 4.594, 5.995, 11.220, 5.388, 1.619, 3.842, 10.276, 0.…\n",
            "$ ELEV      <dbl> 272.6797, 2261.7820, 2404.1121, 2281.4246, 277.6634, 2317.49…\n",
            "$ Slope     <dbl> 1.429968, 4.874323, 6.680480, 7.745950, 2.923675, 2.635038, …\n",
            "$ Aspect    <dbl> 185.0404, 222.3785, 183.5729, 173.1285, 168.1043, 193.8056, …\n",
            "$ TPI       <dbl> 1.0744587, -1.4409482, 7.7656183, -3.2823703, -0.4226714, -1…\n",
            "$ K_Factor  <dbl> 0.3255294, 0.2486000, 0.0590000, 0.2847475, 0.3750685, 0.249…\n",
            "$ Silt_Clay <dbl> 77.16470, 40.66200, 53.73600, 46.83738, 62.83973, 38.42100, …\n",
            "$ MAT       <dbl> 13.748117, 8.162200, 6.890750, 8.533788, 14.152466, 8.189600…\n",
            "$ MAP       <dbl> 1099.3408, 410.5008, 568.7746, 391.4978, 1013.7034, 368.2008…\n",
            "$ NDVI      <dbl> 0.6943141, 0.3705533, 0.6434158, 0.3530265, 0.7292835, 0.283…\n",
            "$ NLCD      <dbl> 7, 4, 4, 4, 6, 5, 4, 4, 5, 4, 4, 6, 4, 4, 4, 5, 4, 5, 4, 5, …\n",
            "$ FRG       <dbl> 1, 1, 1, 1, 1, 1, 1, 1, 1, 1, 1, 1, 1, 1, 1, 1, 1, 1, 1, 2, …\n"
          ]
        }
      ]
    },
    {
      "cell_type": "markdown",
      "source": [
        "### Data Preprocessing"
      ],
      "metadata": {
        "id": "PscpXjQx9cv0"
      }
    },
    {
      "cell_type": "markdown",
      "source": [
        "#### Convert to factor"
      ],
      "metadata": {
        "id": "DdfRIAOU9k1x"
      }
    },
    {
      "cell_type": "code",
      "source": [
        "%%R\n",
        "df$NLCD <- as.factor(df$NLCD)\n",
        "df$FRG <- as.factor(df$FRG)"
      ],
      "metadata": {
        "id": "rW1O8HKE9tJ4"
      },
      "execution_count": null,
      "outputs": []
    },
    {
      "cell_type": "markdown",
      "source": [
        "#### Data Split"
      ],
      "metadata": {
        "id": "rniICP-49olo"
      }
    },
    {
      "cell_type": "code",
      "source": [
        "%%R\n",
        "set.seed(1245)   # for reproducibility\n",
        "split_01 <- initial_split(df, prop = 0.8, strata = SOC)\n",
        "train <- split_01 %>% training()\n",
        "test <-  split_01 %>% testing()"
      ],
      "metadata": {
        "id": "3BxXbYgM94N0"
      },
      "execution_count": null,
      "outputs": []
    },
    {
      "cell_type": "code",
      "source": [
        "%%R\n",
        "head(test)"
      ],
      "metadata": {
        "colab": {
          "base_uri": "https://localhost:8080/"
        },
        "id": "hAQ--WlYuBFE",
        "outputId": "458f69c3-cd5e-4456-cdfa-57a8fa272c23"
      },
      "execution_count": null,
      "outputs": [
        {
          "output_type": "stream",
          "name": "stdout",
          "text": [
            "# A tibble: 6 × 12\n",
            "    SOC  ELEV Slope Aspect      TPI K_Factor Silt_Clay   MAT   MAP  NDVI NLCD \n",
            "  <dbl> <dbl> <dbl>  <dbl>    <dbl>    <dbl>     <dbl> <dbl> <dbl> <dbl> <fct>\n",
            "1 6.00  2404.  6.68   184.  7.77       0.059      53.7  6.89  569. 0.643 4    \n",
            "2 7.60  2515.  6.60   165.  2.94       0.235      54.6  7.41  531. 0.537 4    \n",
            "3 3.78  2328. 10.5    220.  0.551      0.117      53.3  7.08  509. 0.574 4    \n",
            "4 6.5   1486.  1.62   141. -0.579      0.320      48.0  6.98  325. 0.322 5    \n",
            "5 0.471 1258.  2.61   154. -0.00829    0.208      61.9 14.7   347. 0.210 5    \n",
            "6 9.45  1691.  3.97   141.  1.78       0.313      40.1  7.47  353. 0.362 6    \n",
            "# ℹ 1 more variable: FRG <fct>\n"
          ]
        }
      ]
    },
    {
      "cell_type": "markdown",
      "source": [
        "#### Data Scaling"
      ],
      "metadata": {
        "id": "VmcA62Gv-ATM"
      }
    },
    {
      "cell_type": "markdown",
      "source": [],
      "metadata": {
        "id": "q5hHjkP37SCQ"
      }
    },
    {
      "cell_type": "code",
      "source": [
        "%%R\n",
        "train[-c(1,11,12)] = scale(train[-c(1,11,12)])\n",
        "test[-c(1,11,12)] = scale(test[-c(1,11,12)])"
      ],
      "metadata": {
        "id": "LZLLDpdb-AfM"
      },
      "execution_count": null,
      "outputs": []
    },
    {
      "cell_type": "markdown",
      "source": [
        "<a name=\"automl-with-h2o\"></a>\n",
        "## **AutoML with H2O**\n",
        "\n",
        "H2O AutoML is designed to simplify and automate the machine learning model development process, making it accessible to a wide range of users, including data scientists, analysts, and domain experts.\n",
        "\n",
        "H2O AutoML Trains and tunes several ML models, such as a generalized linear model (GLM), distributed random forest (DRF), extremely randomized tree (XRT), gradient boosting machine (GBM), extreme gradient boosting machine (XGBoost), and deep neural network (DNN). The GLM, DRF, and XRT are trained with pre-specified hyperparameter tuning settings. GBM, XGboost, and DNN are trained with pre-specified and random grid search with all possible hyperparameter combinations. The cross-validation predicted outputs of all based models are then trained with two stacked ensemble models at the end. One ensemble contains all randommodels, and the other includes just the best-performing model from each algorithm class.\n",
        "\n",
        "H2O offers several model explainability methods that apply to AutoML objects (groups of models), as well as individual models (e.g., leader model). Explanations can be generated automatically with a single function call, providing a simple interface for exploring and explaining the AutoML models.\n",
        "\n",
        "#### **Required Data Parameters**\n",
        "\n",
        "-   [y](https://docs.h2o.ai/h2o/latest-stable/h2o-docs/data-science/algo-params/y.html): This argument is the name (or index) of the response column.\n",
        "\n",
        "-   [training_frame](https://docs.h2o.ai/h2o/latest-stable/h2o-docs/data-science/algo-params/training_frame.html): Specifies the training set.\n",
        "\n",
        "#### **Required Stopping Parameters**\n",
        "\n",
        "One of the following stopping strategies (time or number-of-model based) must be specified. When both options are set, then the AutoML run will stop as soon as it hits one of either When both options are set, then the AutoML run will stop as soon as it hits either of these limits.\n",
        "\n",
        "-   [max_runtime_secs](https://docs.h2o.ai/h2o/latest-stable/h2o-docs/data-science/algo-params/max_runtime_secs.html): This argument specifies the maximum time that the AutoML process will run for. The default is 0 (no limit), but dynamically sets to 1 hour if none of `max_runtime_secs` and `max_models` are specified by the user.\n",
        "\n",
        "-   [max_models](https://docs.h2o.ai/h2o/latest-stable/h2o-docs/data-science/algo-params/max_models.html): Specify the maximum number of models to build in an AutoML run, excluding the Stacked Ensemble models. Defaults to `NULL/None`. Always set this parameter to ensure AutoML reproducibility: all models are then trained until convergence and none is constrained by a time budget."
      ],
      "metadata": {
        "id": "aZ7tBGvX-y7g"
      }
    },
    {
      "cell_type": "markdown",
      "source": [
        "### Import h20"
      ],
      "metadata": {
        "id": "hCMvq63y-TpX"
      }
    },
    {
      "cell_type": "code",
      "source": [
        "%%R\n",
        "library(h2o)\n",
        "h2o.init()\n",
        "#disable progress bar for RMarkdown\n",
        "h2o.no_progress()\n",
        "# Optional: remove anything from previous session\n",
        "h2o.removeAll()"
      ],
      "metadata": {
        "colab": {
          "base_uri": "https://localhost:8080/"
        },
        "id": "zf-nuAYO-T1e",
        "outputId": "0919ae70-f112-4607-f722-3946c8ff6dee"
      },
      "execution_count": null,
      "outputs": [
        {
          "output_type": "stream",
          "name": "stdout",
          "text": [
            " Connection successful!\n",
            "\n",
            "R is connected to the H2O cluster: \n",
            "    H2O cluster uptime:         1 hours 39 minutes \n",
            "    H2O cluster timezone:       Etc/UTC \n",
            "    H2O data parsing timezone:  UTC \n",
            "    H2O cluster version:        3.42.0.2 \n",
            "    H2O cluster version age:    3 months \n",
            "    H2O cluster name:           H2O_started_from_R_root_yqz807 \n",
            "    H2O cluster total nodes:    1 \n",
            "    H2O cluster total memory:   3.05 GB \n",
            "    H2O cluster total cores:    2 \n",
            "    H2O cluster allowed cores:  2 \n",
            "    H2O cluster healthy:        TRUE \n",
            "    H2O Connection ip:          localhost \n",
            "    H2O Connection port:        54321 \n",
            "    H2O Connection proxy:       NA \n",
            "    H2O Internal Security:      FALSE \n",
            "    R Version:                  R version 4.3.1 (2023-06-16) \n",
            "\n"
          ]
        }
      ]
    },
    {
      "cell_type": "markdown",
      "source": [
        "### Import data to h2o cluster"
      ],
      "metadata": {
        "id": "0ow4hiK7-kBe"
      }
    },
    {
      "cell_type": "code",
      "source": [
        "%%R\n",
        "h_df=as.h2o(df)\n",
        "h_train = as.h2o(train)\n",
        "h_test = as.h2o(test)"
      ],
      "metadata": {
        "id": "mqwDEASv-kKu"
      },
      "execution_count": null,
      "outputs": []
    },
    {
      "cell_type": "markdown",
      "source": [
        "#### Define response and predictors"
      ],
      "metadata": {
        "id": "DzM5tU9G-r5I"
      }
    },
    {
      "cell_type": "code",
      "source": [
        "%%R\n",
        "y <- \"SOC\"\n",
        "x <- setdiff(names(h_df), y)"
      ],
      "metadata": {
        "id": "FX6js5EN-sBm"
      },
      "execution_count": null,
      "outputs": []
    },
    {
      "cell_type": "markdown",
      "source": [
        "### Fit AutoML"
      ],
      "metadata": {
        "id": "Mh-wJgDKYmKi"
      }
    },
    {
      "cell_type": "code",
      "source": [
        "%%R\n",
        "df.aml <- h2o.automl(\n",
        "                  x= x,\n",
        "                  y = y,\n",
        "                  training_frame = h_df,\n",
        "                  nfolds=5,\n",
        "                  keep_cross_validation_predictions = TRUE,\n",
        "                  stopping_metric = \"RMSE\",\n",
        "                  stopping_tolerance = 0.001,\n",
        "                  stopping_rounds = 3,\n",
        "                  max_runtime_secs_per_model = 1,\n",
        "                  seed = 42,\n",
        "                  max_models = 100,\n",
        "                  project_name = \"AutoML_trainings\")\n",
        "df.aml"
      ],
      "metadata": {
        "colab": {
          "base_uri": "https://localhost:8080/"
        },
        "id": "scsjxTyg-zDj",
        "outputId": "df1fc6c7-c98c-4f66-aa87-e17d0b5151c2"
      },
      "execution_count": null,
      "outputs": [
        {
          "output_type": "stream",
          "name": "stdout",
          "text": [
            "\n",
            "16:46:06.879: Stopping tolerance set by the user is < 70% of the recommended default of 0.04607756775840914, so models may take a long time to converge or may not converge at all.AutoML Details\n",
            "==============\n",
            "Project Name: AutoML_trainings \n",
            "Leader Model ID: StackedEnsemble_BestOfFamily_1_AutoML_2_20231025_164606 \n",
            "Algorithm: stackedensemble \n",
            "\n",
            "Total Number of Models Trained: 102 \n",
            "Start Time: 2023-10-25 16:46:07 UTC \n",
            "End Time: 2023-10-25 16:48:39 UTC \n",
            "Duration: 152 s\n",
            "\n",
            "Leaderboard\n",
            "===========\n",
            "                                                  model_id     rmse      mse\n",
            "1  StackedEnsemble_BestOfFamily_1_AutoML_2_20231025_164606 3.739228 13.98183\n",
            "2                           XRT_1_AutoML_2_20231025_164606 3.777059 14.26617\n",
            "3     DeepLearning_grid_2_AutoML_2_20231025_164606_model_8 3.791571 14.37601\n",
            "4                           DRF_1_AutoML_2_20231025_164606 3.792062 14.37974\n",
            "5                           GBM_1_AutoML_2_20231025_164606 3.797131 14.41820\n",
            "6     StackedEnsemble_AllModels_1_AutoML_2_20231025_164606 3.810940 14.52326\n",
            "7              GBM_grid_1_AutoML_2_20231025_164606_model_4 3.819763 14.59059\n",
            "8     DeepLearning_grid_1_AutoML_2_20231025_164606_model_8 3.823147 14.61645\n",
            "9     DeepLearning_grid_1_AutoML_2_20231025_164606_model_6 3.826258 14.64025\n",
            "10                          GLM_1_AutoML_2_20231025_164606 3.830321 14.67136\n",
            "        mae     rmsle mean_residual_deviance\n",
            "1  2.674220 0.4975887               13.98183\n",
            "2  2.719768 0.5058808               14.26617\n",
            "3  2.763821 0.5252476               14.37601\n",
            "4  2.719822 0.5069439               14.37974\n",
            "5  2.729207 0.5153870               14.41820\n",
            "6  2.694820 0.4992768               14.52326\n",
            "7  2.740871 0.5117937               14.59059\n",
            "8  2.735634 0.5334711               14.61645\n",
            "9  2.685364 0.5022371               14.64025\n",
            "10 2.725034 0.5121428               14.67136\n",
            "\n",
            "[102 rows x 6 columns] \n"
          ]
        }
      ]
    },
    {
      "cell_type": "markdown",
      "source": [
        "###   Leaderboard"
      ],
      "metadata": {
        "id": "OOtfGe25_QNM"
      }
    },
    {
      "cell_type": "code",
      "source": [
        "%%R\n",
        "lb <- h2o.get_leaderboard(object = df.aml, extra_columns = \"ALL\")\n",
        "head(lb)\n"
      ],
      "metadata": {
        "colab": {
          "base_uri": "https://localhost:8080/"
        },
        "id": "YKTo-ffs_QUx",
        "outputId": "4076c0a3-d138-4289-dcba-593f80b5a26a"
      },
      "execution_count": null,
      "outputs": [
        {
          "output_type": "stream",
          "name": "stdout",
          "text": [
            "                                                 model_id     rmse      mse\n",
            "1 StackedEnsemble_BestOfFamily_1_AutoML_2_20231025_164606 3.739228 13.98183\n",
            "2                          XRT_1_AutoML_2_20231025_164606 3.777059 14.26617\n",
            "3    DeepLearning_grid_2_AutoML_2_20231025_164606_model_8 3.791571 14.37601\n",
            "4                          DRF_1_AutoML_2_20231025_164606 3.792062 14.37974\n",
            "5                          GBM_1_AutoML_2_20231025_164606 3.797131 14.41820\n",
            "6    StackedEnsemble_AllModels_1_AutoML_2_20231025_164606 3.810940 14.52326\n",
            "       mae     rmsle mean_residual_deviance training_time_ms\n",
            "1 2.674220 0.4975887               13.98183              554\n",
            "2 2.719768 0.5058808               14.26617              492\n",
            "3 2.763821 0.5252476               14.37601               62\n",
            "4 2.719822 0.5069439               14.37974              597\n",
            "5 2.729207 0.5153870               14.41820              178\n",
            "6 2.694820 0.4992768               14.52326             1731\n",
            "  predict_time_per_row_ms            algo\n",
            "1                0.068624 StackedEnsemble\n",
            "2                0.020447             DRF\n",
            "3                0.003882    DeepLearning\n",
            "4                0.024078             DRF\n",
            "5                0.013977             GBM\n",
            "6                0.180139 StackedEnsemble\n"
          ]
        }
      ]
    },
    {
      "cell_type": "markdown",
      "source": [
        "### The best model"
      ],
      "metadata": {
        "id": "zjdO-iugG54M"
      }
    },
    {
      "cell_type": "code",
      "source": [
        "%%R\n",
        "best_ML<- h2o.get_best_model(df.aml, criterion = \"RMSE\" )\n",
        "best_ML"
      ],
      "metadata": {
        "colab": {
          "base_uri": "https://localhost:8080/"
        },
        "id": "n3E3IvFFHAUr",
        "outputId": "e6a000ae-b275-45c1-af45-fe5bcf1d9b40"
      },
      "execution_count": null,
      "outputs": [
        {
          "output_type": "stream",
          "name": "stdout",
          "text": [
            "Model Details:\n",
            "==============\n",
            "\n",
            "H2ORegressionModel: stackedensemble\n",
            "Model ID:  StackedEnsemble_BestOfFamily_1_AutoML_2_20231025_164606 \n",
            "Model Summary for Stacked Ensemble: \n",
            "                                         key            value\n",
            "1                          Stacking strategy cross_validation\n",
            "2       Number of base models (used / total)              5/6\n",
            "3           # GBM base models (used / total)              1/1\n",
            "4       # XGBoost base models (used / total)              1/1\n",
            "5           # DRF base models (used / total)              2/2\n",
            "6  # DeepLearning base models (used / total)              1/1\n",
            "7           # GLM base models (used / total)              0/1\n",
            "8                      Metalearner algorithm              GLM\n",
            "9         Metalearner fold assignment scheme           Random\n",
            "10                        Metalearner nfolds                5\n",
            "11                   Metalearner fold_column               NA\n",
            "12        Custom metalearner hyperparameters             None\n",
            "\n",
            "\n",
            "H2ORegressionMetrics: stackedensemble\n",
            "** Reported on training data. **\n",
            "\n",
            "MSE:  6.854477\n",
            "RMSE:  2.618106\n",
            "MAE:  1.812165\n",
            "RMSLE:  0.3455704\n",
            "Mean Residual Deviance :  6.854477\n",
            "\n",
            "\n",
            "\n",
            "H2ORegressionMetrics: stackedensemble\n",
            "** Reported on cross-validation data. **\n",
            "** 5-fold cross-validation on training data (Metrics computed for combined holdout predictions) **\n",
            "\n",
            "MSE:  13.98183\n",
            "RMSE:  3.739228\n",
            "MAE:  2.67422\n",
            "RMSLE:  0.4975887\n",
            "Mean Residual Deviance :  13.98183\n",
            "\n",
            "\n",
            "Cross-Validation Metrics Summary: \n",
            "                              mean         sd  cv_1_valid  cv_2_valid\n",
            "mae                       2.671223   0.229553    2.363944    2.739875\n",
            "mean_residual_deviance   13.919943   3.843161    9.829978   15.377728\n",
            "mse                      13.919943   3.843161    9.829978   15.377728\n",
            "null_deviance          2408.844200 588.596100 1811.702500 2773.608200\n",
            "r2                        0.454310   0.040167    0.494592    0.434179\n",
            "residual_deviance      1310.668100 355.084780  904.358030 1553.150500\n",
            "rmse                      3.703715   0.503039    3.135280    3.921445\n",
            "rmsle                     0.496984   0.050608    0.428278    0.507445\n",
            "                        cv_3_valid  cv_4_valid  cv_5_valid\n",
            "mae                       2.543127    2.972891    2.736279\n",
            "mean_residual_deviance   11.923922   19.807024   12.661062\n",
            "mse                      11.923922   19.807024   12.661062\n",
            "null_deviance          2142.317400 3250.184000 2066.409700\n",
            "r2                        0.493199    0.448979    0.400599\n",
            "residual_deviance      1085.076900 1782.632200 1228.123000\n",
            "rmse                      3.453103    4.450508    3.558239\n",
            "rmsle                     0.463784    0.534601    0.550812\n"
          ]
        }
      ]
    },
    {
      "cell_type": "markdown",
      "source": [
        "### The best stack ensemble model (stacking of all models)"
      ],
      "metadata": {
        "id": "ZgeDEsMmbzWC"
      }
    },
    {
      "cell_type": "code",
      "source": [
        "%%R\n",
        "model_ids<-as.data.frame(lb)$model_id\n",
        "stack_all<-h2o.getModel(grep(\"StackedEnsemble_AllModels\", model_ids, value=TRUE)[1])\n",
        "stack_all_metalearner_model<-stack_all@model$metalearner_model\n",
        "stack_all_metalearner_model"
      ],
      "metadata": {
        "colab": {
          "base_uri": "https://localhost:8080/"
        },
        "id": "sI3kSlx2cfXI",
        "outputId": "920c672d-09df-4b82-c106-ba5bcc5e568d"
      },
      "execution_count": null,
      "outputs": [
        {
          "output_type": "stream",
          "name": "stdout",
          "text": [
            "Model Details:\n",
            "==============\n",
            "\n",
            "H2ORegressionModel: glm\n",
            "Model ID:  metalearner_AUTO_StackedEnsemble_AllModels_1_AutoML_2_20231025_164606 \n",
            "GLM Model: summary\n",
            "    family     link                              regularization\n",
            "1 gaussian identity Elastic Net (alpha = 0.5, lambda = 0.6628 )\n",
            "                                                                 lambda_search\n",
            "1 nlambda = 100, lambda.max = 26.143, lambda.min = 0.6628, lambda.1se = 6.1815\n",
            "  number_of_predictors_total number_of_active_predictors number_of_iterations\n",
            "1                        100                          14                   80\n",
            "                                                          training_frame\n",
            "1 levelone_training_StackedEnsemble_AllModels_1_AutoML_2_20231025_164606\n",
            "\n",
            "Coefficients: glm coefficients\n",
            "                                                 names coefficients\n",
            "1                                            Intercept    -0.392725\n",
            "2                       XRT_1_AutoML_2_20231025_164606     0.075003\n",
            "3 DeepLearning_grid_2_AutoML_2_20231025_164606_model_8     0.111136\n",
            "4                       DRF_1_AutoML_2_20231025_164606     0.009654\n",
            "5                       GBM_1_AutoML_2_20231025_164606     0.020546\n",
            "  standardized_coefficients\n",
            "1                  6.298425\n",
            "2                  0.259793\n",
            "3                  0.372612\n",
            "4                  0.033270\n",
            "5                  0.067015\n",
            "\n",
            "---\n",
            "                                                   names coefficients\n",
            "96      XGBoost_grid_1_AutoML_2_20231025_164606_model_17     0.000000\n",
            "97       XGBoost_grid_1_AutoML_2_20231025_164606_model_5     0.000000\n",
            "98  DeepLearning_grid_3_AutoML_2_20231025_164606_model_6     0.000000\n",
            "99      XGBoost_grid_1_AutoML_2_20231025_164606_model_30     0.000000\n",
            "100 DeepLearning_grid_3_AutoML_2_20231025_164606_model_9     0.000000\n",
            "101      XGBoost_grid_1_AutoML_2_20231025_164606_model_6     0.000000\n",
            "    standardized_coefficients\n",
            "96                   0.000000\n",
            "97                   0.000000\n",
            "98                   0.000000\n",
            "99                   0.000000\n",
            "100                  0.000000\n",
            "101                  0.000000\n",
            "\n",
            "H2ORegressionMetrics: glm\n",
            "** Reported on training data. **\n",
            "\n",
            "MSE:  13.18415\n",
            "RMSE:  3.630999\n",
            "MAE:  2.591748\n",
            "RMSLE:  0.4838577\n",
            "Mean Residual Deviance :  13.18415\n",
            "R^2 :  0.4830933\n",
            "Null Deviance :12013.26\n",
            "Null D.o.F. :470\n",
            "Residual Deviance :6209.737\n",
            "Residual D.o.F. :456\n",
            "AIC :2583.356\n",
            "\n",
            "\n",
            "\n",
            "H2ORegressionMetrics: glm\n",
            "** Reported on cross-validation data. **\n",
            "** 5-fold cross-validation on training data (Metrics computed for combined holdout predictions) **\n",
            "\n",
            "MSE:  14.52326\n",
            "RMSE:  3.81094\n",
            "MAE:  2.69482\n",
            "RMSLE:  0.4992768\n",
            "Mean Residual Deviance :  14.52326\n",
            "R^2 :  0.4305912\n",
            "Null Deviance :12055.88\n",
            "Null D.o.F. :470\n",
            "Residual Deviance :6840.457\n",
            "Residual D.o.F. :457\n",
            "AIC :2626.919\n",
            "\n",
            "\n",
            "Cross-Validation Metrics Summary: \n",
            "                              mean         sd  cv_1_valid  cv_2_valid\n",
            "mae                       2.674284   0.211533    2.623470    2.484933\n",
            "mean_residual_deviance   13.680765   2.134304   14.766768   11.848380\n",
            "mse                      13.680765   2.134304   14.766768   11.848380\n",
            "null_deviance          2411.176000 664.810500 2355.399400 2602.607000\n",
            "r2                        0.444459   0.101453    0.426412    0.540114\n",
            "residual_deviance      1288.701000 214.200840 1343.775900 1196.686400\n",
            "rmse                      3.689648   0.289966    3.842755    3.442147\n",
            "rmsle                     0.497851   0.048539    0.502077    0.455489\n",
            "                        cv_3_valid  cv_4_valid  cv_5_valid\n",
            "mae                       2.470700    2.878203    2.914115\n",
            "mean_residual_deviance   11.190822   14.238915   16.358940\n",
            "mse                      11.190822   14.238915   16.358940\n",
            "null_deviance          1858.083900 1802.858400 3436.931200\n",
            "r2                        0.449416    0.284302    0.522051\n",
            "residual_deviance      1018.364800 1281.502300 1603.176100\n",
            "rmse                      3.345268    3.773449    4.044619\n",
            "rmsle                     0.452342    0.571631    0.507715\n"
          ]
        }
      ]
    },
    {
      "cell_type": "markdown",
      "source": [
        "### The best stack ensemble (stacking best of family)"
      ],
      "metadata": {
        "id": "_BnPCCWCd5-v"
      }
    },
    {
      "cell_type": "code",
      "source": [
        "%%R\n",
        "stack_best<-h2o.getModel(grep(\"StackedEnsemble_BestOfFamily\", model_ids, value=TRUE)[1])\n",
        "stack_best_metalearner_model<-stack_best@model$metalearner_model\n",
        "stack_best_metalearner_model"
      ],
      "metadata": {
        "colab": {
          "base_uri": "https://localhost:8080/"
        },
        "id": "ChuTMWsnd6MC",
        "outputId": "3e60a814-8714-4135-e548-5c426bfc6ed1"
      },
      "execution_count": null,
      "outputs": [
        {
          "output_type": "stream",
          "name": "stdout",
          "text": [
            "Model Details:\n",
            "==============\n",
            "\n",
            "H2ORegressionModel: glm\n",
            "Model ID:  metalearner_AUTO_StackedEnsemble_BestOfFamily_1_AutoML_2_20231025_164606 \n",
            "GLM Model: summary\n",
            "    family     link                              regularization\n",
            "1 gaussian identity Elastic Net (alpha = 0.5, lambda = 0.5618 )\n",
            "                                                                 lambda_search\n",
            "1 nlambda = 100, lambda.max = 23.214, lambda.min = 0.5618, lambda.1se = 5.7504\n",
            "  number_of_predictors_total number_of_active_predictors number_of_iterations\n",
            "1                          6                           5                   41\n",
            "                                                             training_frame\n",
            "1 levelone_training_StackedEnsemble_BestOfFamily_1_AutoML_2_20231025_164606\n",
            "\n",
            "Coefficients: glm coefficients\n",
            "                                                 names coefficients\n",
            "1                                            Intercept    -0.297412\n",
            "2                       XRT_1_AutoML_2_20231025_164606     0.227178\n",
            "3 DeepLearning_grid_2_AutoML_2_20231025_164606_model_8     0.344811\n",
            "4                       DRF_1_AutoML_2_20231025_164606     0.184429\n",
            "5                       GBM_1_AutoML_2_20231025_164606     0.247086\n",
            "6                       GLM_1_AutoML_2_20231025_164606     0.000000\n",
            "7     XGBoost_grid_1_AutoML_2_20231025_164606_model_20     0.032042\n",
            "  standardized_coefficients\n",
            "1                  6.298425\n",
            "2                  0.786893\n",
            "3                  1.156062\n",
            "4                  0.635584\n",
            "5                  0.805919\n",
            "6                  0.000000\n",
            "7                  0.096788\n",
            "\n",
            "H2ORegressionMetrics: glm\n",
            "** Reported on training data. **\n",
            "\n",
            "MSE:  13.53208\n",
            "RMSE:  3.678598\n",
            "MAE:  2.629447\n",
            "RMSLE:  0.4912746\n",
            "Mean Residual Deviance :  13.53208\n",
            "R^2 :  0.4694521\n",
            "Null Deviance :12013.26\n",
            "Null D.o.F. :470\n",
            "Residual Deviance :6373.611\n",
            "Residual D.o.F. :465\n",
            "AIC :2577.625\n",
            "\n",
            "\n",
            "\n",
            "H2ORegressionMetrics: glm\n",
            "** Reported on cross-validation data. **\n",
            "** 5-fold cross-validation on training data (Metrics computed for combined holdout predictions) **\n",
            "\n",
            "MSE:  13.98183\n",
            "RMSE:  3.739228\n",
            "MAE:  2.67422\n",
            "RMSLE:  0.4975887\n",
            "Mean Residual Deviance :  13.98183\n",
            "R^2 :  0.4518191\n",
            "Null Deviance :12044.22\n",
            "Null D.o.F. :470\n",
            "Residual Deviance :6585.441\n",
            "Residual D.o.F. :466\n",
            "AIC :2591.024\n",
            "\n",
            "\n",
            "Cross-Validation Metrics Summary: \n",
            "                              mean         sd  cv_1_valid  cv_2_valid\n",
            "mae                       2.671223   0.229553    2.363944    2.739875\n",
            "mean_residual_deviance   13.919943   3.843161    9.829978   15.377728\n",
            "mse                      13.919943   3.843161    9.829978   15.377728\n",
            "null_deviance          2408.844200 588.596100 1811.702500 2773.608200\n",
            "r2                        0.454310   0.040167    0.494592    0.434179\n",
            "residual_deviance      1310.668100 355.084780  904.358030 1553.150500\n",
            "rmse                      3.703715   0.503039    3.135280    3.921445\n",
            "rmsle                     0.496984   0.050608    0.428278    0.507445\n",
            "                        cv_3_valid  cv_4_valid  cv_5_valid\n",
            "mae                       2.543127    2.972891    2.736279\n",
            "mean_residual_deviance   11.923922   19.807024   12.661062\n",
            "mse                      11.923922   19.807024   12.661062\n",
            "null_deviance          2142.317400 3250.184000 2066.409700\n",
            "r2                        0.493199    0.448979    0.400599\n",
            "residual_deviance      1085.076900 1782.632200 1228.123000\n",
            "rmse                      3.453103    4.450508    3.558239\n",
            "rmsle                     0.463784    0.534601    0.550812\n"
          ]
        }
      ]
    },
    {
      "cell_type": "markdown",
      "source": [
        "### The best GLM"
      ],
      "metadata": {
        "id": "MzlzgOxdeUap"
      }
    },
    {
      "cell_type": "code",
      "source": [
        "%%R\n",
        "best_GLM <- h2o.get_best_model(df.aml, algorithm = \"glm\", criterion = \"RMSE\" )\n",
        "best_GLM"
      ],
      "metadata": {
        "colab": {
          "base_uri": "https://localhost:8080/"
        },
        "id": "4wKksdXIeUjf",
        "outputId": "97e4945d-786e-4f66-a07e-add7a5d2f32b"
      },
      "execution_count": null,
      "outputs": [
        {
          "output_type": "stream",
          "name": "stdout",
          "text": [
            "Model Details:\n",
            "==============\n",
            "\n",
            "H2ORegressionModel: glm\n",
            "Model ID:  GLM_1_AutoML_2_20231025_164606 \n",
            "GLM Model: summary\n",
            "    family     link             regularization\n",
            "1 gaussian identity Ridge ( lambda = 0.09057 )\n",
            "                                                                lambda_search\n",
            "1 nlambda = 30, lambda.max = 298.02, lambda.min = 0.09057, lambda.1se = 0.609\n",
            "  number_of_predictors_total number_of_active_predictors number_of_iterations\n",
            "1                         19                          19                   18\n",
            "                                     training_frame\n",
            "1 AutoML_2_20231025_164606_training_df_sid_875d_370\n",
            "\n",
            "Coefficients: glm coefficients\n",
            "       names coefficients standardized_coefficients\n",
            "1  Intercept    -1.400130                  5.991323\n",
            "2      FRG.1    -0.506858                 -0.506858\n",
            "3    FRG.133    -0.043225                 -0.043225\n",
            "4      FRG.2     0.681809                  0.681809\n",
            "5      FRG.3     0.030380                  0.030380\n",
            "6      FRG.4    -0.169983                 -0.169983\n",
            "7      FRG.5     0.007715                  0.007715\n",
            "8     NLCD.4     0.406620                  0.406620\n",
            "9     NLCD.5    -0.286996                 -0.286996\n",
            "10    NLCD.6     0.065101                  0.065101\n",
            "11    NLCD.7    -0.185598                 -0.185598\n",
            "12      ELEV     0.000231                  0.177227\n",
            "13     Slope     0.152939                  0.717112\n",
            "14    Aspect     0.007519                  0.182991\n",
            "15       TPI    -0.002236                 -0.007978\n",
            "16  K_Factor    -0.510118                 -0.043667\n",
            "17 Silt_Clay     0.031713                  0.546712\n",
            "18       MAT    -0.280338                 -1.148861\n",
            "19       MAP     0.005062                  1.047418\n",
            "20      NDVI     7.863755                  1.274116\n",
            "\n",
            "H2ORegressionMetrics: glm\n",
            "** Reported on training data. **\n",
            "\n",
            "MSE:  13.85426\n",
            "RMSE:  3.722131\n",
            "MAE:  2.653001\n",
            "RMSLE:  0.5024159\n",
            "Mean Residual Deviance :  13.85426\n",
            "R^2 :  0.4568206\n",
            "Null Deviance :12013.26\n",
            "Null D.o.F. :470\n",
            "Residual Deviance :6525.356\n",
            "Residual D.o.F. :451\n",
            "AIC :2616.707\n",
            "\n",
            "\n",
            "\n",
            "H2ORegressionMetrics: glm\n",
            "** Reported on cross-validation data. **\n",
            "** 5-fold cross-validation on training data (Metrics computed for combined holdout predictions) **\n",
            "\n",
            "MSE:  14.67136\n",
            "RMSE:  3.830321\n",
            "MAE:  2.725034\n",
            "RMSLE:  0.5121428\n",
            "Mean Residual Deviance :  14.67136\n",
            "R^2 :  0.4247848\n",
            "Null Deviance :12098.47\n",
            "Null D.o.F. :470\n",
            "Residual Deviance :6910.211\n",
            "Residual D.o.F. :451\n",
            "AIC :2643.698\n",
            "\n",
            "\n",
            "Cross-Validation Metrics Summary: \n",
            "                              mean         sd  cv_1_valid  cv_2_valid\n",
            "mae                       2.729561   0.184630    2.700217    2.827736\n",
            "mean_residual_deviance   14.490001   2.824146   13.401156   16.437840\n",
            "mse                      14.490001   2.824146   13.401156   16.437840\n",
            "null_deviance          2419.694300 449.379940 2496.963100 2407.231000\n",
            "r2                        0.414810   0.089744    0.489588    0.351080\n",
            "residual_deviance      1364.740400 264.242800 1273.109900 1545.157000\n",
            "rmse                      3.792193   0.369586    3.660759    4.054361\n",
            "rmsle                     0.516485   0.051211    0.542253    0.502336\n",
            "                        cv_3_valid  cv_4_valid  cv_5_valid\n",
            "mae                       2.597029    2.991910    2.530912\n",
            "mean_residual_deviance   11.143295   18.246696   13.221016\n",
            "mse                      11.143295   18.246696   13.221016\n",
            "null_deviance          1681.556000 2879.053200 2633.668000\n",
            "r2                        0.308624    0.404233    0.520525\n",
            "residual_deviance      1047.469700 1715.189600 1242.775500\n",
            "rmse                      3.338157    4.271616    3.636071\n",
            "rmsle                     0.572810    0.528042    0.436986\n"
          ]
        }
      ]
    },
    {
      "cell_type": "markdown",
      "source": [
        "### The best DRF model"
      ],
      "metadata": {
        "id": "bMUutYjaeibY"
      }
    },
    {
      "cell_type": "code",
      "source": [
        "%%R\n",
        "best_DRF <- h2o.get_best_model(df.aml, algorithm = \"DRF\", criterion = \"RMSE\" )\n",
        "best_DRF"
      ],
      "metadata": {
        "colab": {
          "base_uri": "https://localhost:8080/"
        },
        "id": "azfpx2vueikd",
        "outputId": "9c263ec4-4022-444e-a73c-5967d826beee"
      },
      "execution_count": null,
      "outputs": [
        {
          "output_type": "stream",
          "name": "stdout",
          "text": [
            "Model Details:\n",
            "==============\n",
            "\n",
            "H2ORegressionModel: drf\n",
            "Model ID:  XRT_1_AutoML_2_20231025_164606 \n",
            "Model Summary: \n",
            "  number_of_trees number_of_internal_trees model_size_in_bytes min_depth\n",
            "1              46                       46              172260        15\n",
            "  max_depth mean_depth min_leaves max_leaves mean_leaves\n",
            "1        20   18.56522        269        318   293.30435\n",
            "\n",
            "\n",
            "H2ORegressionMetrics: drf\n",
            "** Reported on training data. **\n",
            "** Metrics reported on Out-Of-Bag training samples **\n",
            "\n",
            "MSE:  14.94379\n",
            "RMSE:  3.86572\n",
            "MAE:  2.756756\n",
            "RMSLE:  0.5132346\n",
            "Mean Residual Deviance :  14.94379\n",
            "\n",
            "\n",
            "\n",
            "H2ORegressionMetrics: drf\n",
            "** Reported on cross-validation data. **\n",
            "** 5-fold cross-validation on training data (Metrics computed for combined holdout predictions) **\n",
            "\n",
            "MSE:  14.26617\n",
            "RMSE:  3.777059\n",
            "MAE:  2.719768\n",
            "RMSLE:  0.5058808\n",
            "Mean Residual Deviance :  14.26617\n",
            "\n",
            "\n",
            "Cross-Validation Metrics Summary: \n",
            "                            mean       sd cv_1_valid cv_2_valid cv_3_valid\n",
            "mae                     2.719743 0.140164   2.731510   2.596646   2.610750\n",
            "mean_residual_deviance 14.265390 2.647485  14.633142  13.314612  10.736683\n",
            "mse                    14.265390 2.647485  14.633142  13.314612  10.736683\n",
            "r2                      0.426479 0.057924   0.442666   0.474376   0.333852\n",
            "residual_deviance      14.265390 2.647485  14.633142  13.314612  10.736683\n",
            "rmse                    3.763852 0.351441   3.825329   3.648919   3.276688\n",
            "rmsle                   0.504459 0.042345   0.506579   0.469884   0.548274\n",
            "                       cv_4_valid cv_5_valid\n",
            "mae                      2.946400   2.713408\n",
            "mean_residual_deviance  18.066612  14.575903\n",
            "mse                     18.066612  14.575903\n",
            "r2                       0.410113   0.471388\n",
            "residual_deviance       18.066612  14.575903\n",
            "rmse                     4.250484   3.817840\n",
            "rmsle                    0.543436   0.454124\n"
          ]
        }
      ]
    },
    {
      "cell_type": "markdown",
      "source": [
        "### The best XRT model"
      ],
      "metadata": {
        "id": "IfSvCgG1euk1"
      }
    },
    {
      "cell_type": "code",
      "source": [
        "%%R\n",
        "best_XRT<-h2o.getModel(grep(\"XRT\", model_ids, value=TRUE)[1])\n",
        "best_XRT"
      ],
      "metadata": {
        "colab": {
          "base_uri": "https://localhost:8080/"
        },
        "id": "afcQI8ZFeurw",
        "outputId": "27020fcc-d099-41ce-c227-ca300b77db0e"
      },
      "execution_count": null,
      "outputs": [
        {
          "output_type": "stream",
          "name": "stdout",
          "text": [
            "Model Details:\n",
            "==============\n",
            "\n",
            "H2ORegressionModel: drf\n",
            "Model ID:  XRT_1_AutoML_2_20231025_164606 \n",
            "Model Summary: \n",
            "  number_of_trees number_of_internal_trees model_size_in_bytes min_depth\n",
            "1              46                       46              172260        15\n",
            "  max_depth mean_depth min_leaves max_leaves mean_leaves\n",
            "1        20   18.56522        269        318   293.30435\n",
            "\n",
            "\n",
            "H2ORegressionMetrics: drf\n",
            "** Reported on training data. **\n",
            "** Metrics reported on Out-Of-Bag training samples **\n",
            "\n",
            "MSE:  14.94379\n",
            "RMSE:  3.86572\n",
            "MAE:  2.756756\n",
            "RMSLE:  0.5132346\n",
            "Mean Residual Deviance :  14.94379\n",
            "\n",
            "\n",
            "\n",
            "H2ORegressionMetrics: drf\n",
            "** Reported on cross-validation data. **\n",
            "** 5-fold cross-validation on training data (Metrics computed for combined holdout predictions) **\n",
            "\n",
            "MSE:  14.26617\n",
            "RMSE:  3.777059\n",
            "MAE:  2.719768\n",
            "RMSLE:  0.5058808\n",
            "Mean Residual Deviance :  14.26617\n",
            "\n",
            "\n",
            "Cross-Validation Metrics Summary: \n",
            "                            mean       sd cv_1_valid cv_2_valid cv_3_valid\n",
            "mae                     2.719743 0.140164   2.731510   2.596646   2.610750\n",
            "mean_residual_deviance 14.265390 2.647485  14.633142  13.314612  10.736683\n",
            "mse                    14.265390 2.647485  14.633142  13.314612  10.736683\n",
            "r2                      0.426479 0.057924   0.442666   0.474376   0.333852\n",
            "residual_deviance      14.265390 2.647485  14.633142  13.314612  10.736683\n",
            "rmse                    3.763852 0.351441   3.825329   3.648919   3.276688\n",
            "rmsle                   0.504459 0.042345   0.506579   0.469884   0.548274\n",
            "                       cv_4_valid cv_5_valid\n",
            "mae                      2.946400   2.713408\n",
            "mean_residual_deviance  18.066612  14.575903\n",
            "mse                     18.066612  14.575903\n",
            "r2                       0.410113   0.471388\n",
            "residual_deviance       18.066612  14.575903\n",
            "rmse                     4.250484   3.817840\n",
            "rmsle                    0.543436   0.454124\n"
          ]
        }
      ]
    },
    {
      "cell_type": "markdown",
      "source": [
        "### The best GBM model"
      ],
      "metadata": {
        "id": "eMS_t_Kre5XO"
      }
    },
    {
      "cell_type": "code",
      "source": [
        "%%R\n",
        "best_GBM <- h2o.get_best_model(df.aml, algorithm = \"GBM\", criterion = \"RMSE\" )\n",
        "best_GBM"
      ],
      "metadata": {
        "colab": {
          "base_uri": "https://localhost:8080/"
        },
        "id": "AZ_IAF8ce5gA",
        "outputId": "69b87fed-44fd-4144-b7b3-77869dcf364a"
      },
      "execution_count": null,
      "outputs": [
        {
          "output_type": "stream",
          "name": "stdout",
          "text": [
            "Model Details:\n",
            "==============\n",
            "\n",
            "H2ORegressionModel: gbm\n",
            "Model ID:  GBM_1_AutoML_2_20231025_164606 \n",
            "Model Summary: \n",
            "  number_of_trees number_of_internal_trees model_size_in_bytes min_depth\n",
            "1             100                      100                9621         1\n",
            "  max_depth mean_depth min_leaves max_leaves mean_leaves\n",
            "1         3    1.97000          2          4     2.97000\n",
            "\n",
            "\n",
            "H2ORegressionMetrics: gbm\n",
            "** Reported on training data. **\n",
            "\n",
            "MSE:  11.81902\n",
            "RMSE:  3.43788\n",
            "MAE:  2.458143\n",
            "RMSLE:  0.4666737\n",
            "Mean Residual Deviance :  11.81902\n",
            "\n",
            "\n",
            "\n",
            "H2ORegressionMetrics: gbm\n",
            "** Reported on cross-validation data. **\n",
            "** 5-fold cross-validation on training data (Metrics computed for combined holdout predictions) **\n",
            "\n",
            "MSE:  14.4182\n",
            "RMSE:  3.797131\n",
            "MAE:  2.729207\n",
            "RMSLE:  0.515387\n",
            "Mean Residual Deviance :  14.4182\n",
            "\n",
            "\n",
            "Cross-Validation Metrics Summary: \n",
            "                            mean       sd cv_1_valid cv_2_valid cv_3_valid\n",
            "mae                     2.734789 0.163357   2.730334   2.840403   2.513620\n",
            "mean_residual_deviance 14.450663 2.378164  13.958962  15.108120  11.267423\n",
            "mse                    14.450663 2.378164  13.958962  15.108120  11.267423\n",
            "r2                      0.415971 0.073589   0.468343   0.403574   0.300923\n",
            "residual_deviance      14.450663 2.378164  13.958962  15.108120  11.267423\n",
            "rmse                    3.791065 0.313227   3.736170   3.886916   3.356698\n",
            "rmsle                   0.514590 0.046807   0.529064   0.484565   0.572812\n",
            "                       cv_4_valid cv_5_valid\n",
            "mae                      2.935241   2.654346\n",
            "mean_residual_deviance  17.865057  14.053752\n",
            "mse                     17.865057  14.053752\n",
            "r2                       0.416694   0.490324\n",
            "residual_deviance       17.865057  14.053752\n",
            "rmse                     4.226707   3.748833\n",
            "rmsle                    0.534196   0.452314\n"
          ]
        }
      ]
    },
    {
      "cell_type": "markdown",
      "source": [
        "### The best XGBoost model"
      ],
      "metadata": {
        "id": "bX7tBqxAfEHq"
      }
    },
    {
      "cell_type": "code",
      "source": [
        "%%R\n",
        "best_XGBoost <- h2o.get_best_model(df.aml, algorithm = \"xgboost\", criterion = \"RMSE\" )\n",
        "best_XGBoost"
      ],
      "metadata": {
        "colab": {
          "base_uri": "https://localhost:8080/"
        },
        "id": "eWmYK2OofEQ7",
        "outputId": "36976d67-102b-482f-ee85-6589abfa3602"
      },
      "execution_count": null,
      "outputs": [
        {
          "output_type": "stream",
          "name": "stdout",
          "text": [
            "Model Details:\n",
            "==============\n",
            "\n",
            "H2ORegressionModel: xgboost\n",
            "Model ID:  XGBoost_grid_1_AutoML_2_20231025_164606_model_20 \n",
            "Model Summary: \n",
            "  number_of_trees\n",
            "1              18\n",
            "\n",
            "\n",
            "H2ORegressionMetrics: xgboost\n",
            "** Reported on training data. **\n",
            "\n",
            "MSE:  11.51745\n",
            "RMSE:  3.393737\n",
            "MAE:  2.240734\n",
            "RMSLE:  0.4211417\n",
            "Mean Residual Deviance :  11.51745\n",
            "\n",
            "\n",
            "\n",
            "H2ORegressionMetrics: xgboost\n",
            "** Reported on cross-validation data. **\n",
            "** 5-fold cross-validation on training data (Metrics computed for combined holdout predictions) **\n",
            "\n",
            "MSE:  15.16229\n",
            "RMSE:  3.893879\n",
            "MAE:  2.734558\n",
            "RMSLE:  0.5069811\n",
            "Mean Residual Deviance :  15.16229\n",
            "\n",
            "\n",
            "Cross-Validation Metrics Summary: \n",
            "                            mean       sd cv_1_valid cv_2_valid cv_3_valid\n",
            "mae                     2.734311 0.215721   2.850803   2.774088   2.436931\n",
            "mean_residual_deviance 15.162397 3.293906  15.112313  16.368399  10.131986\n",
            "mse                    15.162397 3.293906  15.112313  16.368399  10.131986\n",
            "r2                      0.395776 0.043408   0.424415   0.353821   0.371370\n",
            "residual_deviance      15.162397 3.293906  15.112313  16.368399  10.131986\n",
            "rmse                    3.874089 0.438513   3.887456   4.045788   3.183078\n",
            "rmsle                   0.505717 0.039692   0.516306   0.503890   0.520354\n",
            "                       cv_4_valid cv_5_valid\n",
            "mae                      2.995391   2.614343\n",
            "mean_residual_deviance  19.236397  14.962893\n",
            "mse                     19.236397  14.962893\n",
            "r2                       0.371918   0.457353\n",
            "residual_deviance       19.236397  14.962893\n",
            "rmse                     4.385931   3.868190\n",
            "rmsle                    0.547393   0.440640\n"
          ]
        }
      ]
    },
    {
      "cell_type": "markdown",
      "source": [
        "### The best DNN model"
      ],
      "metadata": {
        "id": "zu9aoiWjffu5"
      }
    },
    {
      "cell_type": "code",
      "source": [
        "%%R\n",
        "best_DNN <- h2o.get_best_model(df.aml, algorithm = \"DeepLearning\", criterion = \"RMSE\" )\n",
        "best_DNN"
      ],
      "metadata": {
        "colab": {
          "base_uri": "https://localhost:8080/"
        },
        "id": "uiTQEXXNfjL8",
        "outputId": "84a7044a-8782-42d4-b264-5a04a557333c"
      },
      "execution_count": null,
      "outputs": [
        {
          "output_type": "stream",
          "name": "stdout",
          "text": [
            "Model Details:\n",
            "==============\n",
            "\n",
            "H2ORegressionModel: deeplearning\n",
            "Model ID:  DeepLearning_grid_2_AutoML_2_20231025_164606_model_8 \n",
            "Status of Neuron Layers: predicting SOC, regression, gaussian distribution, Quadratic loss, 881 weights/biases, 15.3 KB, 4,130 training samples, mini-batch size 1\n",
            "  layer units             type dropout       l1       l2 mean_rate rate_rms\n",
            "1     1    21            Input 10.00 %       NA       NA        NA       NA\n",
            "2     2    20 RectifierDropout 10.00 % 0.000000 0.000000  0.100234 0.293669\n",
            "3     3    20 RectifierDropout 10.00 % 0.000000 0.000000  0.012263 0.032496\n",
            "4     4     1           Linear      NA 0.000000 0.000000  0.000653 0.000237\n",
            "  momentum mean_weight weight_rms mean_bias bias_rms\n",
            "1       NA          NA         NA        NA       NA\n",
            "2 0.000000    0.001088   0.215192  0.442297 0.127000\n",
            "3 0.000000   -0.023068   0.216285  0.946807 0.051494\n",
            "4 0.000000   -0.050196   0.228585  0.040816 0.000000\n",
            "\n",
            "\n",
            "H2ORegressionMetrics: deeplearning\n",
            "** Reported on training data. **\n",
            "** Metrics reported on full training frame **\n",
            "\n",
            "MSE:  13.89286\n",
            "RMSE:  3.727313\n",
            "MAE:  2.537321\n",
            "RMSLE:  0.467583\n",
            "Mean Residual Deviance :  13.89286\n",
            "\n",
            "\n",
            "\n",
            "H2ORegressionMetrics: deeplearning\n",
            "** Reported on cross-validation data. **\n",
            "** 5-fold cross-validation on training data (Metrics computed for combined holdout predictions) **\n",
            "\n",
            "MSE:  14.37601\n",
            "RMSE:  3.791571\n",
            "MAE:  2.763821\n",
            "RMSLE:  0.5252476\n",
            "Mean Residual Deviance :  14.37601\n",
            "\n",
            "\n",
            "Cross-Validation Metrics Summary: \n",
            "                            mean       sd cv_1_valid cv_2_valid cv_3_valid\n",
            "mae                     2.904464 0.115604   2.924745   3.059217   2.739196\n",
            "mean_residual_deviance 17.520718 4.231985  17.117693  21.995110  12.122121\n",
            "mse                    17.520718 4.231985  17.117693  21.995110  12.122121\n",
            "r2                      0.297250 0.121108   0.348036   0.131695   0.247894\n",
            "residual_deviance      17.520718 4.231985  17.117693  21.995110  12.122121\n",
            "rmse                    4.160530 0.513215   4.137353   4.689895   3.481683\n",
            "rmsle                   0.526170 0.046922   0.522257   0.540433   0.585309\n",
            "                       cv_4_valid cv_5_valid\n",
            "mae                      2.929041   2.870120\n",
            "mean_residual_deviance  21.457752  14.910913\n",
            "mse                     21.457752  14.910913\n",
            "r2                       0.299390   0.459238\n",
            "residual_deviance       21.457752  14.910913\n",
            "rmse                     4.632251   3.861465\n",
            "rmsle                    0.528005   0.454844\n"
          ]
        }
      ]
    },
    {
      "cell_type": "markdown",
      "source": [
        "### Cross-validation Results"
      ],
      "metadata": {
        "id": "lSoukNtWgrgt"
      }
    },
    {
      "cell_type": "code",
      "source": [
        "%%R\n",
        "# Stack Ensemble of all model\n",
        "cv.stack_all<-stack_all_metalearner_model@model$cross_validation_metrics_summary\n",
        "\n",
        "# Stack Ensemble the best of family\n",
        "cv.stack_best<-stack_best_metalearner_model@model$cross_validation_metrics_summary\n",
        "\n",
        "# GLM\n",
        "cv.GLM<-best_GLM@model$cross_validation_metrics_summary\n",
        "\n",
        "# DRF\n",
        "cv.DRF<-best_DRF@model$cross_validation_metrics_summary\n",
        "\n",
        "# XRT\n",
        "cv.XRT<-best_XRT@model$cross_validation_metrics_summary\n",
        "\n",
        "# GBM\n",
        "cv.GBM<-best_GBM@model$cross_validation_metrics_summary\n",
        "\n",
        "# XGBoost\n",
        "cv.XGBoost<-best_XGBoost@model$cross_validation_metrics_summary\n",
        "\n",
        "# DNN\n",
        "cv.DNN<-best_DNN@model$cross_validation_metrics_summary\n"
      ],
      "metadata": {
        "id": "P8CPUh0Tgr3q"
      },
      "execution_count": null,
      "outputs": []
    },
    {
      "cell_type": "markdown",
      "source": [
        "### CV- RMSE"
      ],
      "metadata": {
        "id": "_rA-pciWiQ8o"
      }
    },
    {
      "cell_type": "code",
      "source": [
        "%%R\n",
        "glm.rmse<-cv.GLM[7,c(1:2)]\n",
        "drf.rmse<-cv.DRF[6,c(1:2)]\n",
        "xrt.rmse<-cv.XRT[6,c(1:2)]\n",
        "gbm.rmse<-cv.GBM[6,c(1:2)]\n",
        "xgboost.rmse<-cv.XGBoost[6,c(1:2)]\n",
        "dnn.rmse<-cv.DNN[6,c(1:2)]\n",
        "stack_all.rmse<-cv.stack_all[7,c(1:2)]\n",
        "stack_best.rmse<-cv.stack_best[7,c(1:2)]\n",
        "# complie result\n",
        "cv.rmse<-rbind(glm.rmse,\n",
        "              drf.rmse,\n",
        "              xrt.rmse,\n",
        "              gbm.rmse,\n",
        "              xgboost.rmse,\n",
        "              dnn.rmse,\n",
        "              stack_all.rmse,\n",
        "              stack_best.rmse)\n",
        "# define column name\n",
        "rownames(cv.rmse) <- c(\"GLM \",\n",
        "                      \"DRF \",\n",
        "                      \"XRT\",\n",
        "                      \"GBM\",\n",
        "                      \"XGBoost\",\n",
        "                      \"DNN\",\n",
        "                      \"Stack-Ensemble (all models)\",\n",
        "                      \"Stack-Ensemble (the best of family)\")\n",
        "cv.rmse <- tibble::rownames_to_column(cv.rmse, \"Models\")\n",
        "cv.rmse <-arrange(cv.rmse ,desc(mean))\n",
        "cv.rmse\n"
      ],
      "metadata": {
        "colab": {
          "base_uri": "https://localhost:8080/"
        },
        "id": "GnXleew5h3ax",
        "outputId": "ec35f8cd-7108-4e3f-8639-456470fb43b6"
      },
      "execution_count": null,
      "outputs": [
        {
          "output_type": "stream",
          "name": "stdout",
          "text": [
            "                               Models     mean        sd\n",
            "1                                 DNN 4.160530 0.5132146\n",
            "2                             XGBoost 3.874089 0.4385125\n",
            "3                                GLM  3.792193 0.3695858\n",
            "4                                 GBM 3.791065 0.3132265\n",
            "5                                DRF  3.763852 0.3514410\n",
            "6                                 XRT 3.763852 0.3514410\n",
            "7 Stack-Ensemble (the best of family) 3.703715 0.5030395\n",
            "8         Stack-Ensemble (all models) 3.689648 0.2899665\n"
          ]
        }
      ]
    },
    {
      "cell_type": "markdown",
      "source": [
        "### R-squared CV"
      ],
      "metadata": {
        "id": "G6I3wMrlnOWF"
      }
    },
    {
      "cell_type": "code",
      "source": [
        "%%R\n",
        "# Get R2\n",
        "glm.R2<-cv.GLM[5,c(1:2)]\n",
        "drf.R2<-cv.DRF[4,c(1:2)]\n",
        "xrt.R2<-cv.XRT[4,c(1:2)]\n",
        "gbm.R2<-cv.GBM[4,c(1:2)]\n",
        "xgboost.R2<-cv.XGBoost[4,c(1:2)]\n",
        "dnn.R2<-cv.DNN[4,c(1:2)]\n",
        "stack_all.R2<-cv.stack_all[5,c(1:2)]\n",
        "stack_best.R2<-cv.stack_best[5,c(1:2)]\n",
        "# complie result\n",
        "cv.R2<-rbind(glm.R2,\n",
        "              drf.R2,\n",
        "              xrt.R2,\n",
        "              gbm.R2,\n",
        "              xgboost.R2,\n",
        "              dnn.R2,\n",
        "              stack_all.R2,\n",
        "              stack_best.R2)\n",
        "# define column name\n",
        "rownames(cv.R2) <- c(\"GLM \",\n",
        "                      \"DRF \",\n",
        "                      \"XRT\",\n",
        "                      \"GBM\",\n",
        "                      \"XGBoost\",\n",
        "                      \"DNN\",\n",
        "                      \"Stack-Ensemble (all models)\",\n",
        "                      \"Stack-Ensemble (the best of family)\")\n",
        "cv.R2 <- tibble::rownames_to_column(cv.R2, \"Models\")\n",
        "cv.R2 <-arrange(cv.R2 ,desc(mean))\n",
        "cv.R2"
      ],
      "metadata": {
        "colab": {
          "base_uri": "https://localhost:8080/"
        },
        "id": "B2ZNhthtnOpA",
        "outputId": "55ee8433-36ce-4fb7-adcc-9dac6b926944"
      },
      "execution_count": null,
      "outputs": [
        {
          "output_type": "stream",
          "name": "stdout",
          "text": [
            "                               Models      mean         sd\n",
            "1 Stack-Ensemble (the best of family) 0.4543096 0.04016690\n",
            "2         Stack-Ensemble (all models) 0.4444591 0.10145306\n",
            "3                                DRF  0.4264789 0.05792372\n",
            "4                                 XRT 0.4264789 0.05792372\n",
            "5                                 GBM 0.4159715 0.07358947\n",
            "6                                GLM  0.4148099 0.08974444\n",
            "7                             XGBoost 0.3957756 0.04340805\n",
            "8                                 DNN 0.2972505 0.12110819\n"
          ]
        }
      ]
    },
    {
      "cell_type": "code",
      "source": [
        "%%R  -w 850 -h 400 -u px\n",
        "\n",
        "# RMSE\n",
        "cv.p1<-ggplot(cv.rmse, aes(y=mean, x=reorder(Models, +mean))) +\n",
        "  ylab('') +\n",
        "  xlab('')+\n",
        "  geom_point(colour = \"black\", size = 2.5)+\n",
        "  geom_errorbar(aes(ymin=mean-sd,\n",
        "                    ymax=mean+sd),\n",
        "                    width=.2,\n",
        "                    linetype=1,\n",
        "                    color =\"dark grey\") +\n",
        "   theme(axis.line = element_line(colour = \"grey\"),\n",
        "        axis.text.y=element_text(size=12),\n",
        "        axis.text.x = element_text(size=10),\n",
        "        axis.title.x = element_text(size=12),\n",
        "        axis.title.y = element_text(size=12))+\n",
        "        ggtitle(\"RMSE - Cross-validation\") +\n",
        "        theme(plot.title = element_text(hjust = 0.5))+\n",
        "  coord_flip()\n",
        "\n",
        "# R2\n",
        "cv.p2<-ggplot(cv.R2, aes(y=mean, x=reorder(Models, +mean))) +\n",
        "  ylab('') +\n",
        "  xlab('')+\n",
        "  geom_point(colour = \"black\", size = 2.5)+\n",
        "  geom_errorbar(aes(ymin=mean-sd,\n",
        "                    ymax=mean+sd),\n",
        "                    width=.2,\n",
        "                    linetype=1,\n",
        "                    color =\"dark grey\") +\n",
        "   theme(axis.line = element_line(colour = \"grey\"),\n",
        "        axis.text.y=element_text(size=12),\n",
        "        axis.text.x = element_text(size=10),\n",
        "        axis.title.x = element_text(size=12),\n",
        "        axis.title.y = element_text(size=12))+\n",
        "        ggtitle(\"R2 - Cross-validation\") +\n",
        "        theme(plot.title = element_text(hjust = 0.5))+\n",
        "  coord_flip()\n",
        "\n",
        "grid.arrange(cv.p1, cv.p2,ncol = 2)  # Multiplot"
      ],
      "metadata": {
        "colab": {
          "base_uri": "https://localhost:8080/",
          "height": 417
        },
        "id": "vEJr88K2kNU_",
        "outputId": "fe731269-1164-4e0a-f558-f4811b54e9e2"
      },
      "execution_count": null,
      "outputs": [
        {
          "output_type": "display_data",
          "data": {
            "image/png": "[encoded data removed]"
          },
          "metadata": {}
        }
      ]
    },
    {
      "cell_type": "markdown",
      "source": [
        "### Prediction at test data (best ML)"
      ],
      "metadata": {
        "id": "_JKiNAPBHG03"
      }
    },
    {
      "cell_type": "code",
      "source": [
        "%%R\n",
        "best.test<-h2o.performance(best_ML, h_test)\n",
        "best.test"
      ],
      "metadata": {
        "colab": {
          "base_uri": "https://localhost:8080/"
        },
        "id": "F0Cv_GtZqN7J",
        "outputId": "7ba9a348-d915-4acb-ddcd-46124d82c35c"
      },
      "execution_count": null,
      "outputs": [
        {
          "output_type": "stream",
          "name": "stdout",
          "text": [
            "H2ORegressionMetrics: stackedensemble\n",
            "\n",
            "MSE:  22.28106\n",
            "RMSE:  4.720282\n",
            "MAE:  3.03966\n",
            "RMSLE:  0.5141931\n",
            "Mean Residual Deviance :  22.28106\n",
            "\n"
          ]
        }
      ]
    },
    {
      "cell_type": "code",
      "source": [
        "%%R\n",
        "test.xy<-test %>% dplyr::select(x, y, SOC)\n",
        "best.ML<-as.data.frame(h2o.predict(object = best_ML, newdata = h_test))\n",
        "test.xy$Pred_SOC<-best.ML$predict"
      ],
      "metadata": {
        "id": "FdbycpHeHG-c"
      },
      "execution_count": null,
      "outputs": []
    },
    {
      "cell_type": "code",
      "source": [
        "%%R\n",
        "RMSE<- Metrics::rmse(test.xy$SOC, test.xy$Pred_SOC)\n",
        "MAE<- Metrics::mae(test.xy$SOC, test.xy$Pred_SOC)\n",
        "\n",
        "# Print results\n",
        "paste0(\"RMSE: \", round(RMSE,2))\n",
        "paste0(\"MAE: \", round(MAE,2))\n"
      ],
      "metadata": {
        "colab": {
          "base_uri": "https://localhost:8080/"
        },
        "id": "k8I8keMN_VQV",
        "outputId": "6fe0fa7a-7098-45d0-ebb5-7a5c780455b0"
      },
      "execution_count": null,
      "outputs": [
        {
          "output_type": "stream",
          "name": "stdout",
          "text": [
            "[1] \"MAE: 3.04\"\n"
          ]
        }
      ]
    },
    {
      "cell_type": "code",
      "source": [
        "%%R -w 450 -h 400 -u px\n",
        "\n",
        "formula<-y~x\n",
        "ggplot(test.xy, aes(SOC,Pred_SOC)) +\n",
        "  geom_point() +\n",
        "  geom_smooth(method = \"lm\")+\n",
        "  stat_poly_eq(use_label(c(\"eq\", \"adj.R2\")), formula = formula) +\n",
        "  ggtitle(\"Best-ML\") +\n",
        "  xlab(\"Observed\") + ylab(\"Predicted\") +\n",
        "  scale_x_continuous(limits=c(0,25), breaks=seq(0, 25, 5))+\n",
        "  scale_y_continuous(limits=c(0,25), breaks=seq(0, 25, 5)) +\n",
        "  # Flip the bars\n",
        "  theme(\n",
        "    panel.background = element_rect(fill = \"grey95\",colour = \"gray75\",size = 0.5, linetype = \"solid\"),\n",
        "    axis.line = element_line(colour = \"grey\"),\n",
        "    plot.title = element_text(size = 14, hjust = 0.5),\n",
        "    axis.title.x = element_text(size = 14),\n",
        "    axis.title.y = element_text(size = 14),\n",
        "    axis.text.x=element_text(size=13, colour=\"black\"),\n",
        "    axis.text.y=element_text(size=13,angle = 90,vjust = 0.5, hjust=0.5, colour='black'))"
      ],
      "metadata": {
        "colab": {
          "base_uri": "https://localhost:8080/",
          "height": 435
        },
        "id": "KaTQvxLVHMvG",
        "outputId": "91db185e-da87-498c-9df3-c9e5528e87ed"
      },
      "execution_count": 147,
      "outputs": [
        {
          "output_type": "stream",
          "name": "stdout",
          "text": [
            "`geom_smooth()` using formula = 'y ~ x'\n"
          ]
        },
        {
          "output_type": "display_data",
          "data": {
            "image/png": "[encoded data removed]"
          },
          "metadata": {}
        }
      ]
    },
    {
      "cell_type": "markdown",
      "source": [
        "<a name=\"automl-tidymodel\"></a>\n",
        "## **AutoML H2O with tidymodel**\n",
        "\n",
        "utoML could be particularly insightful as an exploratory approach to identify model families and parameterization that is most likely to succeed. You can use H2O’s AutoML algorithm via the 'h2o' engine in **auto_ml()**. R package **agua** provides several helper functions to quickly wrangle and visualize H2O AutoML’s results.\n",
        "\n",
        "The agua package provides tidymodels interface to the H2O platform and the h2o R package. It has two main components\n",
        "\n",
        "* new parsnip engine 'h2o' for the following models:\n",
        "\n",
        "* linear_reg(), logistic_reg(), poisson_reg(), multinom_reg(): All fit penalized generalized linear models. If the model parameters penalty and mixture are not specified, h2o will internally search for the optimal regularization settings.\n",
        "\n",
        "* boost_tree(): . Fits boosted trees via xgboost. Use h2o::h2o.xgboost.available() to see if h2o’s xgboost is supported on your machine. For classical gradient boosting, use the 'h2o_gbm' engine.\n",
        "\n",
        "* rand_forest(): Random forest models.\n",
        "\n",
        "* naive_Bayes(): Naive Bayes models.\n",
        "\n",
        "* rule_fit(): RuleFit models.\n",
        "\n",
        "* mlp(): Multi-layer feedforward neural networks.\n",
        "\n",
        "* auto_ml(): Automatic machine learning."
      ],
      "metadata": {
        "id": "q1R_tdvdyzs_"
      }
    },
    {
      "cell_type": "markdown",
      "source": [
        "#### Data"
      ],
      "metadata": {
        "id": "h_ViaHhy26O9"
      }
    },
    {
      "cell_type": "code",
      "source": [
        "%%R\n",
        "# Import data\n",
        "urlfile = \"https://github.com//zia207/r-colab/raw/main/Data/Machine_Learning/GP_all_data.csv\"\n",
        "mf<-read_csv(url(urlfile))\n",
        "\n",
        "# Create a data-frame\n",
        "df<-mf %>% dplyr::select(SOC, ELEV, Slope, Aspect, TPI, K_Factor, Silt_Clay, MAT, MAP,NDVI, NLCD, FRG)%>%\n",
        "    glimpse()\n",
        "\n",
        "# convet factor\n",
        "df$NLCD <- as.factor(df$NLCD)\n",
        "df$FRG <- as.factor(df$FRG)\n",
        "\n",
        "# Split data\n",
        "set.seed(1245)   # for reproducibility\n",
        "split <- initial_split(df, prop = 0.8, strata = SOC)\n",
        "train <- split %>% training()\n",
        "test <-  split %>% testing()\n",
        "# Set 10 fold cross-validation data set\n",
        "cv_folds <- vfold_cv(train, v = 5)\n"
      ],
      "metadata": {
        "colab": {
          "base_uri": "https://localhost:8080/"
        },
        "id": "Aba8aaNL29XC",
        "outputId": "882fa8a1-18b5-4304-daea-e8f2bef70df8"
      },
      "execution_count": 130,
      "outputs": [
        {
          "output_type": "stream",
          "name": "stdout",
          "text": [
            "Rows: 471 Columns: 21\n",
            "── Column specification ────────────────────────────────────────────────────────\n",
            "Delimiter: \",\"\n",
            "chr  (4): STATE, COUNTY, NLCD_DES, FRG_DES\n",
            "dbl (17): ID, STATE_ID, FIPS, x, y, SOC, ELEV, Aspect, Slope, TPI, K_Factor,...\n",
            "\n",
            "ℹ Use `spec()` to retrieve the full column specification for this data.\n",
            "ℹ Specify the column types or set `show_col_types = FALSE` to quiet this message.\n",
            "Rows: 471\n",
            "Columns: 12\n",
            "$ SOC       <dbl> 7.256, 4.594, 5.995, 11.220, 5.388, 1.619, 3.842, 10.276, 0.…\n",
            "$ ELEV      <dbl> 272.6797, 2261.7820, 2404.1121, 2281.4246, 277.6634, 2317.49…\n",
            "$ Slope     <dbl> 1.429968, 4.874323, 6.680480, 7.745950, 2.923675, 2.635038, …\n",
            "$ Aspect    <dbl> 185.0404, 222.3785, 183.5729, 173.1285, 168.1043, 193.8056, …\n",
            "$ TPI       <dbl> 1.0744587, -1.4409482, 7.7656183, -3.2823703, -0.4226714, -1…\n",
            "$ K_Factor  <dbl> 0.3255294, 0.2486000, 0.0590000, 0.2847475, 0.3750685, 0.249…\n",
            "$ Silt_Clay <dbl> 77.16470, 40.66200, 53.73600, 46.83738, 62.83973, 38.42100, …\n",
            "$ MAT       <dbl> 13.748117, 8.162200, 6.890750, 8.533788, 14.152466, 8.189600…\n",
            "$ MAP       <dbl> 1099.3408, 410.5008, 568.7746, 391.4978, 1013.7034, 368.2008…\n",
            "$ NDVI      <dbl> 0.6943141, 0.3705533, 0.6434158, 0.3530265, 0.7292835, 0.283…\n",
            "$ NLCD      <dbl> 7, 4, 4, 4, 6, 5, 4, 4, 5, 4, 4, 6, 4, 4, 4, 5, 4, 5, 4, 5, …\n",
            "$ FRG       <dbl> 1, 1, 1, 1, 1, 1, 1, 1, 1, 1, 1, 1, 1, 1, 1, 1, 1, 1, 1, 2, …\n"
          ]
        }
      ]
    },
    {
      "cell_type": "markdown",
      "source": [
        "### Create a recipe"
      ],
      "metadata": {
        "id": "LsTnRtLs3Nua"
      }
    },
    {
      "cell_type": "code",
      "source": [
        "%%R\n",
        "auto_recipe <-\n",
        "  recipe(SOC ~ ., data = train) %>%\n",
        "  step_zv(all_predictors()) %>%\n",
        "  step_dummy(all_nominal()) %>%\n",
        "  step_normalize(all_numeric_predictors())"
      ],
      "metadata": {
        "id": "MzdYHA0C3Tu6"
      },
      "execution_count": 133,
      "outputs": []
    },
    {
      "cell_type": "markdown",
      "source": [
        "### H20 model specification"
      ],
      "metadata": {
        "id": "YxBN35ee3b7R"
      }
    },
    {
      "cell_type": "code",
      "source": [
        "%%R\n",
        "auto_spec <-\n",
        "  auto_ml() %>%\n",
        "  set_engine(\"h2o\", max_runtime_secs = 900, seed = 45) %>%\n",
        "  set_mode(\"regression\")"
      ],
      "metadata": {
        "id": "AZpRGjyiz_F4"
      },
      "execution_count": 137,
      "outputs": []
    },
    {
      "cell_type": "markdown",
      "source": [
        "### AutoML workflow"
      ],
      "metadata": {
        "id": "pFYdHxZC3wT6"
      }
    },
    {
      "cell_type": "code",
      "source": [
        "%%R\n",
        "auto_wflow <-\n",
        "  workflow() %>%\n",
        "  add_model(auto_spec) %>%\n",
        "  add_recipe(auto_recipe)"
      ],
      "metadata": {
        "id": "pZGlHGPq3weT"
      },
      "execution_count": 138,
      "outputs": []
    },
    {
      "cell_type": "markdown",
      "source": [
        "### Fit AutoML"
      ],
      "metadata": {
        "id": "XvhnSFnJ4Eox"
      }
    },
    {
      "cell_type": "code",
      "source": [
        "%%R\n",
        "auto_fit <- fit(auto_wflow,\n",
        "                data = train)"
      ],
      "metadata": {
        "id": "rib7dvOX4HRY"
      },
      "execution_count": 139,
      "outputs": []
    },
    {
      "cell_type": "markdown",
      "source": [
        "### Create a [parsnip](https://hardhat.tidymodels.org/reference/hardhat-extract.html) model object\n",
        "\n",
        "**extract_fit_parsnip()** returns a parsnip model fit"
      ],
      "metadata": {
        "id": "-80A8GUq4RFm"
      }
    },
    {
      "cell_type": "code",
      "source": [
        "%%R\n",
        "extract_fit_parsnip(auto_fit)"
      ],
      "metadata": {
        "colab": {
          "base_uri": "https://localhost:8080/"
        },
        "id": "3z_b2QBc4RRc",
        "outputId": "ad334a28-4d45-4e66-eb37-c3968b5bb675"
      },
      "execution_count": 140,
      "outputs": [
        {
          "output_type": "stream",
          "name": "stdout",
          "text": [
            "parsnip model object\n",
            "\n",
            "════════════════════════ H2O AutoML Summary: 106 models ════════════════════════ \n",
            "Leader Algorithm: gbm\n",
            " \n",
            "Leader ID: GBM_grid_1_AutoML_4_20231025_173205_model_30\n",
            " \n",
            "══════════════════════════════════ Leaderboard ═════════════════════════════════ \n",
            "                                                 model_id     rmse      mse\n",
            "1            GBM_grid_1_AutoML_4_20231025_173205_model_30 3.718464 13.82697\n",
            "2                          DRF_1_AutoML_4_20231025_173205 3.720092 13.83909\n",
            "3 StackedEnsemble_BestOfFamily_6_AutoML_4_20231025_173205 3.735362 13.95293\n",
            "4                          GBM_5_AutoML_4_20231025_173205 3.736400 13.96068\n",
            "5            GBM_grid_1_AutoML_4_20231025_173205_model_12 3.740310 13.98992\n",
            "6            GBM_grid_1_AutoML_4_20231025_173205_model_11 3.747182 14.04137\n",
            "       mae     rmsle mean_residual_deviance\n",
            "1 2.618423 0.5090533               13.82697\n",
            "2 2.652222 0.5199565               13.83909\n",
            "3 2.660338       NaN               13.95293\n",
            "4 2.647941 0.5122655               13.96068\n",
            "5 2.634977 0.5157967               13.98992\n",
            "6 2.657305 0.5118696               14.04137\n"
          ]
        }
      ]
    },
    {
      "cell_type": "markdown",
      "source": [
        "### Rank results\n",
        "\n",
        "**rank_results(**) returns the leaderboard in a tidy format with rankings within each metric. A low rank means good performance in a metric. Here, the top 5 models with the smallest MAE includes are four stacked ensembles and one GBM model."
      ],
      "metadata": {
        "id": "xoY9sjSI4kC0"
      }
    },
    {
      "cell_type": "code",
      "source": [
        "%%R\n",
        "rank_results(auto_fit) %>%\n",
        "  filter(.metric == \"rmse\") %>%\n",
        "  arrange(rank)"
      ],
      "metadata": {
        "colab": {
          "base_uri": "https://localhost:8080/"
        },
        "id": "2DxNTfHZ4kL0",
        "outputId": "f56df654-1a19-4b0b-dfcf-70b2e6f0391a"
      },
      "execution_count": 141,
      "outputs": [
        {
          "output_type": "stream",
          "name": "stdout",
          "text": [
            "# A tibble: 106 × 5\n",
            "   id                                              algorithm .metric  mean  rank\n",
            "   <chr>                                           <chr>     <chr>   <dbl> <int>\n",
            " 1 StackedEnsemble_AllModels_4_AutoML_4_20231025_… stacking  rmse     3.72     1\n",
            " 2 DRF_1_AutoML_4_20231025_173205                  random f… rmse     3.72     2\n",
            " 3 StackedEnsemble_BestOfFamily_6_AutoML_4_202310… stacking  rmse     3.72     3\n",
            " 4 StackedEnsemble_BestOfFamily_4_AutoML_4_202310… stacking  rmse     3.72     4\n",
            " 5 StackedEnsemble_AllModels_6_AutoML_4_20231025_… stacking  rmse     3.74     5\n",
            " 6 StackedEnsemble_Best1000_1_AutoML_4_20231025_1… stacking  rmse     3.74     6\n",
            " 7 GBM_5_AutoML_4_20231025_173205                  gradient… rmse     3.75     7\n",
            " 8 GBM_grid_1_AutoML_4_20231025_173205_model_30    gradient… rmse     3.75     8\n",
            " 9 StackedEnsemble_BestOfFamily_3_AutoML_4_202310… stacking  rmse     3.76     9\n",
            "10 GBM_grid_1_AutoML_4_20231025_173205_model_38    gradient… rmse     3.76    10\n",
            "# ℹ 96 more rows\n",
            "# ℹ Use `print(n = ...)` to see more rows\n"
          ]
        }
      ]
    },
    {
      "cell_type": "markdown",
      "source": [
        "### Collect metrics\n",
        "\n",
        "**collect_metrics()** returns average statistics of performance metrics (summarized) per model, or raw value for each resample (unsummarized). cv_id identifies the resample h2o internally used for optimization."
      ],
      "metadata": {
        "id": "hILclJVz9DRj"
      }
    },
    {
      "cell_type": "code",
      "source": [
        "%%R\n",
        "collect_metrics(auto_fit, summarize = FALSE)"
      ],
      "metadata": {
        "colab": {
          "base_uri": "https://localhost:8080/"
        },
        "id": "NgASV-X39NWg",
        "outputId": "e8ad73c3-b6f9-47fb-c456-b50ae0df994c"
      },
      "execution_count": 143,
      "outputs": [
        {
          "output_type": "stream",
          "name": "stdout",
          "text": [
            "# A tibble: 3,775 × 5\n",
            "   id                                          algorithm .metric cv_id .estimate\n",
            "   <chr>                                       <chr>     <chr>   <chr>     <dbl>\n",
            " 1 GBM_grid_1_AutoML_4_20231025_173205_model_… gradient… mae     cv_1…      2.12\n",
            " 2 GBM_grid_1_AutoML_4_20231025_173205_model_… gradient… mae     cv_2…      2.94\n",
            " 3 GBM_grid_1_AutoML_4_20231025_173205_model_… gradient… mae     cv_3…      2.71\n",
            " 4 GBM_grid_1_AutoML_4_20231025_173205_model_… gradient… mae     cv_4…      2.85\n",
            " 5 GBM_grid_1_AutoML_4_20231025_173205_model_… gradient… mae     cv_5…      2.61\n",
            " 6 GBM_grid_1_AutoML_4_20231025_173205_model_… gradient… mean_r… cv_1…      9.97\n",
            " 7 GBM_grid_1_AutoML_4_20231025_173205_model_… gradient… mean_r… cv_2…     16.0 \n",
            " 8 GBM_grid_1_AutoML_4_20231025_173205_model_… gradient… mean_r… cv_3…     18.2 \n",
            " 9 GBM_grid_1_AutoML_4_20231025_173205_model_… gradient… mean_r… cv_4…     14.8 \n",
            "10 GBM_grid_1_AutoML_4_20231025_173205_model_… gradient… mean_r… cv_5…     12.2 \n",
            "# ℹ 3,765 more rows\n",
            "# ℹ Use `print(n = ...)` to see more rows\n"
          ]
        }
      ]
    },
    {
      "cell_type": "markdown",
      "source": [
        "**tidy()** returns a tibble with performance and individual model objects. This is helpful if you want to perform operations (e.g., predict) across all candidates."
      ],
      "metadata": {
        "id": "uR-07OZH9jJN"
      }
    },
    {
      "cell_type": "code",
      "source": [
        "%%R\n",
        "tidy(auto_fit) %>%\n",
        "  mutate(\n",
        "    .predictions = map(.model, predict, new_data = head(test))\n",
        "  )"
      ],
      "metadata": {
        "colab": {
          "base_uri": "https://localhost:8080/"
        },
        "id": "1J-ulyZY9jRJ",
        "outputId": "aa032bf1-cce6-4ad4-d120-c14253e51dae"
      },
      "execution_count": 145,
      "outputs": [
        {
          "output_type": "stream",
          "name": "stdout",
          "text": [
            "# A tibble: 106 × 5\n",
            "   id                                   algorithm .metric  .model   .predictions\n",
            "   <chr>                                <chr>     <list>   <list>   <list>      \n",
            " 1 GBM_grid_1_AutoML_4_20231025_173205… gradient… <tibble> <fit[+]> <tibble>    \n",
            " 2 DRF_1_AutoML_4_20231025_173205       random f… <tibble> <fit[+]> <tibble>    \n",
            " 3 StackedEnsemble_BestOfFamily_6_Auto… stacking  <tibble> <fit[+]> <tibble>    \n",
            " 4 GBM_5_AutoML_4_20231025_173205       gradient… <tibble> <fit[+]> <tibble>    \n",
            " 5 GBM_grid_1_AutoML_4_20231025_173205… gradient… <tibble> <fit[+]> <tibble>    \n",
            " 6 GBM_grid_1_AutoML_4_20231025_173205… gradient… <tibble> <fit[+]> <tibble>    \n",
            " 7 GBM_grid_1_AutoML_4_20231025_173205… gradient… <tibble> <fit[+]> <tibble>    \n",
            " 8 GBM_4_AutoML_4_20231025_173205       gradient… <tibble> <fit[+]> <tibble>    \n",
            " 9 StackedEnsemble_BestOfFamily_4_Auto… stacking  <tibble> <fit[+]> <tibble>    \n",
            "10 GBM_grid_1_AutoML_4_20231025_173205… gradient… <tibble> <fit[+]> <tibble>    \n",
            "# ℹ 96 more rows\n",
            "# ℹ Use `print(n = ...)` to see more rows\n"
          ]
        }
      ]
    },
    {
      "cell_type": "markdown",
      "source": [
        "**member_weights()** computes member importance for all stacked ensemble models. Aside from base models such as GLM, GBM and neural networks, h2o tries to fit two kinds of stacked ensembles: one combines the all base models (\"all\") and the other includes only the best model of each kind (\"bestofFamily\"), specific to a time point. Regardless of how ensembles are formed, we can calculate the variable importance in the ensemble as the importance score of every member model, i.e., the relative contribution of base models in the meta-learner. This is typically the coefficient magnitude in a second-level GLM. This way, in addition to inspecting model performances by themselves, we can find promising candidates if stacking is needed. Here, we show the scaled contribution of different algorithms in stacked ensembles"
      ],
      "metadata": {
        "id": "oWW-EdYz-Ttb"
      }
    },
    {
      "cell_type": "code",
      "source": [
        "%%R -w 450 -h 400 -u px\n",
        "auto_fit %>%\n",
        "  extract_fit_parsnip() %>%\n",
        "  member_weights() %>%\n",
        "  unnest(importance) %>%\n",
        "  filter(type == \"scaled_importance\") %>%\n",
        "  ggplot() +\n",
        "  geom_boxplot(aes(value, algorithm)) +\n",
        "  scale_x_sqrt() +\n",
        "  labs(y = NULL, x = \"scaled importance\", title = \"Member importance in stacked ensembles\")"
      ],
      "metadata": {
        "colab": {
          "base_uri": "https://localhost:8080/",
          "height": 417
        },
        "id": "rt_ziZcS-T1A",
        "outputId": "f0c49083-1394-4cbe-dcba-225aacbe249c"
      },
      "execution_count": 148,
      "outputs": [
        {
          "output_type": "display_data",
          "data": {
            "image/png": "[encoded data removed]"
          },
          "metadata": {}
        }
      ]
    },
    {
      "cell_type": "markdown",
      "source": [
        "We can also use **autoplot()** an AutoML object, which essentially wraps functions above to plot performance assessment and ranking. The lower the average ranking, the more likely the model type suits the data."
      ],
      "metadata": {
        "id": "uF6iP4CA-3AY"
      }
    },
    {
      "cell_type": "code",
      "source": [
        "%%R -w 850 -h 400 -u px\n",
        "autoplot(auto_fit, type = \"rank\", metric = c(\"mae\", \"rmse\")) +\n",
        "  theme(legend.position = \"none\")"
      ],
      "metadata": {
        "colab": {
          "base_uri": "https://localhost:8080/",
          "height": 417
        },
        "id": "1MT94Tw8-9Wt",
        "outputId": "069cea20-9d78-4535-e726-009ea0239169"
      },
      "execution_count": 149,
      "outputs": [
        {
          "output_type": "display_data",
          "data": {
            "image/png": "[encoded data removed]"
          },
          "metadata": {}
        }
      ]
    },
    {
      "cell_type": "markdown",
      "source": [
        "### Predict with the best model"
      ],
      "metadata": {
        "id": "ah19hzCW_pXA"
      }
    },
    {
      "cell_type": "code",
      "source": [
        "%%R\n",
        "# predict with the best model\n",
        "soc_pred <- predict(auto_fit, test) %>%\n",
        "  bind_cols(test)"
      ],
      "metadata": {
        "id": "SrXNxeJU_peP"
      },
      "execution_count": 151,
      "outputs": []
    },
    {
      "cell_type": "code",
      "source": [
        "%%R -w 850 -h 400 -u px\n",
        "ggplot(soc_pred, aes(x = SOC, y = .pred)) +\n",
        "  geom_point(alpha = 0.4) +\n",
        "  coord_obs_pred() +\n",
        "  labs(x = \"Observed\", y = \"Predicted\") +\n",
        "  geom_abline(linetype = \"dashed\") +\n",
        "  ggtitle(\"Best-ML\") +\n",
        "  theme(plot.title = element_text(hjust = 0.5))"
      ],
      "metadata": {
        "colab": {
          "base_uri": "https://localhost:8080/",
          "height": 417
        },
        "id": "Z8ieNPgsAaGN",
        "outputId": "04086e84-2bb8-450d-9d41-8211a823ebb5"
      },
      "execution_count": 156,
      "outputs": [
        {
          "output_type": "display_data",
          "data": {
            "image/png": "[encoded data removed]"
          },
          "metadata": {}
        }
      ]
    },
    {
      "cell_type": "markdown",
      "source": [
        "### Further Reading"
      ],
      "metadata": {
        "id": "85fbYblHwR6k"
      }
    },
    {
      "cell_type": "markdown",
      "source": [
        "1. [H2O AutoML: Automatic Machine Learning](https://docs.h2o.ai/h2o/latest-stable/h2o-docs/automl.html)\n",
        "\n",
        "2. [H20 AutoML with tydymodel](https://agua.tidymodels.org/articles/auto_ml.html)"
      ],
      "metadata": {
        "id": "B0giMBK4wUsp"
      }
    }
  ]
}