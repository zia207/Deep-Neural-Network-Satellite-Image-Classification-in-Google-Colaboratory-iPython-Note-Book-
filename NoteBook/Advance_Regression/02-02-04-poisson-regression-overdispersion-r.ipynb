{
  "nbformat": 4,
  "nbformat_minor": 0,
  "metadata": {
    "colab": {
      "provenance": [],
      "toc_visible": true,
      "authorship_tag": "ABX9TyN0wY3v15XBvsCMnlz/sinr",
      "include_colab_link": true
    },
    "kernelspec": {
      "name": "python3",
      "display_name": "Python 3"
    },
    "language_info": {
      "name": "python"
    }
  },
  "cells": [
    {
      "cell_type": "markdown",
      "metadata": {
        "id": "view-in-github",
        "colab_type": "text"
      },
      "source": [
        "<a href=\"https://colab.research.google.com/github/zia207/Deep-Neural-Network-Satellite-Image-Classification-in-Google-Colaboratory-iPython-Note-Book-/blob/master/NoteBook/Advance_Regression/02-02-04-poisson-regression-overdispersion-r.ipynb\" target=\"_parent\"><img src=\"https://colab.research.google.com/assets/colab-badge.svg\" alt=\"Open In Colab\"/></a>"
      ]
    },
    {
      "cell_type": "markdown",
      "source": [
        "![alt text](http://drive.google.com/uc?export=view&id=1bLQ3nhDbZrCCqy_WCxxckOne2lgVvn3l)"
      ],
      "metadata": {
        "id": "7pRnAcmfgMw5"
      }
    },
    {
      "cell_type": "markdown",
      "source": [
        "# 4. Poisson Regression Models for Overdispersed Data\n",
        "\n",
        "When analyzing count data, you may encounter overdispersion, which occurs when the observed variability in the data is more significant than what a standard Poisson model would predict. Overdispersion often arises in real-world datasets because natural processes can introduce more variability than a simple Poisson model can accommodate. Ignoring overdispersion can lead to underestimated standard errors, unreliable confidence intervals, and misleading conclusions.\n",
        "\n",
        "In this tutorial, we will explore methods for modeling overdispersed count data in R, focusing on approaches such as quasi-Poisson and negative binomial models, which can manage the extra variability in the data. We will begin by discussing the implications of overdispersion, then move on to fitting models from scratch and using R’s `glm()` function. After that, we’ll examine model diagnostics to detect overdispersion, evaluate the models to ensure a proper fit, and interpret incidence rate ratios (IRRs).\n"
      ],
      "metadata": {
        "id": "TYmWLaFj0649"
      }
    },
    {
      "cell_type": "markdown",
      "source": [
        "## Overview\n",
        "\n",
        "**Poisson regression** is used to model count data where the response variable represents the number of occurrences of an event. A key assumption of the Poisson model is that the **mean** and the **variance** of the response variable are equal:\n",
        "\n",
        "$$ \\text{Var}(Y) = \\mu $$\n",
        "\n",
        "Where $(Y)$ is the count response variable, and $\\mu$ is the mean (expected value) of the counts. However, in many real-world datasets, this assumption is often violated. When the variance is **greater than the mean**, the data exhibit **overdispersion**. Overdispersion can lead to underestimated standard errors and, as a result, inflated Type I error rates (i.e., falsely concluding that a predictor is significant).\n",
        "\n",
        "***Causes of Overdispersion***\n",
        "\n",
        "Overdispersion in count data can occur for several reasons, including:\n",
        "1. **Unobserved heterogeneity**: There might be additional variables or factors influencing the count data that are not included in the model.\n",
        "2. **Zero-inflation**: There might be an excess of zeros in the data compared to what the Poisson model predicts.\n",
        "3. **Clustering**: Observations within clusters may be more similar than those across clusters, leading to greater variability than assumed.\n",
        "\n",
        "***Identifying Overdispersion****\n",
        "\n",
        "-   The variance is much greater than the mean, which suggests that we will have **over-dispersion** in the model.\n",
        "\n",
        "-   **Deviance**: If the deviance is much larger than the degrees of freedom, it suggests overdispersion. We can estimate a dispersion parameter, $ϕ$ by dividing the model deviance by its corresponding degrees of freedom; i.e.,\n",
        "\n",
        "$$ ϕ^2 = \\frac{\\sum Residuals^2}{n-p} $$\n",
        "\n",
        "- If this statistic is significantly greater than 1, it suggests the presence of overdispersion.\n",
        "\n",
        "\n",
        "- You can also examine the **Pearson Chi-Square statistic** divided by the degrees of freedom as another indicator of overdispersion.\n",
        "\n",
        "***Handling Overdispersion in Poisson Regression***\n",
        "\n",
        "When overdispersion is present, Poisson regression is not appropriate, and alternative models are needed. There are several approaches to address overdispersion:\n",
        "\n",
        "1. **Quasi-Poisson Regression**: A simple extension where the Poisson model is adjusted to allow for overdispersion by adding a dispersion parameter.\n",
        "2. **Negative Binomial Regression**: A more flexible model that explicitly accounts for overdispersion by allowing the variance to differ from the mean.\n",
        "3. **Zero-Inflated Models**: Useful when the overdispersion is caused by excess zeros in the data.\n",
        "\n"
      ],
      "metadata": {
        "id": "MJyJN_Lzu9Cq"
      }
    },
    {
      "cell_type": "markdown",
      "source": [
        "## Install rpy2"
      ],
      "metadata": {
        "id": "GwxaNxX_8Nka"
      }
    },
    {
      "cell_type": "code",
      "source": [
        "!pip uninstall rpy2 -y\n",
        "!pip install rpy2==3.5.1\n",
        "%load_ext rpy2.ipython"
      ],
      "metadata": {
        "id": "EberlArB8RiA"
      },
      "execution_count": null,
      "outputs": []
    },
    {
      "cell_type": "markdown",
      "source": [
        "## Mount Google Drive"
      ],
      "metadata": {
        "id": "914rwUP_8UNK"
      }
    },
    {
      "cell_type": "code",
      "source": [
        "from google.colab import drive\n",
        "drive.mount('/content/drive')"
      ],
      "metadata": {
        "colab": {
          "base_uri": "https://localhost:8080/"
        },
        "id": "L_nRDgt78RjZ",
        "outputId": "b1f53e90-87ac-4f12-bb93-f1293af8f2fb"
      },
      "execution_count": null,
      "outputs": [
        {
          "output_type": "stream",
          "name": "stdout",
          "text": [
            "Mounted at /content/drive\n"
          ]
        }
      ]
    },
    {
      "cell_type": "markdown",
      "source": [
        "## Quasi-Poisson model\n",
        "\n",
        "**Quasi-Poisson** regression addresses the issue of overdispersion by allowing the variance to be a multiple of the mean, rather than strictly equal to the mean in traditional Poisson regression. This multiple, known as the dispersion parameter, is estimated from the data. By relaxing the assumption of equal mean and variance, quasi-Poisson regression can provide a more flexible model that better fits count data with overdispersion.\n",
        "\n",
        "The quasi-Poisson model is a generalized linear model used for count data that assumes the variance of the response variable is proportional to its mean. It's particularly useful when dealing with count data that exhibits overdispersion, where the variance is greater than the mean.\n",
        "\n",
        "Let's denote the response variable as $Y$, the predictor variables as $X_1, X_2, ..., X_p$, and the parameters of the model as $\\beta_0, \\beta_1, ..., \\beta_p$. The model can be represented as:\n",
        "\n",
        "$$ Y \\sim \\text{Poisson}(\\lambda) $$\n",
        "\n",
        "where $\\lambda$ is the mean parameter of the Poisson distribution, given by:\n",
        "\n",
        "$$ \\lambda = \\exp(\\beta_0 + \\beta_1X_1 + \\beta_2X_2 + ... + \\beta_pX_p) $$\n",
        "\n",
        "In the quasi-Poisson model, the variance of $Y$ is allowed to be a multiple $\\phi$ of the mean, so the variance function is given by:\n",
        "\n",
        "$$ \\text{Var}(Y) = \\phi \\lambda $$\n",
        "\n",
        "where $\\phi$ is the dispersion parameter. When $\\phi = 1$, the quasi-Poisson model reduces to a standard Poisson model. When $\\phi > 1$, it indicates overdispersion, and when $\\phi < 1$, it indicates underdispersion.\n",
        "\n",
        "The estimation of parameters $\\beta_0, \\beta_1, ..., \\beta_p$ in a quasi-Poisson model is typically done using **maximum likelihood estimation (MLE)**. Maximum Likelihood Estimation (MLE) is a method used for estimating the parameters of a statistical model. It's based on the principle of maximizing the likelihood function, which represents the probability of observing the given data given the parameters of the model.Additionally, the dispersion parameter $\\phi$ can also be estimated from the data.\n",
        "\n",
        "Quasi-Poisson regression is particularly useful for count data where there may be unobserved or unaccounted-for sources of variation leading to greater variability than expected under a strict Poisson distribution. It is commonly used in fields such as epidemiology, ecology, and social sciences where count data is prevalent..\n",
        "\n",
        "Below is a summary of the comparison between Poisson inference, which assumes no overdispersion, and quasi-Poisson inference, which accounts for overdispersion, in terms of tests and confidence intervals.\n",
        "\n",
        "![alt text](http://drive.google.com/uc?export=view&id=1Kgt4w6dy9qHclF_X8nzoV1tz3nOKGcSO)\n",
        "\n",
        "\n",
        "(Source: [Paul Roback and Julie Legler, 2021, Chapter 4 Poisson Regression. Beyond Multiple Linear Regression](https://bookdown.org/roback/bookdown-BeyondMLR/ch-poissonreg.html#sec-overdispPois))\n",
        "\n",
        "\n",
        "To fit a Quasi-Poisson model manually without using `glm()` function in R, you can follow will steps below:\n",
        "\n",
        "* Create a sample dataset with overdispersion\n",
        "* Fit a  Poisson model\n",
        "* Estimate overdispersion parameter\n",
        "* Adjusting Standard Errors, t-test and Confidence Intervals"
      ],
      "metadata": {
        "id": "ORg6LvLVg2Vs"
      }
    },
    {
      "cell_type": "markdown",
      "source": [
        "### Generate a Sample Data\n",
        "\n",
        "To create overdispersed count data for a Poisson regression model with 4 covariates and an offset, we can start with a basic Poisson model, then introduce extra variability by adding random noise from a Gamma distribution (often used to simulate overdispersion)."
      ],
      "metadata": {
        "id": "bR-gfBu-6eGt"
      }
    },
    {
      "cell_type": "code",
      "source": [
        "%%R\n",
        "# set seed\n",
        "set.seed(42)  # for reproducibility\n",
        "\n",
        "# Number of observations\n",
        "n <- 500\n",
        "\n",
        "# Generate covariates\n",
        "x1 <- rnorm(n)\n",
        "x2 <- rnorm(n)\n",
        "x3 <- rnorm(n)\n",
        "x4 <- rnorm(n)\n",
        "\n",
        "# Generate offset variable (positive values, often log-transformed)\n",
        "offset_var <- log(1 + abs(rnorm(n)))\n",
        "\n",
        "# Define the true coefficients for each covariate and the intercept\n",
        "beta <- c(0.5, -0.3, 0.2, 0.1, 0.7)  # intercept and 4 coefficients\n",
        "\n",
        "# Calculate the linear predictor (eta) and expected Poisson mean\n",
        "eta <- beta[1] + beta[2] * x1 + beta[3] * x2 + beta[4] * x3 + beta[5] * x4 + offset_var\n",
        "mu <- exp(eta)  # Poisson mean\n",
        "\n",
        "# Add overdispersion by using a Gamma distribution to introduce extra variation\n",
        "# Gamma mean = 1, shape parameter controls the level of overdispersion\n",
        "# Smaller shape (e.g., < 1) introduces more overdispersion\n",
        "shape_param <- 0.5\n",
        "overdispersion_noise <- rgamma(n, shape = shape_param, scale = 1 / shape_param)\n",
        "\n",
        "# Multiply the Poisson mean by the overdispersion noise to get the final mean\n",
        "y_overdispersed <- rpois(n, lambda = mu * overdispersion_noise)\n",
        "\n",
        "# Compile into a data frame\n",
        "data <- data.frame(y = y_overdispersed, x1 = x1, x2 = x2, x3 = x3, x4 = x4, offset_var = offset_var)\n",
        "\n",
        "# View the structure and first few rows of the data to check\n",
        "head(data)"
      ],
      "metadata": {
        "colab": {
          "base_uri": "https://localhost:8080/"
        },
        "id": "QMqS1egA6jJq",
        "outputId": "610ad416-7b39-4c04-ee24-5b7321e8ed89"
      },
      "execution_count": null,
      "outputs": [
        {
          "output_type": "stream",
          "name": "stdout",
          "text": [
            "  y         x1           x2         x3         x4 offset_var\n",
            "1 0  1.3709584  1.029140719  2.3250585 -0.6013830  0.2236059\n",
            "2 3 -0.5646982  0.914774868  0.5241222 -0.1358161  0.2452369\n",
            "3 0  0.3631284 -0.002456267  0.9707334 -0.9872728  1.0023714\n",
            "4 0  0.6328626  0.136009552  0.3769734  0.8319250  1.1008448\n",
            "5 0  0.4042683 -0.720153545 -0.9959334 -0.7950595  0.8293412\n",
            "6 0 -0.1061245 -0.198124330 -0.5974829  0.3404646  0.3117683\n"
          ]
        }
      ]
    },
    {
      "cell_type": "markdown",
      "source": [
        "### Fit a Poisson Model with Offset\n",
        "\n",
        "Define the Poisson log-likelihood function and maximize it with `optim()`"
      ],
      "metadata": {
        "id": "rgcpsE1a6t3t"
      }
    },
    {
      "cell_type": "code",
      "source": [
        "%%R\n",
        "# Log-likelihood function for Poisson regression with offset\n",
        "poisson_log_likelihood_offset <- function(params) {\n",
        "  beta0 <- params[1]\n",
        "  beta1 <- params[2]\n",
        "  beta2 <- params[3]\n",
        "  beta3 <- params[4]\n",
        "  beta4 <- params[5]\n",
        "\n",
        "  # Compute lambda (expected counts)\n",
        "  lambda <- exp(beta0 + beta1 * data$x1 + beta2 * data$x2 + beta3 * data$x3 + beta4 * data$x4 + data$offset)\n",
        "\n",
        "  # Log-likelihood for Poisson with offset\n",
        "  log_likelihood <- sum(dpois(data$y, lambda, log = TRUE))\n",
        "\n",
        "  return(-log_likelihood)  # Negative for minimization\n",
        "}\n",
        "\n",
        "# Initial guesses for beta coefficients\n",
        "initial_params <- rep(0, 5)\n",
        "\n",
        "# Use optim to find MLEs for the coefficients\n",
        "fit <- optim(par = initial_params, fn = poisson_log_likelihood_offset, hessian = TRUE)\n",
        "\n",
        "# Extract parameter estimates and standard errors\n",
        "coefficients <- fit$par\n",
        "std_errors <- sqrt(diag(solve(fit$hessian)))\n",
        "\n",
        "# Calculate Z-scores and p-values\n",
        "z_scores <- coefficients / std_errors\n",
        "p_values <- 2 * (1 - pnorm(abs(z_scores)))\n",
        "\n",
        "# Create summary table\n",
        "summary_table <- data.frame(\n",
        "  Coefficient = coefficients,\n",
        "  Std_Error = std_errors,\n",
        "  Z_value = z_scores,\n",
        "  P_value = p_values\n",
        ")\n",
        "\n",
        "# Assign row names for clarity\n",
        "row.names(summary_table) <- c(\"Intercept\", \"x1\", \"x2\", \"x3\", \"x4\")\n",
        "\n",
        "# Display summary table\n",
        "print(summary_table)"
      ],
      "metadata": {
        "colab": {
          "base_uri": "https://localhost:8080/"
        },
        "id": "1xPu-ER76ulg",
        "outputId": "5d14e4b7-f44c-437a-eca3-4a65f85ba9cf"
      },
      "execution_count": null,
      "outputs": [
        {
          "output_type": "stream",
          "name": "stdout",
          "text": [
            "          Coefficient  Std_Error    Z_value      P_value\n",
            "Intercept   0.4648224 0.02897226  16.043705 0.000000e+00\n",
            "x1         -0.3138090 0.02326024 -13.491220 0.000000e+00\n",
            "x2          0.2589814 0.02190686  11.821935 0.000000e+00\n",
            "x3          0.1763499 0.02448229   7.203165 5.884182e-13\n",
            "x4          0.6133713 0.02316479  26.478603 0.000000e+00\n"
          ]
        }
      ]
    },
    {
      "cell_type": "markdown",
      "source": [
        "### Estimate Overdispersion Parameter\n",
        "\n",
        "In a Quasi-Poisson model, overdispersion can be accounted for by using the estimated dispersion parameter to adjust model fit statistics, including the standard errors of the coefficient estimates, hypothesis tests, and other inferential measures. Here’s a detailed explanation of how this works:"
      ],
      "metadata": {
        "id": "ZTMFYYnC61e0"
      }
    },
    {
      "cell_type": "code",
      "source": [
        "%%R\n",
        "# estimaates\n",
        "estimates <- fit$par\n",
        "names(estimates ) <- c(\"beta0\", \"beta1\", \"beta2\", \"beta3\", \"beta4\")\n",
        "# Calculate fitted values\n",
        "lambda_hat <- exp(estimates[1] + estimates[2] * data$x1 + estimates[3] * data$x2 +\n",
        "                  estimates[4] * data$x3 + estimates[5] * data$x4 + data$offset)\n",
        "\n",
        "\n",
        "# Calculate Pearson residuals\n",
        "pearson_residuals <- (data$y - lambda_hat) / sqrt(lambda_hat)\n",
        "\n",
        "# Calculate dispersion statistic\n",
        "dispersion_statistic <- sum(pearson_residuals^2) / (n - length(estimates))\n",
        "\n",
        "# Display dispersion statistic\n",
        "cat(\"Dispersion Statistic:\", dispersion_statistic, \"\\n\")\n",
        "\n",
        "# If the dispersion statistic is much greater than 1, overdispersion is present\n",
        "if (dispersion_statistic > 1.2) {\n",
        "  cat(\"Warning: Evidence of overdispersion\\n\")\n",
        "} else {\n",
        "  cat(\"No evidence of overdispersion\\n\")\n",
        "}"
      ],
      "metadata": {
        "colab": {
          "base_uri": "https://localhost:8080/"
        },
        "id": "uyrVkfYC62L7",
        "outputId": "a4a20e73-e92e-4814-f318-25cbfc559530"
      },
      "execution_count": null,
      "outputs": [
        {
          "output_type": "stream",
          "name": "stdout",
          "text": [
            "Dispersion Statistic: 8.619667 \n",
            "Warning: Evidence of overdispersion\n"
          ]
        }
      ]
    },
    {
      "cell_type": "markdown",
      "source": [
        "### Adjusting Standard Errors, t-test and Confidence Intervals\n",
        "\n",
        "When overdispersion is present, the standard errors calculated in a Poisson model underestimate the variability in the data. In the Quasi-Poisson approach, the standard errors are adjusted by multiplying by the square root of the dispersion parameter, $\\phi$ (also called the quasi-likelihood variance or scale parameter).\n",
        "\n",
        "If the dispersion parameter, $\\phi$, is estimated as:\n",
        "\n",
        "$$ \\phi = \\frac{\\sum (y_i - \\hat{y}_i)^2 / \\hat{y}_i}{n - p} $$\n",
        "\n",
        "where: - $y_i$ is the observed response, - $\\hat{y}_i$ is the fitted response, - $n$ is the number of observations, and - $p$ is the number of estimated parameters in the model.\n",
        "\n",
        "Then, the adjusted standard error of each coefficient, $SE_{\\text{adjusted}}$, is calculated as:\n",
        "\n",
        "$$ SE_{\\text{adjusted}} = SE_{\\text{Poisson}} \\times \\sqrt{\\phi}$$\n",
        "\n",
        "where $SE_{\\text{Poisson}}$ is the standard error from the original Poisson model.\n",
        "\n",
        "With the adjusted standard errors, hypothesis tests for coefficients (using $t$-tests) and confidence intervals are also adjusted. For each coefficient ( \\beta\\_j ):\n",
        "\n",
        "-   **Adjusted** $t$-statistic: The $t$-statistic is calculated as $t_j = \\frac{\\hat{\\beta_j}}{SE_{\\text{adjusted}}}$.\n",
        "\n",
        "-   **Confidence Intervals:** Adjusted confidence intervals are calculated as:\n",
        "\n",
        "$$  \\text{CI}_{j} = \\hat{\\beta_j} \\pm t_{\\alpha/2, \\, \\text{df}} \\times SE_{\\text{adjusted}} $$\n",
        "\n",
        "where $t_{\\alpha/2, \\, \\text{df}}$ is the critical $t$-value for the desired confidence level and degrees of freedom.\n",
        "\n",
        "### Adjusting Model Fit Statistics (e.g., Deviance and Residual Deviance)\n",
        "\n",
        "For model comparison, such as comparing deviances between models or calculating residual deviance:\n",
        "\n",
        "-   The **Quasi-Poisson deviance** can be approximated as the residual deviance from the Poisson model divided by the estimated dispersion, $\\phi$:\n",
        "\n",
        "    $$  \\text{Quasi-Poisson Deviance} = \\frac{\\text{Poisson Residual Deviance}}{\\phi} $$\n",
        "\n",
        "We will can manually adjust standard errors, hypothesis tests, and confidence intervals.\n"
      ],
      "metadata": {
        "id": "mOyb1F9u69dZ"
      }
    },
    {
      "cell_type": "code",
      "source": [
        "%%R\n",
        "# Poisson model coefficients and standard errors\n",
        "poisson_coef <- fit$par\n",
        "poisson_se<- sqrt(diag(solve(fit$hessian)))\n",
        "\n",
        "\n",
        "# Adjust standard errors by the square root of dispersion\n",
        "adjusted_se <- poisson_se * sqrt(dispersion_statistic )\n",
        "\n",
        "# Adjusted t-values\n",
        "t_values <- poisson_coef / adjusted_se\n",
        "\n",
        "# Confidence intervals\n",
        "alpha <- 0.05\n",
        "critical_value <- qt(1 - alpha / 2, df = n - length(poisson_coef))\n",
        "conf_intervals <- cbind(poisson_coef - critical_value * adjusted_se,\n",
        "                        poisson_coef + critical_value * adjusted_se)\n",
        "\n",
        "# Output results\n",
        "data.frame(Coefficients = poisson_coef,\n",
        "           `Adjusted SE` = adjusted_se,\n",
        "           `t-value` = t_values,\n",
        "           `CI Lower` = conf_intervals[,1],\n",
        "           `CI Upper` = conf_intervals[,2])"
      ],
      "metadata": {
        "colab": {
          "base_uri": "https://localhost:8080/"
        },
        "id": "BO6VgLiE7Se7",
        "outputId": "74395533-8539-4f98-99b7-6539bd79db34"
      },
      "execution_count": null,
      "outputs": [
        {
          "output_type": "stream",
          "name": "stdout",
          "text": [
            "  Coefficients Adjusted.SE   t.value    CI.Lower   CI.Upper\n",
            "1    0.4648224  0.08506044  5.464613  0.29769836  0.6319464\n",
            "2   -0.3138090  0.06829036 -4.595217 -0.44798370 -0.1796343\n",
            "3    0.2589814  0.06431694  4.026645  0.13261359  0.3853493\n",
            "4    0.1763499  0.07187820  2.453455  0.03512594  0.3175739\n",
            "5    0.6133713  0.06801014  9.018822  0.47974716  0.7469954\n"
          ]
        }
      ]
    },
    {
      "cell_type": "markdown",
      "source": [
        "This table provides adjusted standard errors, $t$-values, and confidence intervals for the coefficients, accounting for overdispersion in the Quasi-Poisson model."
      ],
      "metadata": {
        "id": "jTT0Jdy87guN"
      }
    },
    {
      "cell_type": "markdown",
      "source": [
        "## Negative Binomial Regression *Model*\n",
        "\n",
        "When dealing with overdispersion, one alternative approach is to use a negative binomial model instead of a Poisson distribution. This approach introduces an additional parameter in addition to the mean parameter, $λ$, which gives the model *more* flexibility to handle a wider range of count data. This means that the negative binomial model can accommodate situations where the variance is greater than the mean, which is often the case in count data.\n",
        "\n",
        "In contrast to the quasi-Poisson model, the negative binomial model assumes an **explicit likelihood function** or **simply likelihood function** that explicitly models the extra variation in the data. Negative binomial random variables are discrete probability distributions that are useful for modeling count data since they only take on non-negative integer values. This model posits that a $λ$ value is selected for each institution, which is then used to generate a count using a Poisson random variable with the selected \"λ\".\n",
        "\n",
        "It relaxes the assumption that the variance equals the mean, allowing the variance to exceed the mean by a function of a dispersion parameter $\\theta$:\n",
        "\n",
        "$$ \\text{Var}(Y) = \\mu + \\frac{\\mu^2}{\\theta} $$\n",
        "\n",
        "Where:\n",
        "\n",
        "-   $\\theta$ is the dispersion parameter, estimated from the data.\n",
        "-   As $\\theta \\to \\infty$, the model reduces to the standard Poisson regression.\n",
        "\n",
        "The advantage of using a negative binomial model is that it can handle overdispersed data more effectively than a Poisson model alone. When using a Poisson model, the variance of the data is equal to the mean, which is often not the case in count data. The negative binomial model, on the other hand, can accommodate a wider range of variance-to-mean ratios, allowing it to fit the data more accurately. By using this approach, the counts will be more dispersed than what would be expected for observations based on a single Poisson variable with a rate of $λ$.\n",
        "\n",
        "For the Negative Binomial (NB) model, we need to estimate both regression coefficients and the dispersion parameter $𝜃$ simultaneously. Define the log-likelihood function accordingly. Here below R code to fit a NB without any R Package:"
      ],
      "metadata": {
        "id": "j_Lrrmx97g_7"
      }
    },
    {
      "cell_type": "markdown",
      "source": [
        "## Poisson Oodel with overdispersion in R\n"
      ],
      "metadata": {
        "id": "gPejNdBf7b_2"
      }
    },
    {
      "cell_type": "markdown",
      "source": [
        "### Check and Install Required R Packages\n"
      ],
      "metadata": {
        "id": "oCMXw0bY8cE3"
      }
    },
    {
      "cell_type": "code",
      "source": [
        "%%R\n",
        "pkg <- c('tidyverse',\n",
        "     'plyr',\n",
        "\t\t 'gt',\n",
        "\t\t 'DataExplorer',\n",
        "\t\t 'rstatix',\n",
        "\t\t 'gtsummary',\n",
        "\t\t 'report',\n",
        "\t\t 'performance',\n",
        "\t\t 'jtools',\n",
        "\t\t 'margins',\n",
        "\t\t 'marginaleffects',\n",
        "\t\t 'ggeffects',\n",
        "\t\t 'patchwork',\n",
        "\t\t 'Metrics',\n",
        "\t\t 'ggpmisc',\n",
        "\t\t 'metrica',\n",
        "\t\t 'RColorBrewer',\n",
        "\t\t 'MASS',\n",
        "\t\t 'epiDisplay,\n",
        "\t\t 'sandwitch',\n",
        "      'AER'\n",
        "\t\t  )\n",
        "new.packages <- pkg[!(pkg %in% installed.packages(lib='drive/My Drive/R/')[,\"Package\"])]\n",
        "if(length(new.packages)) install.packages(new.packages, lib='drive/My Drive/R/')"
      ],
      "metadata": {
        "id": "U94Ztyjt8fMA"
      },
      "execution_count": null,
      "outputs": []
    },
    {
      "cell_type": "markdown",
      "source": [
        "### Load R Packages\n"
      ],
      "metadata": {
        "id": "jIMhK0jv7tjQ"
      }
    },
    {
      "cell_type": "code",
      "source": [
        "%%R\n",
        "# set library path\n",
        ".libPaths('drive/My Drive/R')\n",
        "library(tidyverse)\n",
        "library(plyr)\n",
        "library(gt)\n",
        "library(rstatix)\n",
        "library(gtsummary)\n",
        "library(DataExplorer)\n",
        "library(report)\n",
        "library(performance)\n",
        "library(jtools)\n",
        "library(margins)\n",
        "library(marginaleffects)\n",
        "library(ggeffects)\n",
        "library(patchwork)\n",
        "library(Metrics)\n",
        "library(ggpmisc)\n",
        "library(RColorBrewer)\n",
        "library(MASS)\n",
        "library(epiDisplay)\n",
        "library(dlookr)\n",
        "library(sandwich)\n",
        "library(AER)"
      ],
      "metadata": {
        "id": "LLmt5S6g76x3"
      },
      "execution_count": null,
      "outputs": []
    },
    {
      "cell_type": "markdown",
      "source": [
        "### Data\n",
        "\n",
        "The County-level age-adjusted number and rate of diabetes patients, prevalence of obesity, physical inactivity and [Food environment index](https://www.ers.usda.gov/data-products/food-environment-atlas.aspx) for the year 2016-2020 were obtained from United States [Diabetes Surveillance System (USDSS)](https://gis.cdc.gov/grasp/diabetes/diabetesatlas-surveillance.html).\n",
        "\n",
        "We will use `read_csv()` function of {readr} package to import data as a **tidy** data."
      ],
      "metadata": {
        "id": "TVlnCG8O8sWg"
      }
    },
    {
      "cell_type": "code",
      "source": [
        "%%R\n",
        "# load data\n",
        "mf<-read_csv(\"https://github.com/zia207/r-colab/raw/main/Data/Regression_analysis/county_data_2016_2020.csv\")\n",
        "# select variables\n",
        "df<-mf |>\n",
        "  dplyr::select(Diabetes_per,\n",
        "                POP_Total,\n",
        "                Obesity,\n",
        "                Physical_Inactivity,\n",
        "                Access_Excercise,\n",
        "                Food_Env_Index,\n",
        "                SVI,\n",
        "                Urban_Rural\n",
        "                ) |>\n",
        "  glimpse()\n",
        "# data processing\n",
        "df$Diabetes_per<-as.integer(df$Diabetes_per)\n",
        "df$Urban_Rural<-as.factor(df$Urban_Rural)\n",
        "# split  data\n",
        "seeds = 11076\n",
        "tr_prop = 0.70\n",
        "\n",
        "df$log_POP_Total<-log(df$POP_Total)\n",
        "# training data (70% data)\n",
        "train= ddply(df,.(Urban_Rural),\n",
        "                 function(., seed) { set.seed(seed); .[sample(1:nrow(.), trunc(nrow(.) * tr_prop)), ] }, seed = 101)\n",
        "test = ddply(df, .(Urban_Rural),\n",
        "            function(., seed) { set.seed(seed); .[-sample(1:nrow(.), trunc(nrow(.) * tr_prop)), ] }, seed = 101)"
      ],
      "metadata": {
        "colab": {
          "base_uri": "https://localhost:8080/"
        },
        "id": "aSEOXseH8tBx",
        "outputId": "85445850-4950-436e-a935-944ef4eb8b7b"
      },
      "execution_count": null,
      "outputs": [
        {
          "output_type": "stream",
          "name": "stdout",
          "text": [
            "Rows: 3107 Columns: 15\n",
            "── Column specification ────────────────────────────────────────────────────────\n",
            "Delimiter: \",\"\n",
            "chr  (3): State, County, Urban_Rural\n",
            "dbl (12): FIPS, X, Y, POP_Total, Diabetes_count, Diabetes_per, Obesity, Acce...\n",
            "\n",
            "ℹ Use `spec()` to retrieve the full column specification for this data.\n",
            "ℹ Specify the column types or set `show_col_types = FALSE` to quiet this message.\n",
            "Rows: 3,107\n",
            "Columns: 8\n",
            "$ Diabetes_per        <dbl> 9.24, 8.48, 11.72, 10.08, 10.26, 9.06, 11.80, 13.2…\n",
            "$ POP_Total           <dbl> 55707.0, 218346.8, 25078.2, 22448.2, 57852.4, 1017…\n",
            "$ Obesity             <dbl> 29.22, 28.94, 29.34, 29.44, 30.10, 19.86, 30.38, 3…\n",
            "$ Physical_Inactivity <dbl> 26.42, 22.86, 23.72, 25.38, 24.76, 18.58, 28.66, 2…\n",
            "$ Access_Excercise    <dbl> 70.8, 72.2, 49.8, 30.6, 24.6, 19.6, 48.0, 51.4, 62…\n",
            "$ Food_Env_Index      <dbl> 6.9, 7.7, 5.5, 7.6, 8.1, 4.3, 6.5, 6.3, 6.4, 7.7, …\n",
            "$ SVI                 <dbl> 0.5130, 0.3103, 0.9927, 0.8078, 0.5137, 0.8310, 0.…\n",
            "$ Urban_Rural         <chr> \"Urban\", \"Urban\", \"Rural\", \"Urban\", \"Urban\", \"Rura…\n"
          ]
        }
      ]
    },
    {
      "cell_type": "markdown",
      "source": [],
      "metadata": {
        "id": "ZJJFPXYB8yCf"
      }
    },
    {
      "cell_type": "markdown",
      "source": [
        "### Check Mean and Variance\n",
        "\n",
        "To check for **overdispersion** or **underdispersion** in count data, you can compare the **variance** and **mean** of the response variable (i.e., the count data). Here's how to check for overdispersion and underdispersion:\n",
        "\n",
        "-   **Poisson Distribution Assumption**: In a standard Poisson model, the mean and variance of the count variable are equal. That is:\n",
        "\n",
        "    $$ E(Y) = \\text{mean} = \\lambda, \\quad \\text{Var}(Y) = \\lambda $$\n",
        "\n",
        "-   **Overdispersion**: Occurs when the variance is greater than the mean: $$ \\text{Var}(Y) > E(Y) $$\n",
        "\n",
        "-   **Underdispersion**: Occurs when the variance is smaller than the mean: $$ text{Var}(Y) < E(Y) $$"
      ],
      "metadata": {
        "id": "WpPJatAr8yD8"
      }
    },
    {
      "cell_type": "code",
      "source": [
        "%%R\n",
        "# Check the mean and variance\n",
        "mean_count <- mean(mf$Diabetes_per)\n",
        "var_count <- var(mf$Diabetes_per)\n",
        "\n",
        "cat(\"Mean:\", mean_count, \"\\n\")\n",
        "cat(\"Variance:\", var_count, \"\\n\")\n",
        "\n",
        "# Compare mean and variance\n",
        "if (var_count > mean_count) {\n",
        "  cat(\"Overdispersion is present (Variance > Mean).\\n\")\n",
        "} else if (var_count < mean_count) {\n",
        "  cat(\"Underdispersion is present (Variance < Mean).\\n\")\n",
        "} else {\n",
        "  cat(\"No dispersion (Variance ≈ Mean).\\n\")\n",
        "}"
      ],
      "metadata": {
        "colab": {
          "base_uri": "https://localhost:8080/"
        },
        "id": "RDGxuw2t81NN",
        "outputId": "19ff17f1-bf2d-48e4-c3d1-fd05f8539cfb"
      },
      "execution_count": null,
      "outputs": [
        {
          "output_type": "stream",
          "name": "stdout",
          "text": [
            "Mean: 8.596611 \n",
            "Variance: 2.456342 \n",
            "Underdispersion is present (Variance < Mean).\n"
          ]
        }
      ]
    },
    {
      "cell_type": "markdown",
      "source": [
        "### Fit a Poisson Model and check overdispersion\n",
        "\n",
        "First we will a fit Poisson model with offset and then check overdispersion"
      ],
      "metadata": {
        "id": "TYkvB54l88lT"
      }
    },
    {
      "cell_type": "code",
      "source": [
        "%%R\n",
        "fit.pois <- glm(\n",
        "            Diabetes_per  ~\n",
        "                Obesity +\n",
        "                Physical_Inactivity +\n",
        "                Access_Excercise +\n",
        "                Food_Env_Index +\n",
        "                SVI +\n",
        "                Urban_Rural+\n",
        "                offset(log_POP_Total),\n",
        "                family = poisson(link = \"log\"),\n",
        "                data = train)"
      ],
      "metadata": {
        "id": "6SXK8RlG89ah"
      },
      "execution_count": null,
      "outputs": []
    },
    {
      "cell_type": "markdown",
      "source": [
        "#### Check Overdispersion function of {AER} package:"
      ],
      "metadata": {
        "id": "RYmSREmY9FL7"
      }
    },
    {
      "cell_type": "code",
      "source": [
        "%%R\n",
        "# Perform the dispersion test\n",
        "dispersiontest(fit.pois)"
      ],
      "metadata": {
        "colab": {
          "base_uri": "https://localhost:8080/"
        },
        "id": "ParG218r89b2",
        "outputId": "a5fb3e78-67e2-4bf0-bed0-b95f4c106493"
      },
      "execution_count": null,
      "outputs": [
        {
          "output_type": "stream",
          "name": "stdout",
          "text": [
            "\n",
            "\tOverdispersion test\n",
            "\n",
            "data:  fit.pois\n",
            "z = 20.558, p-value < 2.2e-16\n",
            "alternative hypothesis: true dispersion is greater than 1\n",
            "sample estimates:\n",
            "dispersion \n",
            "  8.519496 \n",
            "\n"
          ]
        }
      ]
    },
    {
      "cell_type": "markdown",
      "source": [
        "#### Check for Overdispersion using {performance} Packages"
      ],
      "metadata": {
        "id": "YglPp0IiAVDS"
      }
    },
    {
      "cell_type": "code",
      "source": [
        "%%R\n",
        "performance::check_overdispersion(fit.pois)"
      ],
      "metadata": {
        "colab": {
          "base_uri": "https://localhost:8080/"
        },
        "id": "P8aXneQhAeLG",
        "outputId": "14eda8a4-5f77-4461-95e9-2bcec49b3266"
      },
      "execution_count": null,
      "outputs": [
        {
          "output_type": "stream",
          "name": "stdout",
          "text": [
            "# Overdispersion test\n",
            "\n",
            "       dispersion ratio =     9.842\n",
            "  Pearson's Chi-Squared = 21318.216\n",
            "                p-value =   < 0.001\n",
            "\n"
          ]
        },
        {
          "output_type": "stream",
          "name": "stderr",
          "text": [
            "WARNING:rpy2.rinterface_lib.callbacks:R[write to console]: Overdispersion detected.\n",
            "\n"
          ]
        }
      ]
    },
    {
      "cell_type": "markdown",
      "source": [
        "### Fit a Quasi-Pisson Model\n",
        "\n",
        "We will fit a quasi-Poisson regression model using the `glm()` function. In the `family` argument, we specify `quasi` with the `link`function as \"log\" and variance function as `mu`, indicating a logarithmic link function and using the variance equal to the mean (quasi-Poisson)."
      ],
      "metadata": {
        "id": "QuoFbuxsAivl"
      }
    },
    {
      "cell_type": "code",
      "source": [
        "%%R\n",
        "fit.qpois <- glm(\n",
        "            Diabetes_per  ~\n",
        "                Obesity +\n",
        "                Physical_Inactivity +\n",
        "                Access_Excercise +\n",
        "                Food_Env_Index +\n",
        "                SVI +\n",
        "                Urban_Rural+\n",
        "                offset(log_POP_Total),\n",
        "                family = quasi(link = \"log\", variance = \"mu\"),\n",
        "                data = train)"
      ],
      "metadata": {
        "id": "_XmSRrWRAjiD"
      },
      "execution_count": null,
      "outputs": []
    },
    {
      "cell_type": "markdown",
      "source": [
        "#### Model Summary"
      ],
      "metadata": {
        "id": "1zZjpHK7Aq7y"
      }
    },
    {
      "cell_type": "code",
      "source": [
        "%%R\n",
        "summary(fit.qpois)"
      ],
      "metadata": {
        "colab": {
          "base_uri": "https://localhost:8080/"
        },
        "id": "5kcsMd6mAjjj",
        "outputId": "f37b2e0b-3b04-4f75-bdee-9b2103c7e8ba"
      },
      "execution_count": null,
      "outputs": [
        {
          "output_type": "stream",
          "name": "stdout",
          "text": [
            "\n",
            "Call:\n",
            "glm(formula = Diabetes_per ~ Obesity + Physical_Inactivity + \n",
            "    Access_Excercise + Food_Env_Index + SVI + Urban_Rural + offset(log_POP_Total), \n",
            "    family = quasi(link = \"log\", variance = \"mu\"), data = train)\n",
            "\n",
            "Coefficients:\n",
            "                     Estimate Std. Error t value Pr(>|t|)    \n",
            "(Intercept)         -2.113798   0.276970  -7.632 3.44e-14 ***\n",
            "Obesity             -0.024589   0.007997  -3.075  0.00213 ** \n",
            "Physical_Inactivity  0.023153   0.009059   2.556  0.01067 *  \n",
            "Access_Excercise    -0.032914   0.001334 -24.681  < 2e-16 ***\n",
            "Food_Env_Index      -0.383530   0.029474 -13.012  < 2e-16 ***\n",
            "SVI                 -1.692113   0.109572 -15.443  < 2e-16 ***\n",
            "Urban_RuralUrban    -1.063524   0.062451 -17.030  < 2e-16 ***\n",
            "---\n",
            "Signif. codes:  0 ‘***’ 0.001 ‘**’ 0.01 ‘*’ 0.05 ‘.’ 0.1 ‘ ’ 1\n",
            "\n",
            "(Dispersion parameter for quasi family taken to be 9.842974)\n",
            "\n",
            "    Null deviance: 42667  on 2172  degrees of freedom\n",
            "Residual deviance: 13198  on 2166  degrees of freedom\n",
            "AIC: NA\n",
            "\n",
            "Number of Fisher Scoring iterations: 5\n",
            "\n"
          ]
        }
      ]
    },
    {
      "cell_type": "code",
      "source": [
        "%%R\n",
        "jtools::summ(fit.qpois)"
      ],
      "metadata": {
        "colab": {
          "base_uri": "https://localhost:8080/"
        },
        "id": "7W3noOQXAzXa",
        "outputId": "a581411e-c91d-47b0-c4e7-0284c087d8c8"
      },
      "execution_count": null,
      "outputs": [
        {
          "output_type": "stream",
          "name": "stdout",
          "text": [
            "MODEL INFO:\n",
            "Observations: 2173\n",
            "Dependent Variable: Diabetes_per\n",
            "Type: Generalized linear model\n",
            "  Family: quasi \n",
            "  Link function: log \n",
            "\n",
            "MODEL FIT:\n",
            "χ²(6) = 29468.92, p = 0.00\n",
            "Pseudo-R² (Cragg-Uhler) =  NA\n",
            "Pseudo-R² (McFadden) =  NA\n",
            "AIC =  NA, BIC =  NA \n",
            "\n",
            "Standard errors:MLE\n",
            "--------------------------------------------------------\n",
            "                             Est.   S.E.   t val.      p\n",
            "------------------------- ------- ------ -------- ------\n",
            "(Intercept)                 -2.11   0.28    -7.63   0.00\n",
            "Obesity                     -0.02   0.01    -3.07   0.00\n",
            "Physical_Inactivity          0.02   0.01     2.56   0.01\n",
            "Access_Excercise            -0.03   0.00   -24.68   0.00\n",
            "Food_Env_Index              -0.38   0.03   -13.01   0.00\n",
            "SVI                         -1.69   0.11   -15.44   0.00\n",
            "Urban_RuralUrban            -1.06   0.06   -17.03   0.00\n",
            "--------------------------------------------------------\n",
            "\n",
            "Estimated dispersion parameter = 9.84 \n"
          ]
        }
      ]
    },
    {
      "cell_type": "markdown",
      "source": [
        "#### Model Performance"
      ],
      "metadata": {
        "id": "iBYi5CMBA3QW"
      }
    },
    {
      "cell_type": "code",
      "source": [
        "%%R\n",
        "performance::performance(fit.qpois)"
      ],
      "metadata": {
        "colab": {
          "base_uri": "https://localhost:8080/"
        },
        "id": "Z0LIC4ctA37I",
        "outputId": "dfcf8675-7563-4470-f72c-6ca9c2c46487"
      },
      "execution_count": null,
      "outputs": [
        {
          "output_type": "stream",
          "name": "stdout",
          "text": [
            "# Indices of model performance\n",
            "\n",
            "Nagelkerke's R2 |  RMSE | Sigma\n",
            "-------------------------------\n",
            "1.000           | 8.610 | 3.137\n"
          ]
        }
      ]
    },
    {
      "cell_type": "markdown",
      "source": [
        "#### Incidence Rate Ratio (IRR)"
      ],
      "metadata": {
        "id": "8EAOj8mcA9KU"
      }
    },
    {
      "cell_type": "code",
      "source": [
        "%%R\n",
        "tidy(fit.qpois, exponentiate = TRUE,\n",
        "                       conf.int = TRUE)"
      ],
      "metadata": {
        "colab": {
          "base_uri": "https://localhost:8080/"
        },
        "id": "d1wxykUrA-3V",
        "outputId": "bd278270-8008-471f-8f24-014a6664fd79"
      },
      "execution_count": null,
      "outputs": [
        {
          "output_type": "stream",
          "name": "stdout",
          "text": [
            "# A tibble: 7 × 7\n",
            "  term                estimate std.error statistic   p.value conf.low conf.high\n",
            "  <chr>                  <dbl>     <dbl>     <dbl>     <dbl>    <dbl>     <dbl>\n",
            "1 (Intercept)            0.121   0.277       -7.63 3.44e- 14   0.0698     0.207\n",
            "2 Obesity                0.976   0.00800     -3.07 2.13e-  3   0.961      0.991\n",
            "3 Physical_Inactivity    1.02    0.00906      2.56 1.07e-  2   1.01       1.04 \n",
            "4 Access_Excercise       0.968   0.00133    -24.7  1.01e-118   0.965      0.970\n",
            "5 Food_Env_Index         0.681   0.0295     -13.0  2.52e- 37   0.644      0.722\n",
            "6 SVI                    0.184   0.110      -15.4  4.03e- 51   0.149      0.228\n",
            "7 Urban_RuralUrban       0.345   0.0625     -17.0  3.93e- 61   0.305      0.390\n"
          ]
        }
      ]
    },
    {
      "cell_type": "markdown",
      "source": [
        "#### Marginal Effects and Adjusted Predictions\n",
        "\n",
        "{ggeffects} supports labelled data and the `plot()`- method automatically sets titles, axis - and legend-labels depending on the value and variable labels of the data"
      ],
      "metadata": {
        "id": "OwPVH4KcBGwA"
      }
    },
    {
      "cell_type": "code",
      "source": [
        "%%R -h 400 -w 600 -u px\n",
        "plot(predict_response(fit.qpois, terms = c(\"Obesity\", \"Urban_Rural\"), condition = \"log_POP_Total\"), facets=TRUE)"
      ],
      "metadata": {
        "colab": {
          "base_uri": "https://localhost:8080/",
          "height": 417
        },
        "id": "4CjD3NJsBIBs",
        "outputId": "6847abcf-8514-4234-e811-82abc35d16e1"
      },
      "execution_count": null,
      "outputs": [
        {
          "output_type": "display_data",
          "data": {
            "image/png": "[encoded data removed]"
          },
          "metadata": {}
        }
      ]
    },
    {
      "cell_type": "markdown",
      "source": [
        "`effect_plot()` function of {jtools} package plot simple effects in poisson regression models:"
      ],
      "metadata": {
        "id": "0iPm9Rr3BcaR"
      }
    },
    {
      "cell_type": "code",
      "source": [
        "%%R -h 800 -w 800 -u px\n",
        "\n",
        "p1<-jtools::effect_plot(fit.qpois,\n",
        "                    main.title = \"Obesity\",\n",
        "                    pred = Obesity,\n",
        "                    interval = T,\n",
        "                    outcome.scale = \"link\",\n",
        "                    partial.residuals = F)\n",
        "p2<-jtools::effect_plot(fit.qpois,\n",
        "                    main.title = \"Pysically inactive adults \",\n",
        "                    pred = Physical_Inactivity,\n",
        "                    interval = TRUE,\n",
        "                    outcome.scale = \"link\",\n",
        "                    partial.residuals = F)\n",
        "p3<-jtools::effect_plot(fit.qpois,\n",
        "                    main.title = \"Access to Excercise\",\n",
        "                    pred = Access_Excercise ,\n",
        "                    interval = TRUE,\n",
        "                    outcome.scale = \"link\",\n",
        "                    partial.residuals = F)\n",
        "p4<-jtools::effect_plot(fit.qpois,\n",
        "                    main.title = \"Food Env Index\",\n",
        "                    pred = Food_Env_Index,\n",
        "                    interval = TRUE,\n",
        "                    outcome.scale = \"link\",\n",
        "                    partial.residuals = F)\n",
        "library(patchwork)\n",
        "(p1+p2)/(p3 +p4)"
      ],
      "metadata": {
        "colab": {
          "base_uri": "https://localhost:8080/",
          "height": 1000
        },
        "id": "VvpLrW9_BdBb",
        "outputId": "c42930b1-383b-40b0-d8ee-dfa90be7780b"
      },
      "execution_count": null,
      "outputs": [
        {
          "output_type": "stream",
          "name": "stdout",
          "text": [
            "Using data train from global environment. This could cause incorrect\n",
            "results if train has been altered since the model was fit. You can manually\n",
            "provide the data to the \"data =\" argument.\n"
          ]
        },
        {
          "output_type": "stream",
          "name": "stderr",
          "text": [
            "WARNING:rpy2.rinterface_lib.callbacks:R[write to console]: Outcome is based on a total of 1 exposures\n",
            "\n"
          ]
        },
        {
          "output_type": "stream",
          "name": "stdout",
          "text": [
            "Using data train from global environment. This could cause incorrect\n",
            "results if train has been altered since the model was fit. You can manually\n",
            "provide the data to the \"data =\" argument.\n"
          ]
        },
        {
          "output_type": "stream",
          "name": "stderr",
          "text": [
            "WARNING:rpy2.rinterface_lib.callbacks:R[write to console]: Outcome is based on a total of 1 exposures\n",
            "\n"
          ]
        },
        {
          "output_type": "stream",
          "name": "stdout",
          "text": [
            "Using data train from global environment. This could cause incorrect\n",
            "results if train has been altered since the model was fit. You can manually\n",
            "provide the data to the \"data =\" argument.\n"
          ]
        },
        {
          "output_type": "stream",
          "name": "stderr",
          "text": [
            "WARNING:rpy2.rinterface_lib.callbacks:R[write to console]: Outcome is based on a total of 1 exposures\n",
            "\n"
          ]
        },
        {
          "output_type": "stream",
          "name": "stdout",
          "text": [
            "Using data train from global environment. This could cause incorrect\n",
            "results if train has been altered since the model was fit. You can manually\n",
            "provide the data to the \"data =\" argument.\n"
          ]
        },
        {
          "output_type": "stream",
          "name": "stderr",
          "text": [
            "WARNING:rpy2.rinterface_lib.callbacks:R[write to console]: Outcome is based on a total of 1 exposures\n",
            "\n"
          ]
        },
        {
          "output_type": "display_data",
          "data": {
            "image/png": "[encoded data removed]"
          },
          "metadata": {}
        }
      ]
    },
    {
      "cell_type": "markdown",
      "source": [],
      "metadata": {
        "id": "NRE9DitYBzda"
      }
    },
    {
      "cell_type": "markdown",
      "source": [
        "### Fit a Negative Binomial Regression Model\n",
        "\n",
        "We will fit the negative binomial regression model using `glm.nb()` function of {MASS} package."
      ],
      "metadata": {
        "id": "1Sf-r3gQBzry"
      }
    },
    {
      "cell_type": "code",
      "source": [
        "%%R\n",
        "fit.nb <- glm.nb(\n",
        "       Diabetes_per  ~\n",
        "                Obesity +\n",
        "                Physical_Inactivity +\n",
        "                Access_Excercise +\n",
        "                Food_Env_Index +\n",
        "                SVI +\n",
        "                Urban_Rural+\n",
        "                offset(log_POP_Total),\n",
        "                data = train)"
      ],
      "metadata": {
        "id": "4xdpwCwHB0T7"
      },
      "execution_count": null,
      "outputs": []
    },
    {
      "cell_type": "markdown",
      "source": [
        "#### Model Summary"
      ],
      "metadata": {
        "id": "Eg1U-AP2B6uv"
      }
    },
    {
      "cell_type": "code",
      "source": [
        "%%R\n",
        "summary(fit.nb)\n"
      ],
      "metadata": {
        "colab": {
          "base_uri": "https://localhost:8080/"
        },
        "id": "prALT7GeB-AG",
        "outputId": "d436bb0f-2ed8-4ac9-cb1e-02862b1041c1"
      },
      "execution_count": null,
      "outputs": [
        {
          "output_type": "stream",
          "name": "stdout",
          "text": [
            "\n",
            "Call:\n",
            "glm.nb(formula = Diabetes_per ~ Obesity + Physical_Inactivity + \n",
            "    Access_Excercise + Food_Env_Index + SVI + Urban_Rural + offset(log_POP_Total), \n",
            "    data = train, init.theta = 2.033905175, link = log)\n",
            "\n",
            "Coefficients:\n",
            "                      Estimate Std. Error z value Pr(>|z|)    \n",
            "(Intercept)         -2.0580592  0.1928039 -10.674  < 2e-16 ***\n",
            "Obesity             -0.0623632  0.0060850 -10.249  < 2e-16 ***\n",
            "Physical_Inactivity  0.0270431  0.0069035   3.917 8.95e-05 ***\n",
            "Access_Excercise    -0.0212910  0.0009096 -23.406  < 2e-16 ***\n",
            "Food_Env_Index      -0.3049388  0.0211116 -14.444  < 2e-16 ***\n",
            "SVI                 -1.2840924  0.0758735 -16.924  < 2e-16 ***\n",
            "Urban_RuralUrban    -1.0691095  0.0388256 -27.536  < 2e-16 ***\n",
            "---\n",
            "Signif. codes:  0 ‘***’ 0.001 ‘**’ 0.01 ‘*’ 0.05 ‘.’ 0.1 ‘ ’ 1\n",
            "\n",
            "(Dispersion parameter for Negative Binomial(2.0339) family taken to be 1)\n",
            "\n",
            "    Null deviance: 5611.1  on 2172  degrees of freedom\n",
            "Residual deviance: 2418.8  on 2166  degrees of freedom\n",
            "AIC: 14582\n",
            "\n",
            "Number of Fisher Scoring iterations: 1\n",
            "\n",
            "\n",
            "              Theta:  2.0339 \n",
            "          Std. Err.:  0.0691 \n",
            "\n",
            " 2 x log-likelihood:  -14566.4880 \n"
          ]
        }
      ]
    },
    {
      "cell_type": "markdown",
      "source": [
        "#### Model Performance"
      ],
      "metadata": {
        "id": "v_amM8Q5CGJR"
      }
    },
    {
      "cell_type": "code",
      "source": [
        "%%R\n",
        "performance::performance(fit.nb)"
      ],
      "metadata": {
        "colab": {
          "base_uri": "https://localhost:8080/"
        },
        "id": "b5x2A7Q6CGR2",
        "outputId": "be914620-f52a-4d2e-c02b-dc3a6fc2dcb2"
      },
      "execution_count": null,
      "outputs": [
        {
          "output_type": "stream",
          "name": "stdout",
          "text": [
            "# Indices of model performance\n",
            "\n",
            "AIC       |      AICc |       BIC | Nagelkerke's R2 |   RMSE | Sigma | Score_log | Score_spherical\n",
            "--------------------------------------------------------------------------------------------------\n",
            "14582.488 | 14582.554 | 14627.959 |           0.833 | 25.062 | 1.000 |    -3.432 |           0.019\n"
          ]
        }
      ]
    },
    {
      "cell_type": "markdown",
      "source": [
        "#### Incidence Rate Ratio (IRR)"
      ],
      "metadata": {
        "id": "VafspgGaCMgD"
      }
    },
    {
      "cell_type": "code",
      "source": [
        "%%R\n",
        "tidy(fit.nb, exponentiate = TRUE,\n",
        "                       conf.int = TRUE)"
      ],
      "metadata": {
        "colab": {
          "base_uri": "https://localhost:8080/"
        },
        "id": "vsP5Qm3dCQw7",
        "outputId": "b62daf60-9e19-47b1-d232-95a121ced4ad"
      },
      "execution_count": null,
      "outputs": [
        {
          "output_type": "stream",
          "name": "stdout",
          "text": [
            "# A tibble: 7 × 7\n",
            "  term                estimate std.error statistic   p.value conf.low conf.high\n",
            "  <chr>                  <dbl>     <dbl>     <dbl>     <dbl>    <dbl>     <dbl>\n",
            "1 (Intercept)            0.128  0.193       -10.7  1.34e- 26   0.0877     0.186\n",
            "2 Obesity                0.940  0.00608     -10.2  1.20e- 24   0.928      0.952\n",
            "3 Physical_Inactivity    1.03   0.00690       3.92 8.95e-  5   1.01       1.04 \n",
            "4 Access_Excercise       0.979  0.000910    -23.4  3.68e-121   0.977      0.981\n",
            "5 Food_Env_Index         0.737  0.0211      -14.4  2.73e- 47   0.707      0.768\n",
            "6 SVI                    0.277  0.0759      -16.9  2.99e- 64   0.238      0.322\n",
            "7 Urban_RuralUrban       0.343  0.0388      -27.5  6.48e-167   0.318      0.370\n"
          ]
        }
      ]
    },
    {
      "cell_type": "markdown",
      "source": [
        "### Model Comparison"
      ],
      "metadata": {
        "id": "AnRgSUPwCUen"
      }
    },
    {
      "cell_type": "code",
      "source": [
        "%%R\n",
        "# extract coefficients from poisson model using 'coef()'\n",
        "coef1 = coef(fit.pois)\n",
        "# extract coefficients from quasi-model model\n",
        "coef2 = coef(fit.qpois)\n",
        "# extract coefficients from negtive binomial model\n",
        "coef3 = coef(fit.nb)\n",
        "\n",
        "# extract standard errors f\n",
        "se.coef1 = summary(fit.pois)$coefficients[, 2]\n",
        "se.coef2 = summary(fit.qpois)$coefficients[, 2]\n",
        "se.coef3 = summary(fit.nb)$coefficients[, 2]\n",
        "\n",
        "# use 'cbind()' to combine values into one dataframe\n",
        "model.all <- cbind(coef1, se.coef1, coef2, se.coef2, coef3, se.coef3 )\n",
        "model.all"
      ],
      "metadata": {
        "colab": {
          "base_uri": "https://localhost:8080/"
        },
        "id": "c2Oy2OnaCUv-",
        "outputId": "858f9546-6e96-4d41-acd5-cecaad9477a5"
      },
      "execution_count": null,
      "outputs": [
        {
          "output_type": "stream",
          "name": "stdout",
          "text": [
            "                          coef1     se.coef1       coef2    se.coef2\n",
            "(Intercept)         -2.11379767 0.0882815165 -2.11379767 0.276970150\n",
            "Obesity             -0.02458873 0.0025488700 -0.02458873 0.007996701\n",
            "Physical_Inactivity  0.02315297 0.0028876050  0.02315297 0.009059432\n",
            "Access_Excercise    -0.03291368 0.0004250686 -0.03291368 0.001333590\n",
            "Food_Env_Index      -0.38352972 0.0093947071 -0.38352972 0.029474499\n",
            "SVI                 -1.69211275 0.0349250360 -1.69211275 0.109572115\n",
            "Urban_RuralUrban    -1.06352403 0.0199055182 -1.06352403 0.062450607\n",
            "                          coef3    se.coef3\n",
            "(Intercept)         -2.05805920 0.192803901\n",
            "Obesity             -0.06236315 0.006084979\n",
            "Physical_Inactivity  0.02704309 0.006903477\n",
            "Access_Excercise    -0.02129096 0.000909622\n",
            "Food_Env_Index      -0.30493883 0.021111551\n",
            "SVI                 -1.28409241 0.075873523\n",
            "Urban_RuralUrban    -1.06910948 0.038825613\n"
          ]
        }
      ]
    },
    {
      "cell_type": "code",
      "source": [
        "%%R -h 500 -w 1000 -u px\n",
        "p1.irr<-jtools::plot_coefs(fit.pois, scale = TRUE, exp = TRUE) +\n",
        "    ggtitle(\"Poisson\")\n",
        "p2.irr<-jtools::plot_coefs(fit.qpois, scale = TRUE, exp = TRUE) +\n",
        "    ggtitle(\"Quasi-Poisson\")\n",
        "p3.irr<-jtools::plot_coefs(fit.nb, scale = TRUE, exp = TRUE) +\n",
        "    ggtitle(\"Negative-Binomial\")\n",
        "p1.irr+p2.irr+p3.irr"
      ],
      "metadata": {
        "colab": {
          "base_uri": "https://localhost:8080/",
          "height": 517
        },
        "id": "E73W2ByRClM4",
        "outputId": "4d37932c-33ee-44df-bad5-555a66e3ab6a"
      },
      "execution_count": null,
      "outputs": [
        {
          "output_type": "display_data",
          "data": {
            "image/png": "[encoded data removed]"
          },
          "metadata": {}
        }
      ]
    },
    {
      "cell_type": "markdown",
      "source": [
        "The output figure illustrates that the coefficients in both the Poisson and Quasi-Poisson models are identical. However, the standard errors of the coefficients are different. Specifically, fitting a Quasi-Poisson result in larger standard errors for Food ENV Index, and Urban/Rural compared to a Poisson and Negative Binomial models. The larger standard errors in this models are due to the model being more flexible, allowing for over-dispersion to be accounted for. These models, therefore, have a larger number of parameters to estimate, which leads to a larger variance in the estimated parameters. As a result, the confidence intervals for the coefficients in the Quasi-Poisson and Negative-Binomial models are wider, indicating a lower level of precision in the parameter estimates."
      ],
      "metadata": {
        "id": "aJztrpfOC2wN"
      }
    },
    {
      "cell_type": "markdown",
      "source": [
        "#### AIC (Akaike Information Criterion) / BIC (Bayesian Information Criterion):\n",
        "\n",
        "-   Both the AIC and BIC are used to compare models based on how well they fit the data, while penalizing for the number of parameters to avoid overfitting.\n",
        "\n",
        "-   The model with the lower AIC/BIC value is preferred.\n",
        "\n",
        "-   To compare Quasi and NB models, fit both models and compare their AIC/BIC values"
      ],
      "metadata": {
        "id": "S3h6m7kwC2yM"
      }
    },
    {
      "cell_type": "code",
      "source": [
        "%%R\n",
        "AIC(fit.pois, fit.nb)\n",
        "BIC(fit.pois,  fit.nb)"
      ],
      "metadata": {
        "colab": {
          "base_uri": "https://localhost:8080/"
        },
        "id": "5EekcyqgC9zI",
        "outputId": "8c48c000-cac2-43b8-907d-cfede1693d29"
      },
      "execution_count": null,
      "outputs": [
        {
          "output_type": "stream",
          "name": "stdout",
          "text": [
            "         df      BIC\n",
            "fit.pois  7 21796.20\n",
            "fit.nb    8 14627.96\n"
          ]
        }
      ]
    },
    {
      "cell_type": "markdown",
      "source": [
        "#### Likelihood Ratio Test (LRT):\n",
        "\n",
        "The Likelihood Ratio Test (LRT) in R is used to compare two nested models, where one model is a simpler version (restricted) of another, more complex model. In the context of count data models, this can be used to compare a simpler Poisson regression model to a more complex model like a Negative Binomial regression model, provided that they are nested.\n",
        "\n",
        "The LRT tests the null hypothesis that the simpler model fits the data just as well as the more complex one. The test statistic follows a chi-squared distribution, with degrees of freedom equal to the difference in the number of parameters between the two models.\n",
        "\n",
        "A likelihood ratio test can be used to compare models that are nested (i.e., one model is a special case of another). However, Poisson and Quasi-piosson are not nested models, so the LRT is not applicable directly for comparing them. You can perform a similar test when comparing simpler versions of the models, like Poisson vs. NB."
      ],
      "metadata": {
        "id": "1L0ly82uDBwz"
      }
    },
    {
      "cell_type": "code",
      "source": [
        "%%R\n",
        "# 1. Extract log-likelihoods\n",
        "logLik.pois <- logLik(fit.pois)\n",
        "logLik.nb <- logLik(fit.nb)\n",
        "# 2. Compute the LRT statistic\n",
        "lrt_stat <- 2 * (logLik.nb - logLik.pois)\n",
        "# 3. Degrees of freedom difference (df)\n",
        "df_diff <- attr(logLik.nb, \"df\") - attr(logLik.nb, \"df\")\n",
        "# 4. Compute p-value (chi-squared distribution)\n",
        "p_value <- pchisq(lrt_stat, df = df_diff, lower.tail = FALSE)\n",
        "# Output LRT statistic and p-value\n",
        "cat(\"LRT Statistic:\", lrt_stat, \"\\n\")\n",
        "cat(\"Degrees of Freedom Difference:\", df_diff, \"\\n\")\n",
        "cat(\"p-value:\", p_value, \"\\n\")"
      ],
      "metadata": {
        "colab": {
          "base_uri": "https://localhost:8080/"
        },
        "id": "ehyMdE1wDCh1",
        "outputId": "4ddc4d8a-831f-4bd6-dc4f-18e1b5ff9c7e"
      },
      "execution_count": null,
      "outputs": [
        {
          "output_type": "stream",
          "name": "stdout",
          "text": [
            "LRT Statistic: 7175.922 \n",
            "Degrees of Freedom Difference: 0 \n",
            "p-value: 0 \n"
          ]
        }
      ]
    },
    {
      "cell_type": "markdown",
      "source": [
        "The p-value is very small (e.g., less than 0.05), we reject the null hypothesis that the simpler Poisson model is sufficient. This suggests that the more complex negative binomial model is a better fit.\n",
        "\n",
        "### Prediction Performance\n",
        "\n",
        "The `predict()` function will be used to predict the number of diabetes patients the test counties. This will help to validate the accuracy of the these regression models."
      ],
      "metadata": {
        "id": "b8VOdDsoDIiv"
      }
    },
    {
      "cell_type": "code",
      "source": [
        "%%R\n",
        "# Prediction\n",
        "test$Pred.pois<-predict(fit.pois, test, type = \"response\")\n",
        "test$Pred.qpois<-predict(fit.qpois, test, type = \"response\")\n",
        "test$Pred.nb<-predict(fit.nb, test, type = \"response\")\n",
        "# RMSE\n",
        "rmse.pois<-Metrics::rmse(test$Diabetes_per, test$Pred.pois)\n",
        "rmse.qpois<-Metrics::rmse(test$Diabetes_per, test$Pred.qpois)\n",
        "rmse.nb<-Metrics::rmse(test$Diabetes_per, test$Pred.nb)\n",
        "\n",
        "cat(\"RMSE Poisson:\", rmse.pois, \"\\n\")\n",
        "cat(\"RMSE Quasi-Poisson:\", rmse.qpois, \"\\n\")\n",
        "cat(\"RMSE Negative Binomial:\", rmse.nb)\n",
        "\n",
        "\n"
      ],
      "metadata": {
        "colab": {
          "base_uri": "https://localhost:8080/"
        },
        "id": "N-a2dUwxDCjr",
        "outputId": "710a523b-780a-4dd1-dba4-90bbc9a53bf6"
      },
      "execution_count": null,
      "outputs": [
        {
          "output_type": "stream",
          "name": "stdout",
          "text": [
            "RMSE Poisson: 13.34734 \n",
            "RMSE Quasi-Poisson: 13.34734 \n",
            "RMSE Negative Binomial: 23.25059"
          ]
        }
      ]
    }
  ]
}