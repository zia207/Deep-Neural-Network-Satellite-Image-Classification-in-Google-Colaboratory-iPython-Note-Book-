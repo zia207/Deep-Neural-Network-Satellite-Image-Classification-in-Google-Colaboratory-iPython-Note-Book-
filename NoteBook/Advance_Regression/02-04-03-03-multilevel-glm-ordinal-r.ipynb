{
  "nbformat": 4,
  "nbformat_minor": 0,
  "metadata": {
    "colab": {
      "provenance": [],
      "toc_visible": true,
      "authorship_tag": "ABX9TyNQyYyNxwWI5+it8P6xQclW",
      "include_colab_link": true
    },
    "kernelspec": {
      "name": "python3",
      "display_name": "Python 3"
    },
    "language_info": {
      "name": "python"
    }
  },
  "cells": [
    {
      "cell_type": "markdown",
      "metadata": {
        "id": "view-in-github",
        "colab_type": "text"
      },
      "source": [
        "<a href=\"https://colab.research.google.com/github/zia207/Deep-Neural-Network-Satellite-Image-Classification-in-Google-Colaboratory-iPython-Note-Book-/blob/master/NoteBook/Advance_Regression/02-04-03-03-multilevel-glm-ordinal-r.ipynb\" target=\"_parent\"><img src=\"https://colab.research.google.com/assets/colab-badge.svg\" alt=\"Open In Colab\"/></a>"
      ]
    },
    {
      "cell_type": "markdown",
      "source": [
        "![alt text](http://drive.google.com/uc?export=view&id=1bLQ3nhDbZrCCqy_WCxxckOne2lgVvn3l)"
      ],
      "metadata": {
        "id": "4qrItz_mJNWw"
      }
    },
    {
      "cell_type": "markdown",
      "source": [
        "# 3.3. Multilevel or Mixed Effects Ordinal Model\n",
        "\n",
        "This tutorial introduces the concept of Multilevel or Mixed Effects Ordinal Models and their application in analyzing hierarchical data with ordinal outcomes. Multilevel ordinal models extend the framework of linear mixed-effects models to accommodate ordinal response variables with multiple levels. This tutorial covers the following topics:"
      ],
      "metadata": {
        "id": "Dzp9ZseROTcY"
      }
    },
    {
      "cell_type": "markdown",
      "source": [
        "## Overview\n",
        "\n",
        "Mixed-Effects Ordinal Regression is a statistical technique used to model ordinal response variables (i.e., categorical variables with an inherent order) while accounting for both fixed effects (predictors of interest) and random effects (to capture variability due to hierarchical or grouped data structures, such as subjects, clusters, or repeated measures).\n",
        "\n",
        "An ordinal variable $Y$ takes values $1, 2, \\dots, K$ (where $K$ is the number of categories), with an implicit order but unknown spacing between categories.\n",
        "\n",
        "The ordinal outcome is often modeled using a latent continuous variable $Y^*$:\n",
        "\n",
        "$$ Y^* = X\\beta + Zb + \\epsilon$$ where\n",
        "\n",
        "-   $Y^*$: Latent continuous variable.\n",
        "-   $X$: Fixed effects design matrix.\n",
        "-   $\\beta$: Coefficients for fixed effects (population-level parameters).\n",
        "-   $Z$: Random effects design matrix.\n",
        "-   $b$: Random effects, typically assumed $b \\sim N(0, \\Sigma_b)$.\n",
        "-   $\\epsilon$: Error term, usually assumed $\\epsilon \\sim N(0, 1)$.\n",
        "\n",
        "The observed ordinal response $Y$ is linked to $Y^*$ via thresholds:\n",
        "\n",
        "$$ Y = k \\quad \\text{if } \\tau_{k-1} < Y^* \\leq \\tau_k, \\quad k = 1, \\dots, K $$\n",
        "\n",
        "where $\\tau_0 = -\\infty$ and $\\tau_K = \\infty$, and $\\tau_1, \\dots, \\tau_{K-1}$ are estimated threshold parameters.\n",
        "\n",
        "**Likelihood Function** can be defined as:\n",
        "\n",
        "The probability of observing $Y = k$ is:\n",
        "\n",
        "$$ P(Y = k \\mid X, Z, \\beta, b, \\tau) = \\Phi(\\tau*k -* \\eta) - \\Phi(\\tau{k-1} - \\eta) $$\n",
        "\n",
        "where: -\n",
        "\n",
        "$\\Phi$: Cumulative distribution function (CDF) of the standard normal distribution.\n",
        "\n",
        "$\\eta = X\\beta + Zb$: Linear predictor incorporating fixed and random effects.\n",
        "\n",
        "The joint likelihood incorporates both the fixed and random effects and their distributions.\n",
        "\n",
        "-   Fixed Effects ($\\beta$): Represent the impact of predictors on the ordinal outcome.\n",
        "\n",
        "-   Random Effects ($b$): Account for variability between clusters (e.g., subjects, schools).\n",
        "\n",
        "-   Thresholds ($\\tau$): Define category boundaries.\n",
        "\n",
        "Parameters are estimated using **maximum likelihood estimation (MLE)** or **Bayesian methods**.\n"
      ],
      "metadata": {
        "id": "TpcIOkTs30qp"
      }
    },
    {
      "cell_type": "markdown",
      "source": [
        "## Install rpy2"
      ],
      "metadata": {
        "id": "SDp3ULld8Gb9"
      }
    },
    {
      "cell_type": "code",
      "source": [
        "!pip uninstall rpy2 -y\n",
        "!pip install rpy2==3.5.1\n",
        "%load_ext rpy2.ipython"
      ],
      "metadata": {
        "id": "CiM6y-Mw8AJp",
        "colab": {
          "base_uri": "https://localhost:8080/"
        },
        "outputId": "c866293d-5de6-4e1d-d449-cccc13bb433b"
      },
      "execution_count": 1,
      "outputs": [
        {
          "output_type": "stream",
          "name": "stdout",
          "text": [
            "Found existing installation: rpy2 3.5.1\n",
            "Uninstalling rpy2-3.5.1:\n",
            "  Successfully uninstalled rpy2-3.5.1\n",
            "Collecting rpy2==3.5.1\n",
            "  Using cached rpy2-3.5.1-cp311-cp311-linux_x86_64.whl\n",
            "Requirement already satisfied: cffi>=1.10.0 in /usr/local/lib/python3.11/dist-packages (from rpy2==3.5.1) (1.17.1)\n",
            "Requirement already satisfied: jinja2 in /usr/local/lib/python3.11/dist-packages (from rpy2==3.5.1) (3.1.5)\n",
            "Requirement already satisfied: pytz in /usr/local/lib/python3.11/dist-packages (from rpy2==3.5.1) (2025.1)\n",
            "Requirement already satisfied: tzlocal in /usr/local/lib/python3.11/dist-packages (from rpy2==3.5.1) (5.3)\n",
            "Requirement already satisfied: pycparser in /usr/local/lib/python3.11/dist-packages (from cffi>=1.10.0->rpy2==3.5.1) (2.22)\n",
            "Requirement already satisfied: MarkupSafe>=2.0 in /usr/local/lib/python3.11/dist-packages (from jinja2->rpy2==3.5.1) (3.0.2)\n",
            "Installing collected packages: rpy2\n",
            "Successfully installed rpy2-3.5.1\n"
          ]
        }
      ]
    },
    {
      "cell_type": "markdown",
      "source": [
        "## Mount Google Drive"
      ],
      "metadata": {
        "id": "O1zeuaCowiBt"
      }
    },
    {
      "cell_type": "code",
      "source": [
        "from google.colab import drive\n",
        "drive.mount('/content/drive')"
      ],
      "metadata": {
        "colab": {
          "base_uri": "https://localhost:8080/"
        },
        "id": "9J-4ie4bwiJ1",
        "outputId": "15b34d6a-606a-4c1c-fd0e-d99c2268721e"
      },
      "execution_count": 5,
      "outputs": [
        {
          "output_type": "stream",
          "name": "stdout",
          "text": [
            "Drive already mounted at /content/drive; to attempt to forcibly remount, call drive.mount(\"/content/drive\", force_remount=True).\n"
          ]
        }
      ]
    },
    {
      "cell_type": "markdown",
      "source": [
        "## Multilevel Ordinal Model from Scratch\n",
        "\n",
        "Below is a step-by-step explanation of how to fit a multilevel ordinal model from scratch in R. I'll break it down into logical parts, matching the provided R script.\n"
      ],
      "metadata": {
        "id": "UdMcXPIF4Bly"
      }
    },
    {
      "cell_type": "markdown",
      "source": [
        "### Simulate Data\n",
        "\n",
        "We create a dataset that mimics a multilevel ordinal outcome. Here's the logic:\n",
        "\n",
        "1.  ***Hierarchical Structure***: Assume data is grouped into 20 clusters (e.g., patients nested in clinics), each with 50 observations.\n",
        "2.  ***Random Effects***: Each group has a random intercept, drawn from a normal distribution with standard deviation $\\sigma_b = 1$.\n",
        "3.  ***Fixed Effect***: Simulate a predictor $x$, and let the true coefficient for $x$ $\\beta$ be $0.5$.\n",
        "4.  ***Ordinal Categories***: Define thresholds that split the latent variable $Y^*$ into ordered categories $Y$.\n",
        "\n",
        "\n",
        "Here is the simulated setup:\n"
      ],
      "metadata": {
        "id": "ztl1QBDb4MYe"
      }
    },
    {
      "cell_type": "code",
      "source": [
        "%%R\n",
        "# Step 1: Simulate Data\n",
        "set.seed(123)\n",
        "\n",
        "# Define the number of groups and observations per group\n",
        "n_groups <- 20                # Number of groups (e.g., clinics)\n",
        "n_obs_per_group <- 50         # Observations per group\n",
        "\n",
        "# True parameters\n",
        "beta <- 0.5                   # Fixed effect coefficient\n",
        "sigma_b <- 1                  # Standard deviation of random intercepts\n",
        "thresholds <- c(-1, 0, 1)     # Thresholds for ordinal categories\n",
        "\n",
        "# Simulate random intercepts for groups\n",
        "group_random_effects <- rnorm(n_groups, mean = 0, sd = sigma_b)\n",
        "\n",
        "# Simulate data\n",
        "data <- data.frame(\n",
        "  group = rep(1:n_groups, each = n_obs_per_group),  # Group IDs\n",
        "  x = rnorm(n_groups * n_obs_per_group)            # Predictor variable\n",
        ")\n",
        "\n",
        "# Generate the latent response Y* and ordinal response Y\n",
        "data$eta <- beta * data$x + group_random_effects[data$group]\n",
        "data$y_star <- data$eta + rnorm(nrow(data))  # Add individual noise\n",
        "data$y <- cut(\n",
        "  data$y_star,\n",
        "  breaks = c(-Inf, thresholds, Inf),\n",
        "  labels = 1:(length(thresholds) + 1),\n",
        "  right = TRUE\n",
        ")\n",
        "data$y <- as.numeric(as.character(data$y))  # Convert factor to numeric\n",
        "head(data)"
      ],
      "metadata": {
        "id": "q82MNCn64Q0w",
        "colab": {
          "base_uri": "https://localhost:8080/"
        },
        "outputId": "a40c9d8c-65ef-48f3-d295-432d985f8e3c"
      },
      "execution_count": 6,
      "outputs": [
        {
          "output_type": "stream",
          "name": "stdout",
          "text": [
            "  group          x        eta      y_star y\n",
            "1     1 -1.0678237 -1.0943875 -1.25847750 1\n",
            "2     1 -0.2179749 -0.6694631 -0.83238981 2\n",
            "3     1 -1.0260044 -1.0734779  0.32509414 3\n",
            "4     1 -0.7288912 -0.9249213 -0.02652502 2\n",
            "5     1 -0.6250393 -0.8729953 -2.52149010 1\n",
            "6     1 -1.6866933 -1.4038223 -1.17526533 1\n"
          ]
        }
      ]
    },
    {
      "cell_type": "markdown",
      "source": [
        "### Define the Likelihood Function\n",
        "\n",
        "The likelihood function combines:\n",
        "\n",
        "***Fixed Effects***: Use $\\beta \\cdot X$) to model the population-level effect of the predictor.\n",
        "***Random Effects***: Model the group-specific random intercepts $b_i$ using a normal distribution.\n",
        "***Probit Link Function***: Use cumulative probabilities to map latent $Y^*$ into ordinal categories defined by thresholds.\n",
        "\n",
        "The cumulative probabilities for each category $k$ are:\n",
        "\n",
        "$$ P(Y = k \\mid X, b) =\n",
        "\\begin{cases}\n",
        "\\Phi(\\tau_k - \\eta), & k = 1 \\\\\n",
        "\\Phi(\\tau_k - \\eta) - \\Phi(\\tau_{k-1} - \\eta), & 2 \\leq k \\leq K - 1 \\\\\n",
        "1 - \\Phi(\\tau_{k-1} - \\eta), & k = K\n",
        "\\end{cases} $$\n",
        "\n",
        "The function computes:\n",
        "- Log-likelihood for observed data $Y$, given parameters ($\\beta, \\tau, b, \\sigma_b$).\n",
        "- Random effects prior, to incorporate their distribution."
      ],
      "metadata": {
        "id": "zDBKsDwn4LQe"
      }
    },
    {
      "cell_type": "code",
      "source": [
        "%%R\n",
        "log_likelihood <- function(params, data) {\n",
        "  # Extract parameters\n",
        "  beta <- params[1]\n",
        "  sigma_b <- exp(params[2])  # Ensure positive variance\n",
        "  thresholds <- params[3:(3 + length(thresholds) - 1)]\n",
        "  random_effects <- params[(3 + length(thresholds)):length(params)]\n",
        "\n",
        "  # Ensure thresholds are ordered\n",
        "  if (!all(diff(thresholds) > 0)) {\n",
        "    return(Inf)  # Penalize unordered thresholds\n",
        "  }\n",
        "\n",
        "  # Compute linear predictor\n",
        "  eta <- beta * data$x + random_effects[data$group]\n",
        "\n",
        "  # Compute category probabilities\n",
        "  prob <- sapply(1:(length(thresholds) + 1), function(k) {\n",
        "    if (k == 1) {\n",
        "      pnorm(thresholds[k] - eta)\n",
        "    } else if (k == (length(thresholds) + 1)) {\n",
        "      1 - pnorm(thresholds[k - 1] - eta)\n",
        "    } else {\n",
        "      pnorm(thresholds[k] - eta) - pnorm(thresholds[k - 1] - eta)\n",
        "    }\n",
        "  })\n",
        "\n",
        "  # Ensure probabilities are valid\n",
        "  prob <- pmax(prob, .Machine$double.eps)  # Avoid log(0)\n",
        "\n",
        "  # Log-likelihood for observed categories\n",
        "  ll <- sum(log(prob[cbind(1:nrow(data), data$y)]))\n",
        "\n",
        "  # Add random effects prior\n",
        "  ll <- ll - sum(dnorm(random_effects, mean = 0, sd = sigma_b, log = TRUE))\n",
        "\n",
        "  # Return negative log-likelihood\n",
        "  return(-ll)\n",
        "}\n"
      ],
      "metadata": {
        "id": "dhRM1tBj4MCd"
      },
      "execution_count": 5,
      "outputs": []
    },
    {
      "cell_type": "markdown",
      "source": [
        "### Optimize the Model\n",
        "\n",
        "We estimate the parameters by minimizing the negative log-likelihood using the `optim()` function.\n",
        "\n",
        "- ***Initial Parameters***: Provide starting values for $\\beta$, $\\sigma_b$, thresholds, and random effects.\n",
        "- ***Optimization Method***: Use \"BFGS,\" a quasi-Newton optimization algorithm.\n",
        "- ***Output***: The `optim()` result includes parameter estimates and convergence diagnostics.\n"
      ],
      "metadata": {
        "id": "4BpOoaj34eBU"
      }
    },
    {
      "cell_type": "code",
      "source": [
        "%%R\n",
        "# Improved initialization\n",
        "init_thresholds <- seq(-2, 2, length.out = length(thresholds))\n",
        "init_params <- c(0, log(1), init_thresholds, rep(0, n_groups))\n",
        "\n",
        "# Optimization with bounds\n",
        "opt <- optim(\n",
        "  par = init_params,\n",
        "  fn = log_likelihood,\n",
        "  data = data,\n",
        "  method = \"L-BFGS-B\",\n",
        "  lower = c(-Inf, -10, rep(-Inf, length(thresholds)), rep(-3, n_groups)),  # Bounds for parameters\n",
        "  upper = c(Inf, 10, rep(Inf, length(thresholds)), rep(3, n_groups)),\n",
        "  control = list(maxit = 1000, trace = 6)\n",
        ")\n",
        "\n",
        "# Check optimization result\n",
        "if (opt$convergence == 0) {\n",
        "  cat(\"Optimization converged successfully.\\n\")\n",
        "  print(opt$par)\n",
        "} else {\n",
        "  cat(\"Optimization did not converge.\\n\")\n",
        "}\n"
      ],
      "metadata": {
        "id": "soSBO_2B4qVv",
        "colab": {
          "base_uri": "https://localhost:8080/"
        },
        "outputId": "ed7f89a7-63ad-4228-f548-9ed8920f629f"
      },
      "execution_count": 6,
      "outputs": [
        {
          "output_type": "stream",
          "name": "stdout",
          "text": [
            "N = 25, M = 5 machine precision = 2.22045e-16\n",
            "L = -inf -10 -inf -inf -inf -3 -3 -3 -3 -3 -3 -3 -3 -3 -3 -3 -3 -3 -3 -3 -3 -3 -3 -3 -3 \n",
            "X0 = 0 0 -2 0 2 0 0 0 0 0 0 0 0 0 0 0 0 0 0 0 0 0 0 0 0 \n",
            "U = inf 10 inf inf inf 3 3 3 3 3 3 3 3 3 3 3 3 3 3 3 3 3 3 3 3 \n",
            "At X0, 0 variables are exactly at the bounds\n",
            "At iterate     0  f=       2252.2  |proj g|=       644.58\n",
            "Iteration     0\n",
            "\n",
            "---------------- CAUCHY entered-------------------\n",
            "\n",
            "There are 21  breakpoints\n",
            "\n",
            "Piece      1 f1, f2 at start point -1.0943e+06  1.0943e+06\n",
            "Distance to the next break point =   3.0733e-02\n",
            "Distance to the stationary point =   1.0000e+00\n",
            "Variable  21  is fixed.\n",
            "\n",
            "Piece      2 f1, f2 at start point -1.0514e+06  1.0848e+06\n",
            "Distance to the next break point =   1.4996e-03\n",
            "Distance to the stationary point =   9.6927e-01\n",
            "Variable  11  is fixed.\n",
            "\n",
            "Piece      3 f1, f2 at start point -1.0414e+06  1.0761e+06\n",
            "Distance to the next break point =   1.8110e-03\n",
            "Distance to the stationary point =   9.6777e-01\n",
            "Variable  23  is fixed.\n",
            "\n",
            "Piece      4 f1, f2 at start point -1.0320e+06  1.0683e+06\n",
            "Distance to the next break point =   2.1157e-03\n",
            "Distance to the stationary point =   9.6596e-01\n",
            "Variable  16  is fixed.\n",
            "\n",
            "Piece      5 f1, f2 at start point -1.0231e+06  1.0615e+06\n",
            "Distance to the next break point =   1.3056e-03\n",
            "Distance to the stationary point =   9.6384e-01\n",
            "Variable  8  is fixed.\n",
            "\n",
            "Piece      6 f1, f2 at start point -1.0155e+06  1.0550e+06\n",
            "Distance to the next break point =   1.8204e-03\n",
            "Distance to the stationary point =   9.6254e-01\n",
            "Variable  13  is fixed.\n",
            "\n",
            "Piece      7 f1, f2 at start point -1.0080e+06  1.0492e+06\n",
            "Distance to the next break point =   4.0583e-02\n",
            "Distance to the stationary point =   9.6071e-01\n",
            "Variable  24  is fixed.\n",
            "\n",
            "Piece      8 f1, f2 at start point -9.6412e+05  1.0478e+06\n",
            "Distance to the next break point =   6.1519e-03\n",
            "Distance to the stationary point =   9.2013e-01\n",
            "Variable  25  is fixed.\n",
            "\n",
            "Piece      9 f1, f2 at start point -9.5656e+05  1.0466e+06\n",
            "Distance to the next break point =   9.6131e-03\n",
            "Distance to the stationary point =   9.1398e-01\n",
            "Variable  20  is fixed.\n",
            "\n",
            "Piece     10 f1, f2 at start point -9.4561e+05  1.0456e+06\n",
            "Distance to the next break point =   6.2860e-04\n",
            "Distance to the stationary point =   9.0437e-01\n",
            "Variable  6  is fixed.\n",
            "\n",
            "Piece     11 f1, f2 at start point -9.4408e+05  1.0446e+06\n",
            "Distance to the next break point =   7.0231e-13\n",
            "Distance to the stationary point =   9.0374e-01\n",
            "Variable  22  is fixed.\n",
            "\n",
            "Piece     12 f1, f2 at start point -9.4320e+05  1.0437e+06\n",
            "Distance to the next break point =   9.0802e-03\n",
            "Distance to the stationary point =   9.0374e-01\n",
            "Variable  14  is fixed.\n",
            "Variable  18  is fixed.\n",
            "\n",
            "Piece     14 f1, f2 at start point -9.3227e+05  1.0420e+06\n",
            "Distance to the next break point =   3.0517e-02\n",
            "Distance to the stationary point =   8.9466e-01\n",
            "Variable  7  is fixed.\n",
            "\n",
            "Piece     15 f1, f2 at start point -9.0005e+05  1.0416e+06\n",
            "Distance to the next break point =   3.8892e-03\n",
            "Distance to the stationary point =   8.6414e-01\n",
            "Variable  12  is fixed.\n",
            "\n",
            "Piece     16 f1, f2 at start point -8.9560e+05  1.0411e+06\n",
            "Distance to the next break point =   5.6278e-03\n",
            "Distance to the stationary point =   8.6025e-01\n",
            "Variable  15  is fixed.\n",
            "\n",
            "Piece     17 f1, f2 at start point -8.8938e+05  1.0407e+06\n",
            "Distance to the next break point =   2.7681e-02\n",
            "Distance to the stationary point =   8.5462e-01\n",
            "Variable  17  is fixed.\n",
            "\n",
            "Piece     18 f1, f2 at start point -8.6032e+05  1.0404e+06\n",
            "Distance to the next break point =   4.0702e-02\n",
            "Distance to the stationary point =   8.2694e-01\n",
            "Variable  10  is fixed.\n",
            "\n",
            "Piece     19 f1, f2 at start point -8.1782e+05  1.0402e+06\n",
            "Distance to the next break point =   2.7074e-01\n",
            "Distance to the stationary point =   7.8624e-01\n",
            "Variable  19  is fixed.\n",
            "\n",
            "Piece     20 f1, f2 at start point -5.3619e+05  1.0401e+06\n",
            "Distance to the next break point =   1.5505e-02\n",
            "Distance to the stationary point =   5.1550e-01\n",
            "Variable  2  is fixed.\n",
            "\n",
            "Piece     21 f1, f2 at start point -5.1987e+05  1.0397e+06\n",
            "Distance to the next break point =   1.0719e-03\n",
            "Distance to the stationary point =   5.0000e-01\n",
            "Variable  9  is fixed.\n",
            "\n",
            "GCP found in this segment\n",
            "Piece     22 f1, f2 at start point -5.1873e+05  1.0397e+06\n",
            "Distance to the stationary point =   4.9893e-01\n",
            "Cauchy X =  617.147 10 490.923 -19.2261 -642.58 -3 -3 3 -3 3 3 3 -3 -3 -3 3 3 3 3 -3 3 3 -3 3 -3 \n",
            "\n",
            "---------------- exit CAUCHY----------------------\n",
            "\n",
            "4  variables are free at GCP on iteration 1\n",
            "LINE SEARCH 0 times; norm of step = 1\n",
            "X = 0.605169 0.00980592 -1.51664 -0.018853 1.36793 -0.00294178 -0.00294178 0.00294178 -0.00294178 0.00294178 0.00294178 0.00294178 -0.00294178 -0.00294178 -0.00294178 0.00294178 0.00294178 0.00294178 0.00294178 -0.00294178 0.00294178 0.00294178 -0.00294178 0.00294178 -0.00294178 \n",
            "G = 4.22978 -19.9998 -296.211 30.844 347.896 28.4508 18.0854 -62.9493 6.14816 -9.03653 -67.4399 -14.1732 59.7529 29.1336 19.2415 -60.7549 -17.1973 -19.9864 -7.03363 34.3211 -77.5727 -21.4592 78.9722 -29.5049 30.4684 \n",
            "Iteration     1\n",
            "\n",
            "---------------- CAUCHY entered-------------------\n",
            "\n",
            "There are 21  breakpoints\n",
            "\n",
            "Piece      1 f1, f2 at start point -2.4503e+05  1.3069e+08\n",
            "Distance to the next break point =   3.7951e-02\n",
            "Distance to the stationary point =   1.8748e-03\n",
            "\n",
            "GCP found in this segment\n",
            "Piece      1 f1, f2 at start point -2.4503e+05  1.3069e+08\n",
            "Distance to the stationary point =   1.8748e-03\n",
            "Cauchy X =  0.597239 0.0473016 -0.961306 -0.0766794 0.715695 -0.0562815 -0.0368483 0.120959 -0.0144684 0.0198835 0.129378 0.0295137 -0.114967 -0.0575615 -0.0390158 0.116845 0.0351834 0.0404123 0.0161284 -0.0672871 0.148375 0.0431735 -0.150999 0.0582576 -0.060064 \n",
            "\n",
            "---------------- exit CAUCHY----------------------\n",
            "\n",
            "Variable 25 enters the set of free variables\n",
            "0 variables leave; 1 variables enter\n",
            "Variable 24 enters the set of free variables\n",
            "0 variables leave; 2 variables enter\n",
            "Variable 23 enters the set of free variables\n",
            "0 variables leave; 3 variables enter\n",
            "Variable 22 enters the set of free variables\n",
            "0 variables leave; 4 variables enter\n",
            "Variable 21 enters the set of free variables\n",
            "0 variables leave; 5 variables enter\n",
            "Variable 20 enters the set of free variables\n",
            "0 variables leave; 6 variables enter\n",
            "Variable 19 enters the set of free variables\n",
            "0 variables leave; 7 variables enter\n",
            "Variable 18 enters the set of free variables\n",
            "0 variables leave; 8 variables enter\n",
            "Variable 17 enters the set of free variables\n",
            "0 variables leave; 9 variables enter\n",
            "Variable 16 enters the set of free variables\n",
            "0 variables leave; 10 variables enter\n",
            "Variable 15 enters the set of free variables\n",
            "0 variables leave; 11 variables enter\n",
            "Variable 14 enters the set of free variables\n",
            "0 variables leave; 12 variables enter\n",
            "Variable 13 enters the set of free variables\n",
            "0 variables leave; 13 variables enter\n",
            "Variable 12 enters the set of free variables\n",
            "0 variables leave; 14 variables enter\n",
            "Variable 11 enters the set of free variables\n",
            "0 variables leave; 15 variables enter\n",
            "Variable 10 enters the set of free variables\n",
            "0 variables leave; 16 variables enter\n",
            "Variable 9 enters the set of free variables\n",
            "0 variables leave; 17 variables enter\n",
            "Variable 8 enters the set of free variables\n",
            "0 variables leave; 18 variables enter\n",
            "Variable 7 enters the set of free variables\n",
            "0 variables leave; 19 variables enter\n",
            "Variable 6 enters the set of free variables\n",
            "0 variables leave; 20 variables enter\n",
            "Variable 2 enters the set of free variables\n",
            "0 variables leave; 21 variables enter\n",
            "25  variables are free at GCP on iteration 2\n",
            "LINE SEARCH 0 times; norm of step = 0.981198\n",
            "X = 0.633358 0.0430074 -0.900091 -0.0811511 0.639908 -0.0396836 -0.025532 0.073619 -0.0132051 0.0132609 0.0733621 0.0182078 -0.0698959 -0.0429305 -0.0288432 0.0672302 0.0271162 0.0247932 0.0148165 -0.0511791 0.0902532 0.0258203 -0.0997183 0.0372654 -0.041069 \n",
            "G = 156.031 -19.9525 -28.6034 54.4723 -31.6964 22.6064 14.4212 -40.6804 6.17369 -3.17458 -43.0988 -5.04158 41.4164 25.378 16.9728 -37.1694 -10.1789 -10.7281 -2.68788 28.9198 -50.571 -10.5762 57.7046 -17.3934 23.4855 \n",
            "Iteration     2\n",
            "\n",
            "---------------- CAUCHY entered-------------------\n",
            "\n",
            "There are 21  breakpoints\n",
            "\n",
            "Piece      1 f1, f2 at start point -4.5783e+04  3.4284e+07\n",
            "Distance to the next break point =   5.0261e-02\n",
            "Distance to the stationary point =   1.3354e-03\n",
            "\n",
            "GCP found in this segment\n",
            "Piece      1 f1, f2 at start point -4.5783e+04  3.4284e+07\n",
            "Distance to the stationary point =   1.3354e-03\n",
            "Cauchy X =  0.42499 0.0696525 -0.861894 -0.153895 0.682237 -0.0698728 -0.0447905 0.127945 -0.0214497 0.0175004 0.130917 0.0249405 -0.125204 -0.076821 -0.0515091 0.116867 0.0407094 0.0391197 0.018406 -0.0897993 0.157787 0.039944 -0.176779 0.060493 -0.0724322 \n",
            "\n",
            "---------------- exit CAUCHY----------------------\n",
            "\n",
            "25  variables are free at GCP on iteration 3\n",
            "LINE SEARCH 0 times; norm of step = 0.363027\n",
            "X = 0.457894 0.0834463 -0.790475 -0.187119 0.62576 -0.0869454 -0.0562021 0.16273 -0.0256779 0.0213443 0.16971 0.0309376 -0.16008 -0.0948576 -0.0639741 0.150533 0.048401 0.0494655 0.0203255 -0.109904 0.200693 0.0506111 -0.221582 0.0756842 -0.0906408 \n",
            "G = 29.155 -19.7862 88.9696 -103.35 5.82118 19.5757 13.3398 -34.7057 6.37062 -1.50424 -38.8409 -4.05083 36.5168 21.2955 15.1454 -32.909 -6.76953 -9.43098 -0.793474 23.6095 -44.1529 -8.97965 48.1805 -13.8386 20.4417 \n",
            "Iteration     3\n",
            "\n",
            "---------------- CAUCHY entered-------------------\n",
            "\n",
            "There are 21  breakpoints\n",
            "\n",
            "Piece      1 f1, f2 at start point -3.1959e+04  3.6237e+07\n",
            "Distance to the next break point =   5.7667e-02\n",
            "Distance to the stationary point =   8.8195e-04\n",
            "\n",
            "GCP found in this segment\n",
            "Piece      1 f1, f2 at start point -3.1959e+04  3.6237e+07\n",
            "Distance to the stationary point =   8.8195e-04\n",
            "Cauchy X =  0.432181 0.100897 -0.868942 -0.0959697 0.620626 -0.10421 -0.0679672 0.193338 -0.0312965 0.022671 0.203966 0.0345103 -0.192286 -0.113639 -0.0773315 0.179557 0.0543713 0.0577832 0.0210253 -0.130726 0.239633 0.0585307 -0.264074 0.0878891 -0.108669 \n",
            "\n",
            "---------------- exit CAUCHY----------------------\n",
            "\n",
            "25  variables are free at GCP on iteration 4\n",
            "LINE SEARCH 0 times; norm of step = 0.4202\n",
            "X = 0.282032 0.140777 -0.846417 -0.140177 0.646066 -0.150639 -0.0984985 0.281607 -0.0436909 0.0301092 0.300789 0.0469931 -0.28213 -0.164199 -0.111942 0.26294 0.0741221 0.0823274 0.0253863 -0.187483 0.349413 0.0831223 -0.383592 0.125372 -0.157524 \n",
            "G = -119.61 -19.4264 19.3678 -28.6714 5.6426 16.4898 12.1931 -29.8339 5.82675 -1.40802 -35.1092 -4.16094 33.2848 16.4839 12.5286 -29.8425 -4.32989 -8.17017 0.535582 18.0861 -38.2969 -8.29044 41.1826 -11.5364 17.9657 \n",
            "Iteration     4\n",
            "\n",
            "---------------- CAUCHY entered-------------------\n",
            "\n",
            "There are 21  breakpoints\n",
            "\n",
            "Piece      1 f1, f2 at start point -2.5037e+04  3.6723e+07\n",
            "Distance to the next break point =   6.3532e-02\n",
            "Distance to the stationary point =   6.8178e-04\n",
            "\n",
            "GCP found in this segment\n",
            "Piece      1 f1, f2 at start point -2.5037e+04  3.6723e+07\n",
            "Distance to the stationary point =   6.8178e-04\n",
            "Cauchy X =  0.36358 0.154022 -0.859621 -0.12063 0.642219 -0.161881 -0.106812 0.301947 -0.0476634 0.0310692 0.324726 0.04983 -0.304823 -0.175438 -0.120484 0.283286 0.0770741 0.0878976 0.0250212 -0.199814 0.375523 0.0887745 -0.411669 0.133238 -0.169773 \n",
            "\n",
            "---------------- exit CAUCHY----------------------\n",
            "\n",
            "25  variables are free at GCP on iteration 5\n",
            "LINE SEARCH 0 times; norm of step = 0.52769\n",
            "X = 0.230364 0.229543 -0.863307 -0.123299 0.659503 -0.240612 -0.159743 0.446009 -0.0709967 0.0411239 0.483824 0.0689871 -0.455099 -0.260491 -0.179859 0.419707 0.107707 0.127115 0.0304838 -0.295214 0.55641 0.127739 -0.611178 0.192976 -0.252819 \n",
            "G = -170.45 -18.7819 15.1439 -6.32502 -5.36857 12.4292 9.6547 -23.6809 4.56221 -1.1965 -29.0533 -3.63025 26.7528 11.6611 9.28186 -24.4199 -2.65043 -6.54483 0.921921 12.7639 -30.9728 -6.82652 32.2973 -8.83949 13.9916 \n",
            "Iteration     5\n",
            "\n",
            "---------------- CAUCHY entered-------------------\n",
            "\n",
            "There are 21  breakpoints\n",
            "\n",
            "Piece      1 f1, f2 at start point -3.5463e+04  3.8958e+07\n",
            "Distance to the next break point =   7.3964e-02\n",
            "Distance to the stationary point =   9.1030e-04\n",
            "\n",
            "GCP found in this segment\n",
            "Piece      1 f1, f2 at start point -3.5463e+04  3.8958e+07\n",
            "Distance to the stationary point =   9.1030e-04\n",
            "Cauchy X =  0.385525 0.24664 -0.877092 -0.117542 0.66439 -0.251926 -0.168532 0.467565 -0.0751497 0.0422131 0.510271 0.0722917 -0.479452 -0.271106 -0.188308 0.441937 0.11012 0.133073 0.0296446 -0.306833 0.584604 0.133953 -0.640578 0.201023 -0.265556 \n",
            "\n",
            "---------------- exit CAUCHY----------------------\n",
            "\n",
            "25  variables are free at GCP on iteration 6\n",
            "LINE SEARCH 0 times; norm of step = 2.00397\n",
            "X = 0.316461 0.60026 -1.03083 -0.154146 0.844411 -0.574477 -0.38824 1.06764 -0.172303 0.0836304 1.18193 0.154136 -1.10646 -0.61408 -0.429969 1.0148 0.232212 0.296249 0.0494528 -0.692924 1.34527 0.297187 -1.47149 0.446548 -0.609191 \n",
            "G = -167.321 -16.6428 2.83747 -19.6332 36.7114 0.728041 1.21809 -5.73419 0.854662 0.0396266 -10.2556 -1.28442 5.7311 -0.829282 0.0857303 -7.03898 1.03159 -1.23612 0.860861 -0.648913 -10.5612 -1.51089 7.73535 -0.672202 1.53803 \n",
            "Iteration     6\n",
            "\n",
            "---------------- CAUCHY entered-------------------\n",
            "\n",
            "There are 21  breakpoints\n",
            "\n",
            "Piece      1 f1, f2 at start point -3.0420e+04  1.6906e+07\n",
            "Distance to the next break point =   1.5668e-01\n",
            "Distance to the stationary point =   1.7993e-03\n",
            "\n",
            "GCP found in this segment\n",
            "Piece      1 f1, f2 at start point -3.0420e+04  1.6906e+07\n",
            "Distance to the stationary point =   1.7993e-03\n",
            "Cauchy X =  0.617528 0.630206 -1.03593 -0.118819 0.778355 -0.575786 -0.390432 1.07795 -0.173841 0.0835591 1.20038 0.156447 -1.11677 -0.612588 -0.430123 1.02747 0.230356 0.298473 0.0479039 -0.691756 1.36427 0.299906 -1.48541 0.447758 -0.611958 \n",
            "\n",
            "---------------- exit CAUCHY----------------------\n",
            "\n",
            "25  variables are free at GCP on iteration 7\n",
            "LINE SEARCH 1 times; norm of step = 0.595972\n",
            "X = 0.461262 0.842938 -1.09126 -0.11147 0.703077 -0.637898 -0.427715 1.22574 -0.193427 0.0885741 1.38281 0.170979 -1.25084 -0.680153 -0.473618 1.16301 0.256943 0.32881 0.0565118 -0.774948 1.58319 0.328768 -1.70838 0.494023 -0.677595 \n",
            "G = -65.5432 -17.2769 -10.166 66.7795 -81.096 0.300112 1.09237 1.34149 1.5327 2.01149 -2.11332 2.14152 1.38509 -0.697546 0.205136 1.1268 2.76011 2.7247 2.39369 -0.190379 -2.26933 2.64131 3.76 3.17746 1.11191 \n",
            "Iteration     7\n",
            "\n",
            "---------------- CAUCHY entered-------------------\n",
            "\n",
            "There are 21  breakpoints\n",
            "\n",
            "Piece      1 f1, f2 at start point -1.5814e+04  1.9243e+07\n",
            "Distance to the next break point =   3.4352e-01\n",
            "Distance to the stationary point =   8.2183e-04\n",
            "\n",
            "GCP found in this segment\n",
            "Piece      1 f1, f2 at start point -1.5814e+04  1.9243e+07\n",
            "Distance to the stationary point =   8.2183e-04\n",
            "Cauchy X =  0.515128 0.857137 -1.0829 -0.166351 0.769724 -0.638144 -0.428613 1.22464 -0.194687 0.086921 1.38455 0.169219 -1.25198 -0.67958 -0.473787 1.16208 0.254675 0.326571 0.0545445 -0.774792 1.58506 0.326597 -1.71147 0.491412 -0.678508 \n",
            "\n",
            "---------------- exit CAUCHY----------------------\n",
            "\n",
            "25  variables are free at GCP on iteration 8\n",
            "LINE SEARCH 0 times; norm of step = 0.526787\n",
            "X = 0.558235 0.980576 -1.16105 -0.156888 0.823173 -0.71608 -0.481633 1.3751 -0.219418 0.0950668 1.5589 0.187912 -1.40721 -0.761623 -0.531583 1.30542 0.282635 0.364631 0.0585084 -0.86873 1.78425 0.364451 -1.92555 0.548661 -0.762097 \n",
            "G = -23.6466 -17.3856 -9.21336 17.902 -21.7516 -1.51481 -0.72092 2.90918 0.613812 1.85365 -0.109228 2.01735 -2.16607 -2.00997 -1.24804 3.08832 2.29809 2.86596 1.41726 -1.54277 -0.432776 2.84818 0.451277 3.5656 -1.15662 \n",
            "Iteration     8\n",
            "\n",
            "---------------- CAUCHY entered-------------------\n",
            "\n",
            "There are 21  breakpoints\n",
            "\n",
            "Piece      1 f1, f2 at start point -1.8194e+03  1.4677e+06\n",
            "Distance to the next break point =   5.1879e-01\n",
            "Distance to the stationary point =   1.2396e-03\n",
            "\n",
            "GCP found in this segment\n",
            "Piece      1 f1, f2 at start point -1.8194e+03  1.4677e+06\n",
            "Distance to the stationary point =   1.2396e-03\n",
            "Cauchy X =  0.587547 1.00213 -1.14963 -0.179079 0.850136 -0.714202 -0.480739 1.3715 -0.220179 0.092769 1.55904 0.185411 -1.40452 -0.759131 -0.530036 1.30159 0.279786 0.361078 0.0567516 -0.866818 1.78479 0.36092 -1.92611 0.544241 -0.760663 \n",
            "\n",
            "---------------- exit CAUCHY----------------------\n",
            "\n",
            "25  variables are free at GCP on iteration 9\n",
            "LINE SEARCH 0 times; norm of step = 0.155334\n",
            "X = 0.607854 1.07671 -1.17028 -0.17196 0.854294 -0.727676 -0.489433 1.40363 -0.226125 0.0913392 1.60394 0.186355 -1.43502 -0.773011 -0.539318 1.33088 0.282826 0.364816 0.0565445 -0.884979 1.83851 0.364359 -1.98064 0.550773 -0.775636 \n",
            "G = 4.82143 -17.7403 -3.56263 4.51019 -9.32013 -1.63191 -1.08044 2.72978 0.259948 1.5164 0.223023 1.73001 -2.81502 -1.73007 -1.31731 3.184 1.61987 2.42218 0.80086 -1.26603 -0.178656 2.46283 -0.127445 3.00072 -1.45826 \n",
            "Iteration     9\n",
            "\n",
            "---------------- CAUCHY entered-------------------\n",
            "\n",
            "There are 21  breakpoints\n",
            "\n",
            "Piece      1 f1, f2 at start point -5.2533e+02  2.5874e+05\n",
            "Distance to the next break point =   5.0300e-01\n",
            "Distance to the stationary point =   2.0303e-03\n",
            "\n",
            "GCP found in this segment\n",
            "Piece      1 f1, f2 at start point -5.2533e+02  2.5874e+05\n",
            "Distance to the stationary point =   2.0303e-03\n",
            "Cauchy X =  0.598065 1.11272 -1.16305 -0.181117 0.873217 -0.724362 -0.487239 1.39809 -0.226653 0.0882605 1.60349 0.182842 -1.42931 -0.769499 -0.536644 1.32442 0.279537 0.359898 0.0549185 -0.882408 1.83888 0.359359 -1.98038 0.544681 -0.772676 \n",
            "\n",
            "---------------- exit CAUCHY----------------------\n",
            "\n",
            "25  variables are free at GCP on iteration 10\n",
            "LINE SEARCH 0 times; norm of step = 0.164651\n",
            "X = 0.642337 1.21568 -1.17501 -0.183639 0.87976 -0.728901 -0.489768 1.41681 -0.231175 0.0836127 1.63912 0.179751 -1.44473 -0.773566 -0.538807 1.34012 0.277596 0.356873 0.0531781 -0.890984 1.88331 0.355951 -2.02274 0.541793 -0.778668 \n",
            "G = 24.5125 -18.242 0.859192 -5.84129 1.28057 -1.48091 -1.16746 2.33086 -0.049249 1.01674 0.485429 1.24118 -2.96854 -1.26836 -1.16128 2.91578 0.876217 1.72397 0.225895 -0.904934 0.103155 1.78531 -0.667598 2.11941 -1.47421 \n",
            "Iteration    10\n",
            "\n",
            "---------------- CAUCHY entered-------------------\n",
            "\n",
            "There are 21  breakpoints\n",
            "\n",
            "Piece      1 f1, f2 at start point -1.0171e+03  1.3308e+06\n",
            "Distance to the next break point =   4.8154e-01\n",
            "Distance to the stationary point =   7.6427e-04\n",
            "\n",
            "GCP found in this segment\n",
            "Piece      1 f1, f2 at start point -1.0171e+03  1.3308e+06\n",
            "Distance to the stationary point =   7.6427e-04\n",
            "Cauchy X =  0.623602 1.22962 -1.17567 -0.179175 0.878781 -0.727769 -0.488876 1.41503 -0.231137 0.0828356 1.63875 0.178803 -1.44246 -0.772597 -0.53792 1.33789 0.276926 0.355556 0.0530055 -0.890293 1.88323 0.354587 -2.02223 0.540173 -0.777541 \n",
            "\n",
            "---------------- exit CAUCHY----------------------\n",
            "\n",
            "25  variables are free at GCP on iteration 11\n",
            "LINE SEARCH 0 times; norm of step = 0.427878\n",
            "X = 0.690185 1.60119 -1.18533 -0.201109 0.92101 -0.72414 -0.484675 1.43837 -0.241782 0.0624189 1.71863 0.160517 -1.45452 -0.767274 -0.531396 1.35105 0.261799 0.332281 0.0448163 -0.898422 1.98694 0.33007 -2.11625 0.512677 -0.777984 \n",
            "G = 49.907 -19.143 6.33249 -19.7194 17.5693 -0.965672 -1.02558 1.76833 -0.615425 -0.137816 1.47274 0.104586 -2.951 -0.297279 -0.636826 2.36679 -0.532941 0.169826 -0.749759 -0.325725 1.33857 0.207775 -2.26443 0.154917 -1.27172 \n",
            "Iteration    11\n",
            "\n",
            "---------------- CAUCHY entered-------------------\n",
            "\n",
            "There are 21  breakpoints\n",
            "\n",
            "Piece      1 f1, f2 at start point -3.6269e+03  6.9262e+06\n",
            "Distance to the next break point =   4.3874e-01\n",
            "Distance to the stationary point =   5.2364e-04\n",
            "\n",
            "GCP found in this segment\n",
            "Piece      1 f1, f2 at start point -3.6269e+03  6.9262e+06\n",
            "Distance to the stationary point =   5.2364e-04\n",
            "Cauchy X =  0.664051 1.61122 -1.18865 -0.190783 0.91181 -0.723634 -0.484138 1.43744 -0.24146 0.0624911 1.71786 0.160462 -1.45298 -0.767118 -0.531062 1.34981 0.262078 0.332192 0.0452089 -0.898251 1.98624 0.329961 -2.11506 0.512596 -0.777318 \n",
            "\n",
            "---------------- exit CAUCHY----------------------\n",
            "\n",
            "25  variables are free at GCP on iteration 12\n",
            "LINE SEARCH 0 times; norm of step = 1.07755\n",
            "X = 0.75466 2.6022 -1.20227 -0.231293 0.981292 -0.699346 -0.462598 1.46862 -0.263187 0.00956388 1.89147 0.110762 -1.45218 -0.738945 -0.503397 1.35508 0.219806 0.266274 0.0251274 -0.902266 2.2172 0.260974 -2.31606 0.432753 -0.761915 \n",
            "G = 81.1114 -19.872 14.6464 -39.297 40.4986 0.62099 -0.0704865 0.946236 -1.54947 -2.61144 4.10418 -2.34087 -2.19584 1.97901 0.960879 1.1914 -3.20274 -3.20702 -2.35162 0.858059 4.73531 -3.27796 -6.02021 -4.12326 -0.293974 \n",
            "Iteration    12\n",
            "\n",
            "---------------- CAUCHY entered-------------------\n",
            "\n",
            "There are 21  breakpoints\n",
            "\n",
            "Piece      1 f1, f2 at start point -1.0530e+04  2.1110e+07\n",
            "Distance to the next break point =   3.7227e-01\n",
            "Distance to the stationary point =   4.9883e-04\n",
            "\n",
            "GCP found in this segment\n",
            "Piece      1 f1, f2 at start point -1.0530e+04  2.1110e+07\n",
            "Distance to the stationary point =   4.9883e-04\n",
            "Cauchy X =  0.714199 2.61211 -1.20957 -0.211691 0.961091 -0.699656 -0.462563 1.46815 -0.262414 0.0108665 1.88942 0.11193 -1.45108 -0.739933 -0.503876 1.35449 0.221403 0.267874 0.0263005 -0.902694 2.21484 0.262609 -2.31306 0.434809 -0.761769 \n",
            "\n",
            "---------------- exit CAUCHY----------------------\n",
            "\n",
            "25  variables are free at GCP on iteration 13\n",
            "LINE SEARCH 0 times; norm of step = 1.80875\n",
            "X = 0.78821 4.32293 -1.21905 -0.266708 1.04159 -0.641654 -0.415341 1.47454 -0.289689 -0.0734986 2.12179 0.0293817 -1.40538 -0.676132 -0.44654 1.32061 0.148934 0.15496 -0.00522202 -0.885522 2.53401 0.145306 -2.57611 0.295828 -0.715324 \n",
            "G = 91.0916 -19.9954 21.104 -58.8541 66.1823 3.49706 2.07873 -0.271548 -2.51641 -6.15968 7.95326 -6.00032 0.156885 5.37162 3.76376 -1.10393 -6.63482 -8.2594 -4.07014 2.43518 9.77305 -8.52924 -11.3136 -10.4282 1.82557 \n",
            "Iteration    13\n",
            "\n",
            "---------------- CAUCHY entered-------------------\n",
            "\n",
            "There are 21  breakpoints\n",
            "\n",
            "Piece      1 f1, f2 at start point -1.7734e+04  2.6221e+07\n",
            "Distance to the next break point =   2.5931e-01\n",
            "Distance to the stationary point =   6.7634e-04\n",
            "\n",
            "GCP found in this segment\n",
            "Piece      1 f1, f2 at start point -1.7734e+04  2.6221e+07\n",
            "Distance to the stationary point =   6.7634e-04\n",
            "Cauchy X =  0.726601 4.33646 -1.23332 -0.226902 0.996833 -0.64402 -0.416747 1.47472 -0.287987 -0.0693326 2.11641 0.0334399 -1.40549 -0.679765 -0.449085 1.32136 0.153421 0.160547 -0.00246922 -0.887169 2.5274 0.151075 -2.56845 0.302881 -0.716559 \n",
            "\n",
            "---------------- exit CAUCHY----------------------\n",
            "\n",
            "25  variables are free at GCP on iteration 14\n",
            "LINE SEARCH 0 times; norm of step = 3.02827\n",
            "X = 0.877622 7.24772 -1.26326 -0.216764 0.993297 -0.571829 -0.358976 1.48147 -0.326489 -0.180797 2.45734 -0.0748184 -1.34431 -0.600692 -0.378658 1.27261 0.0577264 0.0126485 -0.0444991 -0.867844 3 -0.00182567 -2.94705 0.121706 -0.657379 \n",
            "G = 138.091 -20 5.04201 -12.0528 39.562 7.20998 4.69375 -0.474238 -3.94009 -10.6781 13.7324 -9.55385 3.10631 9.7972 7.1247 -2.09079 -10.8923 -13.0436 -5.87169 5.05518 16.9561 -13.8051 -17.3671 -17.6023 5.08477 \n",
            "Iteration    14\n",
            "\n",
            "---------------- CAUCHY entered-------------------\n",
            "\n",
            "There are 21  breakpoints\n",
            "\n",
            "Piece      1 f1, f2 at start point -2.3314e+04  2.0569e+07\n",
            "Distance to the next break point =   1.3761e-01\n",
            "Distance to the stationary point =   1.1335e-03\n",
            "\n",
            "GCP found in this segment\n",
            "Piece      1 f1, f2 at start point -2.3314e+04  2.0569e+07\n",
            "Distance to the stationary point =   1.1335e-03\n",
            "Cauchy X =  0.721103 7.27039 -1.26898 -0.203103 0.948455 -0.580001 -0.364296 1.48201 -0.322023 -0.168694 2.44177 -0.0639896 -1.34783 -0.611797 -0.386734 1.27498 0.0700723 0.0274328 -0.0378438 -0.873574 2.98078 0.0138217 -2.92736 0.141658 -0.663142 \n",
            "\n",
            "---------------- exit CAUCHY----------------------\n",
            "\n",
            "25  variables are free at GCP on iteration 15\n",
            "LINE SEARCH 0 times; norm of step = 0.230904\n",
            "X = 0.7212 7.4089 -1.26855 -0.205691 0.948394 -0.576807 -0.361779 1.48119 -0.323395 -0.17308 2.4553 -0.0684073 -1.34432 -0.608403 -0.383747 1.27182 0.0662253 0.0213114 -0.0394734 -0.872451 3 0.00755429 -2.94213 0.13425 -0.66037 \n",
            "G = 39.8937 -20 -9.60081 -0.58777 30.1771 6.60858 5.25883 2.32305 -3.12553 -9.64902 15.805 -8.92617 2.98852 7.81434 6.78794 -0.686089 -8.49256 -11.7291 -3.8435 2.48632 19.2697 -12.6141 -19.7514 -15.3621 4.84141 \n",
            "Iteration    15\n",
            "\n",
            "---------------- CAUCHY entered-------------------\n",
            "\n",
            "There are 21  breakpoints\n",
            "\n",
            "Piece      1 f1, f2 at start point -5.0309e+03  1.6008e+06\n",
            "Distance to the next break point =   1.2956e-01\n",
            "Distance to the stationary point =   3.1427e-03\n",
            "\n",
            "GCP found in this segment\n",
            "Piece      1 f1, f2 at start point -5.0309e+03  1.6008e+06\n",
            "Distance to the stationary point =   3.1427e-03\n",
            "Cauchy X =  0.595825 7.47175 -1.23838 -0.203844 0.853556 -0.597576 -0.378306 1.47389 -0.313572 -0.142756 2.40563 -0.0403548 -1.35371 -0.632962 -0.40508 1.27397 0.0929151 0.058173 -0.0273943 -0.880265 2.93944 0.0471969 -2.88006 0.182529 -0.675585 \n",
            "\n",
            "---------------- exit CAUCHY----------------------\n",
            "\n",
            "25  variables are free at GCP on iteration 16\n",
            "LINE SEARCH 0 times; norm of step = 0.504016\n",
            "X = 0.598502 7.88378 -1.24089 -0.204337 0.849673 -0.587205 -0.370048 1.47224 -0.318028 -0.157021 2.44861 -0.0545332 -1.34296 -0.621911 -0.39529 1.26489 0.080519 0.0385944 -0.0325791 -0.876704 3 0.0270477 -2.92714 0.158628 -0.666656 \n",
            "G = -33.3299 -20 -8.05147 10.1959 -4.01601 5.90491 5.63578 5.56016 -2.01665 -7.72307 18.0428 -7.06147 2.36034 6.1339 6.43935 1.69242 -5.42924 -9.29107 -1.46697 0.567262 21.709 -10.1365 -21.6609 -11.9176 4.52202 \n",
            "Iteration    16\n",
            "\n",
            "---------------- CAUCHY entered-------------------\n",
            "\n",
            "There are 21  breakpoints\n",
            "\n",
            "Piece      1 f1, f2 at start point -3.6440e+03  2.6042e+06\n",
            "Distance to the next break point =   1.0581e-01\n",
            "Distance to the stationary point =   1.3993e-03\n",
            "\n",
            "GCP found in this segment\n",
            "Piece      1 f1, f2 at start point -3.6440e+03  2.6042e+06\n",
            "Distance to the stationary point =   1.3993e-03\n",
            "Cauchy X =  0.64514 7.91176 -1.22962 -0.218604 0.855292 -0.595468 -0.377934 1.46446 -0.315206 -0.146214 2.42337 -0.0446524 -1.34626 -0.630494 -0.4043 1.26252 0.0881159 0.051595 -0.0305264 -0.877498 2.96962 0.0412313 -2.89683 0.175304 -0.672983 \n",
            "\n",
            "---------------- exit CAUCHY----------------------\n",
            "\n",
            "25  variables are free at GCP on iteration 17\n",
            "LINE SEARCH 0 times; norm of step = 0.259526\n",
            "X = 0.641914 8.13821 -1.23012 -0.219409 0.850836 -0.590951 -0.374338 1.46344 -0.317254 -0.152601 2.44466 -0.0510906 -1.34117 -0.625775 -0.400091 1.2579 0.0825898 0.0426591 -0.0328478 -0.876094 3 0.0321107 -2.9199 0.164571 -0.669017 \n",
            "G = -3.49025 -20 2.16371 -0.80301 -3.5932 5.93885 5.37382 4.86978 -1.98314 -7.43785 17.5985 -6.7473 2.2843 6.54445 6.42929 1.43923 -5.66012 -9.16993 -1.7569 1.32121 21.2669 -9.84894 -20.9328 -11.8023 4.49852 \n",
            "Iteration    17\n",
            "\n",
            "---------------- CAUCHY entered-------------------\n",
            "\n",
            "There are 21  breakpoints\n",
            "\n",
            "Piece      1 f1, f2 at start point -2.2922e+03  2.8180e+05\n",
            "Distance to the next break point =   9.3090e-02\n",
            "Distance to the stationary point =   8.1340e-03\n",
            "\n",
            "GCP found in this segment\n",
            "Piece      1 f1, f2 at start point -2.2922e+03  2.8180e+05\n",
            "Distance to the stationary point =   8.1340e-03\n",
            "Cauchy X =  0.670304 8.30089 -1.24772 -0.212877 0.880063 -0.639258 -0.418049 1.42383 -0.301123 -0.0921012 2.30151 0.00379192 -1.35975 -0.679008 -0.452387 1.2462 0.128629 0.117247 -0.0185572 -0.886841 2.82702 0.112222 -2.74963 0.260571 -0.705608 \n",
            "\n",
            "---------------- exit CAUCHY----------------------\n",
            "\n",
            "25  variables are free at GCP on iteration 18\n",
            "LINE SEARCH 1 times; norm of step = 1.86865\n",
            "X = 0.701798 10 -1.23869 -0.233547 0.849333 -0.623768 -0.407414 1.40809 -0.311455 -0.118598 2.41669 -0.0244417 -1.33361 -0.663093 -0.439753 1.21347 0.103707 0.0772236 -0.0310257 -0.8816 3 0.0728767 -2.86997 0.214843 -0.690734 \n",
            "G = 35.9141 -20 5.63734 -7.01014 -5.53032 5.21869 4.22969 2.61971 -1.48416 -5.71306 16.6093 -5.24783 2.92786 6.09975 5.30654 0.0224041 -5.04693 -7.6229 -1.81775 2.46376 20.6621 -7.92083 -18.7682 -9.80332 4.16118 \n",
            "Iteration    18\n",
            "\n",
            "---------------- CAUCHY entered-------------------\n",
            "\n",
            "There are 20  breakpoints\n",
            "\n",
            "Piece      1 f1, f2 at start point -2.9138e+03  2.0294e+06\n",
            "Distance to the next break point =   2.8410e-01\n",
            "Distance to the stationary point =   1.4358e-03\n",
            "\n",
            "GCP found in this segment\n",
            "Piece      1 f1, f2 at start point -2.9138e+03  2.0294e+06\n",
            "Distance to the stationary point =   1.4358e-03\n",
            "Cauchy X =  0.650232 10 -1.24679 -0.223481 0.857274 -0.631262 -0.413487 1.40433 -0.309324 -0.110395 2.39285 -0.0169067 -1.33781 -0.671851 -0.447372 1.21344 0.110954 0.0881687 -0.0284157 -0.885138 2.97033 0.0842496 -2.84302 0.228919 -0.696708 \n",
            "\n",
            "---------------- exit CAUCHY----------------------\n",
            "\n",
            "Variable 2 leaves the set of free variables\n",
            "24  variables are free at GCP on iteration 19\n",
            "LINE SEARCH 0 times; norm of step = 1.40463\n",
            "X = 0.681253 10 -1.21607 -0.236273 0.86345 -0.804586 -0.568288 1.27018 -0.244555 0.117883 1.83592 0.192324 -1.40953 -0.863001 -0.633173 1.18451 0.287926 0.370659 0.0315228 -0.922343 2.28458 0.386789 -2.18461 0.590334 -0.828198 \n",
            "G = 38.8248 -20 5.00236 -22.0133 -0.996675 -2.80057 -2.90333 -1.76187 0.933295 3.99909 5.435 3.20796 -0.325094 -2.82866 -3.35387 -1.16745 2.41937 3.44256 0.53262 0.0313799 8.9034 4.31037 -3.43128 5.17996 -1.81529 \n",
            "Iteration    19\n",
            "\n",
            "---------------- CAUCHY entered-------------------\n",
            "\n",
            "There are 20  breakpoints\n",
            "\n",
            "Piece      1 f1, f2 at start point -2.2725e+03  2.2848e+06\n",
            "Distance to the next break point =   5.9355e-01\n",
            "Distance to the stationary point =   9.9463e-04\n",
            "\n",
            "GCP found in this segment\n",
            "Piece      1 f1, f2 at start point -2.2725e+03  2.2848e+06\n",
            "Distance to the stationary point =   9.9463e-04\n",
            "Cauchy X =  0.642637 10 -1.22105 -0.214378 0.864441 -0.801801 -0.5654 1.27193 -0.245483 0.113905 1.83051 0.189133 -1.40921 -0.860187 -0.629837 1.18567 0.28552 0.367235 0.0309931 -0.922374 2.27573 0.382502 -2.1812 0.585182 -0.826392 \n",
            "\n",
            "---------------- exit CAUCHY----------------------\n",
            "\n",
            "0 variables leave; 0 variables enter\n",
            "24  variables are free at GCP on iteration 20\n",
            "LINE SEARCH 1 times; norm of step = 0.14029\n",
            "X = 0.686544 10 -1.19379 -0.168695 0.87109 -0.79601 -0.560896 1.26626 -0.246229 0.108289 1.77664 0.186244 -1.40866 -0.852533 -0.623081 1.18522 0.280563 0.365241 0.0290426 -0.917405 2.20028 0.378636 -2.12912 0.578573 -0.823181 \n",
            "G = 46.7636 -20 0.709817 14.0569 -7.16248 -3.87255 -4.04778 -2.71879 -0.679077 2.00847 3.56928 1.66981 -1.45978 -3.91005 -4.49152 -1.87709 0.626694 2.17962 -0.990781 -1.10856 6.77663 2.81349 -2.67212 3.4185 -2.83858 \n",
            "Iteration    20\n",
            "\n",
            "---------------- CAUCHY entered-------------------\n",
            "\n",
            "There are 20  breakpoints\n",
            "\n",
            "Piece      1 f1, f2 at start point -2.6242e+03  3.1863e+06\n",
            "Distance to the next break point =   6.3769e-01\n",
            "Distance to the stationary point =   8.2360e-04\n",
            "\n",
            "GCP found in this segment\n",
            "Piece      1 f1, f2 at start point -2.6242e+03  3.1863e+06\n",
            "Distance to the stationary point =   8.2360e-04\n",
            "Cauchy X =  0.648029 10 -1.19438 -0.180273 0.876989 -0.792821 -0.557562 1.26849 -0.24567 0.106635 1.7737 0.184868 -1.40746 -0.849312 -0.619381 1.18677 0.280046 0.363446 0.0298586 -0.916492 2.1947 0.376319 -2.12692 0.575758 -0.820843 \n",
            "\n",
            "---------------- exit CAUCHY----------------------\n",
            "\n",
            "0 variables leave; 0 variables enter\n",
            "24  variables are free at GCP on iteration 21\n",
            "LINE SEARCH 0 times; norm of step = 0.144879\n",
            "X = 0.645287 10 -1.16643 -0.162488 0.879579 -0.789908 -0.55496 1.26215 -0.242983 0.108505 1.70926 0.188593 -1.40752 -0.845399 -0.615545 1.18734 0.281899 0.369718 0.031702 -0.912112 2.10572 0.381288 -2.06094 0.579919 -0.819536 \n",
            "G = 23.6226 -20 6.0293 10.7002 0.169497 -4.49625 -4.37903 -2.65674 -1.04713 1.60578 2.15518 1.24882 -2.20336 -4.76144 -4.93213 -1.97779 0.624052 1.95425 -1.11819 -2.23083 5.12773 2.50297 -2.12111 3.33139 -3.52519 \n",
            "Iteration    21\n",
            "\n",
            "---------------- CAUCHY entered-------------------\n",
            "\n",
            "There are 20  breakpoints\n",
            "\n",
            "Piece      1 f1, f2 at start point -8.9201e+02  4.9172e+05\n",
            "Distance to the next break point =   6.5413e-01\n",
            "Distance to the stationary point =   1.8141e-03\n",
            "\n",
            "GCP found in this segment\n",
            "Piece      1 f1, f2 at start point -8.9201e+02  4.9172e+05\n",
            "Distance to the stationary point =   1.8141e-03\n",
            "Cauchy X =  0.602433 10 -1.17736 -0.181899 0.879271 -0.781752 -0.547016 1.26697 -0.241084 0.105592 1.70535 0.186328 -1.40352 -0.836761 -0.606598 1.19093 0.280766 0.366173 0.0337305 -0.908065 2.09642 0.376747 -2.05709 0.573876 -0.813141 \n",
            "\n",
            "---------------- exit CAUCHY----------------------\n",
            "\n",
            "0 variables leave; 0 variables enter\n",
            "24  variables are free at GCP on iteration 22\n",
            "LINE SEARCH 0 times; norm of step = 0.188046\n",
            "X = 0.584691 10 -1.149 -0.159061 0.8745 -0.752542 -0.520613 1.2726 -0.240427 0.0852575 1.64218 0.171671 -1.39266 -0.80343 -0.574113 1.19801 0.266331 0.347818 0.0331998 -0.892081 1.99761 0.353408 -1.99979 0.541995 -0.792156 \n",
            "G = -11.5505 -20 4.6573 9.28859 4.542 -3.59589 -3.14909 -1.58534 -1.07419 0.571716 1.0514 0.382783 -2.1787 -4.09106 -3.67491 -1.41946 0.473461 1.12038 -0.770923 -2.76095 3.53534 1.34785 -1.79785 2.14062 -3.01305 \n",
            "Iteration    22\n",
            "\n",
            "---------------- CAUCHY entered-------------------\n",
            "\n",
            "There are 20  breakpoints\n",
            "\n",
            "Piece      1 f1, f2 at start point -3.6801e+02  3.6561e+05\n",
            "Distance to the next break point =   9.2969e-01\n",
            "Distance to the stationary point =   1.0066e-03\n",
            "\n",
            "GCP found in this segment\n",
            "Piece      1 f1, f2 at start point -3.6801e+02  3.6561e+05\n",
            "Distance to the stationary point =   1.0066e-03\n",
            "Cauchy X =  0.596318 10 -1.15369 -0.168411 0.869928 -0.748922 -0.517443 1.27419 -0.239346 0.084682 1.64113 0.171286 -1.39046 -0.799312 -0.570414 1.19943 0.265855 0.34669 0.0339758 -0.889302 1.99405 0.352052 -1.99798 0.53984 -0.789123 \n",
            "\n",
            "---------------- exit CAUCHY----------------------\n",
            "\n",
            "0 variables leave; 0 variables enter\n",
            "24  variables are free at GCP on iteration 23\n",
            "LINE SEARCH 0 times; norm of step = 0.109008\n",
            "X = 0.573983 10 -1.14648 -0.164117 0.866431 -0.725634 -0.496242 1.28188 -0.238499 0.0691705 1.60818 0.159538 -1.3812 -0.773052 -0.544804 1.20634 0.25498 0.33123 0.0341007 -0.877014 1.93796 0.333009 -1.96917 0.514332 -0.771907 \n",
            "G = -15.686 -20 3.39039 6.32684 4.37303 -2.44932 -2.00544 -0.947953 -0.835076 0.0875329 0.4618 0.0656532 -1.79092 -2.85487 -2.34688 -0.896895 0.296775 0.666537 -0.483992 -2.2409 2.471 0.728213 -1.13588 1.29817 -2.1778 \n",
            "Iteration    23\n",
            "\n",
            "---------------- CAUCHY entered-------------------\n",
            "\n",
            "There are 20  breakpoints\n",
            "\n",
            "Piece      1 f1, f2 at start point -3.6635e+02  1.8703e+05\n",
            "Distance to the next break point =   1.3216e+00\n",
            "Distance to the stationary point =   1.9588e-03\n",
            "\n",
            "GCP found in this segment\n",
            "Piece      1 f1, f2 at start point -3.6635e+02  1.8703e+05\n",
            "Distance to the stationary point =   1.9588e-03\n",
            "Cauchy X =  0.604709 10 -1.15312 -0.17651 0.857865 -0.720837 -0.492314 1.28373 -0.236863 0.0689991 1.60728 0.159409 -1.37769 -0.76746 -0.540207 1.2081 0.254399 0.329924 0.0350488 -0.872624 1.93312 0.331583 -1.96695 0.511789 -0.767641 \n",
            "\n",
            "---------------- exit CAUCHY----------------------\n",
            "\n",
            "0 variables leave; 0 variables enter\n",
            "24  variables are free at GCP on iteration 24\n",
            "LINE SEARCH 0 times; norm of step = 0.221786\n",
            "X = 0.596446 10 -1.13739 -0.181534 0.852061 -0.684794 -0.460888 1.29172 -0.230884 0.0539984 1.52212 0.148439 -1.35842 -0.726357 -0.502632 1.219 0.242622 0.313728 0.0377465 -0.847458 1.7912 0.310771 -1.88494 0.481489 -0.739215 \n",
            "G = 6.51334 -20 7.1884 -5.66015 3.18258 -0.464938 -0.340867 -0.42216 -0.238678 -0.163754 -1.48659 0.0554342 -1.04648 -0.384018 -0.199178 -0.0683257 -0.0388964 0.271436 -0.151368 -0.476678 -0.903069 0.229512 1.50567 0.281156 -0.669035 \n",
            "Iteration    24\n",
            "\n",
            "---------------- CAUCHY entered-------------------\n",
            "\n",
            "There are 20  breakpoints\n",
            "\n",
            "Piece      1 f1, f2 at start point -1.4434e+02  8.6567e+04\n",
            "Distance to the next break point =   7.4057e-01\n",
            "Distance to the stationary point =   1.6674e-03\n",
            "\n",
            "GCP found in this segment\n",
            "Piece      1 f1, f2 at start point -1.4434e+02  8.6567e+04\n",
            "Distance to the stationary point =   1.6674e-03\n",
            "Cauchy X =  0.585586 10 -1.14938 -0.172097 0.846754 -0.684019 -0.460319 1.29242 -0.230486 0.0542714 1.5246 0.148347 -1.35667 -0.725716 -0.5023 1.21911 0.242686 0.313276 0.0379989 -0.846663 1.79271 0.310388 -1.88745 0.48102 -0.738099 \n",
            "\n",
            "---------------- exit CAUCHY----------------------\n",
            "\n",
            "0 variables leave; 0 variables enter\n",
            "24  variables are free at GCP on iteration 25\n",
            "LINE SEARCH 0 times; norm of step = 0.0723879\n",
            "X = 0.586939 10 -1.16689 -0.18258 0.839936 -0.680007 -0.456724 1.29796 -0.231283 0.0504478 1.55449 0.144175 -1.35379 -0.72156 -0.498451 1.22055 0.239656 0.306694 0.0373943 -0.845642 1.83097 0.303843 -1.91856 0.473466 -0.734408 \n",
            "G = -2.34415 -20 -5.97344 1.86122 -2.71892 0.358902 0.504581 0.199774 0.345498 0.188589 -0.350401 0.369614 -0.115079 0.304966 0.551973 0.320012 0.436853 0.56943 0.488265 0.0758361 0.409677 0.458502 1.06048 0.472185 0.181483 \n",
            "Iteration    25\n",
            "\n",
            "---------------- CAUCHY entered-------------------\n",
            "\n",
            "There are 20  breakpoints\n",
            "\n",
            "Piece      1 f1, f2 at start point -5.5902e+01  4.2417e+04\n",
            "Distance to the next break point =   1.0198e+00\n",
            "Distance to the stationary point =   1.3179e-03\n",
            "\n",
            "GCP found in this segment\n",
            "Piece      1 f1, f2 at start point -5.5902e+01  4.2417e+04\n",
            "Distance to the stationary point =   1.3179e-03\n",
            "Cauchy X =  0.590028 10 -1.15902 -0.185033 0.84352 -0.68048 -0.457389 1.2977 -0.231738 0.0501993 1.55495 0.143688 -1.35364 -0.721962 -0.499178 1.22013 0.23908 0.305944 0.0367508 -0.845742 1.83043 0.303239 -1.91996 0.472844 -0.734647 \n",
            "\n",
            "---------------- exit CAUCHY----------------------\n",
            "\n",
            "0 variables leave; 0 variables enter\n",
            "24  variables are free at GCP on iteration 26\n",
            "LINE SEARCH 0 times; norm of step = 0.0173089\n",
            "X = 0.588734 10 -1.15661 -0.182298 0.845876 -0.684163 -0.460588 1.29608 -0.232222 0.0518567 1.55675 0.145125 -1.35587 -0.726097 -0.502907 1.21895 0.240432 0.308245 0.0365457 -0.84815 1.83559 0.305876 -1.92144 0.476423 -0.737701 \n",
            "G = -1.01436 -20 -0.922738 -0.918862 -0.117135 -0.0507397 0.0963089 -0.0279375 0.0815304 0.0528356 -0.426917 0.206506 -0.458103 -0.0850084 0.143185 0.114236 0.250722 0.402107 0.211075 -0.230188 0.380608 0.331883 0.775452 0.389802 -0.198622 \n",
            "Iteration    26\n",
            "\n",
            "---------------- CAUCHY entered-------------------\n",
            "\n",
            "There are 20  breakpoints\n",
            "\n",
            "Piece      1 f1, f2 at start point -4.6058e+00  2.5838e+03\n",
            "Distance to the next break point =   1.3909e+00\n",
            "Distance to the stationary point =   1.7826e-03\n",
            "\n",
            "GCP found in this segment\n",
            "Piece      1 f1, f2 at start point -4.6058e+00  2.5838e+03\n",
            "Distance to the stationary point =   1.7826e-03\n",
            "Cauchy X =  0.590542 10 -1.15496 -0.18066 0.846084 -0.684073 -0.46076 1.29613 -0.232367 0.0517625 1.55751 0.144757 -1.35505 -0.725945 -0.503162 1.21874 0.239985 0.307528 0.0361695 -0.84774 1.83491 0.305285 -1.92282 0.475728 -0.737346 \n",
            "\n",
            "---------------- exit CAUCHY----------------------\n",
            "\n",
            "0 variables leave; 0 variables enter\n",
            "24  variables are free at GCP on iteration 27\n",
            "LINE SEARCH 0 times; norm of step = 0.00566734\n",
            "X = 0.589239 10 -1.15403 -0.180389 0.846419 -0.683371 -0.460165 1.29645 -0.232476 0.0511085 1.55741 0.144157 -1.35464 -0.725151 -0.502453 1.21888 0.239442 0.306703 0.0360148 -0.847394 1.83409 0.304375 -1.92312 0.474595 -0.736779 \n",
            "G = -0.461851 -20 -0.128721 -0.262865 -0.149769 -0.0965228 0.0346904 -0.0529625 -0.00551079 -0.0488041 -0.436821 0.106507 -0.497974 -0.119603 0.0849819 0.0816135 0.138876 0.283477 0.115395 -0.269263 0.319803 0.214193 0.669907 0.256342 -0.236968 \n",
            "Iteration    27\n",
            "\n",
            "---------------- CAUCHY entered-------------------\n",
            "\n",
            "There are 20  breakpoints\n",
            "\n",
            "Piece      1 f1, f2 at start point -1.7197e+00  3.0426e+02\n",
            "Distance to the next break point =   1.6075e+00\n",
            "Distance to the stationary point =   5.6521e-03\n",
            "\n",
            "GCP found in this segment\n",
            "Piece      1 f1, f2 at start point -1.7197e+00  3.0426e+02\n",
            "Distance to the stationary point =   5.6521e-03\n",
            "Cauchy X =  0.59185 10 -1.1533 -0.178903 0.847266 -0.682825 -0.460361 1.29675 -0.232444 0.0513844 1.55988 0.143555 -1.35182 -0.724475 -0.502934 1.21842 0.238657 0.3051 0.0353626 -0.845872 1.83229 0.303164 -1.9269 0.473146 -0.735439 \n",
            "\n",
            "---------------- exit CAUCHY----------------------\n",
            "\n",
            "0 variables leave; 0 variables enter\n",
            "24  variables are free at GCP on iteration 28\n",
            "LINE SEARCH 0 times; norm of step = 0.0195285\n",
            "X = 0.589468 10 -1.15178 -0.179079 0.848219 -0.681028 -0.4591 1.29826 -0.23302 0.0494898 1.56592 0.141332 -1.34974 -0.722461 -0.501569 1.21856 0.236681 0.301682 0.0344873 -0.84481 1.83692 0.299772 -1.93473 0.46913 -0.733579 \n",
            "G = -0.359882 -20 0.724882 -0.135774 0.521553 -0.0744111 0.0026692 -0.0518048 -0.103595 -0.191107 -0.268696 -0.0818796 -0.3954 -0.0788206 0.0479881 0.0162821 -0.0512081 0.0140146 -0.0268463 -0.234806 0.343576 -0.0435669 0.288799 -0.0375622 -0.184286 \n",
            "Iteration    28\n",
            "\n",
            "---------------- CAUCHY entered-------------------\n",
            "\n",
            "There are 20  breakpoints\n",
            "\n",
            "Piece      1 f1, f2 at start point -1.5423e+00  4.4121e+02\n",
            "Distance to the next break point =   3.6886e+00\n",
            "Distance to the stationary point =   3.4957e-03\n",
            "\n",
            "GCP found in this segment\n",
            "Piece      1 f1, f2 at start point -1.5423e+00  4.4121e+02\n",
            "Distance to the stationary point =   3.4957e-03\n",
            "Cauchy X =  0.590726 10 -1.15431 -0.178604 0.846395 -0.680768 -0.45911 1.29844 -0.232657 0.0501579 1.56686 0.141619 -1.34836 -0.722185 -0.501737 1.2185 0.23686 0.301633 0.0345811 -0.843989 1.83572 0.299925 -1.93574 0.469262 -0.732935 \n",
            "\n",
            "---------------- exit CAUCHY----------------------\n",
            "\n",
            "0 variables leave; 0 variables enter\n",
            "24  variables are free at GCP on iteration 29\n",
            "LINE SEARCH 0 times; norm of step = 0.013956\n",
            "X = 0.592234 10 -1.15277 -0.178086 0.845786 -0.680238 -0.459499 1.29921 -0.232632 0.0506409 1.57274 0.140879 -1.34451 -0.721552 -0.502567 1.21794 0.235971 0.299478 0.0337886 -0.842185 1.83592 0.29838 -1.94344 0.46749 -0.731249 \n",
            "G = 1.54865 -20 0.279466 1.16188 -1.03905 -0.00555849 0.0072438 -0.0051775 -0.0674997 -0.120182 -0.0780135 -0.0591648 -0.191617 0.0104897 0.0357344 0.0408939 -0.0782122 -0.032479 -0.042989 -0.0609976 0.331196 -0.0582193 0.107753 -0.0820434 -0.0534575 \n",
            "Iteration    29\n",
            "\n",
            "---------------- CAUCHY entered-------------------\n",
            "\n",
            "There are 20  breakpoints\n",
            "\n",
            "Piece      1 f1, f2 at start point -5.1215e+00  5.2649e+03\n",
            "Distance to the next break point =   9.8053e+00\n",
            "Distance to the stationary point =   9.7277e-04\n",
            "\n",
            "GCP found in this segment\n",
            "Piece      1 f1, f2 at start point -5.1215e+00  5.2649e+03\n",
            "Distance to the stationary point =   9.7277e-04\n",
            "Cauchy X =  0.590728 10 -1.15305 -0.179216 0.846797 -0.680233 -0.459506 1.29921 -0.232566 0.0507578 1.57282 0.140936 -1.34432 -0.721562 -0.502602 1.2179 0.236047 0.29951 0.0338304 -0.842125 1.83559 0.298437 -1.94355 0.46757 -0.731197 \n",
            "\n",
            "---------------- exit CAUCHY----------------------\n",
            "\n",
            "0 variables leave; 0 variables enter\n",
            "24  variables are free at GCP on iteration 30\n",
            "LINE SEARCH 0 times; norm of step = 0.00312567\n",
            "X = 0.590688 10 -1.15321 -0.179043 0.846831 -0.679869 -0.459312 1.29945 -0.23256 0.050634 1.57361 0.140657 -1.3436 -0.72115 -0.502429 1.21789 0.235764 0.298956 0.0337005 -0.841705 1.83536 0.297936 -1.94467 0.466957 -0.73072 \n",
            "G = 0.380109 -20 0.150147 0.404523 -0.242373 0.0166138 0.029539 0.00512677 -0.0508109 -0.110742 -0.0593199 -0.0711823 -0.140791 0.02431 0.0504271 0.0258663 -0.0671436 -0.0551959 -0.0309794 -0.053825 0.319689 -0.0799922 0.0614338 -0.0975901 -0.0277313 \n",
            "Iteration    30\n",
            "\n",
            "---------------- CAUCHY entered-------------------\n",
            "\n",
            "There are 20  breakpoints\n",
            "\n",
            "Piece      1 f1, f2 at start point -5.7172e-01  3.0741e+02\n",
            "Distance to the next break point =   1.5125e+01\n",
            "Distance to the stationary point =   1.8598e-03\n",
            "\n",
            "GCP found in this segment\n",
            "Piece      1 f1, f2 at start point -5.7172e-01  3.0741e+02\n",
            "Distance to the stationary point =   1.8598e-03\n",
            "Cauchy X =  0.589981 10 -1.15349 -0.179795 0.847281 -0.679899 -0.459367 1.29944 -0.232465 0.0508399 1.57372 0.140789 -1.34334 -0.721196 -0.502523 1.21784 0.235889 0.299058 0.0337581 -0.841605 1.83476 0.298085 -1.94478 0.467138 -0.730668 \n",
            "\n",
            "---------------- exit CAUCHY----------------------\n",
            "\n",
            "0 variables leave; 0 variables enter\n",
            "24  variables are free at GCP on iteration 31\n",
            "LINE SEARCH 0 times; norm of step = 0.00294122\n",
            "X = 0.59009 10 -1.1539 -0.17981 0.846932 -0.679874 -0.459528 1.29949 -0.232295 0.0512821 1.57432 0.14094 -1.34242 -0.721169 -0.502813 1.21772 0.235969 0.298973 0.033736 -0.841141 1.83361 0.298158 -1.94559 0.467222 -0.73034 \n",
            "G = -0.087576 -20 -0.0771371 -0.0107244 -0.0111783 0.0370089 0.0438829 0.018284 -0.0168332 -0.0623577 -0.0347039 -0.0447164 -0.0745197 0.0402482 0.0554428 0.0256411 -0.0345592 -0.0401501 -0.00634258 -0.0184074 0.286495 -0.057115 0.0445669 -0.069175 0.00635063 \n",
            "Iteration    31\n",
            "\n",
            "---------------- CAUCHY entered-------------------\n",
            "\n",
            "There are 20  breakpoints\n",
            "\n",
            "Piece      1 f1, f2 at start point -1.3111e-01  3.4269e+01\n",
            "Distance to the next break point =   1.6872e+01\n",
            "Distance to the stationary point =   3.8259e-03\n",
            "\n",
            "GCP found in this segment\n",
            "Piece      1 f1, f2 at start point -1.3111e-01  3.4269e+01\n",
            "Distance to the stationary point =   3.8259e-03\n",
            "Cauchy X =  0.590425 10 -1.1536 -0.179769 0.846974 -0.680016 -0.459696 1.29942 -0.232231 0.0515206 1.57445 0.141111 -1.34213 -0.721323 -0.503026 1.21762 0.236101 0.299126 0.0337602 -0.84107 1.83252 0.298377 -1.94576 0.467486 -0.730364 \n",
            "\n",
            "---------------- exit CAUCHY----------------------\n",
            "\n",
            "0 variables leave; 0 variables enter\n",
            "24  variables are free at GCP on iteration 32\n",
            "LINE SEARCH 0 times; norm of step = 0.00411152\n",
            "X = 0.589912 10 -1.15419 -0.18027 0.84681 -0.680027 -0.459949 1.29944 -0.231944 0.0522391 1.57491 0.141423 -1.34088 -0.721343 -0.503465 1.21743 0.236315 0.299153 0.033785 -0.840439 1.83049 0.298625 -1.94645 0.467777 -0.729952 \n",
            "G = -0.207401 -20 -0.174472 -0.266765 0.0391998 0.0430585 0.0396458 0.0254589 0.0116124 -0.00787656 -0.0138251 -0.0134348 -0.0083025 0.0445883 0.0409002 0.0236118 -0.00589475 -0.0226726 0.0094211 0.0197706 0.218465 -0.0274435 0.0263934 -0.0344135 0.0329748 \n",
            "Iteration    32\n",
            "\n",
            "---------------- CAUCHY entered-------------------\n",
            "\n",
            "There are 20  breakpoints\n",
            "\n",
            "Piece      1 f1, f2 at start point -2.0756e-01  1.3700e+02\n",
            "Distance to the next break point =   2.2111e+01\n",
            "Distance to the stationary point =   1.5151e-03\n",
            "\n",
            "GCP found in this segment\n",
            "Piece      1 f1, f2 at start point -2.0756e-01  1.3700e+02\n",
            "Distance to the stationary point =   1.5151e-03\n",
            "Cauchy X =  0.590226 10 -1.15392 -0.179866 0.84675 -0.680092 -0.460009 1.2994 -0.231962 0.0522511 1.57493 0.141444 -1.34086 -0.721411 -0.503527 1.2174 0.236324 0.299187 0.0337707 -0.840469 1.83016 0.298667 -1.94649 0.467829 -0.730002 \n",
            "\n",
            "---------------- exit CAUCHY----------------------\n",
            "\n",
            "0 variables leave; 0 variables enter\n",
            "24  variables are free at GCP on iteration 33\n",
            "LINE SEARCH 0 times; norm of step = 0.00649853\n",
            "X = 0.589541 10 -1.15394 -0.179631 0.847105 -0.680598 -0.460729 1.2991 -0.231547 0.0535267 1.57512 0.142249 -1.33925 -0.721984 -0.504522 1.21695 0.236952 0.299819 0.0338999 -0.839891 1.82504 0.299627 -1.94688 0.468988 -0.729875 \n",
            "G = -0.426305 -20 -0.270139 0.00241297 0.112089 0.00150272 -0.00865053 0.00635368 0.0117043 0.0294758 -0.015317 0.00371981 0.0371006 -0.00388771 -0.0227912 -0.0032804 0.00729368 -0.0100911 0.000359522 0.0198103 0.0840588 -0.00231766 -0.000504079 0.000797365 0.0203005 \n",
            "Iteration    33\n",
            "\n",
            "---------------- CAUCHY entered-------------------\n",
            "\n",
            "There are 20  breakpoints\n",
            "\n",
            "Piece      1 f1, f2 at start point -2.7861e-01  1.4963e+02\n",
            "Distance to the next break point =   4.4763e+01\n",
            "Distance to the stationary point =   1.8620e-03\n",
            "\n",
            "GCP found in this segment\n",
            "Piece      1 f1, f2 at start point -2.7861e-01  1.4963e+02\n",
            "Distance to the stationary point =   1.8620e-03\n",
            "Cauchy X =  0.590335 10 -1.15344 -0.179636 0.846896 -0.680601 -0.460713 1.29908 -0.231569 0.0534719 1.57515 0.142242 -1.33932 -0.721976 -0.50448 1.21695 0.236939 0.299837 0.0338992 -0.839928 1.82488 0.299631 -1.94688 0.468986 -0.729912 \n",
            "\n",
            "---------------- exit CAUCHY----------------------\n",
            "\n",
            "0 variables leave; 0 variables enter\n",
            "24  variables are free at GCP on iteration 34\n",
            "LINE SEARCH 1 times; norm of step = 0.00143125\n",
            "X = 0.589884 10 -1.1535 -0.17988 0.847194 -0.68068 -0.460842 1.29904 -0.23148 0.0537263 1.5753 0.142389 -1.33894 -0.72207 -0.504667 1.21686 0.237058 0.299932 0.0339253 -0.839793 1.82391 0.299796 -1.94709 0.469189 -0.729858 \n",
            "G = -0.160873 -20 -0.00548212 -0.271332 0.186206 -0.00582436 -0.0191264 0.000382524 0.010555 0.0363125 -0.0137914 0.00779759 0.0388306 -0.00719081 -0.0315341 -0.0074785 0.0063641 -0.0103328 -0.00473493 0.0243673 0.0525086 0.00184745 -0.00928442 0.00552274 0.015419 \n",
            "Iteration    34\n",
            "\n",
            "---------------- CAUCHY entered-------------------\n",
            "\n",
            "There are 20  breakpoints\n",
            "\n",
            "Piece      1 f1, f2 at start point -1.4277e-01  1.9052e+02\n",
            "Distance to the next break point =   4.2777e+01\n",
            "Distance to the stationary point =   7.4938e-04\n",
            "\n",
            "GCP found in this segment\n",
            "Piece      1 f1, f2 at start point -1.4277e-01  1.9052e+02\n",
            "Distance to the stationary point =   7.4938e-04\n",
            "Cauchy X =  0.590004 10 -1.1535 -0.179677 0.847055 -0.680676 -0.460827 1.29904 -0.231487 0.0536991 1.57531 0.142383 -1.33897 -0.722065 -0.504643 1.21686 0.237054 0.29994 0.0339288 -0.839811 1.82387 0.299795 -1.94709 0.469185 -0.72987 \n",
            "\n",
            "---------------- exit CAUCHY----------------------\n",
            "\n",
            "0 variables leave; 0 variables enter\n",
            "24  variables are free at GCP on iteration 35\n",
            "LINE SEARCH 0 times; norm of step = 0.000857974\n",
            "X = 0.590001 10 -1.15335 -0.179561 0.847099 -0.680768 -0.460891 1.29897 -0.231467 0.0537748 1.57521 0.142483 -1.33898 -0.722169 -0.504708 1.21683 0.237144 0.300093 0.0339674 -0.839863 1.82327 0.299951 -1.94694 0.469372 -0.729956 \n",
            "G = -0.0554475 -20 0.0043957 -0.0767735 0.0761559 -0.0157215 -0.0278239 -0.00392815 0.00438792 0.0321334 -0.016987 0.00758397 0.0306452 -0.0171909 -0.0399544 -0.00909028 0.00352235 -0.00724238 -0.0090087 0.0168906 0.0363349 0.00464552 -0.00769788 0.00849704 0.00622673 \n",
            "Iteration    35\n",
            "\n",
            "---------------- CAUCHY entered-------------------\n",
            "\n",
            "There are 20  breakpoints\n",
            "\n",
            "Piece      1 f1, f2 at start point -2.2079e-02  1.5335e+01\n",
            "Distance to the next break point =   5.4201e+01\n",
            "Distance to the stationary point =   1.4398e-03\n",
            "\n",
            "GCP found in this segment\n",
            "Piece      1 f1, f2 at start point -2.2079e-02  1.5335e+01\n",
            "Distance to the stationary point =   1.4398e-03\n",
            "Cauchy X =  0.590081 10 -1.15335 -0.17945 0.84699 -0.680746 -0.460851 1.29898 -0.231473 0.0537286 1.57524 0.142472 -1.33903 -0.722144 -0.504651 1.21684 0.237139 0.300104 0.0339804 -0.839887 1.82322 0.299945 -1.94692 0.46936 -0.729965 \n",
            "\n",
            "---------------- exit CAUCHY----------------------\n",
            "\n",
            "0 variables leave; 0 variables enter\n",
            "24  variables are free at GCP on iteration 36\n",
            "LINE SEARCH 0 times; norm of step = 0.000393729\n",
            "X = 0.590093 10 -1.15327 -0.179421 0.847 -0.680762 -0.460833 1.29896 -0.231482 0.0536918 1.57518 0.142487 -1.33913 -0.722163 -0.504611 1.21684 0.237162 0.300168 0.0340048 -0.839955 1.8231 0.299987 -1.94681 0.469409 -0.730023 \n",
            "G = 0.0225305 -20 0.0150126 0.0195083 -0.0031562 -0.017669 -0.0278869 -0.00453644 0.00130358 0.0265351 -0.0173155 0.00698517 0.0224377 -0.0187024 -0.0381863 -0.00747584 0.0018469 -0.00480937 -0.00959025 0.0121697 0.0323171 0.00559435 -0.004979 0.0088228 0.00177462 \n",
            "Iteration    36\n",
            "\n",
            "---------------- CAUCHY entered-------------------\n",
            "\n",
            "There are 20  breakpoints\n",
            "\n",
            "Piece      1 f1, f2 at start point -7.1038e-03  5.2882e+00\n",
            "Distance to the next break point =   7.4021e+01\n",
            "Distance to the stationary point =   1.3433e-03\n",
            "\n",
            "GCP found in this segment\n",
            "Piece      1 f1, f2 at start point -7.1038e-03  5.2882e+00\n",
            "Distance to the stationary point =   1.3433e-03\n",
            "Cauchy X =  0.590063 10 -1.15329 -0.179447 0.847004 -0.680738 -0.460795 1.29896 -0.231484 0.0536562 1.57521 0.142478 -1.33916 -0.722138 -0.50456 1.21685 0.237159 0.300174 0.0340177 -0.839971 1.82305 0.299979 -1.94681 0.469397 -0.730026 \n",
            "\n",
            "---------------- exit CAUCHY----------------------\n",
            "\n",
            "0 variables leave; 0 variables enter\n",
            "24  variables are free at GCP on iteration 37\n",
            "LINE SEARCH 0 times; norm of step = 0.00031314\n",
            "X = 0.590111 10 -1.15324 -0.179377 0.846961 -0.680731 -0.460755 1.29895 -0.231492 0.0536021 1.5752 0.142479 -1.33925 -0.72213 -0.504494 1.21687 0.237169 0.300219 0.034042 -0.840027 1.82292 0.3 -1.94674 0.469417 -0.730065 \n",
            "G = 0.042273 -20 0.0202022 0.0482788 -0.0303411 -0.0172141 -0.0254655 -0.00439741 8.4937e-05 0.0221017 -0.016546 0.00647688 0.017172 -0.0180996 -0.0340561 -0.00629534 0.0015779 -0.00283775 -0.00859009 0.00868343 0.0283255 0.00605701 -0.00352109 0.008978 -0.000573591 \n",
            "Iteration    37\n",
            "\n",
            "---------------- CAUCHY entered-------------------\n",
            "\n",
            "There are 20  breakpoints\n",
            "\n",
            "Piece      1 f1, f2 at start point -1.0129e-02  8.9935e+00\n",
            "Distance to the next break point =   8.6111e+01\n",
            "Distance to the stationary point =   1.1262e-03\n",
            "\n",
            "GCP found in this segment\n",
            "Piece      1 f1, f2 at start point -1.0129e-02  8.9935e+00\n",
            "Distance to the stationary point =   1.1262e-03\n",
            "Cauchy X =  0.590064 10 -1.15327 -0.179431 0.846996 -0.680711 -0.460726 1.29896 -0.231492 0.0535772 1.57522 0.142472 -1.33927 -0.72211 -0.504456 1.21687 0.237168 0.300223 0.0340517 -0.840037 1.82288 0.299993 -1.94674 0.469407 -0.730064 \n",
            "\n",
            "---------------- exit CAUCHY----------------------\n",
            "\n",
            "0 variables leave; 0 variables enter\n",
            "24  variables are free at GCP on iteration 38\n",
            "LINE SEARCH 0 times; norm of step = 0.00108252\n",
            "X = 0.590113 10 -1.15322 -0.17934 0.846915 -0.680584 -0.460454 1.29896 -0.23152 0.0532811 1.57534 0.142436 -1.33961 -0.721976 -0.504058 1.21694 0.237183 0.30037 0.0341719 -0.840248 1.82225 0.300014 -1.94656 0.469408 -0.730173 \n",
            "G = 0.056327 -20 0.01782 0.0713508 -0.0569868 -0.0117549 -0.0133954 -0.00356453 -0.00155331 0.0080962 -0.0125741 0.0047828 0.00348727 -0.0123108 -0.0160854 -0.00309131 0.0020341 0.00333477 -0.00320952 -0.000754875 0.0130172 0.00686807 0.000986013 0.0088026 -0.00529827 \n",
            "Iteration    38\n",
            "\n",
            "---------------- CAUCHY entered-------------------\n",
            "\n",
            "There are 20  breakpoints\n",
            "\n",
            "Piece      1 f1, f2 at start point -1.3189e-02  1.0381e+01\n",
            "Distance to the next break point =   1.1330e+02\n",
            "Distance to the stationary point =   1.2706e-03\n",
            "\n",
            "GCP found in this segment\n",
            "Piece      1 f1, f2 at start point -1.3189e-02  1.0381e+01\n",
            "Distance to the stationary point =   1.2706e-03\n",
            "Cauchy X =  0.590042 10 -1.15324 -0.179431 0.846988 -0.680569 -0.460437 1.29896 -0.231518 0.0532708 1.57535 0.14243 -1.33961 -0.72196 -0.504037 1.21694 0.237181 0.300365 0.034176 -0.840247 1.82223 0.300005 -1.94656 0.469397 -0.730166 \n",
            "\n",
            "---------------- exit CAUCHY----------------------\n",
            "\n",
            "0 variables leave; 0 variables enter\n",
            "24  variables are free at GCP on iteration 39\n",
            "LINE SEARCH 0 times; norm of step = 0.000844904\n",
            "X = 0.590074 10 -1.15329 -0.179416 0.846961 -0.680398 -0.460207 1.29901 -0.23153 0.0530592 1.57562 0.14235 -1.33976 -0.721774 -0.503733 1.21701 0.237134 0.300358 0.034231 -0.840302 1.82174 0.299916 -1.94658 0.46927 -0.730141 \n",
            "G = 0.0274887 -20 -0.0073659 0.0219586 -0.0146614 -0.00217495 -0.00110656 -0.00175056 -9.82855e-05 9.82062e-05 -0.00576141 0.00207515 0.000443656 -0.00228073 -0.000425197 -0.00124212 0.00161051 0.00361055 0.000923403 -0.00161116 0.000888217 0.00359678 0.00154409 0.00410108 -0.00237131 \n",
            "Iteration    39\n",
            "\n",
            "---------------- CAUCHY entered-------------------\n",
            "\n",
            "There are 20  breakpoints\n",
            "\n",
            "Piece      1 f1, f2 at start point -1.6183e-03  1.3051e+00\n",
            "Distance to the next break point =   2.4723e+02\n",
            "Distance to the stationary point =   1.2400e-03\n",
            "\n",
            "GCP found in this segment\n",
            "Piece      1 f1, f2 at start point -1.6183e-03  1.3051e+00\n",
            "Distance to the stationary point =   1.2400e-03\n",
            "Cauchy X =  0.59004 10 -1.15328 -0.179443 0.846979 -0.680395 -0.460205 1.29901 -0.231529 0.053059 1.57562 0.142348 -1.33976 -0.721771 -0.503733 1.21701 0.237132 0.300354 0.0342299 -0.8403 1.82174 0.299912 -1.94658 0.469265 -0.730138 \n",
            "\n",
            "---------------- exit CAUCHY----------------------\n",
            "\n",
            "0 variables leave; 0 variables enter\n",
            "24  variables are free at GCP on iteration 40\n",
            "LINE SEARCH 0 times; norm of step = 0.000227866\n",
            "X = 0.589996 10 -1.15325 -0.179445 0.846956 -0.680349 -0.46016 1.29904 -0.231533 0.0530203 1.57572 0.142316 -1.33978 -0.72172 -0.50368 1.21703 0.237107 0.30032 0.0342283 -0.84029 1.82166 0.299866 -1.94662 0.469206 -0.730112 \n",
            "G = -0.0216298 -20 0.0087062 -0.00399597 -0.00459444 -0.000766057 0.000792008 0.000207481 -0.000104337 -0.00120365 -0.00245067 0.000756709 -0.000842789 -0.00106985 0.00152984 -9.3444e-05 0.00145169 0.0022467 0.00142564 -0.00264907 -7.3479e-05 0.00173817 -0.00142435 0.00225842 -0.00184408 \n",
            "\n",
            "iterations 40\n",
            "function evaluations 45\n",
            "segments explored during Cauchy searches 61\n",
            "BFGS updates skipped 0\n",
            "active bounds at final generalized Cauchy point 1\n",
            "norm of the final projected gradient 0.0216298\n",
            "final function value 840\n",
            "\n",
            "X = 0.589996 10 -1.15325 -0.179445 0.846956 -0.680349 -0.46016 1.29904 -0.231533 0.0530203 1.57572 0.142316 -1.33978 -0.72172 -0.50368 1.21703 0.237107 0.30032 0.0342283 -0.84029 1.82166 0.299866 -1.94662 0.469206 -0.730112 \n",
            "F = 840\n",
            "final  value 840.000286 \n",
            "converged\n",
            "Optimization converged successfully.\n",
            " [1]  0.58999576 10.00000000 -1.15325108 -0.17944477  0.84695589 -0.68034875\n",
            " [7] -0.46016006  1.29903528 -0.23153278  0.05302025  1.57572032  0.14231640\n",
            "[13] -1.33977745 -0.72172043 -0.50367996  1.21702961  0.23710687  0.30031996\n",
            "[19]  0.03422832 -0.84029035  1.82165740  0.29986601 -1.94662160  0.46920635\n",
            "[25] -0.73011163\n"
          ]
        }
      ]
    },
    {
      "cell_type": "markdown",
      "source": [
        "###   Model Summary\n",
        "\n",
        "Extract and interpret the estimated parameters\n",
        "\n",
        "\n",
        "***Fixed Effect*** ($\\beta$): The estimated effect of the predictor.\n",
        "\n",
        "***Random Effect SD*** ($\\sigma_b$)**: Variability between groups.\n",
        "\n",
        "***Thresholds*** ($\\tau_k$): Category cutoffs in the latent space."
      ],
      "metadata": {
        "id": "-JuTDU0fBTIX"
      }
    },
    {
      "cell_type": "code",
      "source": [
        "%%R\n",
        "summary_params <- opt$par\n",
        "names(summary_params) <- c(\"beta\", \"log(sigma_b)\", paste0(\"tau\", 1:length(thresholds)), paste0(\"b\", 1:n_groups))\n",
        "print(summary_params)"
      ],
      "metadata": {
        "id": "8mioZdwbBT_S",
        "colab": {
          "base_uri": "https://localhost:8080/"
        },
        "outputId": "d8b995ee-b8ab-4623-8ca3-1c0b0206fb63"
      },
      "execution_count": 7,
      "outputs": [
        {
          "output_type": "stream",
          "name": "stdout",
          "text": [
            "        beta log(sigma_b)         tau1         tau2         tau3           b1 \n",
            "  0.58999576  10.00000000  -1.15325108  -0.17944477   0.84695589  -0.68034875 \n",
            "          b2           b3           b4           b5           b6           b7 \n",
            " -0.46016006   1.29903528  -0.23153278   0.05302025   1.57572032   0.14231640 \n",
            "          b8           b9          b10          b11          b12          b13 \n",
            " -1.33977745  -0.72172043  -0.50367996   1.21702961   0.23710687   0.30031996 \n",
            "         b14          b15          b16          b17          b18          b19 \n",
            "  0.03422832  -0.84029035   1.82165740   0.29986601  -1.94662160   0.46920635 \n",
            "         b20 \n",
            " -0.73011163 \n"
          ]
        }
      ]
    },
    {
      "cell_type": "markdown",
      "source": [
        "### Extract Parameter Estimates\n",
        "\n",
        "The optim function stores optimized parameters in the par attribute of its output object. We extract the estimated parameters for further analysis."
      ],
      "metadata": {
        "id": "9qwshPhD4f0Y"
      }
    },
    {
      "cell_type": "code",
      "source": [
        "%%R\n",
        "# Extract optimized parameters\n",
        "opt_params <- opt$par\n",
        "est_beta <- opt_params[1]  # Extract beta (fixed effect)\n",
        "est_log_sigma_b <- opt_params[2]  # Extract log(sigma_b)\n",
        "est_thresholds <- opt_params[3:(3 + length(thresholds) - 1)]\n",
        "est_random_effects <- opt_params[(3 + length(thresholds)):length(opt_params)]\n",
        "\n",
        "# Print estimates\n",
        "cat(\"Estimated Beta (fixed effect):\", est_beta, \"\\n\")\n",
        "cat(\"Estimated Sigma_b (random intercept SD):\", exp(est_log_sigma_b), \"\\n\")\n",
        "cat(\"Estimated Thresholds:\", est_thresholds, \"\\n\")\n",
        "cat(\"Estimated Random Effects (first 5):\", head(est_random_effects), \"\\n\")"
      ],
      "metadata": {
        "colab": {
          "base_uri": "https://localhost:8080/"
        },
        "id": "kexiyCEd4irJ",
        "outputId": "fc515d96-e929-4844-c925-dc4ccbbe5ec7"
      },
      "execution_count": 8,
      "outputs": [
        {
          "output_type": "stream",
          "name": "stdout",
          "text": [
            "Estimated Beta (fixed effect): 0.5899958 \n",
            "Estimated Sigma_b (random intercept SD): 22026.47 \n",
            "Estimated Thresholds: -1.153251 -0.1794448 0.8469559 \n",
            "Estimated Random Effects (first 5): -0.6803487 -0.4601601 1.299035 -0.2315328 0.05302025 1.57572 \n"
          ]
        }
      ]
    },
    {
      "cell_type": "markdown",
      "source": [
        "###  Prediction and Evaluation\n",
        "\n",
        "Using the estimated parameters:\n",
        "\n",
        "1. Predict the most likely ordinal category for each observation.\n",
        "2. Compare predictions to observed categories to compute a confusion matrix and accuracy."
      ],
      "metadata": {
        "id": "wo80C9kz4nMC"
      }
    },
    {
      "cell_type": "code",
      "source": [
        "%%R\n",
        "data$eta_est <- est_beta * data$x + est_random_effects[data$group]\n",
        "data$y_pred <- sapply(data$eta_est, function(eta) {\n",
        "  probs <- c(\n",
        "    pnorm(est_thresholds[1] - eta),\n",
        "    diff(c(pnorm(est_thresholds - eta), 1))\n",
        "  )\n",
        "  which.max(probs)\n",
        "})\n",
        "\n",
        "# Confusion Matrix and Accuracy\n",
        "conf_matrix <- table(Predicted = data$y_pred, Actual = data$y)\n",
        "accuracy <- sum(diag(conf_matrix)) / sum(conf_matrix)\n",
        "\n",
        "print(conf_matrix)\n",
        "cat(sprintf(\"Accuracy: %.2f%%\\\\n\", accuracy * 100))"
      ],
      "metadata": {
        "colab": {
          "base_uri": "https://localhost:8080/"
        },
        "id": "UNN5MZEu4n64",
        "outputId": "beb718fa-624a-44b9-c608-9aa1463387c9"
      },
      "execution_count": 9,
      "outputs": [
        {
          "output_type": "stream",
          "name": "stdout",
          "text": [
            "         Actual\n",
            "Predicted   1   2   3   4\n",
            "        1 127  72  22   4\n",
            "        2  60  66  71  24\n",
            "        3  28  75  87  66\n",
            "        4   4  24  80 190\n",
            "Accuracy: 47.00%\\n"
          ]
        }
      ]
    },
    {
      "cell_type": "markdown",
      "source": [
        "## Mixed-Effects Ordinal Model in R\n",
        "\n",
        "In this section we will fit a mixed-effects ordinal regression model to the simulated data using the `clmm()` function from the {ordinal} package. The `clmm()` function fits cumulative link mixed models (CLMMs) to ordinal response data.  Fits cumulative link mixed models, i.e. cumulative link models with random effects via the `Laplace approximation` or the standard and the adaptive `Gauss-Hermite quadrature approximation`. Laplace approximation is the default method for fitting the model which plays a critical role in estimating the likelihood of the model by simplifying the integration over random effects. Mixed-effects models involve random effects to account for group-level variation, but these random effects introduce high-dimensional integrals into the likelihood function, making it computationally intractable to solve exactly. The Gauss-Hermite quadrature approximation is a numerical integration technique Gauss-Hermite quadrature is particularly well-suited for integrating over Gaussian random effect which is particularly useful for computing integrals involving a Gaussian density function, as it efficiently approximates the integral by using a weighted sum of function evaluations at specific points (nodes)."
      ],
      "metadata": {
        "id": "90C3xCiGBa3q"
      }
    },
    {
      "cell_type": "markdown",
      "source": [
        "### Install Required R Packages\n",
        "\n",
        "Following R packages are required to run this notebook. If any of these packages are not installed, you can install them using the code below:\n",
        "\n",
        "\n"
      ],
      "metadata": {
        "id": "9T5ojBgKBv5p"
      }
    },
    {
      "cell_type": "code",
      "source": [
        "%%R\n",
        "packages <- c('tidyverse',\n",
        "              'dlookr',\n",
        "              'sjPlot',\n",
        "              'ordinal')"
      ],
      "metadata": {
        "id": "4ERkgB8gByVX"
      },
      "execution_count": 7,
      "outputs": []
    },
    {
      "cell_type": "code",
      "source": [
        "%%R\n",
        "# Install missing packages\n",
        "new.packages <- packages[!(packages %in% installed.packages(lib='drive/My Drive/R/')[,\"Package\"])]\n",
        "if(length(new.packages)) install.packages(new.packages, lib='drive/My Drive/R/')"
      ],
      "metadata": {
        "id": "J3nWFZpl-sr-"
      },
      "execution_count": null,
      "outputs": []
    },
    {
      "cell_type": "code",
      "source": [
        "%%R\n",
        "# set library path\n",
        ".libPaths('drive/My Drive/R')\n",
        "# Verify installation\n",
        "cat(\"Installed packages:\\n\")\n",
        "print(sapply(packages, requireNamespace, quietly = TRUE))"
      ],
      "metadata": {
        "colab": {
          "base_uri": "https://localhost:8080/"
        },
        "id": "-jv6EE7Z-sx-",
        "outputId": "80de3c6b-7275-44ad-815e-6a4448b3ca96"
      },
      "execution_count": 8,
      "outputs": [
        {
          "output_type": "stream",
          "name": "stdout",
          "text": [
            "Installed packages:\n"
          ]
        },
        {
          "output_type": "stream",
          "name": "stderr",
          "text": [
            "WARNING:rpy2.rinterface_lib.callbacks:R[write to console]: Registered S3 methods overwritten by 'dlookr':\n",
            "  method          from  \n",
            "  plot.transform  scales\n",
            "  print.transform scales\n",
            "\n"
          ]
        },
        {
          "output_type": "stream",
          "name": "stdout",
          "text": [
            "tidyverse    dlookr    sjPlot   ordinal \n",
            "     TRUE      TRUE      TRUE      TRUE \n"
          ]
        }
      ]
    },
    {
      "cell_type": "markdown",
      "source": [
        "### Load R Packages"
      ],
      "metadata": {
        "id": "MV7R29xfyWQz"
      }
    },
    {
      "cell_type": "code",
      "source": [
        "%%R\n",
        "# set library path\n",
        ".libPaths('drive/My Drive/R')\n",
        "# Load packages with suppressed messages\n",
        "invisible(lapply(packages, function(pkg) {\n",
        "  suppressPackageStartupMessages(library(pkg, character.only = TRUE))\n",
        "}))\n",
        "# Check loaded packages\n",
        "cat(\"Successfully loaded packages:\\n\")\n",
        "print(search()[grepl(\"package:\", search())])# Check loaded packages\n"
      ],
      "metadata": {
        "id": "232jNAHBykUL",
        "colab": {
          "base_uri": "https://localhost:8080/"
        },
        "outputId": "2d964fdd-02aa-4a79-e7fa-6cf3276e207f"
      },
      "execution_count": 9,
      "outputs": [
        {
          "output_type": "stream",
          "name": "stdout",
          "text": [
            "Successfully loaded packages:\n",
            " [1] \"package:ordinal\"   \"package:sjPlot\"    \"package:dlookr\"   \n",
            " [4] \"package:lubridate\" \"package:forcats\"   \"package:stringr\"  \n",
            " [7] \"package:dplyr\"     \"package:purrr\"     \"package:readr\"    \n",
            "[10] \"package:tidyr\"     \"package:tibble\"    \"package:ggplot2\"  \n",
            "[13] \"package:tidyverse\" \"package:tools\"     \"package:stats\"    \n",
            "[16] \"package:graphics\"  \"package:grDevices\" \"package:utils\"    \n",
            "[19] \"package:datasets\"  \"package:methods\"   \"package:base\"     \n"
          ]
        }
      ]
    },
    {
      "cell_type": "markdown",
      "source": [
        "### Data\n",
        "\n",
        "The `soup` data from {ordinal} package has 1847 rows and 13 variables. 185 respondents participated in an A-not A discrimination test with sureness. Before experimentation the respondents were familiarized with the reference product and during experimentation, the respondents were asked to rate samples on an ordered scale with six categories given by combinations of (reference, not reference) and (sure, not sure, guess) from 'referene, sure' = 1 to 'not reference, sure' = 6. The data set contains the following variables:\n",
        "\n",
        "`RESP`: factor with 185 levels: the respondents in the study.\n",
        "\n",
        "`PROD`: factor with 2 levels: index reference and test products.\n",
        "\n",
        "`PRODID`: factor with 6 levels: index reference and the five test product variants.\n",
        "\n",
        "`SURENESS`: ordered factor with 6 levels: the respondents ratings of soup samples.\n",
        "\n",
        "`DAY`:\\` factor with two levels: experimentation was split over two days.\n",
        "\n",
        "`SOUPTYPE`: factor with three levels: the type of soup regularly consumed by the respondent.\n",
        "\n",
        "`SOUPFREQ`: factor with 3 levels: the frequency with which the respondent consumes soup.\n",
        "\n",
        "`COLD`: factor with two levels: does the respondent have a cold?\n",
        "\n",
        "`EASY`: factor with ten levels: How easy did the respondent find the discrimation test? 1 = difficult, 10 = easy.\n",
        "\n",
        "`GENDER`: factor with two levels: gender of the respondent.\n",
        "\n",
        "`AGEGROUP`: factor with four levels: the age of the respondent.\n",
        "\n",
        "`LOCATION`: factor with three levels: three different locations where experimentation took place.\n",
        "\n"
      ],
      "metadata": {
        "id": "rSJqB05rO5ES"
      }
    },
    {
      "cell_type": "code",
      "execution_count": 10,
      "metadata": {
        "id": "CFpt_H01OPsa"
      },
      "outputs": [],
      "source": [
        "%%R\n",
        "data(soup, lib = \"ordinal\")\n",
        "mf<-as_tibble(soup)"
      ]
    },
    {
      "cell_type": "code",
      "source": [
        "%%R\n",
        "soup$SURENESS <- factor(soup$SURENESS, levels = c(\"1\", \"2\", \"3\", \"4\", \"5\", \"6\"), ordered = TRUE)\n",
        "str(soup)"
      ],
      "metadata": {
        "colab": {
          "base_uri": "https://localhost:8080/"
        },
        "id": "MmtJFmCMCpig",
        "outputId": "8aeea3d8-3fd9-4538-a550-7b8c2b0b37e9"
      },
      "execution_count": 11,
      "outputs": [
        {
          "output_type": "stream",
          "name": "stdout",
          "text": [
            "'data.frame':\t1847 obs. of  12 variables:\n",
            " $ RESP    : Factor w/ 185 levels \"1\",\"2\",\"3\",\"4\",..: 1 1 1 1 1 1 1 1 1 1 ...\n",
            " $ PROD    : Factor w/ 2 levels \"Ref\",\"Test\": 1 2 1 2 1 2 2 2 2 1 ...\n",
            " $ PRODID  : Factor w/ 6 levels \"1\",\"2\",\"3\",\"4\",..: 1 2 1 3 1 6 2 4 5 1 ...\n",
            " $ SURENESS: Ord.factor w/ 6 levels \"1\"<\"2\"<\"3\"<\"4\"<..: 6 5 5 6 5 5 2 5 5 2 ...\n",
            " $ DAY     : Factor w/ 2 levels \"1\",\"2\": 1 1 1 1 2 2 2 2 2 2 ...\n",
            " $ SOUPTYPE: Factor w/ 3 levels \"Self-made\",\"Canned\",..: 2 2 2 2 2 2 2 2 2 2 ...\n",
            " $ SOUPFREQ: Factor w/ 3 levels \">1/week\",\"1-4/month\",..: 1 1 1 1 1 1 1 1 1 1 ...\n",
            " $ COLD    : Factor w/ 2 levels \"No\",\"Yes\": 2 2 2 2 2 2 2 2 2 2 ...\n",
            " $ EASY    : Factor w/ 10 levels \"1\",\"2\",\"3\",\"4\",..: 7 7 7 7 7 7 7 7 7 7 ...\n",
            " $ GENDER  : Factor w/ 2 levels \"Male\",\"Female\": 2 2 2 2 2 2 2 2 2 2 ...\n",
            " $ AGEGROUP: Factor w/ 4 levels \"18-30\",\"31-40\",..: 4 4 4 4 4 4 4 4 4 4 ...\n",
            " $ LOCATION: Factor w/ 3 levels \"Region 1\",\"Region 2\",..: 1 1 1 1 1 1 1 1 1 1 ...\n"
          ]
        }
      ]
    },
    {
      "cell_type": "code",
      "source": [
        "%%R\n",
        "# then diagnose them\n",
        "mf |>\n",
        "dplyr::select(SURENESS, PROD, RESP, LOCATION)  |>\n",
        "dlookr::diagnose_category()\n"
      ],
      "metadata": {
        "colab": {
          "base_uri": "https://localhost:8080/"
        },
        "id": "Fi4OFaNAtRGJ",
        "outputId": "f7f45f18-4f25-42d6-c244-675dbeefe544"
      },
      "execution_count": 14,
      "outputs": [
        {
          "output_type": "stream",
          "name": "stdout",
          "text": [
            "# A tibble: 21 × 6\n",
            "   variables levels     N  freq  ratio  rank\n",
            "   <chr>     <chr>  <int> <int>  <dbl> <int>\n",
            " 1 SURENESS  6       1847   869 47.0       1\n",
            " 2 SURENESS  5       1847   277 15.0       2\n",
            " 3 SURENESS  2       1847   260 14.1       3\n",
            " 4 SURENESS  1       1847   228 12.3       4\n",
            " 5 SURENESS  3       1847   115  6.23      5\n",
            " 6 SURENESS  4       1847    98  5.31      6\n",
            " 7 PROD      Test    1847  1108 60.0       1\n",
            " 8 PROD      Ref     1847   739 40.0       2\n",
            " 9 RESP      1       1847    10  0.541     1\n",
            "10 RESP      2       1847    10  0.541     1\n",
            "# ℹ 11 more rows\n",
            "# ℹ Use `print(n = ...)` to see more rows\n"
          ]
        }
      ]
    },
    {
      "cell_type": "markdown",
      "source": [
        "### Fit Mixed-Effects Ordinal Model\n",
        "\n",
        "We fit a mixed-effects ordinal regression model to the `soup` data using the `clmm()` function from the `ordinal` package. The `clmm()` function fits cumulative link mixed models (CLMMs) to ordinal response data. CLMMs are an extension of generalized linear mixed models (GLMMs) to ordinal response data. The `clmm()` function allows you to specify both fixed and random effects in the model formula. The `link` argument specifies the link function to use, and the `threshold` argument specifies the type of threshold parameterization to use. The `Hess` argument specifies whether to compute the Hessian matrix for the model."
      ],
      "metadata": {
        "id": "EcqUZt4cC5LI"
      }
    },
    {
      "cell_type": "markdown",
      "source": [
        "#### Ordinal Regression Model with Random Intercept\n",
        "\n",
        "First we fit a cumulative link model with one random term (random intercept) to the `soup` data. The model predicts the `SURENESS` of soup samples based on the `RESP` variable (respondent ID) as a random effect. We use the `link = \"probit\"` argument to specify the probit link function and the `threshold = \"equidistant\"` argument to specify equidistant thresholds. We set `Hess = TRUE` to compute the Hessian matrix for the model.\n"
      ],
      "metadata": {
        "id": "4Z_PXyWFDJ9q"
      }
    },
    {
      "cell_type": "code",
      "source": [
        "%%R\n",
        "## Cumulative link model with one random term:\n",
        "m_01 <- clmm(SURENESS ~(1|RESP),\n",
        "            link = \"probit\",\n",
        "            threshold = \"equidistant\",\n",
        "            Hess = TRUE,\n",
        "            data = mf)\n",
        "summary(m_01)"
      ],
      "metadata": {
        "id": "p_eUNGuwDNka",
        "colab": {
          "base_uri": "https://localhost:8080/"
        },
        "outputId": "43b91c00-b206-4aa5-9f23-1cddf9d374e9"
      },
      "execution_count": 15,
      "outputs": [
        {
          "output_type": "stream",
          "name": "stdout",
          "text": [
            "Cumulative Link Mixed Model fitted with the Laplace approximation\n",
            "\n",
            "formula: SURENESS ~ (1 | RESP)\n",
            "data:    mf\n",
            "\n",
            " link   threshold   nobs logLik   AIC     niter    max.grad cond.H \n",
            " probit equidistant 1847 -2860.32 5726.63 115(319) 3.38e-05 3.8e+02\n",
            "\n",
            "Random effects:\n",
            " Groups Name        Variance Std.Dev.\n",
            " RESP   (Intercept) 0.08037  0.2835  \n",
            "Number of groups:  RESP 185 \n",
            "\n",
            "No Coefficients\n",
            "\n",
            "Threshold coefficients:\n",
            "             Estimate Std. Error z value\n",
            "threshold.1 -1.128753   0.041359  -27.29\n",
            "spacing      0.301646   0.009349   32.27\n"
          ]
        }
      ]
    },
    {
      "cell_type": "markdown",
      "source": [
        "#### Ordinal Regression Model with Random Intercept and Fixed Effects\n",
        "\n",
        "Then, we fit a cumulative link model with one random term (random intercept) and fixed effects to the `soup` data. The model predicts the `SURENESS` of soup samples based on the `PROD` and `GENDER` variables as fixed effects and the `RESP` variable (respondent ID) as a random effect. We use the `link = \"probit\"` argument to specify the probit link function and the `threshold = \"equidistant\"` argument to specify equidistant thresholds. We set `Hess = TRUE` to compute the Hessian matrix for the model."
      ],
      "metadata": {
        "id": "rkPnhMi8tnCV"
      }
    },
    {
      "cell_type": "code",
      "source": [
        "%%R\n",
        "## Cumulative link model with one random term and fixed effects:\n",
        "m_02 <- clmm(SURENESS ~ PROD + GENDER + (1|RESP),\n",
        "            link = \"probit\",\n",
        "            threshold = \"equidistant\",\n",
        "            Hess = TRUE,\n",
        "            data = mf)\n",
        "summary(m_02)"
      ],
      "metadata": {
        "colab": {
          "base_uri": "https://localhost:8080/"
        },
        "id": "Ufm4apQJIHs5",
        "outputId": "53a2e4c8-78d0-4ea7-c1a8-f4934f51b05d"
      },
      "execution_count": 16,
      "outputs": [
        {
          "output_type": "stream",
          "name": "stdout",
          "text": [
            "Cumulative Link Mixed Model fitted with the Laplace approximation\n",
            "\n",
            "formula: SURENESS ~ PROD + GENDER + (1 | RESP)\n",
            "data:    mf\n",
            "\n",
            " link   threshold   nobs logLik   AIC     niter    max.grad cond.H \n",
            " probit equidistant 1847 -2772.33 5554.66 245(770) 2.43e-03 2.6e+02\n",
            "\n",
            "Random effects:\n",
            " Groups Name        Variance Std.Dev.\n",
            " RESP   (Intercept) 0.1079   0.3285  \n",
            "Number of groups:  RESP 185 \n",
            "\n",
            "Coefficients:\n",
            "             Estimate Std. Error z value Pr(>|z|)    \n",
            "PRODTest      0.71193    0.05392  13.204   <2e-16 ***\n",
            "GENDERFemale -0.04028    0.07609  -0.529    0.597    \n",
            "---\n",
            "Signif. codes:  0 ‘***’ 0.001 ‘**’ 0.01 ‘*’ 0.05 ‘.’ 0.1 ‘ ’ 1\n",
            "\n",
            "Threshold coefficients:\n",
            "            Estimate Std. Error z value\n",
            "threshold.1 -0.80991    0.07219  -11.22\n",
            "spacing      0.32282    0.00995   32.44\n"
          ]
        }
      ]
    },
    {
      "cell_type": "markdown",
      "source": [
        "#### Ordinal Regression Model with Two Random Terms and Fixed Effects\n",
        "\n",
        "Lastly, we fit a cumulative link model with two random terms (random intercept and random slope) and fixed effects to the `soup` data. The model predicts the `SURENESS` of soup samples based on the `PROD` and `GENDER` variables as fixed effects and the `RESP` variable (respondent ID) and the interaction between `RESP` and `PROD` as random effects. We use the `link = \"probit\"` argument to specify the probit link function and the `threshold = \"equidistant\"` argument to specify equidistant thresholds.    \n"
      ],
      "metadata": {
        "id": "ScXpBMBikzr3"
      }
    },
    {
      "cell_type": "code",
      "source": [
        "%%R\n",
        "# Cumulative link model with two random term and fixed effects:\n",
        "m_03 <- clmm(SURENESS ~ PROD + GENDER+(1|RESP) + (1|RESP:PROD), data = soup,\n",
        "            link = \"probit\", threshold = \"equidistant\")\n",
        "summary(m_03)"
      ],
      "metadata": {
        "colab": {
          "base_uri": "https://localhost:8080/"
        },
        "id": "zh1DEtUxDSIl",
        "outputId": "77dd2740-16d6-4557-a3b5-d4ff257e76e6"
      },
      "execution_count": 17,
      "outputs": [
        {
          "output_type": "stream",
          "name": "stdout",
          "text": [
            "Cumulative Link Mixed Model fitted with the Laplace approximation\n",
            "\n",
            "formula: SURENESS ~ PROD + GENDER + (1 | RESP) + (1 | RESP:PROD)\n",
            "data:    soup\n",
            "\n",
            " link   threshold   nobs logLik   AIC     niter     max.grad cond.H \n",
            " probit equidistant 1847 -2763.32 5538.63 557(1703) 1.58e-03 1.6e+02\n",
            "\n",
            "Random effects:\n",
            " Groups    Name        Variance Std.Dev.\n",
            " RESP:PROD (Intercept) 0.14832  0.3851  \n",
            " RESP      (Intercept) 0.04454  0.2110  \n",
            "Number of groups:  RESP:PROD 370,  RESP 185 \n",
            "\n",
            "Coefficients:\n",
            "             Estimate Std. Error z value Pr(>|z|)    \n",
            "PRODTest      0.74209    0.06803  10.909   <2e-16 ***\n",
            "GENDERFemale -0.04252    0.07830  -0.543    0.587    \n",
            "---\n",
            "Signif. codes:  0 ‘***’ 0.001 ‘**’ 0.01 ‘*’ 0.05 ‘.’ 0.1 ‘ ’ 1\n",
            "\n",
            "Threshold coefficients:\n",
            "            Estimate Std. Error z value\n",
            "threshold.1 -0.83962    0.07693  -10.91\n",
            "spacing      0.33446    0.01058   31.62\n"
          ]
        }
      ]
    },
    {
      "cell_type": "markdown",
      "source": [
        "#### Model Comparison\n",
        "\n",
        "We can compare the two models using the `anova()` function to see if the mixed-effects model provides a better fit to the data than the random intercept model.  \n"
      ],
      "metadata": {
        "id": "kVpip4LblDjJ"
      }
    },
    {
      "cell_type": "code",
      "source": [
        "%%R\n",
        "anova(m_01, m_02, m_03)"
      ],
      "metadata": {
        "id": "TQK3Q-3PDjWU",
        "colab": {
          "base_uri": "https://localhost:8080/"
        },
        "outputId": "cb15e894-c45f-4823-9832-2bd7e10bef29"
      },
      "execution_count": 18,
      "outputs": [
        {
          "output_type": "stream",
          "name": "stdout",
          "text": [
            "Likelihood ratio tests of cumulative link models:\n",
            " \n",
            "     formula:                                                link:  threshold: \n",
            "m_01 SURENESS ~ (1 | RESP)                                   probit equidistant\n",
            "m_02 SURENESS ~ PROD + GENDER + (1 | RESP)                   probit equidistant\n",
            "m_03 SURENESS ~ PROD + GENDER + (1 | RESP) + (1 | RESP:PROD) probit equidistant\n",
            "\n",
            "     no.par    AIC  logLik LR.stat df Pr(>Chisq)    \n",
            "m_01      3 5726.6 -2860.3                          \n",
            "m_02      5 5554.7 -2772.3 175.976  2  < 2.2e-16 ***\n",
            "m_03      6 5538.6 -2763.3  18.025  1   2.18e-05 ***\n",
            "---\n",
            "Signif. codes:  0 ‘***’ 0.001 ‘**’ 0.01 ‘*’ 0.05 ‘.’ 0.1 ‘ ’ 1\n"
          ]
        }
      ]
    },
    {
      "cell_type": "markdown",
      "source": [
        "As the second model is significantly better, we are justified to believe that our fixed effects have explanatory power. We can now use the `getSummary.mmblogit()` function to get a summary of the model with the fixed effects."
      ],
      "metadata": {
        "id": "aP-ASSfDDzqp"
      }
    },
    {
      "cell_type": "code",
      "source": [
        "%%R\n",
        "getSummary.mmblogit(model_mixed)"
      ],
      "metadata": {
        "id": "8nCTpa_mD3Tr",
        "colab": {
          "base_uri": "https://localhost:8080/"
        },
        "outputId": "52cec888-f875-4f53-83ad-e1627fe5c916"
      },
      "execution_count": null,
      "outputs": [
        {
          "output_type": "stream",
          "name": "stdout",
          "text": [
            "$coef\n",
            ", , Car/Bus\n",
            "\n",
            "                     est          se       stat         p          lwr\n",
            "(Intercept) -0.314056911 0.487163046 -0.6446649 0.5191444 -1.268878937\n",
            "cost        -0.002345802 0.010426949 -0.2249749 0.8219988 -0.022782247\n",
            "working      0.001416738 0.002365095  0.5990195 0.5491599 -0.003218763\n",
            "distance     0.003018856 0.017703536  0.1705228 0.8645990 -0.031679437\n",
            "                    upr\n",
            "(Intercept) 0.640765114\n",
            "cost        0.018090643\n",
            "working     0.006052239\n",
            "distance    0.037717149\n",
            "\n",
            ", , Train/Bus\n",
            "\n",
            "                     est          se       stat          p          lwr\n",
            "(Intercept) -1.152708724 0.421165825 -2.7369474 0.00620122 -1.978178572\n",
            "cost         0.005933943 0.011391700  0.5209006 0.60243601 -0.016393379\n",
            "working      0.002560673 0.002344172  1.0923572 0.27467615 -0.002033819\n",
            "distance    -0.005541115 0.019596485 -0.2827607 0.77736030 -0.043949521\n",
            "                     upr\n",
            "(Intercept) -0.327238876\n",
            "cost         0.028261266\n",
            "working      0.007155164\n",
            "distance     0.032867290\n",
            "\n",
            "\n",
            "$suburb\n",
            ", , 1\n",
            "\n",
            "                             est         se stat  p lwr upr\n",
            "Car/Bus: VCov(~1,~1)   0.5117241 0.13467786   NA NA  NA  NA\n",
            "Train/Bus: VCov(~1,~1) 0.3212967 0.08724274   NA NA  NA  NA\n",
            "\n",
            ", , 2\n",
            "\n",
            "                             est         se stat  p lwr upr\n",
            "Car/Bus: VCov(~1,~1)   0.3212967 0.08724274   NA NA  NA  NA\n",
            "Train/Bus: VCov(~1,~1) 0.2238657 0.05651621   NA NA  NA  NA\n",
            "\n",
            "\n",
            "$Groups\n",
            "Groups by suburb \n",
            "               4 \n",
            "\n",
            "$sumstat\n",
            "          LR           df     deviance     McFadden    Cox.Snell   Nagelkerke \n",
            "1.797156e+02 1.100000e+01 2.017509e+03 8.179211e-02 1.644922e-01 1.850538e-01 \n",
            "         AIC          BIC            N \n",
            "2.039509e+03 2.093494e+03 1.000000e+03 \n",
            "\n",
            "$call\n",
            "mblogit(formula = transport ~ cost + working + distance, data = mf, \n",
            "    random = ~1 | suburb)\n",
            "\n",
            "$contrasts\n",
            "NULL\n",
            "\n",
            "$xlevels\n",
            "named list()\n",
            "\n"
          ]
        }
      ]
    },
    {
      "cell_type": "markdown",
      "source": [
        "From the above output, model with two random terms and fixed effects (`m_03`) is significantly better than the model with one random term and fixed effects (`m_02`) (p \\< 0.05). The model with one random term (`m_02`) is also significantly better than the model with no random terms (`m_01`) (p \\< 0.05).\n"
      ],
      "metadata": {
        "id": "dWEcQJymt4e4"
      }
    },
    {
      "cell_type": "markdown",
      "source": [
        "#### Odds Ratio\n",
        "\n",
        "The coefficients in the model can be hard to understand because they are scaled in logs. Another way to interpret logistic regression models is to change the coefficients into odds ratios. The odds ratio is the ratio of the odds of the event happening in one group to the odds of the event happening in another group. The odds ratio is calculated by exponentiating the coefficient.\n",
        "\n",
        "The `tab_model()` function of {sjPlot} package also creates HTML tables of the model coefficients and odds ratios, CI and cxorresponding p-values."
      ],
      "metadata": {
        "id": "1V01OGbhJ_W-"
      }
    },
    {
      "cell_type": "code",
      "source": [
        "%%R\n",
        "tab_model(m_03)"
      ],
      "metadata": {
        "id": "cWBJ_l5Et_b1"
      },
      "execution_count": 19,
      "outputs": []
    },
    {
      "cell_type": "markdown",
      "source": [
        "`plot_model()` function of {sjPlot} package creates plots the estimates from the fitted model:"
      ],
      "metadata": {
        "id": "FYqBMwbIuFKz"
      }
    },
    {
      "cell_type": "code",
      "source": [
        "%%R -w 600 -h 450 -u px\n",
        "# Plot marginal effects\n",
        "plot_model(m_03, type = \"pred\", terms = c(\"GENDER\"))"
      ],
      "metadata": {
        "id": "YzedGbrtW3Ya",
        "colab": {
          "base_uri": "https://localhost:8080/",
          "height": 467
        },
        "outputId": "dc580a07-cc68-4699-f134-7126dfd99580"
      },
      "execution_count": 20,
      "outputs": [
        {
          "output_type": "display_data",
          "data": {
            "image/png": "[encoded data removed]"
          },
          "metadata": {}
        }
      ]
    },
    {
      "cell_type": "markdown",
      "source": [
        "#### Model Performance\n",
        "\n",
        "We can evaluate the performance of the mixed-effects multinomial model using the `performance()` function from the {performance} package. This function provides various performance metrics such as the AIC, BIC, and log-likelihood of the model.\n",
        "\n"
      ],
      "metadata": {
        "id": "O2lCgHEnleKi"
      }
    },
    {
      "cell_type": "code",
      "source": [
        "%%R\n",
        "performance::performance(m_03)"
      ],
      "metadata": {
        "colab": {
          "base_uri": "https://localhost:8080/"
        },
        "id": "pWauvTPJW9i7",
        "outputId": "5e3c1427-1ad1-4917-c62f-d99b46b7940c"
      },
      "execution_count": 21,
      "outputs": [
        {
          "output_type": "stream",
          "name": "stdout",
          "text": [
            "Can't calculate log-loss.\n"
          ]
        },
        {
          "output_type": "stream",
          "name": "stderr",
          "text": [
            "WARNING:rpy2.rinterface_lib.callbacks:R[write to console]: Can't calculate proper scoring rules for ordinal, multinomial or\n",
            "  cumulative link models.\n",
            "\n"
          ]
        },
        {
          "output_type": "stream",
          "name": "stdout",
          "text": [
            "# Indices of model performance\n",
            "\n",
            "AIC      |      BIC | R2 (cond.) | R2 (marg.) |  RMSE | Sigma\n",
            "-------------------------------------------------------------\n",
            "5538.631 | 5571.759 |      0.246 |      0.100 | 4.403 | 4.410\n"
          ]
        }
      ]
    },
    {
      "cell_type": "markdown",
      "source": [
        "## Summary and Conclusion\n",
        "\n",
        "Mixed-effects ordinal regression models are an enhanced version of ordinal regression that accommodates hierarchical or grouped data structures. These models are particularly beneficial when the response variable is ordinal (i.e., consists of ordered categories) and when the data include random effects, such as measurements taken from multiple individuals or groups. The cumulative link mixed model (CLMM), which can be implemented using the `clmm()` function from the {ordinal} package in R, allows for the modeling of ordinal data with both fixed and random effects. This tutorial is a foundation for applying mixed-effects ordinal regression in real-world scenarios, enabling researchers to draw meaningful conclusions from hierarchical ordinal data."
      ],
      "metadata": {
        "id": "WRcixyIzpt2A"
      }
    },
    {
      "cell_type": "markdown",
      "source": [
        "## References\n",
        "\n",
        "1.  [Ordinal logistic regression](https://www.bookdown.org/rwnahhas/RMPH/blr-ordinal.html)\n",
        "\n",
        "2.  [Mixed-Effects Ordinal Regression](https://ladal.edu.au/regression.html#Mixed-Effects_Ordinal_Regression)\n",
        "\n",
        "3.  [Mixed Models for Ordinal Data](https://drizopoulos.github.io/GLMMadaptive/articles/Ordinal_Mixed_Models.html)\n",
        "\n",
        "\n",
        "\n"
      ],
      "metadata": {
        "id": "bLeAMiRQG59v"
      }
    }
  ]
}