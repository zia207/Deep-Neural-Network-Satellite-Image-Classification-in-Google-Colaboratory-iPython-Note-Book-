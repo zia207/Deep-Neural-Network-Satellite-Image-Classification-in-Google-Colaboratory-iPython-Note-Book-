{
  "nbformat": 4,
  "nbformat_minor": 0,
  "metadata": {
    "colab": {
      "provenance": [],
      "toc_visible": true,
      "authorship_tag": "ABX9TyNmJkDevuOm7aC94sUEKlTB",
      "include_colab_link": true
    },
    "kernelspec": {
      "name": "python3",
      "display_name": "Python 3"
    },
    "language_info": {
      "name": "python"
    }
  },
  "cells": [
    {
      "cell_type": "markdown",
      "metadata": {
        "id": "view-in-github",
        "colab_type": "text"
      },
      "source": [
        "<a href=\"https://colab.research.google.com/github/zia207/Deep-Neural-Network-Satellite-Image-Classification-in-Google-Colaboratory-iPython-Note-Book-/blob/master/NoteBook/Advance_Regression/02-03-04-non-linear-asymptotic-r.ipynb\" target=\"_parent\"><img src=\"https://colab.research.google.com/assets/colab-badge.svg\" alt=\"Open In Colab\"/></a>"
      ]
    },
    {
      "cell_type": "markdown",
      "source": [
        "![alt text](http://drive.google.com/uc?export=view&id=1bLQ3nhDbZrCCqy_WCxxckOne2lgVvn3l)"
      ],
      "metadata": {
        "id": "4qrItz_mJNWw"
      }
    },
    {
      "cell_type": "markdown",
      "source": [
        "# 4. Asymptotic Models\n",
        "\n",
        "Asymptotic models or functions describe the behavior of functions as the input grows towards infinity or some critical point. In the context of fitting models to data, asymptotic functions often capture the concept that the response variable approaches a limiting value as the predictor variable increases. These functions are particularly useful in biological, ecological, and pharmacokinetic modeling.\n",
        "\n",
        "1. **Michaelis–Menten**: Commonly used in biochemistry for enzyme kinetics.\n",
        "2. **2-Parameter Asymptotic Exponential**: Used in modeling biological growth, decay processes, and pharmacokinetics.\n",
        "3. **3-Parameter Asymptotic Exponential**: Suitable for situations where there is an initial delay before the process starts, such as latency periods in pharmacokinetics or delayed responses in ecological studies.\n",
        "\n",
        "These models are essential tools in various scientific fields to describe processes that approach a limit but never quite reach it, providing insights into the underlying mechanisms of the observed phenomena.\n",
        "\n",
        "\n",
        "\n"
      ],
      "metadata": {
        "id": "Dzp9ZseROTcY"
      }
    },
    {
      "cell_type": "markdown",
      "source": [
        "### Install rpy2"
      ],
      "metadata": {
        "id": "SDp3ULld8Gb9"
      }
    },
    {
      "cell_type": "code",
      "source": [
        "!pip uninstall rpy2 -y\n",
        "!pip install rpy2==3.5.1\n",
        "%load_ext rpy2.ipython"
      ],
      "metadata": {
        "id": "CiM6y-Mw8AJp",
        "colab": {
          "base_uri": "https://localhost:8080/"
        },
        "outputId": "d05fef98-9df8-4cd9-cfe5-eea23a0ba115"
      },
      "execution_count": 1,
      "outputs": [
        {
          "output_type": "stream",
          "name": "stdout",
          "text": [
            "Found existing installation: rpy2 3.4.2\n",
            "Uninstalling rpy2-3.4.2:\n",
            "  Successfully uninstalled rpy2-3.4.2\n",
            "Collecting rpy2==3.5.1\n",
            "  Downloading rpy2-3.5.1.tar.gz (201 kB)\n",
            "\u001b[2K     \u001b[90m━━━━━━━━━━━━━━━━━━━━━━━━━━━━━━━━━━━━━━━━\u001b[0m \u001b[32m201.7/201.7 kB\u001b[0m \u001b[31m3.9 MB/s\u001b[0m eta \u001b[36m0:00:00\u001b[0m\n",
            "\u001b[?25h  Preparing metadata (setup.py) ... \u001b[?25l\u001b[?25hdone\n",
            "Requirement already satisfied: cffi>=1.10.0 in /usr/local/lib/python3.11/dist-packages (from rpy2==3.5.1) (1.17.1)\n",
            "Requirement already satisfied: jinja2 in /usr/local/lib/python3.11/dist-packages (from rpy2==3.5.1) (3.1.5)\n",
            "Requirement already satisfied: pytz in /usr/local/lib/python3.11/dist-packages (from rpy2==3.5.1) (2025.1)\n",
            "Requirement already satisfied: tzlocal in /usr/local/lib/python3.11/dist-packages (from rpy2==3.5.1) (5.3)\n",
            "Requirement already satisfied: pycparser in /usr/local/lib/python3.11/dist-packages (from cffi>=1.10.0->rpy2==3.5.1) (2.22)\n",
            "Requirement already satisfied: MarkupSafe>=2.0 in /usr/local/lib/python3.11/dist-packages (from jinja2->rpy2==3.5.1) (3.0.2)\n",
            "Building wheels for collected packages: rpy2\n",
            "  Building wheel for rpy2 (setup.py) ... \u001b[?25l\u001b[?25hdone\n",
            "  Created wheel for rpy2: filename=rpy2-3.5.1-cp311-cp311-linux_x86_64.whl size=314972 sha256=174d6e4a8717013b2ecd379e88bdd2edb03fb411154553d3d35c2e3b45618ddf\n",
            "  Stored in directory: /root/.cache/pip/wheels/e9/55/d1/47be85a5f3f1e1f4d1e91cb5e3a4dcb40dd72147f184c5a5ef\n",
            "Successfully built rpy2\n",
            "Installing collected packages: rpy2\n",
            "Successfully installed rpy2-3.5.1\n"
          ]
        }
      ]
    },
    {
      "cell_type": "markdown",
      "source": [
        "### Mount Google Drive"
      ],
      "metadata": {
        "id": "O1zeuaCowiBt"
      }
    },
    {
      "cell_type": "code",
      "source": [
        "from google.colab import drive\n",
        "drive.mount('/content/drive')"
      ],
      "metadata": {
        "colab": {
          "base_uri": "https://localhost:8080/"
        },
        "id": "9J-4ie4bwiJ1",
        "outputId": "118e296e-3c17-4c0e-9f7d-fbff28b364e3"
      },
      "execution_count": 2,
      "outputs": [
        {
          "output_type": "stream",
          "name": "stdout",
          "text": [
            "Mounted at /content/drive\n"
          ]
        }
      ]
    },
    {
      "cell_type": "markdown",
      "source": [
        "## Fit Asymptotic Models in R\n",
        "\n",
        "In this tutorial, we will demonstrate how to fit asymptotic models to data using R.\n",
        "\n"
      ],
      "metadata": {
        "id": "vzQQFn9IqhH2"
      }
    },
    {
      "cell_type": "markdown",
      "source": [
        "### Install Rrequired R Packages"
      ],
      "metadata": {
        "id": "yXu-XY0mw1A8"
      }
    },
    {
      "cell_type": "code",
      "source": [
        "%%R\n",
        "# Packages List\n",
        "packages <- c(\n",
        "  \"tidyverse\",   # Includes readr, dplyr, ggplot2, etc.\n",
        "  'patchwork', # for visualization\n",
        "  'minpack.lm', # for damped exponential model\n",
        "  'nlstools', # for bootstrapping\n",
        "  'nls2', # for fitting multiple models\n",
        "  'broom' # for tidying model output\n",
        ")"
      ],
      "metadata": {
        "id": "TeYB57l0wz5N"
      },
      "execution_count": 3,
      "outputs": []
    },
    {
      "cell_type": "code",
      "source": [
        "%%R\n",
        "# Install missing packages\n",
        "new.packages <- packages[!(packages %in% installed.packages(lib='drive/My Drive/R/')[,\"Package\"])]\n",
        "if(length(new.packages)) install.packages(new.packages, lib='drive/My Drive/R/')"
      ],
      "metadata": {
        "id": "J3nWFZpl-sr-"
      },
      "execution_count": null,
      "outputs": []
    },
    {
      "cell_type": "code",
      "source": [
        "%%R\n",
        "# set library path\n",
        ".libPaths('drive/My Drive/R')\n",
        "# Verify installation\n",
        "cat(\"Installed packages:\\n\")\n",
        "print(sapply(packages, requireNamespace, quietly = TRUE))"
      ],
      "metadata": {
        "colab": {
          "base_uri": "https://localhost:8080/"
        },
        "id": "-jv6EE7Z-sx-",
        "outputId": "5e9f2490-0457-49e3-a5bb-ffaf520f47ee"
      },
      "execution_count": 5,
      "outputs": [
        {
          "output_type": "stream",
          "name": "stdout",
          "text": [
            "Installed packages:\n",
            " tidyverse  patchwork minpack.lm   nlstools       nls2      broom \n",
            "      TRUE       TRUE       TRUE       TRUE       TRUE       TRUE \n"
          ]
        }
      ]
    },
    {
      "cell_type": "markdown",
      "source": [
        "### Load R Packages"
      ],
      "metadata": {
        "id": "MV7R29xfyWQz"
      }
    },
    {
      "cell_type": "code",
      "source": [
        "%%R\n",
        "# set library path\n",
        ".libPaths('drive/My Drive/R')\n",
        "# Load packages with suppressed messages\n",
        "invisible(lapply(packages, function(pkg) {\n",
        "  suppressPackageStartupMessages(library(pkg, character.only = TRUE))\n",
        "}))\n",
        "# Check loaded packages\n",
        "cat(\"Successfully loaded packages:\\n\")\n",
        "print(search()[grepl(\"package:\", search())])# Check loaded packages\n"
      ],
      "metadata": {
        "id": "232jNAHBykUL",
        "colab": {
          "base_uri": "https://localhost:8080/"
        },
        "outputId": "a1b1d3b4-278c-42aa-fe87-7ce9558d31e7"
      },
      "execution_count": 6,
      "outputs": [
        {
          "output_type": "stream",
          "name": "stdout",
          "text": [
            "Successfully loaded packages:\n",
            " [1] \"package:broom\"      \"package:nls2\"       \"package:proto\"     \n",
            " [4] \"package:nlstools\"   \"package:minpack.lm\" \"package:patchwork\" \n",
            " [7] \"package:lubridate\"  \"package:forcats\"    \"package:stringr\"   \n",
            "[10] \"package:dplyr\"      \"package:purrr\"      \"package:readr\"     \n",
            "[13] \"package:tidyr\"      \"package:tibble\"     \"package:ggplot2\"   \n",
            "[16] \"package:tidyverse\"  \"package:tools\"      \"package:stats\"     \n",
            "[19] \"package:graphics\"   \"package:grDevices\"  \"package:utils\"     \n",
            "[22] \"package:datasets\"   \"package:methods\"    \"package:base\"      \n"
          ]
        }
      ]
    },
    {
      "cell_type": "markdown",
      "source": [
        "## Michaelis–Menten Function\n",
        "\n",
        "The Michaelis–Menten equation is widely used in enzyme kinetics to describe the rate of enzymatic reactions. It models how the reaction rate depends on the concentration of a substrate.\n",
        "\n",
        "$$ V = \\frac{V_{\\max} \\cdot [S]}{K_m + [S]}  $$\n",
        "\n",
        "- $V$: Reaction rate (dependent variable)\n",
        "- $[S]$: Substrate concentration (independent variable)\n",
        "- $V_{\\max}$: Maximum reaction rate\n",
        "- $K_m$: Michaelis constant (substrate concentration at which the reaction rate is half of $V_{\\max}$)\n"
      ],
      "metadata": {
        "id": "UdMcXPIF4Bly"
      }
    },
    {
      "cell_type": "markdown",
      "source": [
        "\n",
        "### Generate Synthetic Data"
      ],
      "metadata": {
        "id": "XdYn_cQBfbNr"
      }
    },
    {
      "cell_type": "code",
      "source": [
        "%%R -w 500 -h 450 -u px\n",
        "\n",
        "# Example data with noise\n",
        "set.seed(123)\n",
        "# Generate synthetic enzyme kinetics data\n",
        "set.seed(123)\n",
        "x<- seq(0.1, 10, length.out = 100)\n",
        "Vmax <- 100  # maximum reaction rate\n",
        "Km <- 2      # Michaelis constant\n",
        "y <- Vmax * x / (Km + x) + rnorm(100, sd = 5)\n",
        "# Create a data frame\n",
        "data.1 <- data.frame(x = x, y = y)\n",
        "# plot data\n",
        "ggplot(data.1, aes(x = x, y = y)) +\n",
        "  geom_point(alpha = 0.6, color = \"blue\") +\n",
        "  theme_minimal()"
      ],
      "metadata": {
        "id": "q82MNCn64Q0w",
        "colab": {
          "base_uri": "https://localhost:8080/",
          "height": 467
        },
        "outputId": "6c8e0bb7-8a50-4df0-e8a8-28401705727f"
      },
      "execution_count": 7,
      "outputs": [
        {
          "output_type": "display_data",
          "data": {
            "image/png": "[encoded data removed]"
          },
          "metadata": {}
        }
      ]
    },
    {
      "cell_type": "code",
      "source": [
        "%%R -w 800 -h 500 -u px\n",
        "\n",
        "# Define the asymptotic model function (Michaelis-Menten)\n",
        "asymptotic_model <- function(substrate_conc, Vmax, Km) {\n",
        "  Vmax * substrate_conc / (Km + substrate_conc)\n",
        "}\n",
        "\n",
        "# Fit the asymptotic model to the data using non-linear least squares\n",
        "fit.1 <- nls(y ~ asymptotic_model(x, Vmax, Km),\n",
        "           data = data.1, start = list(Vmax = 100, Km = 2))\n",
        "\n",
        "# Get the summary of the fit\n",
        "summary(fit.1)"
      ],
      "metadata": {
        "colab": {
          "base_uri": "https://localhost:8080/"
        },
        "id": "A6Uxx3AyfpAi",
        "outputId": "e31500b2-13f0-4b7f-f971-e7e0509df42f"
      },
      "execution_count": 8,
      "outputs": [
        {
          "output_type": "stream",
          "name": "stdout",
          "text": [
            "\n",
            "Formula: y ~ asymptotic_model(x, Vmax, Km)\n",
            "\n",
            "Parameters:\n",
            "     Estimate Std. Error t value Pr(>|t|)    \n",
            "Vmax 101.6957     1.8667   54.48   <2e-16 ***\n",
            "Km     2.0732     0.1279   16.21   <2e-16 ***\n",
            "---\n",
            "Signif. codes:  0 ‘***’ 0.001 ‘**’ 0.01 ‘*’ 0.05 ‘.’ 0.1 ‘ ’ 1\n",
            "\n",
            "Residual standard error: 4.578 on 98 degrees of freedom\n",
            "\n",
            "Number of iterations to convergence: 3 \n",
            "Achieved convergence tolerance: 1.315e-06\n",
            "\n"
          ]
        }
      ]
    },
    {
      "cell_type": "markdown",
      "source": [
        "### Extract Parameters\n"
      ],
      "metadata": {
        "id": "rSJqB05rO5ES"
      }
    },
    {
      "cell_type": "code",
      "execution_count": 9,
      "metadata": {
        "colab": {
          "base_uri": "https://localhost:8080/"
        },
        "id": "CFpt_H01OPsa",
        "outputId": "2ec73d10-3b52-4013-e468-583a841777fb"
      },
      "outputs": [
        {
          "output_type": "stream",
          "name": "stdout",
          "text": [
            "      Km \n",
            "2.073214 \n"
          ]
        }
      ],
      "source": [
        "%%R\n",
        "# Extract parameters\n",
        "Vmax <- coef(fit.1)[\"Vmax\"]\n",
        "Km <- coef(fit.1)[\"Km\"]\n",
        "Vmax\n",
        "Km\n",
        "\n"
      ]
    },
    {
      "cell_type": "markdown",
      "source": [
        "### Plot the Fitted Model\n"
      ],
      "metadata": {
        "id": "SUAQ_Dl7g2fw"
      }
    },
    {
      "cell_type": "code",
      "source": [
        "%%R -w 500 -h 450 -u px\n",
        "\n",
        "# Predict using the fitted model\n",
        "data.1$pred <- predict(fit.1, newdata = data.1)\n",
        "\n",
        "# Plot the original data and the fitted asymptotic model\n",
        "ggplot(data.1, aes(x = x, y = y)) +\n",
        "  geom_point(color = \"blue\", alpha = 0.5) +\n",
        "  geom_line(aes(y = pred), color = \"red\", size = 1.2) +\n",
        "  ggtitle(\"Asymptotic Model Fit (Michaelis-Menten Kinetics)\") +\n",
        "  xlab(\"Substrate Concentration\") + ylab(\"Reaction Rate\") +\n",
        "  theme_minimal()"
      ],
      "metadata": {
        "colab": {
          "base_uri": "https://localhost:8080/",
          "height": 467
        },
        "id": "QiTui6AiXQDy",
        "outputId": "3f40ecc9-5990-4574-84f1-1dca4546b31b"
      },
      "execution_count": 10,
      "outputs": [
        {
          "output_type": "display_data",
          "data": {
            "image/png": "[encoded data removed]"
          },
          "metadata": {}
        }
      ]
    },
    {
      "cell_type": "markdown",
      "source": [
        "## 2-Parameter Asymptotic Exponential Function\n",
        "\n",
        "This model describes a process that asymptotically approaches a maximum value with an exponential decay rate. It is often used in growth processes, pharmacokinetics, and environmental modeling.\n",
        "\n",
        "$$ y = a \\left(1 - e^{-bx}\\right) $$\n",
        "\n",
        "- $y$: Dependent variable\n",
        "- $x$: Independent variable\n",
        "- $a$: Asymptotic maximum value\n",
        "- $b$: Rate constant\n"
      ],
      "metadata": {
        "id": "ez64c-pwhXlJ"
      }
    },
    {
      "cell_type": "markdown",
      "source": [
        "### Generate Data"
      ],
      "metadata": {
        "id": "8td-ue0239e7"
      }
    },
    {
      "cell_type": "code",
      "source": [
        "%%R\n",
        "# Generate synthetic data\n",
        "set.seed(123)\n",
        "x <- seq(0, 10, length.out = 100)\n",
        "asymptote <- 50\n",
        "rate <- 0.3\n",
        "y <- asymptote * (1 - exp(-rate * x)) + rnorm(100, sd = 2)\n",
        "\n",
        "# Create a data frame\n",
        "data.2 <- data.frame(x = x, y = y)\n",
        "\n"
      ],
      "metadata": {
        "id": "CLdkClJKXYa7"
      },
      "execution_count": 11,
      "outputs": []
    },
    {
      "cell_type": "markdown",
      "source": [
        "### Fit the Model"
      ],
      "metadata": {
        "id": "mPRlm6g94Ho2"
      }
    },
    {
      "cell_type": "code",
      "source": [
        "%%R -w 500 -h 450 -u px\n",
        "# Fit the model\n",
        "fit.2 <- nls(\n",
        "  y ~ asymptote + b * exp(-c * x),\n",
        "  data = data.2,\n",
        "  start = list(b = 0.1, c = 0.1)  # Reasonable starting guesses\n",
        ")\n",
        "\n",
        "# Summary of results\n",
        "summary(fit.2)\n"
      ],
      "metadata": {
        "colab": {
          "base_uri": "https://localhost:8080/"
        },
        "id": "-uG5KPJKXVZb",
        "outputId": "25be48b5-7546-4500-c71e-2d56935fb892"
      },
      "execution_count": 12,
      "outputs": [
        {
          "output_type": "stream",
          "name": "stdout",
          "text": [
            "\n",
            "Formula: y ~ asymptote + b * exp(-c * x)\n",
            "\n",
            "Parameters:\n",
            "    Estimate Std. Error t value Pr(>|t|)    \n",
            "b -49.916719   0.633496  -78.80   <2e-16 ***\n",
            "c   0.301867   0.005664   53.29   <2e-16 ***\n",
            "---\n",
            "Signif. codes:  0 ‘***’ 0.001 ‘**’ 0.01 ‘*’ 0.05 ‘.’ 0.1 ‘ ’ 1\n",
            "\n",
            "Residual standard error: 1.84 on 98 degrees of freedom\n",
            "\n",
            "Number of iterations to convergence: 11 \n",
            "Achieved convergence tolerance: 1.909e-07\n",
            "\n"
          ]
        }
      ]
    },
    {
      "cell_type": "markdown",
      "source": [
        "### Plot the Fitted Model"
      ],
      "metadata": {
        "id": "ik7I9KFy4XOO"
      }
    },
    {
      "cell_type": "code",
      "source": [
        "%%R -w 500 -h 450 -u px\n",
        "\n",
        "# Predict using fitted model\n",
        "\n",
        "data.2$pred <- predict(fit.2, newdata = data.2)\n",
        "\n",
        "# Plot the original data and the fitted asymptotic exponential model\n",
        "ggplot(data.2, aes(x = x, y = y)) +\n",
        "  geom_point(color = \"blue\", alpha = 0.5) +\n",
        "  geom_line(aes(y = pred), color = \"red\", size = 1.2) +\n",
        "  ggtitle(\"2-Parameter Asymptotic Exponential Model Fit\") +\n",
        "  xlab(\"x\") + ylab(\"y\") +\n",
        "  theme_minimal()"
      ],
      "metadata": {
        "colab": {
          "base_uri": "https://localhost:8080/",
          "height": 467
        },
        "id": "CXFFq-5I4IJn",
        "outputId": "1a101da1-68a8-4eda-ca0d-e0c7d4d9496f"
      },
      "execution_count": 13,
      "outputs": [
        {
          "output_type": "display_data",
          "data": {
            "image/png": "[encoded data removed]"
          },
          "metadata": {}
        }
      ]
    },
    {
      "cell_type": "markdown",
      "source": [
        "## 3-Parameter Asymptotic Exponential Function\n",
        "\n",
        "This model extends the 2-parameter model by including a horizontal shift, allowing for more flexibility in fitting data where the process starts at a point other than zero.\n",
        "\n",
        "\n",
        "$$ y = a \\left(1 - e^{-b(x - c)}\\right)  $$\n",
        "\n",
        "- $y$: Dependent variable\n",
        "- $x$: Independent variable\n",
        "- $a$: Asymptotic maximum value\n",
        "- $b$: Rate constant\n",
        "- $c$: Horizontal shift (delay before the exponential growth starts)"
      ],
      "metadata": {
        "id": "ccJAW9VChkFP"
      }
    },
    {
      "cell_type": "markdown",
      "source": [
        "### Data Generation"
      ],
      "metadata": {
        "id": "duvPzGq25QkU"
      }
    },
    {
      "cell_type": "code",
      "source": [
        "%%R\n",
        "# Simulating some data\n",
        "set.seed(123)\n",
        "x <- 1:10\n",
        "y <- c(1.5, 2.5, 4.5, 4.9, 5.6, 6.2, 6.8, 7.1, 7.5, 7.8) + rnorm(10, 0, 0.2)\n",
        "\n",
        "# Put data into a dataframe\n",
        "data.3 <- data.frame(x, y)"
      ],
      "metadata": {
        "id": "WI3SZYjWZR4_"
      },
      "execution_count": 14,
      "outputs": []
    },
    {
      "cell_type": "markdown",
      "source": [
        "### Fit Using Manual Starting Values\n",
        "\n",
        "   - Estimate starting values:\n",
        "     - $a_0$: Slightly above the maximum observed $y$ (e.g., $\\text{max}(y) + 5$)\n",
        "     - Linearize $\\ln(a_0 - y) = \\ln(b) - c \\cdot x$ to estimate $b_0$ and $c_0$"
      ],
      "metadata": {
        "id": "I8dFM0UCCpWO"
      }
    },
    {
      "cell_type": "code",
      "source": [
        "%%R\n",
        "   # Estimate starting values\n",
        "   max_y <- max(data.3$y)\n",
        "   a0 <- max_y + 5  # Adjust based on data\n",
        "   z <- log(a0 - data.3$y)\n",
        "   lin_model <- lm(z ~ data.3$x)\n",
        "   b0 <- exp(coef(lin_model)[1])\n",
        "   c0 <- -coef(lin_model)[2]\n",
        "\n",
        "   # Fit the Model with `nls()`**\n",
        "  fit.3<- nls(y ~ a - b * exp(-c * x),\n",
        "                data = data.3,\n",
        "                start = list(a = a0, b = b0, c = c0))\n",
        "   summary(fit.3)"
      ],
      "metadata": {
        "id": "MmtJFmCMCpig",
        "colab": {
          "base_uri": "https://localhost:8080/"
        },
        "outputId": "957f5b73-8208-4f99-e492-fd5a75fdf848"
      },
      "execution_count": 15,
      "outputs": [
        {
          "output_type": "stream",
          "name": "stdout",
          "text": [
            "\n",
            "Formula: y ~ a - b * exp(-c * x)\n",
            "\n",
            "Parameters:\n",
            "  Estimate Std. Error t value Pr(>|t|)    \n",
            "a  8.16864    0.50583  16.149 8.49e-07 ***\n",
            "b  9.00788    0.51245  17.578 4.75e-07 ***\n",
            "c  0.26969    0.05218   5.169   0.0013 ** \n",
            "---\n",
            "Signif. codes:  0 ‘***’ 0.001 ‘**’ 0.01 ‘*’ 0.05 ‘.’ 0.1 ‘ ’ 1\n",
            "\n",
            "Residual standard error: 0.3512 on 7 degrees of freedom\n",
            "\n",
            "Number of iterations to convergence: 7 \n",
            "Achieved convergence tolerance: 8.369e-07\n",
            "\n"
          ]
        }
      ]
    },
    {
      "cell_type": "markdown",
      "source": [
        "### Plot the Fitted Model"
      ],
      "metadata": {
        "id": "3tU7V6d95h9H"
      }
    },
    {
      "cell_type": "code",
      "source": [
        "%%R -w 500 -h 450 -u px\n",
        "# Predict using the fitted model\n",
        "data.3$pred <- predict(fit.3, newdata = data.3)\n",
        "\n",
        "# Plot the original data and the fitted asymptotic exponential model\n",
        "ggplot(data.3, aes(x = x, y = y)) +\n",
        "  geom_point(color = \"blue\", alpha = 0.5) +\n",
        "  geom_line(aes(y = pred), color = \"red\", size = 1.2) +\n",
        "  ggtitle(\"3-Parameter Asymptotic Exponential Model Fit\") +\n",
        "  xlab(\"x\") + ylab(\"y\") +\n",
        "  theme_minimal()"
      ],
      "metadata": {
        "colab": {
          "base_uri": "https://localhost:8080/",
          "height": 467
        },
        "id": "jOSVnQmsifDC",
        "outputId": "968d8441-b943-45b9-d4ea-f3b01767d4cf"
      },
      "execution_count": 16,
      "outputs": [
        {
          "output_type": "display_data",
          "data": {
            "image/png": "[encoded data removed]"
          },
          "metadata": {}
        }
      ]
    },
    {
      "cell_type": "markdown",
      "source": [
        "## Fit Asymptotic Model with Real Data\n",
        "\n",
        "In this exercise we will fit the three models to real data on jaw growth in Deer. The data contains measurements of bone growth in rats at different ages. We will compare the performance of the Michaelis-Menten, 2-parameter asymptotic exponential, and 3-parameter asymptotic exponential models. The data is available in the file `jaw_data.csv`."
      ],
      "metadata": {
        "id": "VgXsJHMni52j"
      }
    },
    {
      "cell_type": "code",
      "source": [
        "%%R\n",
        "# Load the data\n",
        "jaw_data <- readr::read_csv(\"https://github.com/zia207/r-colab/raw/main/Data/Regression_analysis/jaw_data.csv\") |>\n",
        " filter(age > 0) |>  # Remove age = 0\n",
        " glimpse()"
      ],
      "metadata": {
        "colab": {
          "base_uri": "https://localhost:8080/"
        },
        "id": "bmFyKYdji6mC",
        "outputId": "a3d1553a-a60f-4c32-b6c4-c24fb30e575d"
      },
      "execution_count": 17,
      "outputs": [
        {
          "output_type": "stream",
          "name": "stdout",
          "text": [
            "Rows: 54 Columns: 2\n",
            "── Column specification ────────────────────────────────────────────────────────\n",
            "Delimiter: \",\"\n",
            "dbl (2): age, bone\n",
            "\n",
            "ℹ Use `spec()` to retrieve the full column specification for this data.\n",
            "ℹ Specify the column types or set `show_col_types = FALSE` to quiet this message.\n",
            "Rows: 53\n",
            "Columns: 2\n",
            "$ age  <dbl> 5.112000, 1.320000, 35.240000, 1.632931, 2.297635, 3.322125, 4.04…\n",
            "$ bone <dbl> 20.22000, 11.11130, 140.65000, 26.15218, 10.00100, 55.85634, 46.0…\n"
          ]
        }
      ]
    },
    {
      "cell_type": "code",
      "source": [
        "%%R -w 500 -h 450 -u px\n",
        "# Plot the original data and the fitted asymptotic exponential model\n",
        "ggplot(jaw_data, aes(x = age, y = bone)) +\n",
        "  geom_point(color = \"blue\", alpha = 0.5) +\n",
        "  xlab(\"Age\") + ylab(\"Bone Growth\") +\n",
        "  ggtitle(\"Bone Growth\") +\n",
        "  theme_minimal()"
      ],
      "metadata": {
        "colab": {
          "base_uri": "https://localhost:8080/",
          "height": 467
        },
        "id": "ias6OIw3jIPE",
        "outputId": "626bfb87-bbf6-4c47-a6c8-f5f8ea8da3c3"
      },
      "execution_count": 18,
      "outputs": [
        {
          "output_type": "display_data",
          "data": {
            "image/png": "[encoded data removed]"
          },
          "metadata": {}
        }
      ]
    },
    {
      "cell_type": "markdown",
      "source": [
        "### Fit Michaelis-Menten Model\n",
        "\n",
        "Manually specify starting values:"
      ],
      "metadata": {
        "id": "WM19lux3jXPf"
      }
    },
    {
      "cell_type": "code",
      "source": [
        "%%R\n",
        "mm_model <- nls(\n",
        "  bone ~ (Vmax * age) / (Km + age),\n",
        "  data = jaw_data,\n",
        "  start = list(Vmax = 140, Km = 10)  # Adjusted starting guesses\n",
        ")\n",
        "summary(mm_model)"
      ],
      "metadata": {
        "colab": {
          "base_uri": "https://localhost:8080/"
        },
        "id": "VILzFizljXcV",
        "outputId": "4a6763d6-a91c-4780-c241-3d77f7a12b15"
      },
      "execution_count": 22,
      "outputs": [
        {
          "output_type": "stream",
          "name": "stdout",
          "text": [
            "\n",
            "Formula: bone ~ (Vmax * age)/(Km + age)\n",
            "\n",
            "Parameters:\n",
            "     Estimate Std. Error t value Pr(>|t|)    \n",
            "Vmax  137.723      5.965  23.089  < 2e-16 ***\n",
            "Km      7.355      1.277   5.757 4.91e-07 ***\n",
            "---\n",
            "Signif. codes:  0 ‘***’ 0.001 ‘**’ 0.01 ‘*’ 0.05 ‘.’ 0.1 ‘ ’ 1\n",
            "\n",
            "Residual standard error: 13.9 on 51 degrees of freedom\n",
            "\n",
            "Number of iterations to convergence: 6 \n",
            "Achieved convergence tolerance: 2.457e-06\n",
            "\n"
          ]
        }
      ]
    },
    {
      "cell_type": "markdown",
      "source": [
        "### Fit  2-Parameter Asymptotic Exponential Model\n",
        "\n",
        "Fix asymptote at the maximum observed `bone` value:"
      ],
      "metadata": {
        "id": "HJHzkmBPjkKV"
      }
    },
    {
      "cell_type": "code",
      "source": [
        "%%R\n",
        "asym <- max(jaw_data$bone)  # asym = 142\n",
        "exp2_model <- nls(\n",
        "  bone ~ asym + b * exp(-c * age),\n",
        "  data = jaw_data,\n",
        "  start = list(b = 100, c = 0.1)\n",
        ")\n",
        "summary(exp2_model)"
      ],
      "metadata": {
        "colab": {
          "base_uri": "https://localhost:8080/"
        },
        "id": "XcVXUYGGjik4",
        "outputId": "b1c5204d-36ff-4b57-e132-647702c5b6f4"
      },
      "execution_count": 23,
      "outputs": [
        {
          "output_type": "stream",
          "name": "stdout",
          "text": [
            "\n",
            "Formula: bone ~ asym + b * exp(-c * age)\n",
            "\n",
            "Parameters:\n",
            "    Estimate Std. Error t value Pr(>|t|)    \n",
            "b -1.136e+02  7.231e+00  -15.71  < 2e-16 ***\n",
            "c  4.577e-02  4.558e-03   10.04 1.12e-13 ***\n",
            "---\n",
            "Signif. codes:  0 ‘***’ 0.001 ‘**’ 0.01 ‘*’ 0.05 ‘.’ 0.1 ‘ ’ 1\n",
            "\n",
            "Residual standard error: 16.79 on 51 degrees of freedom\n",
            "\n",
            "Number of iterations to convergence: 8 \n",
            "Achieved convergence tolerance: 9.933e-06\n",
            "\n"
          ]
        }
      ]
    },
    {
      "cell_type": "markdown",
      "source": [
        "### Fit 3-Parameter Asymptotic Exponential\n",
        "\n",
        "Estimate asymptote dynamically:"
      ],
      "metadata": {
        "id": "l3Q8VUIRjqFF"
      }
    },
    {
      "cell_type": "code",
      "source": [
        "%%R\n",
        "exp3_model <- nls(\n",
        "  bone ~ asym + (y0 - asym) * exp(-c * age),\n",
        "  data = jaw_data,\n",
        "  start = list(asym = 130, y0 = 20, c = 0.1)\n",
        ")\n",
        "summary(exp3_model)"
      ],
      "metadata": {
        "colab": {
          "base_uri": "https://localhost:8080/"
        },
        "id": "hJtesv7jjqvY",
        "outputId": "d1f72328-5926-4028-8e12-2a83907067cd"
      },
      "execution_count": 24,
      "outputs": [
        {
          "output_type": "stream",
          "name": "stdout",
          "text": [
            "\n",
            "Formula: bone ~ asym + (y0 - asym) * exp(-c * age)\n",
            "\n",
            "Parameters:\n",
            "      Estimate Std. Error t value Pr(>|t|)    \n",
            "asym 115.05798    2.96285  38.834  < 2e-16 ***\n",
            "y0    -5.54489   10.69431  -0.518    0.606    \n",
            "c      0.12642    0.01979   6.390 5.41e-08 ***\n",
            "---\n",
            "Signif. codes:  0 ‘***’ 0.001 ‘**’ 0.01 ‘*’ 0.05 ‘.’ 0.1 ‘ ’ 1\n",
            "\n",
            "Residual standard error: 13.33 on 50 degrees of freedom\n",
            "\n",
            "Number of iterations to convergence: 4 \n",
            "Achieved convergence tolerance: 5.844e-07\n",
            "\n"
          ]
        }
      ]
    },
    {
      "cell_type": "markdown",
      "source": [
        "### Compare Model Performance"
      ],
      "metadata": {
        "id": "vHWliqFPjwe3"
      }
    },
    {
      "cell_type": "code",
      "source": [
        "%%R\n",
        "# Extract metrics\n",
        "metrics <- tibble(\n",
        "  Model = c(\"Michaelis-Menten\", \"2-Param Exponential\", \"3-Param Exponential\"),\n",
        "  RSE = c(summary(mm_model)$sigma, summary(exp2_model)$sigma, summary(exp3_model)$sigma),\n",
        "  AIC = c(AIC(mm_model), AIC(exp2_model), AIC(exp3_model)),\n",
        "  BIC = c(BIC(mm_model), BIC(exp2_model), BIC(exp3_model))\n",
        ")\n",
        "\n",
        "print(metrics)"
      ],
      "metadata": {
        "colab": {
          "base_uri": "https://localhost:8080/"
        },
        "id": "dtwmwYzyjxUa",
        "outputId": "fe8fc631-504a-4ec6-8303-a803c79de714"
      },
      "execution_count": 25,
      "outputs": [
        {
          "output_type": "stream",
          "name": "stdout",
          "text": [
            "# A tibble: 3 × 4\n",
            "  Model                 RSE   AIC   BIC\n",
            "  <chr>               <dbl> <dbl> <dbl>\n",
            "1 Michaelis-Menten     13.9  433.  439.\n",
            "2 2-Param Exponential  16.8  453.  459.\n",
            "3 3-Param Exponential  13.3  430.  438.\n"
          ]
        }
      ]
    },
    {
      "cell_type": "markdown",
      "source": [
        "### The Best Model"
      ],
      "metadata": {
        "id": "qAsK36eYkD62"
      }
    },
    {
      "cell_type": "code",
      "source": [
        "%%R\n",
        "best_model <- names(which.min(metrics$AIC))\n",
        "cat(\"Best model is:\", best_model, \"with AIC value:\", min(metrics$AIC), \"\\n\")\n"
      ],
      "metadata": {
        "colab": {
          "base_uri": "https://localhost:8080/"
        },
        "id": "cXey9mBVkLh7",
        "outputId": "4b778a49-349e-400f-b46e-327733dc22b2"
      },
      "execution_count": 28,
      "outputs": [
        {
          "output_type": "stream",
          "name": "stdout",
          "text": [
            "Best model is: with AIC value: 429.8244 \n"
          ]
        }
      ]
    },
    {
      "cell_type": "markdown",
      "source": [
        "### Visualize All Fits"
      ],
      "metadata": {
        "id": "4jOwpMgJkdA4"
      }
    },
    {
      "cell_type": "code",
      "source": [
        "%%R -w 600 -h 500 -u px\n",
        "# Add predictions\n",
        "jaw_data <- jaw_data %>%\n",
        "  mutate(\n",
        "    mm_pred = predict(mm_model),\n",
        "    exp2_pred = predict(exp2_model),\n",
        "    exp3_pred = predict(exp3_model)\n",
        "  )\n",
        "\n",
        "\n",
        "# Reshape predictions into long format for legend\n",
        "jaw_data_long <- jaw_data %>%\n",
        "  pivot_longer(\n",
        "    cols = c(mm_pred, exp2_pred, exp3_pred),\n",
        "    names_to = \"Model\",\n",
        "    values_to = \"Prediction\"\n",
        "  ) %>%\n",
        "  mutate(\n",
        "    Model = case_when(\n",
        "      Model == \"mm_pred\" ~ \"Michaelis-Menten\",\n",
        "      Model == \"exp2_pred\" ~ \"2-Parameter Exponential\",\n",
        "      Model == \"exp3_pred\" ~ \"3-Parameter Exponential\"\n",
        "    )\n",
        "  )\n",
        "\n",
        "# Define colors and linetypes\n",
        "model_colors <- c(\n",
        "  \"Michaelis-Menten\" = \"#E69F00\",\n",
        "  \"2-Parameter Exponential\" = \"#56B4E9\",\n",
        "  \"3-Parameter Exponential\" = \"#009E73\"\n",
        ")\n",
        "\n",
        "model_linetypes <- c(\n",
        "  \"Michaelis-Menten\" = \"solid\",\n",
        "  \"2-Parameter Exponential\" = \"dashed\",\n",
        "  \"3-Parameter Exponential\" = \"dotdash\"\n",
        ")\n",
        "\n",
        "ggplot(jaw_data_long, aes(x = age, y = bone)) +\n",
        "  geom_point(alpha = 0.6, color = \"black\") +\n",
        "  geom_line(\n",
        "    aes(y = Prediction, color = Model, linetype = Model),\n",
        "    linewidth = 1\n",
        "  ) +\n",
        "  scale_color_manual(values = model_colors) +\n",
        "  scale_linetype_manual(values = model_linetypes) +\n",
        "  labs(\n",
        "    title = \"Bone Growth Model Comparison\",\n",
        "    x = \"Age\",\n",
        "    y = \"Bone Measurement\"\n",
        "  ) +\n",
        "  theme_minimal() +\n",
        "  theme(\n",
        "    legend.position = \"bottom\",\n",
        "    legend.title = element_blank(),  # Remove legend title\n",
        "    legend.spacing.x = unit(0.5, \"cm\")  # Add spacing between legend items\n",
        "  ) +\n",
        "  guides(\n",
        "    color = guide_legend(nrow = 2),  # Split color legend into 2 lines\n",
        "    linetype = guide_legend(nrow = 2)  # Split linetype legend into 2 lines\n",
        "  )"
      ],
      "metadata": {
        "colab": {
          "base_uri": "https://localhost:8080/",
          "height": 517
        },
        "id": "hAkoFkr2kdSO",
        "outputId": "85e02248-7530-4163-db96-3128ccf37e38"
      },
      "execution_count": 26,
      "outputs": [
        {
          "output_type": "display_data",
          "data": {
            "image/png": "[encoded data removed]"
          },
          "metadata": {}
        }
      ]
    },
    {
      "cell_type": "markdown",
      "source": [
        "\n",
        "## Summary and Conclusion\n",
        "\n",
        "In this tutorial, we explored the concept of **asymptotic functions** and their applications in modeling real-world phenomena using R. We specifically focused on fitting asymptotic exponential models, demonstrating how they can effectively describe processes that approach a limiting value over time.  \n",
        "\n",
        "Through **nonlinear regression with `nls()`**, we successfully estimated model parameters and visualized the fitted function, emphasizing the importance of selecting appropriate starting values for convergence. Additionally, we discussed model evaluation techniques, including residual analysis, to assess goodness-of-fit.  \n",
        "\n",
        "Understanding asymptotic functions is crucial in various fields such as **biology, economics, and engineering**, where growth, decay, or saturation processes are prevalent. Mastering these techniques in R allows for more accurate predictions and deeper insights into data behavior.  "
      ],
      "metadata": {
        "id": "nBHEkDLaG47z"
      }
    },
    {
      "cell_type": "markdown",
      "source": [
        "## References\n",
        "\n",
        "Here are some books and online resources that provide comprehensive information about exponential models, including their applications, fitting techniques, and theoretical foundations:\n",
        "\n",
        "### Books\n",
        "\n",
        "1. **\"Nonlinear Regression with R\" by Christian Ritz and Jens C. Streibig**\n",
        "   - This book provides an in-depth treatment of nonlinear regression models, including exponential models. It covers the mathematical theory, model fitting, and interpretation using R.\n",
        "\n",
        "2. **\"Applied Regression Analysis and Generalized Linear Models\" by John Fox**\n",
        "   - This book covers a wide range of regression models, including exponential regression. It provides theoretical insights and practical examples using R.\n",
        "\n",
        "3. **\"Nonlinear Models for Repeated Measurement Data\" by Marie Davidian and David M. Giltinan**\n",
        "   - This book focuses on nonlinear models, including exponential models, for analyzing repeated measurement data. It includes detailed discussions on model fitting and interpretation.\n",
        "\n",
        "4. **\"Regression Modeling Strategies\" by Frank E. Harrell Jr.**\n",
        "   - This book covers various regression modeling strategies, including nonlinear and exponential models. It provides practical guidance on model selection, fitting, and validation.\n",
        "\n",
        "5. **\"An Introduction to Statistical Learning with Applications in R\" by Gareth James, Daniela Witten, Trevor Hastie, and Robert Tibshirani**\n",
        "   - This book provides an accessible introduction to statistical learning, including exponential models. It includes practical examples and R code.\n",
        "\n",
        "### Online Resources\n",
        "\n",
        "1. **Coursera - \"Regression Models\" by Johns Hopkins University**\n",
        "   - This online course covers various regression models, including exponential models. It provides video lectures, quizzes, and practical exercises using R.\n",
        "   - [Course Link](https://www.coursera.org/learn/regression-models)\n",
        "\n",
        "2. **Khan Academy - \"Exponential Models\"**\n",
        "   - Khan Academy offers free tutorials on exponential models, including video lectures and practice exercises.\n",
        "   - [Exponential Models on Khan Academy](https://www.khanacademy.org/math/algebra2/exponential-and-logarithmic-functions)\n",
        "\n",
        "3. **R Documentation - \"nls function\"**\n",
        "   - The `nls` function in R is used for fitting nonlinear models, including exponential models. The R documentation provides detailed information on how to use this function.\n",
        "   - [nls Function Documentation](https://www.rdocumentation.org/packages/stats/versions/3.6.2/topics/nls)\n",
        "\n",
        "4. **Cross Validated (Stack Exchange) - Discussions on Exponential Models**\n",
        "   - Cross Validated is a Q&A site for statistics, machine learning, and data analysis. You can find many discussions on exponential models and their applications.\n",
        "   - [Cross Validated](https://stats.stackexchange.com/)\n",
        "\n",
        "5. **DataCamp - \"Nonlinear Modeling in R\"**\n",
        "   - DataCamp offers a course on nonlinear modeling in R, which includes exponential models. The course provides interactive coding exercises and practical examples.\n",
        "   - [Nonlinear Modeling in R](https://www.datacamp.com/courses/nonlinear-modeling-in-r)\n",
        "\n",
        "\n",
        "\n"
      ],
      "metadata": {
        "id": "bLeAMiRQG59v"
      }
    }
  ]
}