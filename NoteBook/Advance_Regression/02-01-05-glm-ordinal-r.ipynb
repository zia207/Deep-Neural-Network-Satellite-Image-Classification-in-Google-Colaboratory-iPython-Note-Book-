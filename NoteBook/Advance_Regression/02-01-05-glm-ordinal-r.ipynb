{
  "nbformat": 4,
  "nbformat_minor": 0,
  "metadata": {
    "colab": {
      "provenance": [],
      "toc_visible": true,
      "authorship_tag": "ABX9TyOdmS3iTogRth9KpwsfB8EA",
      "include_colab_link": true
    },
    "kernelspec": {
      "name": "python3",
      "display_name": "Python 3"
    },
    "language_info": {
      "name": "python"
    }
  },
  "cells": [
    {
      "cell_type": "markdown",
      "metadata": {
        "id": "view-in-github",
        "colab_type": "text"
      },
      "source": [
        "<a href=\"https://colab.research.google.com/github/zia207/Deep-Neural-Network-Satellite-Image-Classification-in-Google-Colaboratory-iPython-Note-Book-/blob/master/NoteBook/Advance_Regression/02-01-05-glm-ordinal-r.ipynb\" target=\"_parent\"><img src=\"https://colab.research.google.com/assets/colab-badge.svg\" alt=\"Open In Colab\"/></a>"
      ]
    },
    {
      "cell_type": "markdown",
      "source": [
        "![alt text](http://drive.google.com/uc?export=view&id=1bLQ3nhDbZrCCqy_WCxxckOne2lgVvn3l)"
      ],
      "metadata": {
        "id": "ALapmr7gMNeE"
      }
    },
    {
      "cell_type": "markdown",
      "source": [
        "# Ordinal or Ordered logistic regression (OLR)\n",
        "\n",
        "Ordered logistic regression is used when the dependent variable is an ordinal outcome—a categorical variable with a precise rank order but not necessarily equidistant. This method estimates each response level's probability while considering the outcome's ordered nature. Typical applications include customer satisfaction assessment, academic grading, and income classification. In this tutorial, we will discuss ordered logistic regression, manually fit a model to understand its mechanics, and use the `polr()` function from the {MASS} package in R to implement the model. We will also examine coefficients, odds ratios, and category thresholds. This tutorial will provide a practical approach to mastering ordinal logistic regression through concepts and hands-on coding."
      ],
      "metadata": {
        "id": "au6nzIZ1MUQ9"
      }
    },
    {
      "cell_type": "markdown",
      "source": [
        "\n",
        "## Overview\n",
        "\n",
        "**Ordinal logistic regression (OLR)** is a statistical method used to analyze the relationship between one or more independent variables (predictors) and an ordinal dependent variable. An ordinal variable is a type of categorical variable where the categories have a specific order, but the intervals between the categories are not uniformly measured. This technique is commonly used in social sciences, psychology, and other fields where data is measured on Likert scales (e.g., strongly disagree, disagree, neutral, agree, strongly agree) or in scenarios where outcomes are ordered such as grades (e.g., A, B, C, D, F). OLR allows researchers to understand the impact of independent variables on the likelihood of an outcome falling into a particular category or higher.\n",
        "\n",
        "In ordinal logistic regression (OLR), the dependent variable is assumed to have three or more ordered categories. The objective is to predict the probability of an observation falling into one of the categories based on the independent variables' values. OLR is an extension of logistic regression, which is used for binary outcomes, and it is designed to handle multiple ordered outcome categories.\n",
        "\n",
        "The key difference between ordinal variables and nominal variables (which have no inherent order, like colors or types of fruit) is that ordinal variables convey a rank or order.\n",
        "\n",
        "**Proportional Odds Assumption**: The primary assumption in ordinal logistic regression is that the relationship between each pair of outcome groups is the same across all levels of the independent variables. In other words, the odds ratios comparing any two outcome categories are constant across all levels of the predictor variables.\n",
        "\n",
        "The ordered logistic regression model can be represented mathematically. Let’s denote:\n",
        "\n",
        "-   $Y$: the ordinal dependent variable with categories \\$ 1, 2, ..., J\\$.\n",
        "-   $X$: the vector of independent variables, $X_1, X_2, \\ldots, X_p$\n",
        "-   $\\beta$: the vector of coefficients.\n",
        "\n",
        "The cumulative odds of being in a category ( j ) or lower can be expressed as:\n",
        "\n",
        "$$ \\text{logit}(P(Y \\leq j | X)) = \\log\\left(\\frac{P(Y \\leq j | X)}{P(Y > j | X)}\\right) = \\alpha_j + \\beta X  $$\n",
        "\n",
        "Where:\n",
        "\n",
        "-   $P(Y \\leq j | X)$ is the probability of being in category $j$ or lower given the predictors.\n",
        "-   $\\alpha_j$ represents the threshold for category $j$.\n",
        "\n",
        "The model is fitted to estimate the parameters $\\alpha_j$) and $\\beta$.\n",
        "\n",
        "-   \\*\\*Coefficients ($\\beta$): Each coefficient represents the change in the log odds of being in a higher category of the dependent variable for a one-unit increase in the independent variable. A positive coefficient means that as the independent variable increases, the likelihood of being in a higher category also increases.\n",
        "\n",
        "-   **Thresholds (**$\\alpha_j$): These parameters indicate the cut-off points between the ordered categories. They help in understanding the probability of falling into each category.\n",
        "\n",
        "For example, if $\\beta_1$ for an independent variable $X_1$ is 0.5, it suggests that for each one-unit increase in $X1$, the log odds of being in a higher satisfaction category increases by 0.5.\n",
        "\n",
        "***Advantages and Disadvantages***\n",
        "\n",
        "**Advantages**: - Handles ordinal data effectively, preserving the information about order. - More informative than standard logistic regression when dealing with ordered categories. - Can accommodate multiple predictor variables, both categorical and continuous.\n",
        "\n",
        "**Disadvantages**: - The assumption of proportional odds may not hold true in all cases, leading to biased estimates. - If the data violates this assumption, alternative models (like generalized ordered logistic regression or partial proportional odds models) may need to be considered. - Interpretation can be less straightforward compared to linear regression, especially when dealing with multiple thresholds.\n"
      ],
      "metadata": {
        "id": "neuAm4Qy9ZYX"
      }
    },
    {
      "cell_type": "markdown",
      "source": [
        "## Install rpy2"
      ],
      "metadata": {
        "id": "BQDQMxpJ9z_f"
      }
    },
    {
      "cell_type": "code",
      "execution_count": 3,
      "metadata": {
        "colab": {
          "base_uri": "https://localhost:8080/"
        },
        "id": "5j-UYffx9N09",
        "outputId": "7bda53e2-5207-42e0-817a-7d6dafd1e95e"
      },
      "outputs": [
        {
          "output_type": "stream",
          "name": "stdout",
          "text": [
            "Found existing installation: rpy2 3.4.2\n",
            "Uninstalling rpy2-3.4.2:\n",
            "  Successfully uninstalled rpy2-3.4.2\n",
            "Collecting rpy2==3.5.1\n",
            "  Downloading rpy2-3.5.1.tar.gz (201 kB)\n",
            "\u001b[2K     \u001b[90m━━━━━━━━━━━━━━━━━━━━━━━━━━━━━━━━━━━━━━━━\u001b[0m \u001b[32m201.7/201.7 kB\u001b[0m \u001b[31m4.4 MB/s\u001b[0m eta \u001b[36m0:00:00\u001b[0m\n",
            "\u001b[?25h  Preparing metadata (setup.py) ... \u001b[?25l\u001b[?25hdone\n",
            "Requirement already satisfied: cffi>=1.10.0 in /usr/local/lib/python3.10/dist-packages (from rpy2==3.5.1) (1.17.1)\n",
            "Requirement already satisfied: jinja2 in /usr/local/lib/python3.10/dist-packages (from rpy2==3.5.1) (3.1.4)\n",
            "Requirement already satisfied: pytz in /usr/local/lib/python3.10/dist-packages (from rpy2==3.5.1) (2024.2)\n",
            "Requirement already satisfied: tzlocal in /usr/local/lib/python3.10/dist-packages (from rpy2==3.5.1) (5.2)\n",
            "Requirement already satisfied: pycparser in /usr/local/lib/python3.10/dist-packages (from cffi>=1.10.0->rpy2==3.5.1) (2.22)\n",
            "Requirement already satisfied: MarkupSafe>=2.0 in /usr/local/lib/python3.10/dist-packages (from jinja2->rpy2==3.5.1) (3.0.2)\n",
            "Building wheels for collected packages: rpy2\n",
            "  Building wheel for rpy2 (setup.py) ... \u001b[?25l\u001b[?25hdone\n",
            "  Created wheel for rpy2: filename=rpy2-3.5.1-cp310-cp310-linux_x86_64.whl size=314952 sha256=b32f697965cc87fc2d5881f72bb3b21307cb461c8e5dd854cd56849042538838\n",
            "  Stored in directory: /root/.cache/pip/wheels/73/a6/ff/4e75dd1ce1cfa2b9a670cbccf6a1e41c553199e9b25f05d953\n",
            "Successfully built rpy2\n",
            "Installing collected packages: rpy2\n",
            "Successfully installed rpy2-3.5.1\n"
          ]
        }
      ],
      "source": [
        "!pip uninstall rpy2 -y\n",
        "!pip install rpy2==3.5.1\n",
        "%load_ext rpy2.ipython"
      ]
    },
    {
      "cell_type": "markdown",
      "source": [
        "## Mount Google Drive"
      ],
      "metadata": {
        "id": "xg8ZRtsE-Aot"
      }
    },
    {
      "cell_type": "code",
      "source": [
        "from google.colab import drive\n",
        "drive.mount('/content/drive')"
      ],
      "metadata": {
        "colab": {
          "base_uri": "https://localhost:8080/"
        },
        "id": "sLu24QrR-M9L",
        "outputId": "b70ad954-61ec-42d5-fa7d-ae2fb08ddd9c"
      },
      "execution_count": 1,
      "outputs": [
        {
          "output_type": "stream",
          "name": "stdout",
          "text": [
            "Mounted at /content/drive\n"
          ]
        }
      ]
    },
    {
      "cell_type": "markdown",
      "source": [
        "## Building a Ordinal Model from Scratch\n",
        "\n",
        "Fitting an ordinal logistic regression model from scratch in R without using any external packages involves several steps, including creating synthetic data, calculating the cumulative probabilities, estimating the model coefficients using Maximum Likelihood Estimation (MLE), and deriving the summary statistics and odds ratios with confidence intervals. Below, I will outline how to accomplish this step-by-step.\n"
      ],
      "metadata": {
        "id": "XyMjzLY-CIZm"
      }
    },
    {
      "cell_type": "markdown",
      "source": [
        "### Generate Synthetic Data\n",
        "\n",
        "We'll create a synthetic dataset with 6 continuous predictors, one categorical predictor, and an ordinal response variable with three levels.\n"
      ],
      "metadata": {
        "id": "FB2p3NwCCMzb"
      }
    },
    {
      "cell_type": "code",
      "source": [
        "%%R\n",
        "# Load required package for numerical derivatives\n",
        "if (!require(numDeriv)) install.packages(\"numDeriv\")\n",
        "\n",
        "# Step 1: Generate Synthetic Data\n",
        "set.seed(123)  # For reproducibility\n",
        "n <- 200  # Number of observations\n",
        "\n",
        "# Continuous predictors\n",
        "X1 <- rnorm(n)\n",
        "X2 <- rnorm(n)\n",
        "X3 <- rnorm(n)\n",
        "X4 <- rnorm(n)\n",
        "\n",
        "\n",
        "# Categorical predictor (two levels)\n",
        "land_type <- sample(c(\"high land\", \"medium high land\"), n, replace = TRUE)\n",
        "\n",
        "# Convert land_type to a numeric binary variable\n",
        "land_type_numeric <- ifelse(land_type == \"high land\", 1, 0)\n",
        "\n",
        "# Create a linear predictor and generate response variable\n",
        "linear_predictor <- 1 + 0.5 * X1 - 0.3 * X2 + 0.2 * X3 +\n",
        "                    0.7 * land_type_numeric +\n",
        "                    rnorm(n)\n",
        "\n",
        "# Define thresholds for response categories\n",
        "thresholds <- c(-Inf, 0, 1, Inf)  # Create three categories (Low, Moderate, High)\n",
        "response <- cut(linear_predictor, breaks = thresholds, labels = c(\"Low\", \"Moderate\", \"High\"))\n",
        "\n",
        "# Combine data into a data frame\n",
        "data <- data.frame(X1, X2, X3, X4,  land_type_numeric, response)\n",
        "head(data)"
      ],
      "metadata": {
        "colab": {
          "base_uri": "https://localhost:8080/"
        },
        "id": "DKrGJOHBCPJV",
        "outputId": "3574c033-a216-4bba-8375-988fa85383f2"
      },
      "execution_count": 5,
      "outputs": [
        {
          "output_type": "stream",
          "name": "stderr",
          "text": [
            "WARNING:rpy2.rinterface_lib.callbacks:R[write to console]: Loading required package: numDeriv\n",
            "\n"
          ]
        },
        {
          "output_type": "stream",
          "name": "stdout",
          "text": [
            "           X1         X2          X3          X4 land_type_numeric response\n",
            "1 -0.56047565  2.1988103 -0.07355602  1.07401226                 0      Low\n",
            "2 -0.23017749  1.3124130 -1.16865142 -0.02734697                 1 Moderate\n",
            "3  1.55870831 -0.2651451 -0.63474826 -0.03333034                 0     High\n",
            "4  0.07050839  0.5431941 -0.02884155 -1.51606762                 0     High\n",
            "5  0.12928774 -0.4143399  0.67069597  0.79038534                 1     High\n",
            "6  1.71506499 -0.4762469 -1.65054654 -0.21073418                 0     High\n"
          ]
        }
      ]
    },
    {
      "cell_type": "markdown",
      "source": [
        "### Define Model Functions"
      ],
      "metadata": {
        "id": "5iJ93LrECUk-"
      }
    },
    {
      "cell_type": "code",
      "source": [
        "%%R\n",
        "# Step 2: Define Model Functions\n",
        "\n",
        "# Function to compute cumulative probabilities\n",
        "cumulative_probs <- function(X, beta, alpha) {\n",
        "  eta <- cbind(1, X) %*% beta  # Linear predictor with intercept\n",
        "  prob_low <- 1 / (1 + exp(-(eta - alpha[1])))\n",
        "  prob_moderate <- prob_low / (1 + exp(-(eta - alpha[2])))\n",
        "  prob_high <- 1 - prob_moderate\n",
        "  return(cbind(prob_low, prob_moderate, prob_high))\n",
        "}\n",
        "\n",
        "# Function to compute the log-likelihood\n",
        "log_likelihood <- function(params, data) {\n",
        "  beta <- params[1:6]  # 8 coefficients for predictors + intercept\n",
        "  alpha <- params[7:8]  # Two thresholds\n",
        "\n",
        "  # Define predictor matrix X (5 predictors plus intercept)\n",
        "  X <- as.matrix(data[, c(\"X1\", \"X2\", \"X3\", \"X4\", \"land_type_numeric\")])\n",
        "\n",
        "  response <- factor(data$response, levels = c(\"Low\", \"Moderate\", \"High\"))\n",
        "\n",
        "  # Calculate cumulative probabilities\n",
        "  probs <- cumulative_probs(X, beta, alpha)\n",
        "\n",
        "  # Compute log likelihood\n",
        "  ll <- sum(log(ifelse(response == \"Low\", probs[, 1],\n",
        "                ifelse(response == \"Moderate\", probs[, 2],\n",
        "                       probs[, 3]))))\n",
        "  return(-ll)  # Return negative log-likelihood for minimization\n",
        "}"
      ],
      "metadata": {
        "id": "wtf7Kpf5CX-L"
      },
      "execution_count": 6,
      "outputs": []
    },
    {
      "cell_type": "markdown",
      "source": [
        "### Fit the model"
      ],
      "metadata": {
        "id": "trbkXbFcCb_v"
      }
    },
    {
      "cell_type": "code",
      "source": [
        "%%R\n",
        "# Step 3: Fit the Model\n",
        "\n",
        "# Function to fit the model using optim\n",
        "fit_model <- function(data) {\n",
        "  init_params <- rep(0, 8)  # 8 for beta (including intercept) and 2 thresholds\n",
        "  result <- optim(init_params, log_likelihood, data = data, method = \"BFGS\", hessian = TRUE)\n",
        "  return(result)\n",
        "}\n",
        "\n",
        "# Fit the model\n",
        "model_fit <- fit_model(data)\n",
        "model_fit$par  # Model coefficients (beta) and thresholds (alpha)"
      ],
      "metadata": {
        "colab": {
          "base_uri": "https://localhost:8080/"
        },
        "id": "pM0wz_fVCeqM",
        "outputId": "907a39e4-48f6-4114-dd6c-c1e5f7b42bf2"
      },
      "execution_count": 7,
      "outputs": [
        {
          "output_type": "stream",
          "name": "stdout",
          "text": [
            "[1]  4.314075699 -0.982913650  0.524043957  0.042348956 -0.009382339\n",
            "[6] -1.523786205 -8.913837528  4.599729893\n"
          ]
        }
      ]
    },
    {
      "cell_type": "markdown",
      "source": [
        "### Extract Coefficients and Compute Standard Errors"
      ],
      "metadata": {
        "id": "BUCxkanPCjVP"
      }
    },
    {
      "cell_type": "code",
      "source": [
        "%%R\n",
        "# Step 4: Extract Coefficients and Compute Standard Errors\n",
        "\n",
        "# Compute the Hessian matrix and standard errors\n",
        "hessian_matrix <- model_fit$hessian\n",
        "standard_errors <- sqrt(diag(solve(hessian_matrix)))\n",
        "standard_errors"
      ],
      "metadata": {
        "colab": {
          "base_uri": "https://localhost:8080/"
        },
        "id": "6EtpH9nlCkac",
        "outputId": "3dcf370f-e742-4f80-fa3f-f2ef1f0d4c8c"
      },
      "execution_count": 8,
      "outputs": [
        {
          "output_type": "stream",
          "name": "stdout",
          "text": [
            "[1]       NaN 0.2382101 0.2000665 0.2103150 0.1922551 0.4043306       NaN\n",
            "[8]       NaN\n"
          ]
        }
      ]
    },
    {
      "cell_type": "markdown",
      "source": [
        "### Create a Summary Table"
      ],
      "metadata": {
        "id": "RWch5OPiCp2h"
      }
    },
    {
      "cell_type": "code",
      "source": [
        "%%R\n",
        "# Step 5: Create a Summary Table\n",
        "\n",
        "# Coefficients and standard errors\n",
        "coefficients <- model_fit$par\n",
        "t_values <- coefficients / standard_errors\n",
        "p_values <- 2 * (1 - pnorm(abs(t_values)))  # Two-tailed p-values\n",
        "\n",
        "# Summary table\n",
        "summary_table <- data.frame(\n",
        "  Value = coefficients,\n",
        "  Std_Error = standard_errors,\n",
        "  t_value = t_values,\n",
        "  p_value = p_values\n",
        ")\n",
        "\n",
        "rownames(summary_table) <- c(paste(\"X\", 1:4, sep = \"\"), \"land_high\", \"Intercept\", \"alpha_1\", \"alpha_2\")\n",
        "summary_table"
      ],
      "metadata": {
        "colab": {
          "base_uri": "https://localhost:8080/"
        },
        "id": "twKxmrvmCu7Y",
        "outputId": "4e6dafc6-c59e-4d22-e181-99f771e0aaef"
      },
      "execution_count": 9,
      "outputs": [
        {
          "output_type": "stream",
          "name": "stdout",
          "text": [
            "                 Value Std_Error    t_value      p_value\n",
            "X1         4.314075699       NaN        NaN          NaN\n",
            "X2        -0.982913650 0.2382101 -4.1262462 3.687325e-05\n",
            "X3         0.524043957 0.2000665  2.6193491 8.809775e-03\n",
            "X4         0.042348956 0.2103150  0.2013596 8.404174e-01\n",
            "land_high -0.009382339 0.1922551 -0.0488015 9.610775e-01\n",
            "Intercept -1.523786205 0.4043306 -3.7686644 1.641233e-04\n",
            "alpha_1   -8.913837528       NaN        NaN          NaN\n",
            "alpha_2    4.599729893       NaN        NaN          NaN\n"
          ]
        }
      ]
    },
    {
      "cell_type": "markdown",
      "source": [
        "### Calculate Odds Ratios and Confidence Intervals\n"
      ],
      "metadata": {
        "id": "Il-UfaHTDD8M"
      }
    },
    {
      "cell_type": "code",
      "source": [
        "%%R\n",
        "# Step 6: Calculate Odds Ratios and Confidence Intervals\n",
        "\n",
        "# Calculate odds ratios and CI\n",
        "odds_ratios <- exp(coefficients)\n",
        "ci_lower <- exp(coefficients - 1.96 * standard_errors)\n",
        "ci_upper <- exp(coefficients + 1.96 * standard_errors)\n",
        "\n",
        "# Create a table for odds ratios and CI\n",
        "odds_ratios_table <- data.frame(\n",
        "  Odds_Ratio = odds_ratios,\n",
        "  CI_Lower = ci_lower,\n",
        "  CI_Upper = ci_upper\n",
        ")\n",
        "\n",
        "rownames(odds_ratios_table) <- rownames(summary_table)\n",
        "odds_ratios_table"
      ],
      "metadata": {
        "colab": {
          "base_uri": "https://localhost:8080/"
        },
        "id": "3n5SVjsoDGw2",
        "outputId": "23b8d511-f259-4222-bc05-203144939586"
      },
      "execution_count": 10,
      "outputs": [
        {
          "output_type": "stream",
          "name": "stdout",
          "text": [
            "            Odds_Ratio   CI_Lower  CI_Upper\n",
            "X1        7.474451e+01        NaN       NaN\n",
            "X2        3.742192e-01 0.23461591 0.5968904\n",
            "X3        1.688843e+00 1.14100979 2.4997089\n",
            "X4        1.043258e+00 0.69082517 1.5754901\n",
            "land_high 9.906615e-01 0.67963296 1.4440298\n",
            "Intercept 2.178854e-01 0.09864043 0.4812837\n",
            "alpha_1   1.345146e-04        NaN       NaN\n",
            "alpha_2   9.945745e+01        NaN       NaN\n"
          ]
        }
      ]
    },
    {
      "cell_type": "markdown",
      "source": [
        "### Cross validation\n",
        "\n",
        "To evaluate the model's performance using cross-validation, we’ll use k-fold cross-validation, where we split the data into k folds, train on k-1 folds, and test on the remaining fold. We repeat this process k times, each time using a different fold as the test set, and then compute the average accuracy across all folds."
      ],
      "metadata": {
        "id": "PDrwl0YBDKdW"
      }
    },
    {
      "cell_type": "code",
      "source": [
        "%%R\n",
        "# Load required package for sampling\n",
        "if (!require(numDeriv)) install.packages(\"numDeriv\")\n",
        "\n",
        "# Function to calculate accuracy\n",
        "calculate_accuracy <- function(true_labels, predicted_labels) {\n",
        "  mean(true_labels == predicted_labels)\n",
        "}\n",
        "\n",
        "# Define the model fitting function\n",
        "fit_model <- function(data) {\n",
        "  init_params <- rep(0, 8)  # 8 for beta (including intercept) and 2 thresholds\n",
        "  result <- optim(init_params, log_likelihood, data = data, method = \"BFGS\", hessian = TRUE)\n",
        "  return(result)\n",
        "}\n",
        "\n",
        "# Define the prediction function\n",
        "predict_ordinal <- function(test_data, params) {\n",
        "  beta <- params[1:6]  # Coefficients for predictors + intercept\n",
        "  alpha <- params[7:8]  # Thresholds\n",
        "\n",
        "  # Define predictor matrix X for test data\n",
        "  X <- as.matrix(test_data[, c(\"X1\", \"X2\", \"X3\", \"X4\",  \"land_type_numeric\")])\n",
        "\n",
        "  # Compute cumulative probabilities\n",
        "  eta <- cbind(1, X) %*% beta  # Linear predictor with intercept\n",
        "  prob_low <- 1 / (1 + exp(-(eta - alpha[1])))\n",
        "  prob_moderate <- prob_low / (1 + exp(-(eta - alpha[2])))\n",
        "  prob_high <- 1 - prob_moderate\n",
        "\n",
        "  # Combine probabilities into a matrix\n",
        "  probs <- cbind(prob_low, prob_moderate, prob_high)\n",
        "\n",
        "  # Assign predicted category based on max probability\n",
        "  predictions <- apply(probs, 1, function(row) {\n",
        "    if (row[1] >= row[2] && row[1] >= row[3]) {\n",
        "      \"Low\"\n",
        "    } else if (row[2] >= row[1] && row[2] >= row[3]) {\n",
        "      \"Moderate\"\n",
        "    } else {\n",
        "      \"High\"\n",
        "    }\n",
        "  })\n",
        "  return(predictions)\n",
        "}\n",
        "\n",
        "# Function for k-fold cross-validation\n",
        "k_fold_cv <- function(data, k = 5) {\n",
        "  n <- nrow(data)\n",
        "  fold_size <- floor(n / k)\n",
        "  indices <- sample(1:n)\n",
        "\n",
        "  accuracies <- c()  # Store accuracy for each fold\n",
        "\n",
        "  for (i in 1:k) {\n",
        "    # Create training and validation sets\n",
        "    val_indices <- indices[((i - 1) * fold_size + 1):(i * fold_size)]\n",
        "    train_indices <- setdiff(indices, val_indices)\n",
        "\n",
        "    train_data <- data[train_indices, ]\n",
        "    val_data <- data[val_indices, ]\n",
        "\n",
        "    # Fit the model on the training set\n",
        "    fold_fit <- fit_model(train_data)\n",
        "\n",
        "    # Predict on validation set\n",
        "    val_predictions <- predict_ordinal(val_data, fold_fit$par)\n",
        "\n",
        "    # Calculate accuracy for the current fold\n",
        "    fold_accuracy <- calculate_accuracy(val_data$response, val_predictions)\n",
        "    accuracies <- c(accuracies, fold_accuracy)\n",
        "  }\n",
        "\n",
        "  # Return the average cross-validation accuracy\n",
        "  cv_accuracy <- mean(accuracies)\n",
        "  return(cv_accuracy)\n",
        "}\n",
        "\n",
        "# Perform 5-fold cross-validation on the entire dataset\n",
        "set.seed(123)\n",
        "cv_accuracy <- k_fold_cv(data, k = 5)\n",
        "print(paste(\"5-Fold Cross-Validation Accuracy:\", round(cv_accuracy * 100, 2), \"%\"))\n"
      ],
      "metadata": {
        "colab": {
          "base_uri": "https://localhost:8080/"
        },
        "id": "Z75TiSRwDNEv",
        "outputId": "1882cef7-6ff6-45dd-c516-e33e1c4003b6"
      },
      "execution_count": 11,
      "outputs": [
        {
          "output_type": "stream",
          "name": "stdout",
          "text": [
            "[1] \"5-Fold Cross-Validation Accuracy: 11.5 %\"\n"
          ]
        }
      ]
    },
    {
      "cell_type": "markdown",
      "source": [
        "## Fit Ordinal Logistic Regression in R"
      ],
      "metadata": {
        "id": "vlP0SnWIBO0Q"
      }
    },
    {
      "cell_type": "markdown",
      "source": [
        "### Check and Install Required R Packages"
      ],
      "metadata": {
        "id": "OMPKY7UvM2N8"
      }
    },
    {
      "cell_type": "code",
      "source": [
        "%%R\n",
        "pkg <- c('tidyverse',\n",
        "     'plyr',\n",
        "\t\t 'gt',\n",
        "\t\t 'rstatix',\n",
        "\t\t 'gtsummary',\n",
        "\t\t 'report',\n",
        "\t\t 'performance',\n",
        "\t\t 'jtools',\n",
        "\t\t 'margins',\n",
        "\t\t 'marginaleffects',\n",
        "\t\t 'ggeffects',\n",
        "\t\t 'patchwork',\n",
        "\t\t 'Metrics',\n",
        "\t\t 'ggpmisc',\n",
        "\t\t 'caret',\n",
        "\t\t 'tidymodels',\n",
        "\t\t 'metrica',\n",
        "\t\t 'RColorBrewer',\n",
        "\t\t 'MASS',\n",
        "     'generalhoslem'\n",
        "\t\t )\n",
        "new.packages <- pkg[!(pkg %in% installed.packages(lib='drive/My Drive/R/')[,\"Package\"])]\n",
        "if(length(new.packages)) install.packages(new.packages, lib='drive/My Drive/R/')"
      ],
      "metadata": {
        "id": "tAmJREXmM2YP"
      },
      "execution_count": null,
      "outputs": []
    },
    {
      "cell_type": "markdown",
      "source": [
        "### Load packages"
      ],
      "metadata": {
        "id": "nMQai29xNYRy"
      }
    },
    {
      "cell_type": "code",
      "source": [
        "%%R\n",
        "# set library path\n",
        ".libPaths('drive/My Drive/R')\n",
        "suppressPackageStartupMessages(library(tidyverse))\n",
        "suppressPackageStartupMessages(library(plyr))\n",
        "library(tidyverse)\n",
        "library(plyr)\n",
        "library(gt)\n",
        "library(rstatix)\n",
        "library(gtsummary)\n",
        "library(report)\n",
        "library(performance)\n",
        "library(jtools)\n",
        "library(margins)\n",
        "library(marginaleffects)\n",
        "library(ggeffects)\n",
        "library(patchwork)\n",
        "library(Metrics)\n",
        "library(ggpmisc)\n",
        "library(RColorBrewer)\n",
        "library(MASS)\n",
        "library(generalhoslem)"
      ],
      "metadata": {
        "id": "XZeYlKM9NYhx"
      },
      "execution_count": null,
      "outputs": []
    },
    {
      "cell_type": "markdown",
      "source": [
        "### Data\n",
        "\n",
        "Our goal is to develop a Ordinal regression model to predict ordinal class of paddy soil arsenic (non-contaminated, moderately-contaminated and highly-contaminated ) using selected irrigation water and soil properties. We have available data of 263 paired groundwater and paddy soil samples from arsenic contaminated areas in Tala Upazilla, Satkhira district, Bangladesh. This data was utilized in a publication titled \"Factors Affecting Paddy Soil Arsenic Concentration in Bangladesh: Prediction and Uncertainty of Geostatistical Risk Mapping\" which can be accessed via the this [URL](https://doi.org/10.1016/j.scitotenv.2011.10.008)\n",
        "\n",
        "Full data set is available for download can download from my [Dropbox](https://www.dropbox.com/scl/fo/2rh6r68i9cxmgortvbw8q/h?rlkey=bvntt66n9mcywprmdki08ch3r&dl=0) or from my [Github](https://github.com/zia207/r-colab/tree/main/Data/Regression_analysis) accounts.\n",
        "\n",
        "We will use `read_csv()` function of **readr** package to import data as a **tidy** data."
      ],
      "metadata": {
        "id": "q5hd8qgrCx4Z"
      }
    },
    {
      "cell_type": "code",
      "source": [
        "%%R\n",
        "mf<-read_csv(\"https://github.com/zia207/r-colab/raw/main/Data/Regression_analysis/bd_soil_arsenic.csv\") |>\n",
        "glimpse()"
      ],
      "metadata": {
        "colab": {
          "base_uri": "https://localhost:8080/"
        },
        "id": "2ph3ubD_C1WL",
        "outputId": "78b4c183-b51a-4438-e47c-53618866699a"
      },
      "execution_count": 13,
      "outputs": [
        {
          "output_type": "stream",
          "name": "stdout",
          "text": [
            "Rows: 263 Columns: 29\n",
            "── Column specification ────────────────────────────────────────────────────────\n",
            "Delimiter: \",\"\n",
            "chr  (1): Land_type\n",
            "dbl (28): ID, Longitude, Latitude, WAs, WP, WFe, WEc, WpH, WMg, WNa, WCa, WK...\n",
            "\n",
            "ℹ Use `spec()` to retrieve the full column specification for this data.\n",
            "ℹ Specify the column types or set `show_col_types = FALSE` to quiet this message.\n",
            "Rows: 263\n",
            "Columns: 29\n",
            "$ ID              <dbl> 1, 2, 3, 4, 5, 6, 7, 8, 9, 10, 11, 12, 13, 14, 15, 16,…\n",
            "$ Longitude       <dbl> 89.1134, 89.1232, 89.1281, 89.1296, 89.1312, 89.1305, …\n",
            "$ Latitude        <dbl> 22.7544, 22.7576, 22.7499, 22.7568, 22.7366, 22.7297, …\n",
            "$ WAs             <dbl> 0.059, 0.059, 0.079, 0.122, 0.072, 0.042, 0.075, 0.064…\n",
            "$ WP              <dbl> 0.761, 1.194, 1.317, 1.545, 0.966, 1.058, 0.868, 0.890…\n",
            "$ WFe             <dbl> 3.44, 4.93, 9.70, 8.58, 4.78, 6.95, 7.81, 8.14, 8.99, …\n",
            "$ WEc             <dbl> 1.03, 1.07, 1.40, 0.83, 1.42, 1.82, 1.71, 1.74, 1.57, …\n",
            "$ WpH             <dbl> 7.03, 7.06, 6.84, 6.85, 6.95, 6.89, 6.86, 6.98, 6.82, …\n",
            "$ WMg             <dbl> 33.9, 34.1, 40.5, 28.4, 43.4, 43.2, 50.1, 51.5, 48.2, …\n",
            "$ WNa             <dbl> 69.4, 74.6, 89.4, 22.8, 93.0, 165.7, 110.5, 127.0, 96.…\n",
            "$ WCa             <dbl> 99.1, 94.3, 133.9, 103.8, 130.5, 153.3, 172.0, 163.2, …\n",
            "$ WK              <dbl> 5.3, 5.7, 6.0, 4.0, 5.3, 6.5, 5.9, 6.4, 6.5, 3.7, 4.4,…\n",
            "$ WS              <dbl> 2.936, 2.826, 2.307, 1.012, 2.511, 2.764, 2.792, 1.562…\n",
            "$ SAs             <dbl> 29.10, 45.10, 23.20, 23.80, 26.00, 25.60, 26.30, 31.60…\n",
            "$ SPAs            <dbl> 9.890, 10.700, 5.869, 6.031, 6.627, 9.530, 6.708, 8.63…\n",
            "$ SAoAs           <dbl> 13.280, 21.900, 12.266, 12.596, 13.805, 13.585, 13.969…\n",
            "$ SAoFe           <dbl> 2500, 2670, 2160, 2500, 2060, 2500, 2520, 2140, 2150, …\n",
            "$ SpH             <dbl> 7.74, 7.87, 8.03, 8.07, 7.81, 7.77, 7.66, 7.89, 8.00, …\n",
            "$ SEc             <dbl> 1.128, 1.021, 1.257, 1.067, 1.354, 1.442, 1.428, 1.385…\n",
            "$ SOC             <dbl> 1.66, 1.26, 1.36, 1.61, 1.26, 1.74, 1.71, 1.69, 1.41, …\n",
            "$ SP              <dbl> 13.79, 15.31, 15.54, 16.28, 14.20, 13.41, 13.26, 14.84…\n",
            "$ Sand            <dbl> 16.3, 11.1, 12.3, 12.7, 12.1, 16.7, 16.8, 13.7, 12.6, …\n",
            "$ Silt            <dbl> 44.8, 48.7, 46.4, 43.6, 50.9, 43.6, 43.4, 40.8, 44.9, …\n",
            "$ Clay            <dbl> 38.9, 40.2, 41.3, 43.7, 37.1, 39.8, 39.8, 45.5, 42.4, …\n",
            "$ Elevation       <dbl> 3, 5, 4, 3, 5, 2, 2, 3, 3, 3, 2, 5, 6, 6, 5, 5, 4, 6, …\n",
            "$ Year_Irrigation <dbl> 14, 20, 10, 8, 10, 9, 8, 10, 8, 2, 20, 4, 15, 10, 5, 4…\n",
            "$ Distance_STW    <dbl> 5, 6, 5, 8, 5, 5, 10, 8, 10, 8, 5, 5, 9, 5, 10, 10, 12…\n",
            "$ Land_type       <chr> \"MHL\", \"MHL\", \"MHL\", \"MHL\", \"MHL\", \"MHL\", \"MHL\", \"MHL\"…\n",
            "$ Land_type_ID    <dbl> 2, 2, 2, 2, 2, 2, 2, 2, 2, 2, 2, 1, 2, 1, 1, 1, 1, 1, …\n"
          ]
        }
      ]
    },
    {
      "cell_type": "markdown",
      "source": [
        "#### Convert continuous variables into ordinal variables\n",
        "An ordinal variable is a type of categorical variable in which the categories have a natural order or hierarchy. Unlike interval or ratio variables, the intervals between the categories are not necessarily equal or measurable. This means that while the categories have a meaningful sequence or ranking, the differences between the categories may not be consistent or quantifiable.\n",
        "\n",
        "We will convert `Soil As (SAs)` into three classes:\n",
        "\n",
        "A. Non-contaminated, SAs \\< 14.8 mg/kg\n",
        "\n",
        "B. Moderately-contaminated, SAs 14.8 - 20 mg/kg\n",
        "\n",
        "C. Highly-contaminated: SAs \\> 20 mg/kg\n",
        "\n",
        "-   14.8 mg/kg is the upper baseline soil arsenic concentration for Bangladesh [(Ahmed et al, 2011)](https://www.sciencedirect.com/science/article/pii/S0048969711011661?via%3Dihub)\n",
        "\n",
        "-   20 mg/kg is the permissible limits of arsenic in agricultural soil [(A Heikens, 2006)](https://agris.fao.org/search/en/providers/122621/records/6472474853aa8c8963049da2)\n",
        "\n"
      ],
      "metadata": {
        "id": "0tTLUEkdItLN"
      }
    },
    {
      "cell_type": "code",
      "source": [
        "%%R\n",
        "mf$Class_As<- cut(mf$SAs,\n",
        "                   breaks=c(-Inf, 14.8, 20,  Inf),\n",
        "                   labels=c(\"Non-contaminated\",\n",
        "                            \"Moderately-contaminated\",\n",
        "                            \"Highly-contaminated\"))"
      ],
      "metadata": {
        "id": "XCMe3RP5e4JK"
      },
      "execution_count": 14,
      "outputs": []
    },
    {
      "cell_type": "markdown",
      "source": [
        "#### Data Processing"
      ],
      "metadata": {
        "id": "T-kgIRXnfJoi"
      }
    },
    {
      "cell_type": "code",
      "source": [
        "%%R\n",
        "df <- mf |>\n",
        "  # select variables\n",
        "  dplyr::select (WAs,  WFe,\n",
        "                SOC, SAoFe,\n",
        "                Year_Irrigation, Distance_STW,\n",
        "                Land_type, Class_As) |>\n",
        "   # convert to factor\n",
        "   dplyr::mutate_at(vars(Land_type), funs(factor))  |>\n",
        "   dplyr::mutate_at(vars(Class_As), funs(factor))  |>\n",
        "   # normalize the all numerical features\n",
        "   #dplyr::mutate_at(1:14,  funs((.-min(.))/max(.-min(.)))) |>\n",
        "   glimpse()"
      ],
      "metadata": {
        "colab": {
          "base_uri": "https://localhost:8080/"
        },
        "id": "OVc1VRBeIwcQ",
        "outputId": "c36af14c-210e-4d15-b0a7-9a5ef895dbf1"
      },
      "execution_count": 15,
      "outputs": [
        {
          "output_type": "stream",
          "name": "stdout",
          "text": [
            "Rows: 263\n",
            "Columns: 8\n",
            "$ WAs             <dbl> 0.059, 0.059, 0.079, 0.122, 0.072, 0.042, 0.075, 0.064…\n",
            "$ WFe             <dbl> 3.44, 4.93, 9.70, 8.58, 4.78, 6.95, 7.81, 8.14, 8.99, …\n",
            "$ SOC             <dbl> 1.66, 1.26, 1.36, 1.61, 1.26, 1.74, 1.71, 1.69, 1.41, …\n",
            "$ SAoFe           <dbl> 2500, 2670, 2160, 2500, 2060, 2500, 2520, 2140, 2150, …\n",
            "$ Year_Irrigation <dbl> 14, 20, 10, 8, 10, 9, 8, 10, 8, 2, 20, 4, 15, 10, 5, 4…\n",
            "$ Distance_STW    <dbl> 5, 6, 5, 8, 5, 5, 10, 8, 10, 8, 5, 5, 9, 5, 10, 10, 12…\n",
            "$ Land_type       <fct> MHL, MHL, MHL, MHL, MHL, MHL, MHL, MHL, MHL, MHL, MHL,…\n",
            "$ Class_As        <fct> Highly-contaminated, Highly-contaminated, Highly-conta…\n"
          ]
        }
      ]
    },
    {
      "cell_type": "markdown",
      "source": [
        "#### Split Data"
      ],
      "metadata": {
        "id": "irYGsm-Dh4xs"
      }
    },
    {
      "cell_type": "code",
      "source": [
        "%%R\n",
        "seeds = 11076\n",
        "tr_prop = 0.70\n",
        "# training data (70% data)\n",
        "train= ddply(df,.(Land_type, Class_As),\n",
        "                 function(., seed) { set.seed(seed); .[sample(1:nrow(.), trunc(nrow(.) * tr_prop)), ] }, seed = 101)\n",
        "test = ddply(df, .(Land_type, Class_As),\n",
        "            function(., seed) { set.seed(seed); .[-sample(1:nrow(.), trunc(nrow(.) * tr_prop)), ] }, seed = 101)\n",
        "print(prop.table(table(train$Class_As)))\n",
        "print(prop.table(table(test$Class_As)))"
      ],
      "metadata": {
        "colab": {
          "base_uri": "https://localhost:8080/"
        },
        "id": "Hl-b7QO-h5Al",
        "outputId": "bcfa198c-83e7-4900-bc53-66cf8e60b2db"
      },
      "execution_count": 17,
      "outputs": [
        {
          "output_type": "stream",
          "name": "stdout",
          "text": [
            "\n",
            "       Non-contaminated Moderately-contaminated     Highly-contaminated \n",
            "              0.3571429               0.3186813               0.3241758 \n",
            "\n",
            "       Non-contaminated Moderately-contaminated     Highly-contaminated \n",
            "              0.3456790               0.3333333               0.3209877 \n"
          ]
        }
      ]
    },
    {
      "cell_type": "markdown",
      "source": [
        "### Fit an Ordinal Regression Model\n",
        "\n",
        "We'll use the `polr()` function from the {MASS} package to fit the model. nclude the `Hess=TRUE` option to speed up subsequent calls to `summary()`.\n",
        "\n"
      ],
      "metadata": {
        "id": "P3o8Ay9miNcO"
      }
    },
    {
      "cell_type": "markdown",
      "source": [
        "###  Only Intercept model"
      ],
      "metadata": {
        "id": "QELT_e_jqZ_S"
      }
    },
    {
      "cell_type": "code",
      "source": [
        "%%R\n",
        "inter.ordinal<-MASS::polr(Class_As~1, data= train,\n",
        "             Hess = TRUE)\n",
        "summary(inter.ordinal)"
      ],
      "metadata": {
        "id": "do4-RiQYiQmN",
        "colab": {
          "base_uri": "https://localhost:8080/"
        },
        "outputId": "d71f7133-6c70-492d-8822-fa072c8ac1d5"
      },
      "execution_count": 18,
      "outputs": [
        {
          "output_type": "stream",
          "name": "stdout",
          "text": [
            "Call:\n",
            "MASS::polr(formula = Class_As ~ 1, data = train, Hess = TRUE)\n",
            "\n",
            "No coefficients\n",
            "\n",
            "Intercepts:\n",
            "                                            Value   Std. Error t value\n",
            "Non-contaminated|Moderately-contaminated    -0.5878  0.1547    -3.7996\n",
            "Moderately-contaminated|Highly-contaminated  0.7346  0.1584     4.6390\n",
            "\n",
            "Residual Deviance: 399.4273 \n",
            "AIC: 403.4273 \n"
          ]
        }
      ]
    },
    {
      "cell_type": "markdown",
      "source": [
        "### Full Model"
      ],
      "metadata": {
        "id": "g4bXzeXyqm7A"
      }
    },
    {
      "cell_type": "code",
      "source": [
        "%%R\n",
        "fit.ordinal<-MASS::polr(Class_As~., data= train,\n",
        "             Hess = TRUE)\n",
        "summary(fit.ordinal)"
      ],
      "metadata": {
        "colab": {
          "base_uri": "https://localhost:8080/"
        },
        "id": "X0nbYHoSiUku",
        "outputId": "c284cc0c-409f-457a-bd3e-34805b55d1b1"
      },
      "execution_count": 19,
      "outputs": [
        {
          "output_type": "stream",
          "name": "stdout",
          "text": [
            "Call:\n",
            "MASS::polr(formula = Class_As ~ ., data = train, Hess = TRUE)\n",
            "\n",
            "Coefficients:\n",
            "                     Value Std. Error   t value\n",
            "WAs              8.2100291  0.0073951 1110.1914\n",
            "WFe              0.2397744  0.0802218    2.9889\n",
            "SOC              0.7810803  0.1105390    7.0661\n",
            "SAoFe           -0.0001683  0.0002327   -0.7234\n",
            "Year_Irrigation  0.2510165  0.0415561    6.0404\n",
            "Distance_STW    -0.0839475  0.0290958   -2.8852\n",
            "Land_typeMHL     1.3472085  0.3079710    4.3745\n",
            "\n",
            "Intercepts:\n",
            "                                            Value     Std. Error t value  \n",
            "Non-contaminated|Moderately-contaminated       3.6078    0.0209   172.7367\n",
            "Moderately-contaminated|Highly-contaminated    5.8488    0.2641    22.1454\n",
            "\n",
            "Residual Deviance: 284.2497 \n",
            "AIC: 302.2497 \n"
          ]
        }
      ]
    },
    {
      "cell_type": "markdown",
      "source": [
        "### Check the Overall Model Fit"
      ],
      "metadata": {
        "id": "We-TGcfurJNG"
      }
    },
    {
      "cell_type": "markdown",
      "source": [
        "We can see that the `Preg` coefficient is 0.062. Here we can infer that for each unit increase in Preg, the predicted probability of having dibetes increases by a factor of exp(0.062) = 1.06, or about 6%. This effect is statistically significant with a p-value of 0.00805."
      ],
      "metadata": {
        "id": "S8gSX3FPQ8TL"
      }
    },
    {
      "cell_type": "code",
      "source": [
        "%%R\n",
        "anova(inter.ordinal,fit.ordinal)"
      ],
      "metadata": {
        "colab": {
          "base_uri": "https://localhost:8080/"
        },
        "id": "xCUQFoWbQ-y-",
        "outputId": "5d8eb365-3ad2-4548-9ee1-c44205f689e8"
      },
      "execution_count": 20,
      "outputs": [
        {
          "output_type": "stream",
          "name": "stdout",
          "text": [
            "Likelihood ratio tests of ordinal regression models\n",
            "\n",
            "Response: Class_As\n",
            "                                                                 Model\n",
            "1                                                                    1\n",
            "2 WAs + WFe + SOC + SAoFe + Year_Irrigation + Distance_STW + Land_type\n",
            "  Resid. df Resid. Dev   Test    Df LR stat. Pr(Chi)\n",
            "1       180   399.4273                              \n",
            "2       173   284.2497 1 vs 2     7 115.1776       0\n"
          ]
        }
      ]
    },
    {
      "cell_type": "markdown",
      "source": [
        "From the above output, you see that the chi-square is 284.2497 and p = <0.0001. This means that you can reject the null hypothesis that the model without predictors is as good as the model with the predictors"
      ],
      "metadata": {
        "id": "7kH1Yp8rrPRS"
      }
    },
    {
      "cell_type": "markdown",
      "source": [
        "### Goodness of Fit Tests\n",
        "\n",
        "The Lipsitz goodness-of-fit test is a statistical tool used to determine how well a logistic regression model predicts binary outcomes. It checks if the observed frequencies of the outcome variable in the sample align with the expected frequencies predicted by the logistic regression model."
      ],
      "metadata": {
        "id": "xwP9UPY_RC4h"
      }
    },
    {
      "cell_type": "code",
      "source": [
        "%%R\n",
        "generalhoslem::lipsitz.test(fit.ordinal)"
      ],
      "metadata": {
        "colab": {
          "base_uri": "https://localhost:8080/"
        },
        "id": "Vf4SiIA1RDqG",
        "outputId": "41b5ec2d-aa16-43a4-d12a-7402f4e0a406"
      },
      "execution_count": 21,
      "outputs": [
        {
          "output_type": "stream",
          "name": "stdout",
          "text": [
            "\n",
            "\tLipsitz goodness of fit test for ordinal response models\n",
            "\n",
            "data:  formula:  Class_As ~ WAs + WFe + SOC + SAoFe + Year_Irrigation + Distance_STW + formula:      Land_type\n",
            "LR statistic = 17.772, df = 9, p-value = 0.03792\n",
            "\n"
          ]
        }
      ]
    },
    {
      "cell_type": "markdown",
      "source": [
        "### Calculate p-values\n",
        "\n",
        "In a summary output or an ordinal model, `p-values` are not provided. One way to calculate a `p-values` is by comparing the `t-value` against the standard normal distribution, similar to a `z test`. However, this is only accurate with infinite degrees of freedom, but it can be reasonably approximated by large samples. The accuracy decreases as the sample size decreases."
      ],
      "metadata": {
        "id": "6gN-90d3rYsr"
      }
    },
    {
      "cell_type": "code",
      "source": [
        "%%R\n",
        "ctable<-coef(summary(fit.ordinal))\n",
        "ctable"
      ],
      "metadata": {
        "colab": {
          "base_uri": "https://localhost:8080/"
        },
        "id": "QT2f1T6ArZr5",
        "outputId": "33b72a6d-22d7-4119-e9de-6b6856abd8f8"
      },
      "execution_count": 23,
      "outputs": [
        {
          "output_type": "stream",
          "name": "stdout",
          "text": [
            "                                                    Value   Std. Error\n",
            "WAs                                          8.2100290729 0.0073951477\n",
            "WFe                                          0.2397744379 0.0802217845\n",
            "SOC                                          0.7810803115 0.1105389702\n",
            "SAoFe                                       -0.0001683201 0.0002326754\n",
            "Year_Irrigation                              0.2510164625 0.0415561033\n",
            "Distance_STW                                -0.0839474818 0.0290957745\n",
            "Land_typeMHL                                 1.3472085066 0.3079710144\n",
            "Non-contaminated|Moderately-contaminated     3.6077944236 0.0208860867\n",
            "Moderately-contaminated|Highly-contaminated  5.8487789533 0.2641078579\n",
            "                                                 t value\n",
            "WAs                                         1110.1913577\n",
            "WFe                                            2.9888943\n",
            "SOC                                            7.0661081\n",
            "SAoFe                                         -0.7234113\n",
            "Year_Irrigation                                6.0404235\n",
            "Distance_STW                                  -2.8852121\n",
            "Land_typeMHL                                   4.3744653\n",
            "Non-contaminated|Moderately-contaminated     172.7367353\n",
            "Moderately-contaminated|Highly-contaminated   22.1454182\n"
          ]
        }
      ]
    },
    {
      "cell_type": "code",
      "source": [
        "%%R\n",
        "p <- pnorm(abs(ctable[, \"t value\"]), lower.tail = FALSE) * 2\n",
        "## combined table\n",
        "ctable <- cbind(ctable, \"p value\" = p)\n",
        "ctable"
      ],
      "metadata": {
        "colab": {
          "base_uri": "https://localhost:8080/"
        },
        "id": "Pj9YAgo4rgP7",
        "outputId": "b52ce7ac-13ab-448c-ff7d-aecd2c2d2d7e"
      },
      "execution_count": 24,
      "outputs": [
        {
          "output_type": "stream",
          "name": "stdout",
          "text": [
            "                                                    Value   Std. Error\n",
            "WAs                                          8.2100290729 0.0073951477\n",
            "WFe                                          0.2397744379 0.0802217845\n",
            "SOC                                          0.7810803115 0.1105389702\n",
            "SAoFe                                       -0.0001683201 0.0002326754\n",
            "Year_Irrigation                              0.2510164625 0.0415561033\n",
            "Distance_STW                                -0.0839474818 0.0290957745\n",
            "Land_typeMHL                                 1.3472085066 0.3079710144\n",
            "Non-contaminated|Moderately-contaminated     3.6077944236 0.0208860867\n",
            "Moderately-contaminated|Highly-contaminated  5.8487789533 0.2641078579\n",
            "                                                 t value       p value\n",
            "WAs                                         1110.1913577  0.000000e+00\n",
            "WFe                                            2.9888943  2.799889e-03\n",
            "SOC                                            7.0661081  1.593393e-12\n",
            "SAoFe                                         -0.7234113  4.694272e-01\n",
            "Year_Irrigation                                6.0404235  1.537103e-09\n",
            "Distance_STW                                  -2.8852121  3.911500e-03\n",
            "Land_typeMHL                                   4.3744653  1.217305e-05\n",
            "Non-contaminated|Moderately-contaminated     172.7367353  0.000000e+00\n",
            "Moderately-contaminated|Highly-contaminated   22.1454182 1.154845e-108\n"
          ]
        }
      ]
    },
    {
      "cell_type": "markdown",
      "source": [
        "### Confidence Intervals\n",
        "\n",
        "We can calculate confidence intervals for the parameter estimates using two methods: profiling the likelihood function or using standard errors and assuming a normal distribution. It's important to note that profiled confidence intervals are not always symmetric, although they are typically close to being symmetric. If the 95% confidence interval does not include 0, the parameter estimate is considered statistically significant."
      ],
      "metadata": {
        "id": "jB1k9SDgRS8S"
      }
    },
    {
      "cell_type": "code",
      "source": [
        "%%R\n",
        "ci <- confint.default(fit.ordinal)\n",
        "ci"
      ],
      "metadata": {
        "colab": {
          "base_uri": "https://localhost:8080/"
        },
        "id": "ZiOc3yxBRVgK",
        "outputId": "69b02b28-b7d1-4c8e-ffda-33d9a51c9140"
      },
      "execution_count": 25,
      "outputs": [
        {
          "output_type": "stream",
          "name": "stdout",
          "text": [
            "                        2.5 %        97.5 %\n",
            "WAs              8.1955348497  8.2245232960\n",
            "WFe              0.0825426294  0.3970062464\n",
            "SOC              0.5644279111  0.9977327120\n",
            "SAoFe           -0.0006243555  0.0002877154\n",
            "Year_Irrigation  0.1695679968  0.3324649283\n",
            "Distance_STW    -0.1409741519 -0.0269208117\n",
            "Land_typeMHL     0.7435964101  1.9508206031\n"
          ]
        }
      ]
    },
    {
      "cell_type": "markdown",
      "source": [
        "The coefficients in the model can be hard to understand because they are scaled in logs. Another way to interpret logistic regression models is to change the coefficients into odds ratios. To find the odds ratio and confidence intervals, we just need to raise the estimates and confidence intervals to the power of the mathematical constant e."
      ],
      "metadata": {
        "id": "_g7sgtuCs2Sz"
      }
    },
    {
      "cell_type": "code",
      "source": [
        "%%R\n",
        "exp(cbind(OR = coef(fit.ordinal), ci))"
      ],
      "metadata": {
        "colab": {
          "base_uri": "https://localhost:8080/"
        },
        "id": "d4Q1ztpCs5PE",
        "outputId": "e809712b-bb01-4056-8d6e-c21b1f48e684"
      },
      "execution_count": 26,
      "outputs": [
        {
          "output_type": "stream",
          "name": "stdout",
          "text": [
            "                          OR        2.5 %       97.5 %\n",
            "WAs             3677.6493845 3624.7291589 3731.3422335\n",
            "WFe                1.2709624    1.0860450    1.4873652\n",
            "SOC                2.1838302    1.7584415    2.7121257\n",
            "SAoFe              0.9998317    0.9993758    1.0002878\n",
            "Year_Irrigation    1.2853312    1.1847929    1.3944010\n",
            "Distance_STW       0.9194795    0.8685118    0.9734383\n",
            "Land_typeMHL       3.8466726    2.1034869    7.0344577\n"
          ]
        }
      ]
    },
    {
      "cell_type": "markdown",
      "source": [
        "### Interpret the odds ratios\n",
        "\n",
        "-   Exponentiate the coefficient: This converts the log odds ratio to an odds ratio. For example, if the coefficient for WAs is 8.195, the odds ratio associated with a one-unit increase in WAs is $e^{8.195}$\n",
        "\n",
        "-   Interpret the odds ratio: When the odds ratio is greater than 1, it means that for each one-unit increase in the predictor variable, the odds of being in a higher category of the outcome increase by the value of the odds ratio. On the other hand, if the odds ratio is less than 1, it indicates that for each one-unit increase in the predictor variable, the odds of being in a higher category of the outcome decrease by the reciprocal of the odds ratio.\n",
        "\n",
        "-   Check the significance: When interpreting the results, it's important to pay attention to the p-values associated with each coefficient. A p-value that is less than 0.05 suggests that the odds ratio is significantly different from 1, indicating a strong association between the predictor variable and the outcome category. It's crucial to remember that interpretation should always be done in the context of the specific research question and the nature of the data being analyzed.\n"
      ],
      "metadata": {
        "id": "of4mLrHKtEJf"
      }
    },
    {
      "cell_type": "markdown",
      "source": [
        "### Model Performance"
      ],
      "metadata": {
        "id": "7CmlqjQUTi0y"
      }
    },
    {
      "cell_type": "code",
      "source": [
        "%%R\n",
        "performance::performance(fit.ordinal)"
      ],
      "metadata": {
        "colab": {
          "base_uri": "https://localhost:8080/"
        },
        "id": "mAqgMp-1Tk13",
        "outputId": "35366643-7581-4d17-ed61-9bed95f84616"
      },
      "execution_count": 27,
      "outputs": [
        {
          "output_type": "stream",
          "name": "stdout",
          "text": [
            "Can't calculate log-loss.\n"
          ]
        },
        {
          "output_type": "stream",
          "name": "stderr",
          "text": [
            "WARNING:rpy2.rinterface_lib.callbacks:R[write to console]: Can't calculate proper scoring rules for ordinal, multinomial or\n",
            "  cumulative link models.\n",
            "\n"
          ]
        },
        {
          "output_type": "stream",
          "name": "stdout",
          "text": [
            "# Indices of model performance\n",
            "\n",
            "AIC     |    AICc |     BIC | Nagelkerke's R2 |  RMSE | Sigma\n",
            "-------------------------------------------------------------\n",
            "302.250 | 303.296 | 331.086 |           0.528 | 1.848 | 1.274\n"
          ]
        }
      ]
    },
    {
      "cell_type": "markdown",
      "source": [
        "### Fitted values"
      ],
      "metadata": {
        "id": "eqXLP2hitNM3"
      }
    },
    {
      "cell_type": "code",
      "source": [
        "%%R\n",
        "fitted.values<-fit.ordinal$fitted.values\n",
        "head(fitted.values, 20)"
      ],
      "metadata": {
        "colab": {
          "base_uri": "https://localhost:8080/"
        },
        "id": "Y46mbMMPtOGo",
        "outputId": "b6ea20ef-61fe-44dc-e4e5-869e8fc337ec"
      },
      "execution_count": null,
      "outputs": [
        {
          "output_type": "stream",
          "name": "stdout",
          "text": [
            "   Non-contaminated Moderately-contaminated Highly-contaminated\n",
            "1         0.8631759              0.12024519         0.016578893\n",
            "2         0.6867205              0.26700638         0.046273119\n",
            "3         0.6604208              0.28772906         0.051850165\n",
            "4         0.4405685              0.44045199         0.118979552\n",
            "5         0.6660120              0.28335479         0.050633232\n",
            "6         0.9401594              0.05311677         0.006723839\n",
            "7         0.8908071              0.09632412         0.012868814\n",
            "8         0.2634522              0.50735635         0.229191431\n",
            "9         0.8173240              0.15945729         0.023218666\n",
            "10        0.9608080              0.03487248         0.004319498\n",
            "11        0.1295384              0.45366512         0.416796495\n",
            "12        0.6671619              0.28245298         0.050385090\n",
            "13        0.9135657              0.07647223         0.009962105\n",
            "14        0.8958105              0.09197092         0.012218602\n",
            "15        0.9531394              0.04165901         0.005201632\n",
            "16        0.7937733              0.17933834         0.026888327\n",
            "17        0.7784693              0.19215450         0.029376243\n",
            "18        0.9104675              0.07918227         0.010350246\n",
            "19        0.8695899              0.11471089         0.015699192\n",
            "20        0.6293579              0.31169992         0.058942172\n"
          ]
        }
      ]
    },
    {
      "cell_type": "markdown",
      "source": [
        "### Test the goodness of fit"
      ],
      "metadata": {
        "id": "uRQUqoYptUKu"
      }
    },
    {
      "cell_type": "code",
      "source": [
        "%%R\n",
        "chisq.test(train$Class_As,predict(fit.ordinal))"
      ],
      "metadata": {
        "colab": {
          "base_uri": "https://localhost:8080/"
        },
        "id": "R3PLQDqBtWz7",
        "outputId": "78ef03cd-16ed-4803-eda0-bc7d71a1df3b"
      },
      "execution_count": 28,
      "outputs": [
        {
          "output_type": "stream",
          "name": "stdout",
          "text": [
            "\n",
            "\tPearson's Chi-squared test\n",
            "\n",
            "data:  train$Class_As and predict(fit.ordinal)\n",
            "X-squared = 96.166, df = 4, p-value < 2.2e-16\n",
            "\n"
          ]
        }
      ]
    },
    {
      "cell_type": "markdown",
      "source": [
        "### Confussion Matrix\n",
        "\n"
      ],
      "metadata": {
        "id": "MP_KpJx2Tojw"
      }
    },
    {
      "cell_type": "code",
      "source": [
        "%%R\n",
        "predict.train <-  predict(fit.ordinal,train)\n",
        "c.train <- table(train$Class_As,predict.train)\n",
        "c.train"
      ],
      "metadata": {
        "colab": {
          "base_uri": "https://localhost:8080/"
        },
        "id": "K3PtnNqkTqwX",
        "outputId": "6125dab8-4ca3-472f-dbdd-b24c0d3e34eb"
      },
      "execution_count": 29,
      "outputs": [
        {
          "output_type": "stream",
          "name": "stdout",
          "text": [
            "                         predict.train\n",
            "                          Non-contaminated Moderately-contaminated\n",
            "  Non-contaminated                      49                      14\n",
            "  Moderately-contaminated               15                      26\n",
            "  Highly-contaminated                    2                      15\n",
            "                         predict.train\n",
            "                          Highly-contaminated\n",
            "  Non-contaminated                          2\n",
            "  Moderately-contaminated                  17\n",
            "  Highly-contaminated                      42\n"
          ]
        }
      ]
    },
    {
      "cell_type": "markdown",
      "source": [
        "### Misclassification Error"
      ],
      "metadata": {
        "id": "TelI4X-DtqJZ"
      }
    },
    {
      "cell_type": "code",
      "source": [
        "%%R\n",
        "mean(as.character(train$Class_As) != as.character(predict.train))"
      ],
      "metadata": {
        "colab": {
          "base_uri": "https://localhost:8080/"
        },
        "id": "8HGKJ4eqtq_h",
        "outputId": "774abee1-4561-415b-81f5-dd427d56a5a5"
      },
      "execution_count": 30,
      "outputs": [
        {
          "output_type": "stream",
          "name": "stdout",
          "text": [
            "[1] 0.3571429\n"
          ]
        }
      ]
    },
    {
      "cell_type": "markdown",
      "source": [
        "### Marginal Effects and Adjusted Predictions\n",
        "\n",
        "The presentation of regression models, typically in the form of tables, is widely accepted as a clear and accessible method for interpreting results. However, for more intricate models that incorporate interaction or transformed terms, such as quadratic or spline terms, the use of raw regression coefficients may prove less effective, resulting in challenges when interpreting outcomes. In such cases, adjusted predictions or marginal means provide a more fitting solution. The use of visual aids can also assist in the comprehension of such effects or predictions, providing an intuitive understanding of the relationship between predictors and outcomes, even for complex models.\n"
      ],
      "metadata": {
        "id": "mSzqyZq4T1Hz"
      }
    },
    {
      "cell_type": "code",
      "source": [
        "%%R\n",
        "margins::margins(fit.ordinal, variables = \"WAs\")"
      ],
      "metadata": {
        "colab": {
          "base_uri": "https://localhost:8080/"
        },
        "id": "95onO5LfT6eT",
        "outputId": "d35c4adc-ccd0-4e05-9234-0e50fec9738e"
      },
      "execution_count": 31,
      "outputs": [
        {
          "output_type": "stream",
          "name": "stderr",
          "text": [
            "WARNING:rpy2.rinterface_lib.callbacks:R[write to console]: Average marginal effects\n",
            "\n",
            "WARNING:rpy2.rinterface_lib.callbacks:R[write to console]: MASS::polr(formula = Class_As ~ ., data = train, Hess = TRUE)\n",
            "\n",
            "\n"
          ]
        },
        {
          "output_type": "stream",
          "name": "stdout",
          "text": [
            "    WAs\n",
            " -1.089\n"
          ]
        }
      ]
    },
    {
      "cell_type": "markdown",
      "source": [
        "{ggeffects} supports labelled data and the `plot()`- method automatically sets titles, axis - and legend-labels depending on the value and variable labels of the data."
      ],
      "metadata": {
        "id": "8MP5UkMsUAVC"
      }
    },
    {
      "cell_type": "code",
      "source": [
        "%%R -w 600 -h 450 -u px\n",
        "predict_response(fit.ordinal, terms = c(\"WAs\", \"WFe\")) |>\n",
        "plot(facets = TRUE)"
      ],
      "metadata": {
        "colab": {
          "base_uri": "https://localhost:8080/",
          "height": 519
        },
        "id": "wff3qwFvUBC0",
        "outputId": "4a5f8810-45c9-4026-f9ea-5c70c17baea1"
      },
      "execution_count": 32,
      "outputs": [
        {
          "output_type": "stream",
          "name": "stderr",
          "text": [
            "WARNING:rpy2.rinterface_lib.callbacks:R[write to console]: Data were 'prettified'. Consider using `terms=\"WAs [all]\"` to get smooth\n",
            "  plots.\n",
            "\n"
          ]
        },
        {
          "output_type": "display_data",
          "data": {
            "image/png": "[encoded data removed]"
          },
          "metadata": {}
        }
      ]
    },
    {
      "cell_type": "markdown",
      "source": [
        "### Cross-validation"
      ],
      "metadata": {
        "id": "VVl5B189Lh-M"
      }
    },
    {
      "cell_type": "code",
      "source": [
        "%%R\n",
        "# Set the number of folds\n",
        "K <- 5\n",
        "\n",
        "# Create a vector to store misclassification rates for each fold\n",
        "misclassification_rates <- numeric(K)\n",
        "\n",
        "# Set seed for reproducibility\n",
        "set.seed(123)\n",
        "\n",
        "# Generate fold indices\n",
        "folds <- sample(rep(1:K, length.out = nrow(df)))\n",
        "\n",
        "# Loop through each fold\n",
        "for (k in 1:K) {\n",
        "  # Split the data into training and test sets\n",
        "  train_data <- df[folds != k, ]\n",
        "  test_data <- df[folds == k, ]\n",
        "\n",
        "  # Fit the model on the training data\n",
        "  model<-MASS::polr(Class_As~., data= df,\n",
        "             Hess = TRUE)\n",
        "\n",
        "  # Predict the class labels on the test set\n",
        "    predicted_classes <- predict(model, newdata = test_data,  type = \"class\")\n",
        "\n",
        "  # Calculate the misclassification rate for the current fold\n",
        "  misclassified <- mean(predicted_classes == test_data$Class_As)\n",
        "  fold_misclassification_rate <- misclassified / nrow(test_data)\n",
        "\n",
        "  # Store the misclassification rate for this fold\n",
        "  misclassification_rates[k] <- fold_misclassification_rate\n",
        "}\n",
        "\n",
        "# Calculate the average misclassification rate across all folds\n",
        "avg_misclassification_rate <- mean(misclassification_rates)\n",
        "\n",
        "# Display results\n",
        "cat(\"Cross-Validated Misclassification Rates for Each Fold:\", misclassification_rates, \"\\n\")\n",
        "cat(\"Average Cross-Validated Misclassification Rate:\", avg_misclassification_rate, \"\\n\")"
      ],
      "metadata": {
        "colab": {
          "base_uri": "https://localhost:8080/"
        },
        "id": "PGga1yrDLmm6",
        "outputId": "0478e19d-0561-4abf-a664-70c0479bfb2f"
      },
      "execution_count": 33,
      "outputs": [
        {
          "output_type": "stream",
          "name": "stdout",
          "text": [
            "Cross-Validated Misclassification Rates for Each Fold: 0.01281595 0.01174795 0.01317195 0.01368343 0.008505917 \n",
            "Average Cross-Validated Misclassification Rate: 0.01198504 \n"
          ]
        }
      ]
    },
    {
      "cell_type": "markdown",
      "source": [
        "### Prediction and Model Evaluation\n"
      ],
      "metadata": {
        "id": "lzUYKrBuVrKA"
      }
    },
    {
      "cell_type": "markdown",
      "source": [
        "#### Predicted Classes"
      ],
      "metadata": {
        "id": "CbsRKRQguv5L"
      }
    },
    {
      "cell_type": "code",
      "source": [
        "%%R\n",
        "predictedClass <- predict(fit.ordinal, test)\n",
        "head(predictedClass)"
      ],
      "metadata": {
        "colab": {
          "base_uri": "https://localhost:8080/"
        },
        "id": "IR50vxu9Vsrp",
        "outputId": "d0dc347b-1e32-4462-fc1d-c478b7b32da6"
      },
      "execution_count": 34,
      "outputs": [
        {
          "output_type": "stream",
          "name": "stdout",
          "text": [
            "[1] Moderately-contaminated Non-contaminated        Non-contaminated       \n",
            "[4] Non-contaminated        Non-contaminated        Non-contaminated       \n",
            "Levels: Non-contaminated Moderately-contaminated Highly-contaminated\n"
          ]
        }
      ]
    },
    {
      "cell_type": "markdown",
      "source": [
        "#### Predicted Probabilites"
      ],
      "metadata": {
        "id": "9az3B1j0uycR"
      }
    },
    {
      "cell_type": "code",
      "source": [
        "%%R\n",
        "predictedScores <- predict(fit.ordinal, test, type=\"p\")\n",
        "head(predictedScores)"
      ],
      "metadata": {
        "colab": {
          "base_uri": "https://localhost:8080/"
        },
        "id": "m5SDLQ6PuzaD",
        "outputId": "aa4374c0-e8f6-4f23-97de-f21ec4799eb3"
      },
      "execution_count": 35,
      "outputs": [
        {
          "output_type": "stream",
          "name": "stdout",
          "text": [
            "  Non-contaminated Moderately-contaminated Highly-contaminated\n",
            "1        0.3471316               0.4861844          0.16668400\n",
            "2        0.8299989               0.1486820          0.02131907\n",
            "3        0.8603704               0.1226623          0.01696730\n",
            "4        0.8300323               0.1486535          0.02131412\n",
            "5        0.8088840               0.1666036          0.02451237\n",
            "6        0.8108544               0.1649373          0.02420824\n"
          ]
        }
      ]
    },
    {
      "cell_type": "markdown",
      "source": [
        "#### Confusion Matrix"
      ],
      "metadata": {
        "id": "0GuXDSjjVyv2"
      }
    },
    {
      "cell_type": "code",
      "source": [
        "%%R\n",
        "table(test$Class_As, predictedClass)"
      ],
      "metadata": {
        "id": "DwoKa9oMVz2t",
        "colab": {
          "base_uri": "https://localhost:8080/"
        },
        "outputId": "9e7f73b7-de83-444d-a8dd-8894cb3d38fc"
      },
      "execution_count": 36,
      "outputs": [
        {
          "output_type": "stream",
          "name": "stdout",
          "text": [
            "                         predictedClass\n",
            "                          Non-contaminated Moderately-contaminated\n",
            "  Non-contaminated                      21                       5\n",
            "  Moderately-contaminated                8                      10\n",
            "  Highly-contaminated                    2                       4\n",
            "                         predictedClass\n",
            "                          Highly-contaminated\n",
            "  Non-contaminated                          2\n",
            "  Moderately-contaminated                   9\n",
            "  Highly-contaminated                      20\n"
          ]
        }
      ]
    },
    {
      "cell_type": "markdown",
      "source": [
        "#### Misclassifiaction Error"
      ],
      "metadata": {
        "id": "QPRYitUhvUEf"
      }
    },
    {
      "cell_type": "code",
      "source": [
        "%%R\n",
        "mean(as.character(test$Class_As) != as.character(predictedClass))"
      ],
      "metadata": {
        "id": "Y-TNYW5IV5Sm",
        "colab": {
          "base_uri": "https://localhost:8080/"
        },
        "outputId": "bb6b2ae0-e19f-441c-e82d-a62e4d4b6cb7"
      },
      "execution_count": null,
      "outputs": [
        {
          "output_type": "stream",
          "name": "stdout",
          "text": [
            "[1] 0.3703704\n"
          ]
        }
      ]
    },
    {
      "cell_type": "markdown",
      "source": [
        "## Summary and Conclusion\n",
        "\n",
        "Understanding ordinal regression and how to implement it in R can provide valuable insights into the relationships between predictor variables and ordinal response variables. This can lead to a deeper understanding of the factors influencing the outcome of interest. It's important to approach ordinal regression carefully, taking into consideration the specific data and research question."
      ],
      "metadata": {
        "id": "upcYU_bCVlc1"
      }
    },
    {
      "cell_type": "markdown",
      "source": [
        "## References\n",
        "\n",
        "1. [Ordinal logistic regression](https://www.bookdown.org/rwnahhas/RMPH/blr-ordinal.html)\n",
        "\n",
        "2. [ORDINAL LOGISTIC REGRESSION | R DATA ANALYSIS EXAMPLES](https://stats.oarc.ucla.edu/r/dae/ordinal-logistic-regression/)\n",
        "\n",
        "3. [How to Perform Ordinal Logistic Regression in R](https://www.r-bloggers.com/2019/06/how-to-perform-ordinal-logistic-regression-in-r/)\n",
        "\n",
        "4. [Chapter 12 Ordinal Logistic Regression](https://bookdown.org/chua/ber642_advanced_regression/ordinal-logistic-regression.html)\n",
        "\n",
        "5. [Handbook of Regression Modeling in People Analytics:](https://peopleanalytics-regression-book.org/)"
      ],
      "metadata": {
        "id": "jadfYvGSWNK8"
      }
    }
  ]
}