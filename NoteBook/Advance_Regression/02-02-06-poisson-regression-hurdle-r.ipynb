{
  "nbformat": 4,
  "nbformat_minor": 0,
  "metadata": {
    "colab": {
      "provenance": [],
      "toc_visible": true,
      "authorship_tag": "ABX9TyOYjIJ4n/FkiO6lXME8z3kR",
      "include_colab_link": true
    },
    "kernelspec": {
      "name": "python3",
      "display_name": "Python 3"
    },
    "language_info": {
      "name": "python"
    }
  },
  "cells": [
    {
      "cell_type": "markdown",
      "metadata": {
        "id": "view-in-github",
        "colab_type": "text"
      },
      "source": [
        "<a href=\"https://colab.research.google.com/github/zia207/Deep-Neural-Network-Satellite-Image-Classification-in-Google-Colaboratory-iPython-Note-Book-/blob/master/NoteBook/Advance_Regression/02-02-06-poisson-regression-hurdle-r.ipynb\" target=\"_parent\"><img src=\"https://colab.research.google.com/assets/colab-badge.svg\" alt=\"Open In Colab\"/></a>"
      ]
    },
    {
      "cell_type": "markdown",
      "source": [
        "![alt text](http://drive.google.com/uc?export=view&id=1bLQ3nhDbZrCCqy_WCxxckOne2lgVvn3l)"
      ],
      "metadata": {
        "id": "bo7CyZgfjhgC"
      }
    },
    {
      "cell_type": "markdown",
      "source": [
        "# 6. Hurdle Model\n",
        "\n",
        "In count data analysis, we often encounter datasets with excessive zeros. These zeros can be problematic for standard Poisson or negative binomial models, as they typically assume that zero counts arise from the same process as positive counts. However, in many cases, zeros and positive counts result from distinct processes. For example, in modeling the number of visits to a gym, some people never visit (true zeros), while others visit at varying frequencies. The hurdle model is designed to handle this by splitting the modeling process into two parts: one to handle zero vs. non-zero outcomes and another to model the positive counts.\n",
        "\n",
        "This tutorial introduces hurdle models in R, where we’ll start with a model overview, explaining how hurdle models work to separate zero and count components. We’ll then cover how to fit hurdle models from scratch to understand their two-part structure, and we’ll use the {pscl} package for efficient model fitting. Finally, we’ll discuss model comparison techniques, such as the likelihood ratio and Vuong tests, to assess fit quality and evaluate prediction performance on test data to validate the model."
      ],
      "metadata": {
        "id": "mzk8YjjSjkiz"
      }
    },
    {
      "cell_type": "markdown",
      "source": [
        "## Overview\n",
        "\n",
        "A **hurdle model** is a type of statistical model used to analyze count data, particularly when the data has an excess number of zeros (zero-inflated data). It is commonly applied in scenarios where there are two separate processes: one that governs whether an event occurs (i.e., whether the count is zero or non-zero) and another that determines the count value once the event occurs.\n",
        "\n",
        "***Key Features of the Hurdle Model***\n",
        "\n",
        "1.  **Two-Part Structure**:\n",
        "    -   **First part (Hurdle component)**: This models the probability that the count is greater than zero (i.e., whether the \"hurdle\" is crossed). Typically, this is done using a binary model, like **logistic regression** or **probit regression**.\n",
        "    -   **Second part (Count component)**: This models the count of events given that the count is greater than zero. Common models for this part include **Poisson** or **negative binomial regression**, depending on the distribution of the non-zero counts.\n",
        "2.  **Zero-Inflation Handling**:\n",
        "    -   The hurdle model is specifically designed to address data where zeros are more frequent than would be expected from standard count models, like Poisson or negative binomial models. This makes it useful in contexts like healthcare (e.g., number of hospital visits), economics (e.g., number of purchases), or environmental science (e.g., number of rare species observed).\n",
        "\n",
        "***Example***\n",
        "\n",
        "Consider data on the number of times people visit a doctor in a year. Many people may not visit a doctor at all (zeros), while others visit a variable number of times. In this case: - The **first part** of the hurdle model would predict the likelihood that someone visits the doctor at least once. - The **second part** would model the number of visits, conditional on having at least one visit.\n",
        "\n",
        "***Difference from Zero-Inflated Models***\n",
        "\n",
        "Although both hurdle models and zero-inflated models address excess zeros, they are conceptually different: - **Hurdle models** assume a zero outcome is a result of a distinct process (e.g., some people never visit the doctor). - **Zero-inflated models** assume there are two types of zeros: \"structural zeros\" (those who never visit the doctor) and \"sampling zeros\" (those who could visit but didn't in a given period).\n",
        "\n",
        "As we discuss before, the hurdle model consists of two components:\n",
        "\n",
        "1\\. **Binary Component**: A **logistic (or binomial) regression** that models whether the count is zero or non-zero (i.e., whether the hurdle is crossed).\n",
        "\n",
        "This part of the model predicts whether the outcome is zero or positive.\n",
        "\n",
        "$$ P(Y_i = 0 | X) = \\frac{1}{1 + \\exp(X\\beta)} $$\n",
        "\n",
        "Where:\n",
        "\n",
        "$Y_i = 0$ indicates that the count is zero.\n",
        "\n",
        "\\- $X$ represents the predictor variables.\n",
        "\n",
        "\\- $\\beta$ represents the coefficients estimated by logistic regression.\n",
        "\n",
        "This component uses logistic regression to estimate the probability of zeros (whether or not the \"hurdle\" is crossed).\n",
        "\n",
        "2\\. **Truncated Count Component** (Positive count): Once the hurdle has been crossed (i.e., we have a positive count), the second part of the model predicts the non-zero counts. This part models only the positive counts and ignores the zeros.\n",
        "\n",
        "For a **truncated Poisson regression**, the probability mass function is:\n",
        "\n",
        "$$ P(Y_i = k | Y_i > 0, X) = \\frac{\\lambda^k e^{-\\lambda}}{k!(1 - e^{-\\lambda})} $$\n",
        "\n",
        "Where: -\n",
        "\n",
        "$k > 0$ represents the non-zero counts.\n",
        "\n",
        "\\- $\\lambda = \\exp(X\\gamma)$ is the mean of the Poisson distribution, with $X$ as the predictors and $\\gamma$) as the coefficients.\n",
        "\n",
        "\\- $e^{-\\lambda}$ is the probability of zero in the untruncated Poisson model.\n",
        "\n",
        "For a **truncated Negative Binomial regression**, the equation would incorporate the dispersion parameter $\\theta$ to handle overdispersion:\n",
        "\n",
        "$$ P(Y_i = k | Y_i > 0, X) = \\frac{\\Gamma(k + \\theta^{-1})}{k! \\Gamma(\\theta^{-1})} \\left( \\frac{\\lambda}{\\lambda + \\theta^{-1}} \\right)^k \\left( \\frac{\\theta^{-1}}{\\lambda + \\theta^{-1}} \\right)^{\\theta^{-1}} $$\n",
        "\n",
        "Where: - $\\theta$ is the dispersion parameter that accounts for overdispersion in the data. - $\\gamma$ is the Gamma function.\n",
        "\n",
        "The full likelihood for the Hurdle Model combines the two parts:\n",
        "\n",
        "$$  P(Y_i | X) = \\begin{cases}\n",
        "P(Y_i = 0 | X) & \\text{if } Y_i = 0 \\\\\n",
        "P(Y_i = k | Y_i > 0, X) & \\text{if } Y_i > 0\n",
        "\\end{cases} $$"
      ],
      "metadata": {
        "id": "audyoI63eoej"
      }
    },
    {
      "cell_type": "markdown",
      "source": [
        "## Install rpy2"
      ],
      "metadata": {
        "id": "62ootxVXyOSE"
      }
    },
    {
      "cell_type": "code",
      "source": [
        "!pip uninstall rpy2 -y\n",
        "!pip install rpy2==3.5.1\n",
        "%load_ext rpy2.ipython"
      ],
      "metadata": {
        "colab": {
          "base_uri": "https://localhost:8080/"
        },
        "id": "0q2LO56YyPNl",
        "outputId": "9a1e340b-76ef-4db6-e841-831839a7286b"
      },
      "execution_count": null,
      "outputs": [
        {
          "output_type": "stream",
          "name": "stdout",
          "text": [
            "Found existing installation: rpy2 3.4.2\n",
            "Uninstalling rpy2-3.4.2:\n",
            "  Successfully uninstalled rpy2-3.4.2\n",
            "Collecting rpy2==3.5.1\n",
            "  Downloading rpy2-3.5.1.tar.gz (201 kB)\n",
            "\u001b[2K     \u001b[90m━━━━━━━━━━━━━━━━━━━━━━━━━━━━━━━━━━━━━━━━\u001b[0m \u001b[32m201.7/201.7 kB\u001b[0m \u001b[31m3.2 MB/s\u001b[0m eta \u001b[36m0:00:00\u001b[0m\n",
            "\u001b[?25h  Preparing metadata (setup.py) ... \u001b[?25l\u001b[?25hdone\n",
            "Requirement already satisfied: cffi>=1.10.0 in /usr/local/lib/python3.10/dist-packages (from rpy2==3.5.1) (1.17.1)\n",
            "Requirement already satisfied: jinja2 in /usr/local/lib/python3.10/dist-packages (from rpy2==3.5.1) (3.1.4)\n",
            "Requirement already satisfied: pytz in /usr/local/lib/python3.10/dist-packages (from rpy2==3.5.1) (2024.2)\n",
            "Requirement already satisfied: tzlocal in /usr/local/lib/python3.10/dist-packages (from rpy2==3.5.1) (5.2)\n",
            "Requirement already satisfied: pycparser in /usr/local/lib/python3.10/dist-packages (from cffi>=1.10.0->rpy2==3.5.1) (2.22)\n",
            "Requirement already satisfied: MarkupSafe>=2.0 in /usr/local/lib/python3.10/dist-packages (from jinja2->rpy2==3.5.1) (3.0.2)\n",
            "Building wheels for collected packages: rpy2\n",
            "  Building wheel for rpy2 (setup.py) ... \u001b[?25l\u001b[?25hdone\n",
            "  Created wheel for rpy2: filename=rpy2-3.5.1-cp310-cp310-linux_x86_64.whl size=314952 sha256=1181730a2c820200419c834db66e26d69047423745bbf18c5e012a7ac5b29bc3\n",
            "  Stored in directory: /root/.cache/pip/wheels/73/a6/ff/4e75dd1ce1cfa2b9a670cbccf6a1e41c553199e9b25f05d953\n",
            "Successfully built rpy2\n",
            "Installing collected packages: rpy2\n",
            "Successfully installed rpy2-3.5.1\n"
          ]
        }
      ]
    },
    {
      "cell_type": "markdown",
      "source": [
        "## Mount Google Drive"
      ],
      "metadata": {
        "id": "rN3sAFVayR8e"
      }
    },
    {
      "cell_type": "code",
      "source": [
        "from google.colab import drive\n",
        "drive.mount('/content/drive')"
      ],
      "metadata": {
        "colab": {
          "base_uri": "https://localhost:8080/"
        },
        "id": "-Yhlpk0ByVaM",
        "outputId": "f6976500-1f78-402f-a100-438b49ebe43a"
      },
      "execution_count": null,
      "outputs": [
        {
          "output_type": "stream",
          "name": "stdout",
          "text": [
            "Mounted at /content/drive\n"
          ]
        }
      ]
    },
    {
      "cell_type": "markdown",
      "source": [
        "## Check and install required R packages"
      ],
      "metadata": {
        "id": "MGgHqHt3yZIs"
      }
    },
    {
      "cell_type": "code",
      "source": [
        "%%R\n",
        "pkg <- c('tidyverse',\n",
        "     'plyr',\n",
        "\t\t 'gt',\n",
        "\t\t 'DataExplorer',\n",
        "\t\t 'rstatix',\n",
        "\t\t 'gtsummary',\n",
        "\t\t 'report',\n",
        "\t\t 'performance',\n",
        "\t\t 'jtools',\n",
        "\t\t 'margins',\n",
        "\t\t 'marginaleffects',\n",
        "\t\t 'ggeffects',\n",
        "\t\t 'patchwork',\n",
        "\t\t 'Metrics',\n",
        "\t\t 'ggpmisc',\n",
        "\t\t 'caret',\n",
        "\t\t 'tidymodels',\n",
        "\t\t 'metrica',\n",
        "\t\t 'RColorBrewer',\n",
        "    'MASS',\n",
        "    'epiDisplay',\n",
        "\t\t 'pscl',\n",
        "\t\t 'VGAM',\n",
        "\t\t 'AER'\n",
        "\t\t  )\n",
        "new.packages <- pkg[!(pkg %in% installed.packages(lib='drive/My Drive/R/')[,\"Package\"])]\n",
        "if(length(new.packages)) install.packages(new.packages, lib='drive/My Drive/R/')"
      ],
      "metadata": {
        "id": "uLuK4p0TyZ5Z"
      },
      "execution_count": null,
      "outputs": []
    },
    {
      "cell_type": "markdown",
      "source": [
        "## Fit a Hurdle model\n",
        "\n",
        "To fit a hurdle model manually in R using synthetic data without any R packages, you will implement both the binary and count components of the hurdle model from scratch. Below, I provide a complete example, including data generation, model fitting for the zero and count parts, and predictions."
      ],
      "metadata": {
        "id": "Dch0LC6w0RjR"
      }
    },
    {
      "cell_type": "markdown",
      "source": [
        "### Data Generation\n",
        "\n",
        "The counts variable simulates a zero-inflated count variable using Poisson distribution and introduces excess zeros based on a probability."
      ],
      "metadata": {
        "id": "O100OAEI0UsK"
      }
    },
    {
      "cell_type": "code",
      "source": [
        "%%R\n",
        "# Step 1: Generate Synthetic Data\n",
        "set.seed(42)\n",
        "n <- 200  # Number of observations\n",
        "x <- rnorm(n)  # Independent variable\n",
        "lambda <- exp(0.5 * x)  # Rate for Poisson distribution\n",
        "zero_inflation_prob <- 0.7  # Probability of excess zeros\n",
        "\n",
        "# Generate counts based on the zero-inflated process\n",
        "counts <- rpois(n, lambda)  # Poisson distributed counts\n",
        "counts <- ifelse(runif(n) < zero_inflation_prob, 0, counts)  # Introduce excess zeros\n",
        "\n",
        "# Combine into a data frame\n",
        "data <- data.frame(counts = counts, x = x)\n",
        "head(data)"
      ],
      "metadata": {
        "colab": {
          "base_uri": "https://localhost:8080/"
        },
        "id": "XTm93DC40XFi",
        "outputId": "b4426ec8-0f82-486b-dd56-396a87fd098b"
      },
      "execution_count": null,
      "outputs": [
        {
          "output_type": "stream",
          "name": "stdout",
          "text": [
            "  counts          x\n",
            "1      0  1.3709584\n",
            "2      0 -0.5646982\n",
            "3      1  0.3631284\n",
            "4      0  0.6328626\n",
            "5      0  0.4042683\n",
            "6      0 -0.1061245\n"
          ]
        }
      ]
    },
    {
      "cell_type": "markdown",
      "source": [
        "### Fit a Binary Model: Implement logistic regression manually to predict whether the count is zero or non-zero."
      ],
      "metadata": {
        "id": "b4fF17je0b-U"
      }
    },
    {
      "cell_type": "code",
      "source": [
        "%%R\n",
        "# Step 2: Fit the Binary Model (Logistic Regression)\n",
        "# Model to predict whether counts are greater than zero\n",
        "binary_model_fit <- function(x, y) {\n",
        "  # Create the logistic function\n",
        "  logistic <- function(beta0, beta1, x) {\n",
        "    1 / (1 + exp(-(beta0 + beta1 * x)))\n",
        "  }\n",
        "\n",
        "  # Initialize coefficients\n",
        "  beta <- c(0, 0)  # beta0, beta1\n",
        "  learning_rate <- 0.01\n",
        "  n_iterations <- 1000\n",
        "\n",
        "  # Gradient Descent to optimize beta\n",
        "  for (i in 1:n_iterations) {\n",
        "    p_hat <- logistic(beta[1], beta[2], x)\n",
        "\n",
        "    # Calculate the gradients\n",
        "    grad_beta0 <- sum((y - p_hat) * p_hat * (1 - p_hat)) / length(y)\n",
        "    grad_beta1 <- sum((y - p_hat) * p_hat * (1 - p_hat) * x) / length(y)\n",
        "\n",
        "    # Update the coefficients\n",
        "    beta[1] <- beta[1] + learning_rate * grad_beta0\n",
        "    beta[2] <- beta[2] + learning_rate * grad_beta1\n",
        "  }\n",
        "  return(beta)\n",
        "}\n",
        "\n",
        "# Fit binary model\n",
        "binary_response <- as.numeric(data$counts > 0)  # 1 if counts > 0, else 0\n",
        "binary_coefficients <- binary_model_fit(data$x, binary_response)"
      ],
      "metadata": {
        "id": "3DLuUJbr0fxr"
      },
      "execution_count": null,
      "outputs": []
    },
    {
      "cell_type": "markdown",
      "source": [
        "### Fit a Count Model: Implement Poisson regression manually for positive counts."
      ],
      "metadata": {
        "id": "nGfemC0d0llq"
      }
    },
    {
      "cell_type": "code",
      "source": [
        "%%R\n",
        "# Step 3: Fit the Count Model (Poisson Regression)\n",
        "# Only use positive counts for fitting\n",
        "poisson_model_fit <- function(x, y) {\n",
        "  # Create the log link function for Poisson regression\n",
        "  log_link <- function(beta0, beta1, x) {\n",
        "    beta0 + beta1 * x\n",
        "  }\n",
        "\n",
        "  # Initialize coefficients\n",
        "  beta <- c(0, 0)  # beta0, beta1\n",
        "  learning_rate <- 0.01\n",
        "  n_iterations <- 1000\n",
        "\n",
        "  # Gradient Descent to optimize beta\n",
        "  for (i in 1:n_iterations) {\n",
        "    lambda_hat <- exp(log_link(beta[1], beta[2], x))\n",
        "\n",
        "    # Calculate the gradients\n",
        "    grad_beta0 <- sum((y - lambda_hat) / lambda_hat) / length(y)\n",
        "    grad_beta1 <- sum((y - lambda_hat) / lambda_hat * x) / length(y)\n",
        "\n",
        "    # Update the coefficients\n",
        "    beta[1] <- beta[1] + learning_rate * grad_beta0\n",
        "    beta[2] <- beta[2] + learning_rate * grad_beta1\n",
        "  }\n",
        "  return(beta)\n",
        "}\n",
        "\n",
        "# Fit Poisson model using positive counts\n",
        "positive_counts <- data[data$counts > 0, ]\n",
        "poisson_coefficients <- poisson_model_fit(positive_counts$x, positive_counts$counts)"
      ],
      "metadata": {
        "id": "gELvfhmW0oXB"
      },
      "execution_count": null,
      "outputs": []
    },
    {
      "cell_type": "markdown",
      "source": [
        "### Combine Predictions: Use the predictions from both models to get the final predicted counts."
      ],
      "metadata": {
        "id": "eKAx5LmE0u0P"
      }
    },
    {
      "cell_type": "code",
      "source": [
        "%%R\n",
        "# Step 4: Combine Predictions\n",
        "# Predict probabilities of non-zero counts\n",
        "logistic_function <- function(beta0, beta1, x) {\n",
        "  1 / (1 + exp(-(beta0 + beta1 * x)))\n",
        "}\n",
        "data$prob_nonzero <- logistic_function(binary_coefficients[1], binary_coefficients[2], data$x)\n",
        "\n",
        "# Predict expected counts for positive cases\n",
        "data$expected_counts <- ifelse(data$counts > 0, exp(poisson_coefficients[1] + poisson_coefficients[2] * data$x), 0)\n",
        "\n",
        "# Combine predictions for final results\n",
        "data$hurdle_predicted_counts <- ifelse(data$counts > 0, data$expected_counts * data$prob_nonzero, 0)\n",
        "\n",
        "# View results\n",
        "head(data)\n",
        "\n",
        "# Summary statistics\n",
        "summary(data)"
      ],
      "metadata": {
        "colab": {
          "base_uri": "https://localhost:8080/"
        },
        "id": "9gAWSVAX0viu",
        "outputId": "b1ae692b-af64-43be-e9ef-e81f4036ef08"
      },
      "execution_count": null,
      "outputs": [
        {
          "output_type": "stream",
          "name": "stdout",
          "text": [
            "     counts            x             prob_nonzero    expected_counts\n",
            " Min.   :0.000   Min.   :-2.99309   Min.   :0.2665   Min.   :0.000  \n",
            " 1st Qu.:0.000   1st Qu.:-0.61011   1st Qu.:0.3295   1st Qu.:0.000  \n",
            " Median :0.000   Median :-0.01643   Median :0.3463   Median :0.000  \n",
            " Mean   :0.285   Mean   :-0.02748   Mean   :0.3465   Mean   :0.283  \n",
            " 3rd Qu.:0.000   3rd Qu.: 0.63363   3rd Qu.:0.3652   3rd Qu.:0.000  \n",
            " Max.   :6.000   Max.   : 2.70189   Max.   :0.4278   Max.   :3.228  \n",
            " hurdle_predicted_counts\n",
            " Min.   :0.0000         \n",
            " 1st Qu.:0.0000         \n",
            " Median :0.0000         \n",
            " Mean   :0.1034         \n",
            " 3rd Qu.:0.0000         \n",
            " Max.   :1.2960         \n"
          ]
        }
      ]
    },
    {
      "cell_type": "markdown",
      "source": [
        "## Fit a Hurdle model in R\n",
        "\n",
        "To fit a hurdle model using the `hurdle()` function from the {pscl} package in R with the NMES1988 dataset, follow below steps:\n",
        "\n"
      ],
      "metadata": {
        "id": "zvplY6PU0z1L"
      }
    },
    {
      "cell_type": "markdown",
      "source": [
        "### Check and Install Required R Packages"
      ],
      "metadata": {
        "id": "lk7ebc_YRmV7"
      }
    },
    {
      "cell_type": "code",
      "source": [
        "%%R\n",
        "pkg <- c('tidyverse',\n",
        "     'plyr',\n",
        "\t\t 'gt',\n",
        "\t\t 'DataExplorer',\n",
        "\t\t 'rstatix',\n",
        "\t\t 'gtsummary',\n",
        "\t\t 'report',\n",
        "\t\t 'performance',\n",
        "\t\t 'jtools',\n",
        "\t\t 'margins',\n",
        "\t\t 'marginaleffects',\n",
        "\t\t 'ggeffects',\n",
        "\t\t 'patchwork',\n",
        "\t\t 'Metrics',\n",
        "\t\t 'ggpmisc',\n",
        "\t\t 'caret',\n",
        "\t\t 'tidymodels',\n",
        "\t\t 'metrica',\n",
        "\t\t 'RColorBrewer',\n",
        "    'MASS',\n",
        "    'epiDisplay',\n",
        "\t\t 'pscl',\n",
        "\t\t 'VGAM',\n",
        "\t\t 'AER'\n",
        "\t\t  )\n",
        "new.packages <- pkg[!(pkg %in% installed.packages(lib='drive/My Drive/R/')[,\"Package\"])]\n",
        "if(length(new.packages)) install.packages(new.packages, lib='drive/My Drive/R/')"
      ],
      "metadata": {
        "id": "lGEho7XmRmV9"
      },
      "execution_count": null,
      "outputs": []
    },
    {
      "cell_type": "markdown",
      "source": [
        "### Load R pacakges"
      ],
      "metadata": {
        "id": "CqfhXEw61Bhp"
      }
    },
    {
      "cell_type": "code",
      "source": [
        "%%R\n",
        "# set library path\n",
        ".libPaths('drive/My Drive/R')\n",
        "library(tidyverse)\n",
        "library(plyr)\n",
        "library(gt)\n",
        "library(rstatix)\n",
        "library(gtsummary)\n",
        "library(DataExplorer)\n",
        "library(report)\n",
        "library(performance)\n",
        "library(jtools)\n",
        "library(margins)\n",
        "library(marginaleffects)\n",
        "library(ggeffects)\n",
        "library(patchwork)\n",
        "library(Metrics)\n",
        "library(ggpmisc)\n",
        "library(RColorBrewer)\n",
        "library(MASS)\n",
        "library(epiDisplay)\n",
        "library(dlookr)\n",
        "library(pscl)\n",
        "library(VGAM)\n",
        "library(AER)"
      ],
      "metadata": {
        "id": "RBjmx5VK08u5"
      },
      "execution_count": null,
      "outputs": []
    },
    {
      "cell_type": "markdown",
      "source": [
        "### Data\n",
        "\n",
        "We will use physician office visits data set (**NMES1988**) from [AER](https://cran.r-project.org/web/packages/AER/index.html) package. . It represents a sample of 4,406 individuals aged 66 and over who were covered by Medicare in 1988. One of the variables in the data is the number of physician office visits. If we want to create a model for the number of visits using some of the other variables in the dataset, we need to start by loading the data. You may also need to install the AER package.\n",
        "\n",
        "A data frame containing 4,406 observations on 19 variables. We will use following variables:\n",
        "\n",
        "-   visits- Number of physician office visits.\n",
        "-   hospital - Number of hospital stays.\n",
        "-   health - Factor indicating self-perceived health status, levels are \"poor\", \"average\" (reference category), \"excellent\".\n",
        "-   chronic - Number of chronic conditions.\n",
        "-   age - Age in years (divided by 10).\n",
        "-   afam - Factor. Is the individual African-American?\n",
        "-   gender - Factor indicating gender.\n",
        "-   married- Factor. is the individual married?\n",
        "-   school - Number of years of education.\n",
        "-   income- Family income in USD 10,000.\n",
        "-   employed - Factor. Is the individual employed?\n",
        "-   insurance- Factor. Is the individual covered by private insurance?\n",
        "-   medicaid Factor - Is the individual covered by Medicaid?"
      ],
      "metadata": {
        "id": "IWebJ6vd1IMd"
      }
    },
    {
      "cell_type": "code",
      "source": [
        "%%R\n",
        "# load the data\n",
        "data(NMES1988)\n",
        "# select variables\n",
        "df<-NMES1988 |>\n",
        "  dplyr::select(visits,\n",
        "                hospital,\n",
        "                health,\n",
        "                chronic,\n",
        "                age,\n",
        "                afam,\n",
        "                gender,\n",
        "                married,\n",
        "                school,\n",
        "                income,\n",
        "                employed,\n",
        "                insurance,\n",
        "                medicaid)\n",
        "\n",
        "# split  data\n",
        "seeds = 11076\n",
        "tr_prop = 0.70\n",
        "\n",
        "# training data (70% data)\n",
        "train= ddply(df,.(gender, afam),\n",
        "                 function(., seed) { set.seed(seed); .[sample(1:nrow(.), trunc(nrow(.) * tr_prop)), ] }, seed = 101)\n",
        "test = ddply(df, .(gender, afam),\n",
        "            function(., seed) { set.seed(seed); .[-sample(1:nrow(.), trunc(nrow(.) * tr_prop)), ] }, seed = 101)"
      ],
      "metadata": {
        "id": "V0NRZEp81LHQ"
      },
      "execution_count": null,
      "outputs": []
    },
    {
      "cell_type": "markdown",
      "source": [
        "\n",
        "### Fit a hurdle Model\n",
        "\n",
        "Now, we'll fit a hurdle model using `hurdle()` function of   {pscl} package. We'll model the binary part (whether or not the person visited the doctor) and the count part (how many visits, given that they visited). We will use  `dist =  \"poisson\"` for the data with Piosson distribution."
      ],
      "metadata": {
        "id": "aV48hmtv1WsM"
      }
    },
    {
      "cell_type": "code",
      "source": [
        "%%R\n",
        "# Fit the hurdle model using the pscl package\n",
        "fit.hurdle.pois <- hurdle(\n",
        "              visits  ~\n",
        "                hospital +\n",
        "                health +\n",
        "                chronic +\n",
        "                age +\n",
        "                afam +\n",
        "                gender +\n",
        "                married +\n",
        "                school +\n",
        "                income +\n",
        "                employed +\n",
        "                insurance +\n",
        "                medicaid,\n",
        "                data = train,\n",
        "                 zero.dist = \"binomial\",\n",
        "                 dist =  \"poisson\")\n",
        "# Summary of the hurdle model\n",
        "summary(fit.hurdle.pois)"
      ],
      "metadata": {
        "colab": {
          "base_uri": "https://localhost:8080/"
        },
        "id": "kxyEWnDk1Xbk",
        "outputId": "20f641bf-c202-4a6e-a862-376f68e79f05"
      },
      "execution_count": null,
      "outputs": [
        {
          "output_type": "stream",
          "name": "stdout",
          "text": [
            "\n",
            "Call:\n",
            "hurdle(formula = visits ~ hospital + health + chronic + age + afam + \n",
            "    gender + married + school + income + employed + insurance + medicaid, \n",
            "    data = train, dist = \"poisson\", zero.dist = \"binomial\")\n",
            "\n",
            "Pearson residuals:\n",
            "    Min      1Q  Median      3Q     Max \n",
            "-4.5649 -1.1383 -0.4630  0.5496 19.3241 \n",
            "\n",
            "Count model coefficients (truncated poisson with log link):\n",
            "                 Estimate Std. Error z value Pr(>|z|)    \n",
            "(Intercept)      1.920082   0.106057  18.104  < 2e-16 ***\n",
            "hospital         0.152069   0.007313  20.794  < 2e-16 ***\n",
            "healthpoor       0.214664   0.021576   9.949  < 2e-16 ***\n",
            "healthexcellent -0.361636   0.038574  -9.375  < 2e-16 ***\n",
            "chronic          0.091637   0.005860  15.637  < 2e-16 ***\n",
            "age             -0.067319   0.012989  -5.183 2.19e-07 ***\n",
            "afamyes         -0.013614   0.027013  -0.504  0.61428    \n",
            "gendermale      -0.057532   0.017816  -3.229  0.00124 ** \n",
            "marriedyes      -0.074486   0.018247  -4.082 4.46e-05 ***\n",
            "school           0.016566   0.002357   7.028 2.09e-12 ***\n",
            "income          -0.001941   0.002886  -0.672  0.50131    \n",
            "employedyes     -0.018341   0.027876  -0.658  0.51056    \n",
            "insuranceyes     0.158768   0.024306   6.532 6.48e-11 ***\n",
            "medicaidyes      0.211406   0.030955   6.830 8.52e-12 ***\n",
            "Zero hurdle model coefficients (binomial with logit link):\n",
            "                 Estimate Std. Error z value Pr(>|z|)    \n",
            "(Intercept)     -1.562364   0.700684  -2.230  0.02576 *  \n",
            "hospital         0.345241   0.115328   2.994  0.00276 ** \n",
            "healthpoor      -0.117102   0.190984  -0.613  0.53977    \n",
            "healthexcellent -0.330736   0.169567  -1.950  0.05112 .  \n",
            "chronic          0.587699   0.055765  10.539  < 2e-16 ***\n",
            "age              0.186709   0.088034   2.121  0.03393 *  \n",
            "afamyes         -0.349520   0.154264  -2.266  0.02347 *  \n",
            "gendermale      -0.452056   0.115489  -3.914 9.07e-05 ***\n",
            "marriedyes       0.208622   0.122905   1.697  0.08962 .  \n",
            "school           0.060100   0.014993   4.009 6.11e-05 ***\n",
            "income           0.046390   0.025866   1.793  0.07290 .  \n",
            "employedyes     -0.006166   0.172204  -0.036  0.97144    \n",
            "insuranceyes     0.673297   0.132793   5.070 3.97e-07 ***\n",
            "medicaidyes      0.452972   0.202256   2.240  0.02512 *  \n",
            "---\n",
            "Signif. codes:  0 '***' 0.001 '**' 0.01 '*' 0.05 '.' 0.1 ' ' 1 \n",
            "\n",
            "Number of iterations in BFGS optimization: 20 \n",
            "Log-likelihood: -1.099e+04 on 28 Df\n"
          ]
        }
      ]
    },
    {
      "cell_type": "markdown",
      "source": [
        "Alternatively, you could use negative binomial distribution if overdispersion is present. Here  use `dist = \"negbin\" ` if you expect overdispersion in the count data."
      ],
      "metadata": {
        "id": "BPPGZh4S1hAs"
      }
    },
    {
      "cell_type": "code",
      "source": [
        "%%R\n",
        "# Fit the hurdle model using the pscl package\n",
        "fit.hurdle.nb <- hurdle(\n",
        "                visits  ~\n",
        "                hospital +\n",
        "                health +\n",
        "                chronic +\n",
        "                age +\n",
        "                afam +\n",
        "                gender +\n",
        "                married +\n",
        "                school +\n",
        "                income +\n",
        "                employed +\n",
        "                insurance +\n",
        "                medicaid,\n",
        "                data = train,\n",
        "                zero.dist = \"binomial\",\n",
        "                dist =  \"negbin\")\n",
        "# Summary of the hurdle model\n",
        "summary(fit.hurdle.nb)"
      ],
      "metadata": {
        "colab": {
          "base_uri": "https://localhost:8080/"
        },
        "id": "qW2vltgz1j8D",
        "outputId": "2feafe2d-651c-4980-c121-72628c3b15c5"
      },
      "execution_count": null,
      "outputs": [
        {
          "output_type": "stream",
          "name": "stdout",
          "text": [
            "\n",
            "Call:\n",
            "hurdle(formula = visits ~ hospital + health + chronic + age + afam + \n",
            "    gender + married + school + income + employed + insurance + medicaid, \n",
            "    data = train, dist = \"negbin\", zero.dist = \"binomial\")\n",
            "\n",
            "Pearson residuals:\n",
            "    Min      1Q  Median      3Q     Max \n",
            "-1.1992 -0.7122 -0.2742  0.3281 13.3177 \n",
            "\n",
            "Count model coefficients (truncated negbin with log link):\n",
            "                  Estimate Std. Error z value Pr(>|z|)    \n",
            "(Intercept)      1.7525249  0.2597264   6.748 1.50e-11 ***\n",
            "hospital         0.2097844  0.0254244   8.251  < 2e-16 ***\n",
            "healthpoor       0.2715317  0.0562376   4.828 1.38e-06 ***\n",
            "healthexcellent -0.4137847  0.0785668  -5.267 1.39e-07 ***\n",
            "chronic          0.1127509  0.0148089   7.614 2.66e-14 ***\n",
            "age             -0.0688877  0.0321429  -2.143 0.032100 *  \n",
            "afamyes         -0.0264495  0.0652791  -0.405 0.685348    \n",
            "gendermale      -0.0520124  0.0428769  -1.213 0.225105    \n",
            "marriedyes      -0.1016623  0.0446715  -2.276 0.022859 *  \n",
            "school           0.0181822  0.0054619   3.329 0.000872 ***\n",
            "income          -0.0006644  0.0071340  -0.093 0.925799    \n",
            "employedyes     -0.0112664  0.0652961  -0.173 0.863011    \n",
            "insuranceyes     0.1701965  0.0567624   2.998 0.002714 ** \n",
            "medicaidyes      0.2104205  0.0769961   2.733 0.006278 ** \n",
            "Log(theta)       0.3910325  0.0507931   7.699 1.38e-14 ***\n",
            "Zero hurdle model coefficients (binomial with logit link):\n",
            "                 Estimate Std. Error z value Pr(>|z|)    \n",
            "(Intercept)     -1.562364   0.700684  -2.230  0.02576 *  \n",
            "hospital         0.345241   0.115328   2.994  0.00276 ** \n",
            "healthpoor      -0.117102   0.190984  -0.613  0.53977    \n",
            "healthexcellent -0.330736   0.169567  -1.950  0.05112 .  \n",
            "chronic          0.587699   0.055765  10.539  < 2e-16 ***\n",
            "age              0.186709   0.088034   2.121  0.03393 *  \n",
            "afamyes         -0.349520   0.154264  -2.266  0.02347 *  \n",
            "gendermale      -0.452056   0.115489  -3.914 9.07e-05 ***\n",
            "marriedyes       0.208622   0.122905   1.697  0.08962 .  \n",
            "school           0.060100   0.014993   4.009 6.11e-05 ***\n",
            "income           0.046390   0.025866   1.793  0.07290 .  \n",
            "employedyes     -0.006166   0.172204  -0.036  0.97144    \n",
            "insuranceyes     0.673297   0.132793   5.070 3.97e-07 ***\n",
            "medicaidyes      0.452972   0.202256   2.240  0.02512 *  \n",
            "---\n",
            "Signif. codes:  0 '***' 0.001 '**' 0.01 '*' 0.05 '.' 0.1 ' ' 1 \n",
            "\n",
            "Theta: count = 1.4785\n",
            "Number of iterations in BFGS optimization: 22 \n",
            "Log-likelihood: -8394 on 29 Df\n"
          ]
        }
      ]
    },
    {
      "cell_type": "markdown",
      "source": [
        "\n",
        "-   The **binary part** of the hurdle model estimates the factors associated with the likelihood of visiting the doctor at all.\n",
        "\n",
        "-   The **count part** estimates the factors associated with the number of doctor visits for those who visited at least once.\n",
        "\n",
        "You can inspect the coefficients and interpret their significance:\n",
        "\n",
        "-   A positive coefficient in the binary part (logistic regression) means the predictor increases the likelihood of visiting the doctor.\n",
        "\n",
        "-   A positive coefficient in the count part means the predictor increases the number of visits among those who visit the doctor.\n",
        "\n",
        "We know that each component of a hurdle model can have different sets of predictors. We can do this in the `hurdle(0`) function by using \"\\|\" in the model formula. For example, let's say we want to fit the zero hurdle component using only the insurance and gender predictors. We can do that as follows:\n",
        "\n",
        "Model below fist the count data model (visits regressed on all other variables) conditional on the zero hurdle model (visits regressed on gender and insurance)."
      ],
      "metadata": {
        "id": "gFGpXZ7L1wYx"
      }
    },
    {
      "cell_type": "code",
      "source": [
        "%%R\n",
        "fit.hurdle.nb.01 <- hurdle(\n",
        "                visits ~ . | gender + insurance,\n",
        "                data = train,\n",
        "                zero.dist = \"binomial\",\n",
        "                dist =  \"negbin\")\n",
        "summary(fit.hurdle.nb.01)"
      ],
      "metadata": {
        "colab": {
          "base_uri": "https://localhost:8080/"
        },
        "id": "1uxxPJIl12HV",
        "outputId": "9c16b943-c580-4d8a-9d1b-21a22e9e18f9"
      },
      "execution_count": null,
      "outputs": [
        {
          "output_type": "stream",
          "name": "stdout",
          "text": [
            "\n",
            "Call:\n",
            "hurdle(formula = visits ~ . | gender + insurance, data = train, dist = \"negbin\", \n",
            "    zero.dist = \"binomial\")\n",
            "\n",
            "Pearson residuals:\n",
            "    Min      1Q  Median      3Q     Max \n",
            "-1.1094 -0.7330 -0.2616  0.3502 13.2554 \n",
            "\n",
            "Count model coefficients (truncated negbin with log link):\n",
            "                  Estimate Std. Error z value Pr(>|z|)    \n",
            "(Intercept)      1.7525249  0.2597264   6.748 1.50e-11 ***\n",
            "hospital         0.2097844  0.0254244   8.251  < 2e-16 ***\n",
            "healthpoor       0.2715317  0.0562376   4.828 1.38e-06 ***\n",
            "healthexcellent -0.4137847  0.0785668  -5.267 1.39e-07 ***\n",
            "chronic          0.1127509  0.0148089   7.614 2.66e-14 ***\n",
            "age             -0.0688877  0.0321429  -2.143 0.032100 *  \n",
            "afamyes         -0.0264495  0.0652791  -0.405 0.685348    \n",
            "gendermale      -0.0520124  0.0428769  -1.213 0.225105    \n",
            "marriedyes      -0.1016623  0.0446715  -2.276 0.022859 *  \n",
            "school           0.0181822  0.0054619   3.329 0.000872 ***\n",
            "income          -0.0006644  0.0071340  -0.093 0.925799    \n",
            "employedyes     -0.0112664  0.0652961  -0.173 0.863011    \n",
            "insuranceyes     0.1701965  0.0567624   2.998 0.002714 ** \n",
            "medicaidyes      0.2104205  0.0769961   2.733 0.006278 ** \n",
            "Log(theta)       0.3910325  0.0507931   7.699 1.38e-14 ***\n",
            "Zero hurdle model coefficients (binomial with logit link):\n",
            "             Estimate Std. Error z value Pr(>|z|)    \n",
            "(Intercept)   1.28807    0.09831  13.102  < 2e-16 ***\n",
            "gendermale   -0.40401    0.10023  -4.031 5.56e-05 ***\n",
            "insuranceyes  0.76312    0.10774   7.083 1.41e-12 ***\n",
            "---\n",
            "Signif. codes:  0 '***' 0.001 '**' 0.01 '*' 0.05 '.' 0.1 ' ' 1 \n",
            "\n",
            "Theta: count = 1.4785\n",
            "Number of iterations in BFGS optimization: 22 \n",
            "Log-likelihood: -8512 on 18 Df\n"
          ]
        }
      ]
    },
    {
      "cell_type": "markdown",
      "source": [
        "### Model Comparison"
      ],
      "metadata": {
        "id": "fAb9FTAF15tV"
      }
    },
    {
      "cell_type": "markdown",
      "source": [
        "#### Likelihood Ratio Test (LRT)"
      ],
      "metadata": {
        "id": "haZxXm4V4Hdf"
      }
    },
    {
      "cell_type": "code",
      "source": [
        "%%R\n",
        "# 1. Extract log-likelihoods\n",
        "logLik.hurdle.pois <- logLik(fit.hurdle.pois)\n",
        "logLik.hurdle.nb<- logLik(fit.hurdle.nb)\n",
        "# 2. Compute the LRT statistic\n",
        "lrt_stat <- 2 * (logLik.hurdle.nb- logLik.hurdle.pois)\n",
        "# 3. Degrees of freedom difference (df)\n",
        "df_diff <- attr(logLik.hurdle.nb, \"df\") - attr(logLik.hurdle.pois, \"df\")\n",
        "# 4. Compute p-value (chi-squared distribution)\n",
        "p_value <- pchisq(lrt_stat, df = df_diff, lower.tail = FALSE)\n",
        "# Output LRT statistic and p-value\n",
        "cat(\"LRT Statistic:\", lrt_stat, \"\\n\")\n",
        "cat(\"Degrees of Freedom Difference:\", df_diff, \"\\n\")\n",
        "cat(\"p-value:\", p_value, \"\\n\")"
      ],
      "metadata": {
        "colab": {
          "base_uri": "https://localhost:8080/"
        },
        "id": "f6mYyJ3a18-n",
        "outputId": "8ed42d1d-cc23-4394-c961-033c2a840dc5"
      },
      "execution_count": null,
      "outputs": [
        {
          "output_type": "stream",
          "name": "stdout",
          "text": [
            "LRT Statistic: 5192.7 \n",
            "Degrees of Freedom Difference: 1 \n",
            "p-value: 0 \n"
          ]
        }
      ]
    },
    {
      "cell_type": "markdown",
      "source": [
        "#### Vuong test"
      ],
      "metadata": {
        "id": "mSfLZCPr2Dzb"
      }
    },
    {
      "cell_type": "code",
      "source": [
        "%%R\n",
        "vuong(fit.hurdle.nb,fit.hurdle.pois)"
      ],
      "metadata": {
        "colab": {
          "base_uri": "https://localhost:8080/"
        },
        "id": "7KGtG9Ob2Ek9",
        "outputId": "0edc67f4-b228-44be-fd01-faf59797d1a2"
      },
      "execution_count": null,
      "outputs": [
        {
          "output_type": "stream",
          "name": "stdout",
          "text": [
            "Vuong Non-Nested Hypothesis Test-Statistic: \n",
            "(test-statistic is asymptotically distributed N(0,1) under the\n",
            " null that the models are indistinguishible)\n",
            "-------------------------------------------------------------\n",
            "              Vuong z-statistic             H_A    p-value\n",
            "Raw                    11.86906 model1 > model2 < 2.22e-16\n",
            "AIC-corrected          11.86906 model1 > model2 < 2.22e-16\n",
            "BIC-corrected          11.86906 model1 > model2 < 2.22e-16\n"
          ]
        }
      ]
    },
    {
      "cell_type": "markdown",
      "source": [
        "### Prediction Performance\n",
        "\n",
        "The `predict()` function will be used to predict the number of diabetes patients the test counties. This will help to validate the accuracy of the these regression models."
      ],
      "metadata": {
        "id": "b38Iphyp2Hjp"
      }
    },
    {
      "cell_type": "code",
      "source": [
        "%%R\n",
        "# Prediction\n",
        "test$Pred.hurdle.pois<-predict(fit.hurdle.pois, test, type = \"response\")\n",
        "test$Pred.hurdle.nb<-predict(fit.hurdle.nb, test, type = \"response\")\n",
        "\n",
        "# RMSE\n",
        "rmse.pois<-Metrics::rmse(test$visits, test$Pred.hurdle.pois)\n",
        "rmse.nb<-Metrics::rmse(test$visits, test$Pred.hurdle.nb)\n",
        "\n",
        "cat(\"Hurdlermse Poisson:\" ,rmse.pois, \"\\n\")\n",
        "cat(\"Hurdlermse NB:\", rmse.nb, \"\\n\")"
      ],
      "metadata": {
        "colab": {
          "base_uri": "https://localhost:8080/"
        },
        "id": "HuI8xtdG2MnV",
        "outputId": "d0ea07e1-7592-49af-a120-d46015b05536"
      },
      "execution_count": null,
      "outputs": [
        {
          "output_type": "stream",
          "name": "stdout",
          "text": [
            "Hurdlermse Poisson: 6.977813 \n",
            "Hurdlermse NB: 7.040287 \n"
          ]
        }
      ]
    },
    {
      "cell_type": "markdown",
      "source": [
        "## Summary and Conclusions\n",
        "\n",
        "In this tutorial, we explored the hurdle model in R, a powerful tool for analyzing count data with an excess of zeros, commonly found in healthcare, economics, and other fields. We applied the hurdle model using both Poisson and negative binomial distributions to model two key processes: whether an individual visits the doctor at all and, if they do, how often they visit.\n",
        "\n",
        "By fitting and interpreting the hurdle model in R, we've demonstrated how to address complex zero-inflated count data scenarios, providing a clearer understanding of the relationships between predictors and outcomes. This method can be extended to other real-world problems where excess zeros and over-dispersion are prevalent."
      ],
      "metadata": {
        "id": "aDAm0xyQklqL"
      }
    },
    {
      "cell_type": "markdown",
      "source": [
        "## References\n",
        "\n",
        "1.  [Hurdle Model](https://m-clark.github.io/models-by-example/hurdle.html)\n",
        "\n",
        "2.  [Getting Started with Hurdle Models](https://library.virginia.edu/data/articles/getting-started-with-hurdle-models)"
      ],
      "metadata": {
        "id": "2V1hrSgFkmgP"
      }
    }
  ]
}