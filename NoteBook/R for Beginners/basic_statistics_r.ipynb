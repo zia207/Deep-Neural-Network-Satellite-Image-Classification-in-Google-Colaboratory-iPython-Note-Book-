{
  "cells": [
    {
      "cell_type": "markdown",
      "metadata": {
        "id": "view-in-github",
        "colab_type": "text"
      },
      "source": [
        "<a href=\"https://colab.research.google.com/github/zia207/Deep-Neural-Network-Satellite-Image-Classification-in-Google-Colaboratory-iPython-Note-Book-/blob/master/NoteBook/R%20for%20Beginners/basic_statistics_r.ipynb\" target=\"_parent\"><img src=\"https://colab.research.google.com/assets/colab-badge.svg\" alt=\"Open In Colab\"/></a>"
      ]
    },
    {
      "cell_type": "markdown",
      "metadata": {
        "id": "MGoP0AbXEAUx"
      },
      "source": [
        "#  Basic Statistics With R\n",
        "\n",
        "Zia AHMED, University at Buffalo"
      ]
    },
    {
      "cell_type": "markdown",
      "source": [],
      "metadata": {
        "id": "tWRcuPPXsAGN"
      }
    },
    {
      "cell_type": "markdown",
      "metadata": {
        "id": "kroLnhoOPPoV"
      },
      "source": [
        "Basic statistics involves techniques and concepts used to analyze and interpret data. Some fundamental concepts include: It involves calculating and analyzing various measures such as mean, median, mode, range, variance, and standard deviation. These metrics allow us to gain a better understanding of the data's **central tendency** and dispersion, which can help researchers in drawing meaningful conclusions and make informed decisions. By providing a concise summary of the data, descriptive statistics can help in identifying patterns, trends, and outliers that might otherwise be difficult to discern."
      ]
    },
    {
      "cell_type": "markdown",
      "metadata": {
        "id": "CdQJ-mgsEU9J"
      },
      "source": [
        "## Install rpy2\n",
        "\n",
        "Easy way to run R in Colab with Python runtime using **rpy2** python package. We have to install this package using the pip command:"
      ]
    },
    {
      "cell_type": "code",
      "execution_count": null,
      "metadata": {
        "id": "qOD7NpajDy5k"
      },
      "outputs": [],
      "source": [
        "!pip uninstall rpy2 -y\n",
        "! pip install rpy2==3.5.1\n",
        "%load_ext rpy2.ipython"
      ]
    },
    {
      "cell_type": "markdown",
      "metadata": {
        "id": "qmEDD0ccEurf"
      },
      "source": [
        "##  Mount Google Drive\n",
        "\n",
        "Then you must create a folder in Goole drive named \"R\" to install all packages permanently. Before installing R-package in Python runtime. You have to mount Google Drive and follow on-screen instruction:"
      ]
    },
    {
      "cell_type": "code",
      "execution_count": null,
      "metadata": {
        "id": "lClKZUW1Eu_G",
        "colab": {
          "base_uri": "https://localhost:8080/"
        },
        "outputId": "d221eee9-8121-4229-826c-529e8576d134"
      },
      "outputs": [
        {
          "output_type": "stream",
          "name": "stdout",
          "text": [
            "Drive already mounted at /content/drive; to attempt to forcibly remount, call drive.mount(\"/content/drive\", force_remount=True).\n"
          ]
        }
      ],
      "source": [
        "from google.colab import drive\n",
        "drive.mount('/content/drive')"
      ]
    },
    {
      "cell_type": "markdown",
      "source": [
        "## Data\n",
        "\n",
        "\n",
        "All data set use in this exercise can be downloaded from my [Dropbox](https://www.dropbox.com/scl/fo/fohioij7h503duitpl040/h?rlkey=3voumajiklwhgqw75fe8kby3o&dl=0) or from my [Github](https://github.com/zia207/r-colab/tree/main/Data/R_Beginners) accounts.\n",
        "\n"
      ],
      "metadata": {
        "id": "pcn48RSJ2Xnk"
      }
    },
    {
      "cell_type": "code",
      "source": [
        "%%R\n",
        "df<-read.csv(\"https://github.com/zia207/r-colab/raw/main/Data/R_Beginners/rice_arsenic_data.csv\",\n",
        "                  header= TRUE)\n",
        "head(df)"
      ],
      "metadata": {
        "colab": {
          "base_uri": "https://localhost:8080/"
        },
        "id": "NKhJzcrC0lGY",
        "outputId": "ac19392d-9e9a-45ef-fe92-a2a17a540c56"
      },
      "execution_count": null,
      "outputs": [
        {
          "output_type": "stream",
          "name": "stdout",
          "text": [
            "  ID TREAT_ID  TREAT  VAR        PH        TN        PN      ster      DTM\n",
            "1  1        1 Low As BR01 119.74870 16.701608 15.509622  1.121060 116.6888\n",
            "2  2        1 Low As BR01  98.69824 27.946359 26.738585 11.272871 119.4231\n",
            "3  3        1 Low As BR01 133.87754  6.416868  2.846243 15.267027 121.3140\n",
            "4  4        1 Low As BR01 123.00719 20.932223 16.971565  4.953537 120.9241\n",
            "5  5        1 Low As BR01  89.49716 25.957307 21.515372  3.814338 115.3630\n",
            "6  6        1 Low As BR01  96.75960 26.157779 21.662071 15.783027 120.6012\n",
            "        GY       SW       GAs     STAs\n",
            "1 43.91485 24.44901 0.8626439 15.23764\n",
            "2 47.81307 30.65842 0.8442584 13.36959\n",
            "3 21.87595 25.88831 1.1382471 16.65208\n",
            "4 48.43976 54.92401 1.0445282 20.77017\n",
            "5 44.40447 57.38066 0.6864139 13.67052\n",
            "6 32.03458 48.69373 0.9225152 14.07802\n"
          ]
        }
      ]
    },
    {
      "cell_type": "markdown",
      "metadata": {
        "id": "mOk85Ol6GQfH"
      },
      "source": [
        "## Central tendency\n",
        "\n",
        "Central tendency is a statistical measure that assists in describing the center point of a set of data values. This concept is used to identify a single value that is considered most representative of the entire distribution. By determining the central tendency, we can gain insights into the typical or common values in a dataset. Mean, median, and mode are the three most commonly used measures of central tendency.\n"
      ]
    },
    {
      "cell_type": "markdown",
      "source": [
        "### Mean\n",
        "\n",
        "The average or mean is a statistical measure that is used to determine the **central tendency** of a set of data. It is obtained by adding up all the quantities or values in the set and then dividing the total by the number of values in the set.\n",
        "\n",
        "For example, let's say you have a set of numbers like 2, 4, 6, 8, and 10. To find the average, you would add all the numbers together (2 + 4 + 6 + 8 + 10 = 30) and then divide the sum by the number of values in the set, which in this case is 5. The resulting average is 6.\n",
        "\n",
        "The mean is a useful measure because it provides a single value that can represent the entire data set. It is commonly used in various fields such as mathematics, science, economics, and social sciences to analyze and interpret data.\n",
        "\n",
        "Overall mean yield:\n",
        "\n"
      ],
      "metadata": {
        "id": "bq9U2wHv7ZRr"
      }
    },
    {
      "cell_type": "code",
      "execution_count": null,
      "metadata": {
        "id": "gXfSYaGPGpbl",
        "colab": {
          "base_uri": "https://localhost:8080/"
        },
        "outputId": "95cb760e-dbcd-43c7-9f88-79ac210a3757"
      },
      "outputs": [
        {
          "output_type": "stream",
          "name": "stdout",
          "text": [
            "[1] 28.66472\n"
          ]
        }
      ],
      "source": [
        "%%R\n",
        "mean(df$GY)"
      ]
    },
    {
      "cell_type": "markdown",
      "source": [
        "Mean age by soil groups:"
      ],
      "metadata": {
        "id": "C9EAA-bSz2nF"
      }
    },
    {
      "cell_type": "code",
      "source": [
        "%%R\n",
        "aggregate(df$GY, list(df$TREAT), FUN=mean)"
      ],
      "metadata": {
        "colab": {
          "base_uri": "https://localhost:8080/"
        },
        "id": "CBXiV8FK9zHJ",
        "outputId": "d0ce376b-26ea-471f-fedc-4eff5abb3238"
      },
      "execution_count": null,
      "outputs": [
        {
          "output_type": "stream",
          "name": "stdout",
          "text": [
            "   Group.1        x\n",
            "1 High As  18.87141\n",
            "2   Low As 38.45802\n"
          ]
        }
      ]
    },
    {
      "cell_type": "markdown",
      "source": [
        "### Median\n",
        "\n",
        "In statistics, the median is a measure of central tendency that is used to determine the middle value in a set of data when the values are arranged either in ascending or descending order. It is a valuable statistical tool that helps to describe the center of a data set, particularly when there are extreme values that could potentially skew the mean. When there is an odd number of values in a data set, the median is simply the middle number. In contrast, when there is an even number of values, the median is calculated by taking the average of the two middle numbers. This method ensures that the median is representative of the central tendency of the data set, regardless of its size or distribution.\n",
        "\n",
        "Overall, the median provides a clear and concise way to analyze and interpret data sets, especially those with outliers or extreme values that could affect other measures of central tendency. Its importance cannot be overstated, and it is a fundamental concept that every student of statistics should be familiar with."
      ],
      "metadata": {
        "id": "1jX5VaKM0MMV"
      }
    },
    {
      "cell_type": "code",
      "execution_count": null,
      "metadata": {
        "colab": {
          "base_uri": "https://localhost:8080/"
        },
        "id": "6Lm8_XGaG8Il",
        "outputId": "9411ef8a-8e5b-4807-86a9-ff740f05d7b8"
      },
      "outputs": [
        {
          "output_type": "stream",
          "name": "stdout",
          "text": [
            "[1] 25.31435\n"
          ]
        }
      ],
      "source": [
        "%%R\n",
        "median(df$GY)"
      ]
    },
    {
      "cell_type": "markdown",
      "source": [
        "### Mode\n",
        "\n",
        "In statistics, mode is a measure that represents the most frequently occurring value in a given data set. It is a central tendency measure that is distinct from both mean and median. While mean represents the average value, and median represents the middle value, mode represents the value that occurs most often in a data set. It is particularly useful when analyzing categorical data, or when identifying the most common occurrence within a set of values. A data set can have one mode, or more than one mode if there are multiple values that occur with equal frequency (known as bimodal, trimodal, etc.). On the other hand, if no value repeats, then the data set has no mode at all. The mode is a valuable statistical tool that helps to identify the most typical and frequent occurrence within a given data set."
      ],
      "metadata": {
        "id": "SqJQoPMbC4sA"
      }
    },
    {
      "cell_type": "code",
      "execution_count": null,
      "metadata": {
        "id": "dKU4UEAtHTHd"
      },
      "outputs": [],
      "source": [
        "%%R\n",
        "# Function to calculate mode\n",
        "getMode <- function(x) {\n",
        "  unique_x <- unique(x)\n",
        "  unique_x_counts <- tabulate(match(x, unique_x))\n",
        "  modes <- unique_x[unique_x_counts == max(unique_x_counts)]\n",
        "  return(modes)\n",
        "}"
      ]
    },
    {
      "cell_type": "code",
      "source": [
        "%%R\n",
        "getMode(df$GAs)"
      ],
      "metadata": {
        "id": "Ek1xNjf87aDv"
      },
      "execution_count": null,
      "outputs": []
    },
    {
      "cell_type": "markdown",
      "source": [
        "## Range\n",
        "\n",
        "Measuring the range in statistics is a simple yet useful approach to understanding the dispersion of a dataset. The range refers to the difference between the highest and lowest values in a given dataset, providing insights into the variability or spread of the data. To calculate the range, you need to subtract the smallest value from the largest value in the dataset. This measure can give you a quick idea of how widely the numbers in the dataset are spread apart.\n",
        "\n",
        "For instance, let's consider a set of numbers like 3, 7, 12, 15, and 20. In this case, the highest value is 20, and the lowest is 3. So, the range would be 20 - 3 = 17. This means that the range of this dataset is 17, which implies that the numbers are relatively far apart.\n",
        "\n",
        "However, it's worth noting that the range doesn't provide information about how the values are distributed within that range. For this reason, other measures such as standard deviation or interquartile range might be used to determine the distribution of values within the range. These measures can provide a more comprehensive understanding of the dataset's characteristics, allowing you to draw more accurate conclusions about the data."
      ],
      "metadata": {
        "id": "LoHVxqxLz9UZ"
      }
    },
    {
      "cell_type": "code",
      "source": [
        "%%R\n",
        "# Calculate range using range() function\n",
        "result_range <- diff(range(df$GY))\n",
        "result_range"
      ],
      "metadata": {
        "colab": {
          "base_uri": "https://localhost:8080/"
        },
        "id": "zh615aRi0Ev4",
        "outputId": "a9ccd2bd-1f1c-4335-c183-a74167abffab"
      },
      "execution_count": null,
      "outputs": [
        {
          "output_type": "stream",
          "name": "stdout",
          "text": [
            "[1] 60.58729\n"
          ]
        }
      ]
    },
    {
      "cell_type": "code",
      "source": [
        "%%R\n",
        "# Calculate range by subtracting maximum and minimum values\n",
        "result_range <- max(df$GY) - min(df$GY)\n",
        "result_range"
      ],
      "metadata": {
        "colab": {
          "base_uri": "https://localhost:8080/"
        },
        "id": "rm-K2qg6bUdH",
        "outputId": "05c31926-1aa1-42a3-f4fe-bcd843b8f4e1"
      },
      "execution_count": null,
      "outputs": [
        {
          "output_type": "stream",
          "name": "stdout",
          "text": [
            "[1] 60.58729\n"
          ]
        }
      ]
    },
    {
      "cell_type": "markdown",
      "source": [
        "## Variance\n",
        "\n",
        "Variance is a statistical concept that is used to measure the degree of variability among the values in a given dataset. In simpler terms, it provides a measure of how far the actual values in a dataset are from the average value of the dataset. A high variance indicates that the values are widely spread out from the mean, while a low variance indicates that the values are closely clustered around the mean. Variance is a crucial metric in data analysis as it enables us to understand the distribution of the data and make informed decisions based on the insights obtained.\n",
        "\n",
        "To calculate the variance:\n",
        "\n",
        "1.  Find the mean of the data set.\n",
        "\n",
        "2.  Subtract the mean from each data point to find the difference.\n",
        "\n",
        "3.  Square each difference.\n",
        "\n",
        "4.  Find the mean of those squared differences."
      ],
      "metadata": {
        "id": "l1vfNT2E3YY9"
      }
    },
    {
      "cell_type": "markdown",
      "source": [
        "![alt text](http://drive.google.com/uc?export=view&id=1rtexIUSsyaDtFHF-jkJdP5MUDfjTVffC)\n",
        "\n"
      ],
      "metadata": {
        "id": "02nE9iYjbg4R"
      }
    },
    {
      "cell_type": "code",
      "source": [
        "%%R\n",
        "var(mf$Yield)"
      ],
      "metadata": {
        "id": "1e7cYHTK5LO9"
      },
      "execution_count": null,
      "outputs": []
    },
    {
      "cell_type": "markdown",
      "source": [
        "## Standard Deviation\n",
        "\n",
        "The standard deviation is a statistical measure that provides information about the amount of variation or dispersion present in a set of values. It is a metric that quantifies the degree to which the values in a dataset are spread out around the mean. A higher standard deviation indicates that the values are more widely distributed, while a lower standard deviation indicates that the values are clustered more closely around the mean. Standard deviation is an important tool in data analysis because it helps to identify outliers and understand the shape of the distribution of values in a dataset.\n",
        "\n",
        "To calculate the standard deviation:\n",
        "\n",
        "1.  Find the mean of the data set.\n",
        "\n",
        "2.  For each data point, find the difference between it and the mean.\n",
        "\n",
        "3.  Square each of these differences.\n",
        "\n",
        "4.  Find the mean of the squared differences.\n",
        "\n",
        "5.  Take the square root of this mean."
      ],
      "metadata": {
        "id": "iHCT14aE5nmP"
      }
    },
    {
      "cell_type": "markdown",
      "source": [
        "![alt text](http://drive.google.com/uc?export=view&id=1rvav3cT6_TuILzQYed6c8_GOy3wQfHgz)\n",
        "\n"
      ],
      "metadata": {
        "id": "Ms2YqXXQcGI1"
      }
    },
    {
      "cell_type": "code",
      "source": [
        "%%R\n",
        "sd(mf$Yield)"
      ],
      "metadata": {
        "colab": {
          "base_uri": "https://localhost:8080/"
        },
        "id": "RjFh0Wg-5nZg",
        "outputId": "c2ac7e87-c587-4ad1-9233-3788755e10c3"
      },
      "execution_count": null,
      "outputs": [
        {
          "output_type": "stream",
          "name": "stdout",
          "text": [
            "  ID  treat  var rep    PH   TN   PN   GW ster   DTM   SW   GAs  STAs\n",
            "1  1 Low As BR01   1  84.0 28.3 27.7 35.7 20.5 126.0 28.4 0.762 14.60\n",
            "2  2 Low As BR01   2 111.7 34.0 30.0 58.1 14.8 119.0 36.7 0.722 10.77\n",
            "3  3 Low As BR01   3 102.3 27.7 24.0 44.6  5.8 119.7 32.9 0.858 12.69\n",
            "4  4 Low As BR06   1 118.0 23.3 19.7 46.4 20.3 119.0 40.0 1.053 18.23\n",
            "5  5 Low As BR06   2 115.3 16.7 12.3 19.9 32.3 120.0 28.2 1.130 13.72\n",
            "6  6 Low As BR06   3 111.0 19.0 15.3 35.9 14.9 116.3 42.3 1.011 15.97\n"
          ]
        }
      ]
    },
    {
      "cell_type": "markdown",
      "source": [
        "### Quantile\n",
        "\n",
        "**Quantiles** are statistical measures used to divide a given dataset into equal portions. They are mainly used to analyze data by dividing it into smaller segments based on their relative position in the entire dataset. For instance, the median is a type of quantile that represents the 50th percentile value, which splits the data into two equal halves. Similarly, other common quantiles include **quartiles**, which are used to divide data into four equal parts, and **deciles**, which divide data into ten equal parts. These measures enable analysts to better understand the distribution of data and identify patterns and trends that may not be apparent when looking at the data as a whole."
      ],
      "metadata": {
        "id": "tSo8Vwdd6A-w"
      }
    },
    {
      "cell_type": "code",
      "source": [
        "%%R\n",
        "# Finding specific quantiles\n",
        "q_25 <- quantile(mf$Yield, 0.25)  # 25th percentile (first quartile)\n",
        "q_50 <- quantile(mf$Yield, 0.50)   # 50th percentile (median)\n",
        "q_75 <- quantile(mf$Yield, 0.75)  # 75th percentile (third quartile)\n",
        "\n",
        "\n",
        "q_25\n",
        "q_50\n",
        "q_75"
      ],
      "metadata": {
        "id": "mOuTgYNI6Ugi"
      },
      "execution_count": null,
      "outputs": []
    },
    {
      "cell_type": "code",
      "source": [
        "%%R\n",
        "# quartiles\n",
        "quantile(mf$Yield)"
      ],
      "metadata": {
        "id": "hFXtvic563B2"
      },
      "execution_count": null,
      "outputs": []
    },
    {
      "cell_type": "code",
      "source": [
        "%%R\n",
        "# deciles\n",
        "quantile(mf$Yield, prob=seq(0, 1, by=0.1)"
      ],
      "metadata": {
        "id": "Jy6k8tga7bwk"
      },
      "execution_count": null,
      "outputs": []
    },
    {
      "cell_type": "markdown",
      "source": [
        "## Interquartile range (IQR)\n",
        "\n",
        "The Interquartile Range (IQR) is a statistical tool used to measure the degree of variation within a dataset. It is calculated by finding the difference between the upper quartile (Q3) and the lower quartile (Q1). Quartiles are values that divide a dataset into quarters, with Q1 representing the 25th percentile and Q3 representing the 75th percentile. The IQR is often used in conjunction with the median to provide a more complete understanding of the spread of data. It is a robust measure of spread because it is not affected by extreme values, or outliers, in the dataset."
      ],
      "metadata": {
        "id": "nVTWlTVo8LPh"
      }
    },
    {
      "cell_type": "code",
      "source": [
        "%%R\n",
        "# Calculating quartiles\n",
        "Q1 <- quantile(mf$Yield, 0.25)  # First quartile (25th percentile)\n",
        "Q3 <- quantile(mf$Yield, 0.75)  # Third quartile (75th percentile)\n",
        "\n",
        "# Calculating IQR\n",
        "IQR_value <- Q3 - Q1\n",
        "\n",
        "IQR_value"
      ],
      "metadata": {
        "id": "ZQUf2PPe8MNr"
      },
      "execution_count": null,
      "outputs": []
    },
    {
      "cell_type": "markdown",
      "metadata": {
        "id": "0Ovc25MJTsD8"
      },
      "source": [
        "## Further Reading\n",
        "\n",
        "1.  [Introduction to basic statistics with R](https://ucdavisdatalab.github.io/basic_stats_r_1/#introduction)\n",
        "\n",
        "2.  [Introduction to statistics with R](https://rafalab.dfci.harvard.edu/dsbook/introduction-to-statistics-with-r.html)"
      ]
    }
  ],
  "metadata": {
    "colab": {
      "provenance": [],
      "authorship_tag": "ABX9TyMkxJuLYdqYUJG3SNKOcoFu",
      "include_colab_link": true
    },
    "kernelspec": {
      "display_name": "Python 3",
      "name": "python3"
    },
    "language_info": {
      "name": "python"
    }
  },
  "nbformat": 4,
  "nbformat_minor": 0
}