{
  "nbformat": 4,
  "nbformat_minor": 0,
  "metadata": {
    "colab": {
      "provenance": [],
      "toc_visible": true,
      "authorship_tag": "ABX9TyNv6liTnV5EnM6N3Bs6w94A",
      "include_colab_link": true
    },
    "kernelspec": {
      "name": "python3",
      "display_name": "Python 3"
    },
    "language_info": {
      "name": "python"
    }
  },
  "cells": [
    {
      "cell_type": "markdown",
      "metadata": {
        "id": "view-in-github",
        "colab_type": "text"
      },
      "source": [
        "<a href=\"https://colab.research.google.com/github/zia207/Deep-Neural-Network-Satellite-Image-Classification-in-Google-Colaboratory-iPython-Note-Book-/blob/master/data_wrangling_dplyr_tidyr.ipynb\" target=\"_parent\"><img src=\"https://colab.research.google.com/assets/colab-badge.svg\" alt=\"Open In Colab\"/></a>"
      ]
    },
    {
      "cell_type": "markdown",
      "source": [
        "# Data Wrangling with dplyr and tidyr\n",
        "\n",
        "Zia AHMED, University Buffalo"
      ],
      "metadata": {
        "id": "BCRHzO46q_nO"
      }
    },
    {
      "cell_type": "markdown",
      "source": [
        "In the upcoming section, you will delve deeper into data manipulation using two of the most widely used and versatile R-packages: **tidyr** and **dplyr**. Both these packages are part of the [tidyverse](https://www.tidyverse.org/), a comprehensive suite of R packages specially designed for data science applications. By mastering the functionalists of these two packages, you will be able to seamlessly transform, clean, and manipulate data in a streamlined and efficient manner. The **tidyr** package provides a set of tools to tidy data in a consistent and structured manner. In contrast, the **dplyr** package offers a range of functions to filter, sort, group, and summarize data frames efficiently. With the combined power of these two packages, you will be well-equipped to handle complex data manipulation tasks and derive meaningful insights from your data."
      ],
      "metadata": {
        "id": "pgLz4ILRrG4l"
      }
    },
    {
      "cell_type": "markdown",
      "source": [
        "### **tidyr - Package**\n",
        "\n",
        "[**tidyr**](https://tidyr.tidyverse.org/) is a powerful data manipulation package that enables users to create **tidy** data, a specific format that makes it easy to work with, model, and visualize data. Tidy data follows a set of principles for organizing data into tables, where each column represents a variable, and each row represents an observation. The variables should have clear, descriptive names that are easy to understand, and the observations should be organized in a logical order. Tidy data is essential because it makes it easier to perform data analysis and visualization. Data in this format can be easily filtered, sorted, and summarized, which is particularly important when working with large datasets. Moreover, it allows users to apply a wide range of data analysis techniques, including regression, clustering, and machine learning, without having to worry about data formatting issues. Tidy data is the preferred format for many data analysis tools and techniques, including the popular R programming language.\n",
        "\n",
        "![alt text](http://drive.google.com/uc?export=view&id=1s2ve_z1T_bXG4BXNUjyHWkvsg4HJHnMh)\n",
        "\n",
        "**tidyr**, package provides a suite of functions for cleaning, reshaping, and transforming data into a tidy format. It allows users to split, combine, and pivot data frames, which are essential operations when working with messy data. Overall, tidyr is a powerful tool that helps users to create tidy data, which is a structured and organized format that makes it easier to analyze and visualize data. Tidy data is a fundamental concept in data science and is widely used in many data analysis tools and techniques.\n",
        "\n",
        "**tidyr** functions fall into five main categories:\n",
        "\n",
        "-   **Pivotting** which converts between long(**pivot_longer()**) and wide forms (**pivot_wider()**), replacing\n",
        "\n",
        "-   **Rectangling**, which turns deeply nested lists (as from JSON) into tidy tibbles.\n",
        "\n",
        "-   **Nesting** converts grouped data to a form where each group becomes a single row containing a nested data frame\n",
        "\n",
        "-   **Splitting and combining character columns**. Use **separate()** and **extract()** to pull a single character column into multiple columns;\n",
        "\n",
        "-   Make implicit missing values explicit with **complete()**; make explicit missing values implicit with **drop_na()**; replace missing values with next/previous value with **fill()**, or a known value with **replace_na()**."
      ],
      "metadata": {
        "id": "M2zEdeqyrWmM"
      }
    },
    {
      "cell_type": "markdown",
      "source": [
        "### **dplyr - Package**\n",
        "\n",
        "[**dplyr**](https://dplyr.tidyverse.org/) provides data manipulation grammar and a set of functions to efficiently clean, process, and aggregate data. It offers a tibble data structure, which is similar to a data frame but designed for easier use and better efficiency. Also, it provides a set of verbs for data manipulation, such as filter(), arrange(), select(), mutate(), and summarize(), to perform various data operations. Additionally, dplyr has a chainable syntax with pipe (%\\>% or \\|\\>), making it easy to execute multiple operations in a single line of code. Finally, it also supports working with remote data sources, including databases and big data systems.\n",
        "\n",
        "![alt text](http://drive.google.com/uc?export=view&id=1rzkAr_dhjcJKHgn9ae_4No8_BR7_W3xw)\n",
        "\n",
        "In addition to data frames/tibbles, dplyr makes working with following packages:\n",
        "\n",
        "[**dtplyr**](https://dtplyr.tidyverse.org/): for large, in-memory datasets. Translates your dplyr code to high performance data.table code.\n",
        "\n",
        "[**dbplyr**](https://dbplyr.tidyverse.org/): for data stored in a relational database. Translates your dplyr code to SQL.\n",
        "\n",
        "[**sparklyr**](https://spark.rstudio.com/): for very large datasets stored in Apache Spark.\n",
        "\n",
        "\n",
        "In addition to tidyr, and dplyr, there are five packages (including stringr and forcats) which are designed to work with specific types of data:\n",
        "\n",
        "-   **lubridate** for dates and date-times.\n",
        "\n",
        "-   **hms** for time-of-day values.\n",
        "\n",
        "-   **blob** for storing blob (binary) data"
      ],
      "metadata": {
        "id": "vj5ihvPIrnAl"
      }
    },
    {
      "cell_type": "markdown",
      "source": [
        "### Cheat-sheet\n",
        "\n",
        "Here below data Wrangling with [dplyr and tidyr Cheat Sheets](https://www.rstudio.com/wp-content/uploads/2015/02/data-wrangling-cheatsheet.pdf):\n",
        "\n",
        "![alt text](http://drive.google.com/uc?export=view&id=1mceCqNLcjsckcXod2BRuJx7pjAB9EBBz)"
      ],
      "metadata": {
        "id": "gGaWv3e9sb6N"
      }
    },
    {
      "cell_type": "markdown",
      "source": [
        "![alt text](http://drive.google.com/uc?export=view&id=1o04SlxwbZI9v3UJ8kqdb7Pw689fiyqdr)"
      ],
      "metadata": {
        "id": "XnL3wXU1sj5_"
      }
    },
    {
      "cell_type": "markdown",
      "source": [
        "## Install rpy2\n",
        "\n",
        "Easy way to run R in Colab with Python runtime using **rpy2** python package. We have to install this package using the `pip` command:"
      ],
      "metadata": {
        "id": "sUnOomm8spzN"
      }
    },
    {
      "cell_type": "code",
      "source": [
        "!pip uninstall rpy2 -y\n",
        "! pip install rpy2==3.5.1\n",
        "%load_ext rpy2.ipython"
      ],
      "metadata": {
        "id": "YWz_caZts02T"
      },
      "execution_count": null,
      "outputs": []
    },
    {
      "cell_type": "markdown",
      "source": [
        "##  Mount Google Drive\n",
        "\n",
        "Then you must create a folder in Goole drive named \"R\" to install all packages permanently. Before installing R-package in Python runtime. You have to mount Google Drive and follow on-screen instruction:"
      ],
      "metadata": {
        "id": "Zijt5D86tAwC"
      }
    },
    {
      "cell_type": "code",
      "source": [
        "from google.colab import drive\n",
        "drive.mount('/content/drive')"
      ],
      "metadata": {
        "colab": {
          "base_uri": "https://localhost:8080/"
        },
        "id": "HNfLPdrztBgs",
        "outputId": "7b05d4fa-eb90-4e0a-b41c-2492d86a6844"
      },
      "execution_count": 2,
      "outputs": [
        {
          "output_type": "stream",
          "name": "stdout",
          "text": [
            "Mounted at /content/drive\n"
          ]
        }
      ]
    },
    {
      "cell_type": "markdown",
      "source": [
        "## Check and Install Required R Packages"
      ],
      "metadata": {
        "id": "qyRISiZatLs4"
      }
    },
    {
      "cell_type": "code",
      "source": [
        "%%R\n",
        "pkg <- c('tidyverse')\n",
        "new.packages <- pkg[!(pkg %in% installed.packages(lib='drive/My Drive/R/')[,\"Package\"])]\n",
        "if(length(new.packages)) install.packages(new.packages, lib='drive/My Drive/R/')"
      ],
      "metadata": {
        "id": "seKozcRZtOj2"
      },
      "execution_count": null,
      "outputs": []
    },
    {
      "cell_type": "markdown",
      "source": [
        "## Load R package"
      ],
      "metadata": {
        "id": "jIN5G5GMtVjQ"
      }
    },
    {
      "cell_type": "code",
      "source": [
        "%%R\n",
        "# set library path\n",
        ".libPaths('drive/My Drive/R')\n",
        "library(tidyverse)"
      ],
      "metadata": {
        "colab": {
          "base_uri": "https://localhost:8080/"
        },
        "id": "2xF32WuqtVrE",
        "outputId": "ff9fc43c-70a5-4fd6-ce86-eed365914ebd"
      },
      "execution_count": 3,
      "outputs": [
        {
          "output_type": "stream",
          "name": "stdout",
          "text": [
            "── Attaching core tidyverse packages ──────────────────────── tidyverse 2.0.0 ──\n",
            "✔ dplyr     1.1.4     ✔ readr     2.1.4\n",
            "✔ forcats   1.0.0     ✔ stringr   1.5.1\n",
            "✔ ggplot2   3.4.4     ✔ tibble    3.2.1\n",
            "✔ lubridate 1.9.2     ✔ tidyr     1.3.0\n",
            "✔ purrr     1.0.2     \n",
            "── Conflicts ────────────────────────────────────────── tidyverse_conflicts() ──\n",
            "✖ dplyr::filter() masks stats::filter()\n",
            "✖ dplyr::lag()    masks stats::lag()\n",
            "ℹ Use the conflicted package (<http://conflicted.r-lib.org/>) to force all conflicts to become errors\n"
          ]
        }
      ]
    },
    {
      "cell_type": "markdown",
      "source": [
        "## Data\n",
        "\n",
        "In this exercise we will use following CSV files:\n",
        "\n",
        "1.  usa_division.csv: USA division names with IDs\n",
        "\n",
        "2.  usa_state.csv: USA State names with ID and division ID.\n",
        "\n",
        "3.  usa_corn_production.csv: USA grain crop production by state from 2012-2022\n",
        "\n",
        "4.  gp_soil_data.csv: Soil carbon with co-variate from four states in the Greatplain region in the USA\n",
        "\n",
        "5.  usa_geochemical_raw.csv: Soil geochemical data for the USA, but not cleaned\n",
        "\n",
        "All data set use in this exercise can be downloaded from my [Dropbox](https://www.dropbox.com/scl/fo/fohioij7h503duitpl040/h?rlkey=3voumajiklwhgqw75fe8kby3o&dl=0) or from my [Github](https://github.com/zia207/r-colab/tree/main/Data/R_Beginners) accounts.\n",
        "\n",
        "We will use `read_csv()` function of **readr** package to import data as a **tidy** data."
      ],
      "metadata": {
        "id": "K4dvpXFmtn22"
      }
    },
    {
      "cell_type": "code",
      "source": [
        "%%R\n",
        "div<-read_csv(\"https://github.com/zia207/r-colab/raw/main/Data/R_Beginners/usa_division.csv\")\n",
        "state<-read_csv(\"https://github.com/zia207/r-colab/raw/main/Data/R_Beginners/usa_state.csv\")\n",
        "corn<-read_csv(\"https://github.com/zia207/r-colab/raw/main/Data/R_Beginners/usa_corn_production.csv\")\n",
        "soil<-read_csv(\"https://github.com/zia207/r-colab/raw/main/Data/R_Beginners/gp_soil_data.csv\")\n",
        "head(soil)"
      ],
      "metadata": {
        "colab": {
          "base_uri": "https://localhost:8080/"
        },
        "id": "32G9cFVeuFm7",
        "outputId": "161926df-9238-4ff9-84aa-789e3751b598"
      },
      "execution_count": 4,
      "outputs": [
        {
          "output_type": "stream",
          "name": "stdout",
          "text": [
            "Rows: 9 Columns: 2\n",
            "── Column specification ────────────────────────────────────────────────────────\n",
            "Delimiter: \",\"\n",
            "chr (1): DIVISION_NAME\n",
            "dbl (1): DIVISION_ID\n",
            "\n",
            "ℹ Use `spec()` to retrieve the full column specification for this data.\n",
            "ℹ Specify the column types or set `show_col_types = FALSE` to quiet this message.\n",
            "Rows: 48 Columns: 3\n",
            "── Column specification ────────────────────────────────────────────────────────\n",
            "Delimiter: \",\"\n",
            "chr (1): STATE_NAME\n",
            "dbl (2): STATE_ID, DIVISION_ID\n",
            "\n",
            "ℹ Use `spec()` to retrieve the full column specification for this data.\n",
            "ℹ Specify the column types or set `show_col_types = FALSE` to quiet this message.\n",
            "Rows: 465 Columns: 3\n",
            "── Column specification ────────────────────────────────────────────────────────\n",
            "Delimiter: \",\"\n",
            "dbl (3): STATE_ID, YEAR, MT\n",
            "\n",
            "ℹ Use `spec()` to retrieve the full column specification for this data.\n",
            "ℹ Specify the column types or set `show_col_types = FALSE` to quiet this message.\n",
            "Rows: 467 Columns: 19\n",
            "── Column specification ────────────────────────────────────────────────────────\n",
            "Delimiter: \",\"\n",
            "chr  (4): STATE, COUNTY, NLCD, FRG\n",
            "dbl (15): ID, FIPS, STATE_ID, Longitude, Latitude, SOC, DEM, Aspect, Slope, ...\n",
            "\n",
            "ℹ Use `spec()` to retrieve the full column specification for this data.\n",
            "ℹ Specify the column types or set `show_col_types = FALSE` to quiet this message.\n",
            "# A tibble: 6 × 19\n",
            "     ID  FIPS STATE_ID STATE  COUNTY Longitude Latitude   SOC   DEM Aspect Slope\n",
            "  <dbl> <dbl>    <dbl> <chr>  <chr>      <dbl>    <dbl> <dbl> <dbl>  <dbl> <dbl>\n",
            "1     1 56041       56 Wyomi… Uinta…     -111.     41.1  15.8 2229.   159.  5.67\n",
            "2     2 56023       56 Wyomi… Linco…     -111.     42.9  15.9 1889.   157.  8.91\n",
            "3     3 56039       56 Wyomi… Teton…     -111.     44.5  18.1 2423.   169.  4.77\n",
            "4     4 56039       56 Wyomi… Teton…     -111.     44.4  10.7 2484.   198.  7.12\n",
            "5     5 56029       56 Wyomi… Park …     -111.     44.8  10.5 2396.   201.  7.95\n",
            "6     6 56039       56 Wyomi… Teton…     -111.     44.1  17.0 2361.   209.  9.66\n",
            "# ℹ 8 more variables: TPI <dbl>, KFactor <dbl>, MAP <dbl>, MAT <dbl>,\n",
            "#   NDVI <dbl>, SiltClay <dbl>, NLCD <chr>, FRG <chr>\n"
          ]
        }
      ]
    },
    {
      "cell_type": "markdown",
      "source": [
        "## Pipe Operator\n",
        "\n",
        "At the beginning of this tutorial, I would like to provide you with a comprehensive overview of the Pipe Operator. This operator is a crucial tool for data wrangling in R. It is denoted by the symbols `%>%` or `| >` (keyboard shortcut **shift+ctrl M**) and requires the use of **R 4.1 or higher**. The Pipe Operator has been an integral part of the **magrittr** package for R for some time now. It allows us to take the output of one function and use it as an argument in another function, which helps us chain together a sequence of analysis steps.\n",
        "\n",
        "To put it simply, suppose we have two functions, A and B. The output of function A can be passed directly to function B using the Pipe Operator. This way, we can avoid the need to store the intermediate results in variables, which can make our code more concise and easier to read.\n",
        "\n",
        "In this tutorial, we will provide an example of how to use the Pipe Operator in a real-world scenario. We will demonstrate how it can help us to perform a sequence of data manipulation steps efficiently. So, stay tuned to learn more about this essential operator, and how you can use it to improve your data analysis skills in R."
      ],
      "metadata": {
        "id": "pGaxX-TTuszp"
      }
    },
    {
      "cell_type": "markdown",
      "source": [
        "## Some Important Functions"
      ],
      "metadata": {
        "id": "EaO5gdIfuy3C"
      }
    },
    {
      "cell_type": "markdown",
      "source": [
        "### Join\n",
        "\n",
        "In R programming language, there are several functions to merge two dataframes. The `base::merge()` function is one such function that can be used to merge dataframes. This function is available in the `join()` function of the dplyr package. The `base::merge()` function can merge two dataframes based on one or more common columns.\n",
        "\n",
        "Before merging two dataframes, it's important to ensure that the dataframes have a common column (or columns) to merge on. These columns are called \"key\" variables. The most important condition for joining two dataframes is that the column type of \"key\" variables should be the same in both dataframes. If the column types are different, the merge operation might result in unexpected errors.\n",
        "\n",
        "In R, there are different types of `base::merge()` functions available for different types of merges such as left, right, inner, and outer. Additionally, the dplyr package provides several `join()` functions like `inner_join()`, `left_join()`, `right_join()`, and `full_join()`. These functions can be used to merge dataframes based on different conditions. For example, `inner_join()` returns only the rows that have matching values in both dataframes, `left_join()` returns all rows from the left dataframe and the matching rows from the right dataframe, and so on.\n",
        "\n",
        "Types of `base::merge()` and several `join()` function of dplyr available in R are:\n",
        "\n",
        "![](Image/join_functions.png){width=\"500\"}\n",
        "\n",
        "`inner_join()` is a function in the **dplyr** library that performs an inner join on two data frames. An inner join returns only the rows that have matching values in both data frames. If there is no match in one of the data frames for a row in the other data frame, the result will not contain that row.\n",
        "\n",
        "> inner_join(x, y, .....)\n",
        "\n",
        "We will join state, division and USA corn production data one by one e using `inner_join()` function:"
      ],
      "metadata": {
        "id": "XpfZ_aDSu11v"
      }
    },
    {
      "cell_type": "code",
      "source": [
        "%%R\n",
        "corn_state = dplyr::inner_join(corn, state)"
      ],
      "metadata": {
        "colab": {
          "base_uri": "https://localhost:8080/"
        },
        "id": "trvpF0Jtu6Xe",
        "outputId": "1454e97b-5c17-448b-859a-c6224d94f926"
      },
      "execution_count": 5,
      "outputs": [
        {
          "output_type": "stream",
          "name": "stdout",
          "text": [
            "Joining with `by = join_by(STATE_ID)`\n"
          ]
        }
      ]
    },
    {
      "cell_type": "code",
      "source": [
        "%%R\n",
        "corn_state_div = dplyr::inner_join(corn_state, div)"
      ],
      "metadata": {
        "colab": {
          "base_uri": "https://localhost:8080/"
        },
        "id": "m3rHHGHEvArS",
        "outputId": "c2adeaee-bb7f-40db-ee2b-342c4a1fee45"
      },
      "execution_count": 6,
      "outputs": [
        {
          "output_type": "stream",
          "name": "stdout",
          "text": [
            "Joining with `by = join_by(DIVISION_ID)`\n"
          ]
        }
      ]
    },
    {
      "cell_type": "markdown",
      "source": [
        "We can run multiple `inner_join()` functions in a series with pipe `%>%`or `|>` operator:"
      ],
      "metadata": {
        "id": "HNmGyx9IvFvB"
      }
    },
    {
      "cell_type": "code",
      "source": [
        "%%R\n",
        "mf.usa = dplyr::inner_join(corn, state)  |>\n",
        "         dplyr::inner_join(div)  |>\n",
        "         glimpse()"
      ],
      "metadata": {
        "colab": {
          "base_uri": "https://localhost:8080/"
        },
        "id": "bUlkY3QRvO6t",
        "outputId": "f926abde-741b-4fb1-def5-624dbb6a8c18"
      },
      "execution_count": 7,
      "outputs": [
        {
          "output_type": "stream",
          "name": "stdout",
          "text": [
            "Joining with `by = join_by(STATE_ID)`\n",
            "Joining with `by = join_by(DIVISION_ID)`\n",
            "Rows: 465\n",
            "Columns: 6\n",
            "$ STATE_ID      <dbl> 1, 1, 1, 1, 1, 1, 1, 1, 1, 1, 1, 4, 4, 4, 4, 4, 4, 4, 4,…\n",
            "$ YEAR          <dbl> 2012, 2013, 2014, 2015, 2016, 2017, 2018, 2019, 2020, 20…\n",
            "$ MT            <dbl> 734352.8, 1101529.2, 1151061.8, 914829.3, 960170.7, 9968…\n",
            "$ STATE_NAME    <chr> \"Alabama\", \"Alabama\", \"Alabama\", \"Alabama\", \"Alabama\", \"…\n",
            "$ DIVISION_ID   <dbl> 2, 2, 2, 2, 2, 2, 2, 2, 2, 2, 2, 4, 4, 4, 4, 4, 4, 4, 4,…\n",
            "$ DIVISION_NAME <chr> \"East South Central\", \"East South Central\", \"East South …\n"
          ]
        }
      ]
    },
    {
      "cell_type": "markdown",
      "source": [
        "`glimpse()` function is similar to the `print()` function, but with one significant difference. In `glimpse()`, columns are displayed vertically, and data is displayed horizontally. This makes it easier to view all the columns in a data frame. It is similar to the `str()` function, but it shows more data. Additionally, it always displays the underlying data, even when used with a remote data source."
      ],
      "metadata": {
        "id": "iWDvamTivhwf"
      }
    },
    {
      "cell_type": "markdown",
      "source": [
        "### Relocate\n",
        "\n",
        "The `relocate()` function can be used to rearrange the positions of columns in a tabular dataset. This function works in a similar way to the `select()` function, making it easy to move blocks of columns at once. By using the `relocate()` function, you can specify the new positions of columns in the dataset and ensure that they are in the desired order. This can be particularly useful when working with large datasets that require reorganization of columns to suit specific needs.\n",
        "\n",
        "Now we will organize DIVISION_FIPS, DIVISION_NAME, STATE_FIPS, STATE_NAME, DIVISION_NAME, YEAR, MT with `relocate()` function:\n",
        "\n",
        "> relocate(.data, ..., .before = NULL, .after = NULL)"
      ],
      "metadata": {
        "id": "388QJSzFvlN-"
      }
    },
    {
      "cell_type": "code",
      "source": [
        "%%R\n",
        "mf.usa<-dplyr::relocate(mf.usa,\n",
        "                        DIVISION_ID,\n",
        "                        DIVISION_NAME,\n",
        "                        STATE_ID,\n",
        "                        STATE_NAME,\n",
        "                        YEAR,\n",
        "                        MT,\n",
        "                        .after =  DIVISION_ID)\n",
        "head(mf.usa)"
      ],
      "metadata": {
        "colab": {
          "base_uri": "https://localhost:8080/"
        },
        "id": "aBp3YBJ3vgaL",
        "outputId": "0d84c7f2-0391-4139-a1fe-9d71d496d4a4"
      },
      "execution_count": 8,
      "outputs": [
        {
          "output_type": "stream",
          "name": "stdout",
          "text": [
            "# A tibble: 6 × 6\n",
            "  DIVISION_ID DIVISION_NAME      STATE_ID STATE_NAME  YEAR       MT\n",
            "        <dbl> <chr>                 <dbl> <chr>      <dbl>    <dbl>\n",
            "1           2 East South Central        1 Alabama     2012  734353.\n",
            "2           2 East South Central        1 Alabama     2013 1101529.\n",
            "3           2 East South Central        1 Alabama     2014 1151062.\n",
            "4           2 East South Central        1 Alabama     2015  914829.\n",
            "5           2 East South Central        1 Alabama     2016  960171.\n",
            "6           2 East South Central        1 Alabama     2017  996876.\n"
          ]
        }
      ]
    },
    {
      "cell_type": "markdown",
      "source": [
        "Explore regions names with `levels()` function:"
      ],
      "metadata": {
        "id": "KQN7gtZ5vxqE"
      }
    },
    {
      "cell_type": "code",
      "source": [
        "%%R\n",
        "levels(as.factor(mf.usa$DIVISION_NAME))"
      ],
      "metadata": {
        "colab": {
          "base_uri": "https://localhost:8080/"
        },
        "id": "QBrcgJK6v0VB",
        "outputId": "f3bc8242-f408-4a53-9bb7-3113bfa381eb"
      },
      "execution_count": 9,
      "outputs": [
        {
          "output_type": "stream",
          "name": "stdout",
          "text": [
            "[1] \"East North Central\" \"East South Central\" \"Middle Atlantic\"   \n",
            "[4] \"Mountain\"           \"New England\"        \"Pacific\"           \n",
            "[7] \"South Atlantic\"     \"West North Central\" \"West South Central\"\n"
          ]
        }
      ]
    },
    {
      "cell_type": "markdown",
      "source": [
        "### Rename\n",
        "\n",
        "The `rename()` function can be used to change the name of an individual variable. The syntax for this is new_name = old_name. On the other hand, the `rename_with()` function can be used to rename columns in a dataframe. This function accepts a function that is used to generate new names for the columns. The function should take a string as input and return a string as output. The `rename_with()` function is a powerful tool that allows you to rename columns based on specific criteria or patterns. With this function, you can easily rename columns in a dataframe without having to manually change each column name.\n",
        "\n",
        "We will rename STAT_ID to SATE_FIPS."
      ],
      "metadata": {
        "id": "2xbj4k4Nv5Rz"
      }
    },
    {
      "cell_type": "code",
      "source": [
        "%%R\n",
        "df.usa <- mf.usa  |>\n",
        "        dplyr::rename(\"STATE_FIPS\" = \"STATE_ID\")\n",
        "names(df.usa)"
      ],
      "metadata": {
        "colab": {
          "base_uri": "https://localhost:8080/"
        },
        "id": "r7h2NHDvv8Pj",
        "outputId": "a8038258-f900-4def-8374-d9a832479b71"
      },
      "execution_count": 10,
      "outputs": [
        {
          "output_type": "stream",
          "name": "stdout",
          "text": [
            "[1] \"DIVISION_ID\"   \"DIVISION_NAME\" \"STATE_FIPS\"    \"STATE_NAME\"   \n",
            "[5] \"YEAR\"          \"MT\"           \n"
          ]
        }
      ]
    },
    {
      "cell_type": "markdown",
      "source": [
        "### Join, Relocate and Rename functions with Pipe\n",
        "\n",
        "We can run `inner_join()`, `relocate()`, and `rename()` in a single line with pipe:"
      ],
      "metadata": {
        "id": "wfa7WMJqwAha"
      }
    },
    {
      "cell_type": "code",
      "source": [
        "%%R\n",
        "df.corn = dplyr::inner_join(corn, state) |>\n",
        "          dplyr::inner_join(div)  |>\n",
        "          dplyr::relocate(DIVISION_ID,\n",
        "                          DIVISION_NAME,\n",
        "                          STATE_ID,\n",
        "                          STATE_NAME,\n",
        "                          YEAR,\n",
        "                          MT,\n",
        "                         .after =  DIVISION_ID) |>\n",
        "          dplyr::rename(\"STATE_FIPS\" = \"STATE_ID\")  |>\n",
        "        glimpse()"
      ],
      "metadata": {
        "colab": {
          "base_uri": "https://localhost:8080/"
        },
        "id": "1rt8608RwHaC",
        "outputId": "ac0a7566-5c6f-49a5-8ba0-7d6288fbe1f3"
      },
      "execution_count": 11,
      "outputs": [
        {
          "output_type": "stream",
          "name": "stdout",
          "text": [
            "Joining with `by = join_by(STATE_ID)`\n",
            "Joining with `by = join_by(DIVISION_ID)`\n",
            "Rows: 465\n",
            "Columns: 6\n",
            "$ DIVISION_ID   <dbl> 2, 2, 2, 2, 2, 2, 2, 2, 2, 2, 2, 4, 4, 4, 4, 4, 4, 4, 4,…\n",
            "$ DIVISION_NAME <chr> \"East South Central\", \"East South Central\", \"East South …\n",
            "$ STATE_FIPS    <dbl> 1, 1, 1, 1, 1, 1, 1, 1, 1, 1, 1, 4, 4, 4, 4, 4, 4, 4, 4,…\n",
            "$ STATE_NAME    <chr> \"Alabama\", \"Alabama\", \"Alabama\", \"Alabama\", \"Alabama\", \"…\n",
            "$ YEAR          <dbl> 2012, 2013, 2014, 2015, 2016, 2017, 2018, 2019, 2020, 20…\n",
            "$ MT            <dbl> 734352.8, 1101529.2, 1151061.8, 914829.3, 960170.7, 9968…\n"
          ]
        }
      ]
    },
    {
      "cell_type": "markdown",
      "source": [
        "### Select\n",
        "\n",
        "The `dplyr::select()` function is a powerful and versatile tool used to extract a subset of columns from a data frame in R programming. This function enables you to select specific columns based on their name or position within the data frame. By using the **dplyr** package, you can perform common data manipulation tasks efficiently and effectively. This package provides a set of functions that are designed to work seamlessly with one another to streamline the data manipulation process.\n",
        "\n",
        "***Overview of selection features***\n",
        "\n",
        "```         \n",
        "Tidyverse selections implement a dialect of R where operators make it easy to select variables:\n",
        "```\n",
        "\n",
        "-   `:`for selecting a range of consecutive variables.\n",
        "\n",
        "-   `!`for taking the complement of a set of variables.\n",
        "\n",
        "-   `&`and  `|`for selecting the intersection or the union of two sets of variables.\n",
        "\n",
        "-   `c()` for combining selections.\n",
        "\n",
        "```         \n",
        "In addition, you can use **selection helpers**. Some helpers select specific columns:\n",
        "```\n",
        "\n",
        "-   [`everything()`](http://127.0.0.1:9029/help/library/tidyselect/help/everything): Matches all variables.\n",
        "\n",
        "-   [`last_col()`](http://127.0.0.1:9029/help/library/tidyselect/help/everything): Select last variable, possibly with an offset.\n",
        "\n",
        "-   [`group_cols()`](http://127.0.0.1:9029/help/library/dplyr/help/group_cols): Select all grouping columns.\n",
        "\n",
        "Other helpers select variables by matching patterns in their names:\n",
        "\n",
        "-   [`starts_with()`](http://127.0.0.1:9029/help/library/tidyselect/help/starts_with): Starts with a prefix.\n",
        "\n",
        "-   [`ends_with()`](http://127.0.0.1:9029/help/library/tidyselect/help/starts_with): Ends with a suffix.\n",
        "\n",
        "-   [`contains()`](http://127.0.0.1:9029/help/library/tidyselect/help/starts_with): Contains a literal string.\n",
        "\n",
        "-   [`matches()`](http://127.0.0.1:9029/help/library/tidyselect/help/starts_with): Matches a regular expression.\n",
        "\n",
        "-   [`num_range()`](http://127.0.0.1:9029/help/library/tidyselect/help/starts_with): Matches a numerical range like x01, x02, x03.\n",
        "\n",
        "```         \n",
        "Or from variables stored in a character vector:\n",
        "```\n",
        "\n",
        "-   [`all_of()`](http://127.0.0.1:9029/help/library/tidyselect/help/all_of): Matches variable names in a character vector. All names must be present, otherwise an out-of-bounds error is thrown.\n",
        "\n",
        "-   [`any_of()`](http://127.0.0.1:9029/help/library/tidyselect/help/all_of): Same as all_of(), except that o error is thrown for names that don't\n",
        "\n",
        "```         \n",
        "Or using a predicate function:\n",
        "```\n",
        "\n",
        "-   [`where()`](http://127.0.0.1:9029/help/library/tidyselect/help/where): Applies a function to all variables and selects those for which the function returns TRUE.\n",
        "\n",
        "Ww will use `select()` to create a dataframe with state names, year and production:"
      ],
      "metadata": {
        "id": "bBfHiyZ1wTLi"
      }
    },
    {
      "cell_type": "code",
      "source": [
        "%%R\n",
        "df.state <- df.corn |>\n",
        "           dplyr::select(STATE_NAME,\n",
        "                         YEAR,\n",
        "                         MT,) |>\n",
        "           glimpse()"
      ],
      "metadata": {
        "colab": {
          "base_uri": "https://localhost:8080/"
        },
        "id": "XPAc4TKpwYNO",
        "outputId": "7e797dab-4807-4363-84fc-cf1e0c0aa58a"
      },
      "execution_count": 12,
      "outputs": [
        {
          "output_type": "stream",
          "name": "stdout",
          "text": [
            "Rows: 465\n",
            "Columns: 3\n",
            "$ STATE_NAME <chr> \"Alabama\", \"Alabama\", \"Alabama\", \"Alabama\", \"Alabama\", \"Ala…\n",
            "$ YEAR       <dbl> 2012, 2013, 2014, 2015, 2016, 2017, 2018, 2019, 2020, 2021,…\n",
            "$ MT         <dbl> 734352.8, 1101529.2, 1151061.8, 914829.3, 960170.7, 996875.…\n"
          ]
        }
      ]
    },
    {
      "cell_type": "markdown",
      "source": [
        "### Filter\n",
        "\n",
        "The `filter()` function in R is a powerful tool for working with data frames. It allows you to subset a data frame by retaining only the rows that meet specific conditions.\n",
        "\n",
        "When using `filter()`, you must provide one or more conditions that each row must satisfy. For example, you may want to filter a data frame to only include rows where a certain column meets a certain condition, such as all rows where the value of a column is greater than 10.\n",
        "\n",
        "To specify conditions, you can use logical operators such as `==`, `!=`, `<`, `>`, `<=`, and `>=`. You can also use the `%in%` operator to check if a value is contained in a list.\n",
        "\n",
        "It's important to note that when using `filter()`, each row must satisfy all the given conditions to be retained. If a condition evaluates to `FALSE` or `NA`, that row will be dropped from the resulting data frame.\n",
        "\n",
        "Unlike base subsetting with `[`, if a condition evaluates to `NA`, the row will also be dropped. This is because R treats `NA` as an undefined value, and so it can't determine whether the condition is satisfied or not.\n",
        "\n",
        "Overall, `filter()` is a useful function for working with data frames in R, and its ability to subset data based on specific conditions can be very helpful when working with large data sets."
      ],
      "metadata": {
        "id": "DW35QrUGwcxC"
      }
    },
    {
      "cell_type": "code",
      "source": [
        "%%R\n",
        "df.01<-df.corn |>\n",
        "       dplyr::filter(DIVISION_NAME == \"East North Central\")\n",
        "levels(as.factor(df.01$STATE_NAME))"
      ],
      "metadata": {
        "colab": {
          "base_uri": "https://localhost:8080/"
        },
        "id": "rqvp79LlwhC_",
        "outputId": "7e93b66a-a60c-4f29-abca-18cbd5e632b7"
      },
      "execution_count": 13,
      "outputs": [
        {
          "output_type": "stream",
          "name": "stdout",
          "text": [
            "[1] \"Illinois\"  \"Indiana\"   \"Michigan\"  \"Ohio\"      \"Wisconsin\"\n"
          ]
        }
      ]
    },
    {
      "cell_type": "markdown",
      "source": [
        "Filtering by multiple criteria within a single logical expression - select data from East North Central, South Central and Middle Atlantic Division"
      ],
      "metadata": {
        "id": "PE0uDE3yweyL"
      }
    },
    {
      "cell_type": "code",
      "source": [
        "%%R\n",
        "df.02<- df.corn  |>\n",
        "        dplyr::filter(DIVISION_NAME %in%c(\"East North Central\",\n",
        "                                          \"East South Central\",\n",
        "                                          \"Middle Atlantic\"))\n",
        "levels(as.factor(df.02$STATE_NAME))"
      ],
      "metadata": {
        "colab": {
          "base_uri": "https://localhost:8080/"
        },
        "id": "W4Gsgqrxwmku",
        "outputId": "fd088a62-603d-443c-8990-9b7655d4c018"
      },
      "execution_count": 14,
      "outputs": [
        {
          "output_type": "stream",
          "name": "stdout",
          "text": [
            " [1] \"Alabama\"      \"Illinois\"     \"Indiana\"      \"Kentucky\"     \"Michigan\"    \n",
            " [6] \"Mississippi\"  \"New Jersey\"   \"New York\"     \"Ohio\"         \"Pennsylvania\"\n",
            "[11] \"Tennessee\"    \"Wisconsin\"   \n"
          ]
        }
      ]
    },
    {
      "cell_type": "markdown",
      "source": [
        "or we can use `|` which represents `OR` in the logical condition, any of the two conditions."
      ],
      "metadata": {
        "id": "XidhDVLNxAKe"
      }
    },
    {
      "cell_type": "code",
      "source": [
        "%%R\n",
        "df.03<- df.usa |>\n",
        "        dplyr::filter(DIVISION_NAME == \"East North Central\" | DIVISION_NAME == \"Middle Atlantic\")\n",
        "levels(as.factor(df.03$STATE_NAME))"
      ],
      "metadata": {
        "colab": {
          "base_uri": "https://localhost:8080/"
        },
        "id": "HDVmeOk0wuc5",
        "outputId": "d00b5c4a-a174-496b-a680-38a6b7f405f8"
      },
      "execution_count": 15,
      "outputs": [
        {
          "output_type": "stream",
          "name": "stdout",
          "text": [
            "[1] \"Illinois\"     \"Indiana\"      \"Michigan\"     \"New Jersey\"   \"New York\"    \n",
            "[6] \"Ohio\"         \"Pennsylvania\" \"Wisconsin\"   \n"
          ]
        }
      ]
    },
    {
      "cell_type": "markdown",
      "source": [
        "Following filter create a files for the Middle Atlantic Division only with New York state."
      ],
      "metadata": {
        "id": "JxJP3OV1wXNN"
      }
    },
    {
      "cell_type": "code",
      "source": [
        "%%R\n",
        "df.ny<-df.corn  |>\n",
        "         dplyr::filter(DIVISION_NAME == \"Middle Atlantic\" & STATE_NAME == \"New York\")\n",
        "head(df.ny)"
      ],
      "metadata": {
        "colab": {
          "base_uri": "https://localhost:8080/"
        },
        "id": "iKvzE6V6xFrF",
        "outputId": "d996dcd0-800e-48b4-a121-719c02c6334f"
      },
      "execution_count": 16,
      "outputs": [
        {
          "output_type": "stream",
          "name": "stdout",
          "text": [
            "# A tibble: 6 × 6\n",
            "  DIVISION_ID DIVISION_NAME   STATE_FIPS STATE_NAME  YEAR       MT\n",
            "        <dbl> <chr>                <dbl> <chr>      <dbl>    <dbl>\n",
            "1           3 Middle Atlantic         36 New York    2012 2314570.\n",
            "2           3 Middle Atlantic         36 New York    2013 2401189.\n",
            "3           3 Middle Atlantic         36 New York    2014 2556391 \n",
            "4           3 Middle Atlantic         36 New York    2015 2143111.\n",
            "5           3 Middle Atlantic         36 New York    2016 1867761.\n",
            "6           3 Middle Atlantic         36 New York    2017 1983464.\n"
          ]
        }
      ]
    },
    {
      "cell_type": "markdown",
      "source": [
        "Following filters will select State where corn production (MT) is greater than the global average of production"
      ],
      "metadata": {
        "id": "hflUpwJMxLTE"
      }
    },
    {
      "cell_type": "code",
      "source": [
        "%%R\n",
        "mean.prod <- df.corn |>\n",
        "              dplyr::filter(MT > mean(MT, na.rm = TRUE))\n",
        "levels(as.factor(mean.prod$STATE_NAME))"
      ],
      "metadata": {
        "colab": {
          "base_uri": "https://localhost:8080/"
        },
        "id": "rgM20fhjxNSy",
        "outputId": "78903f9a-8403-4537-9088-7c9025700050"
      },
      "execution_count": 17,
      "outputs": [
        {
          "output_type": "stream",
          "name": "stdout",
          "text": [
            " [1] \"Illinois\"     \"Indiana\"      \"Iowa\"         \"Kansas\"       \"Michigan\"    \n",
            " [6] \"Minnesota\"    \"Missouri\"     \"Nebraska\"     \"North Dakota\" \"Ohio\"        \n",
            "[11] \"South Dakota\" \"Wisconsin\"   \n"
          ]
        }
      ]
    },
    {
      "cell_type": "markdown",
      "source": [
        "We use will `&` in the following filters to select states or rows where MT is greater than the global average of for the year 2017"
      ],
      "metadata": {
        "id": "s1CKqUYvxTKR"
      }
    },
    {
      "cell_type": "code",
      "source": [
        "%%R\n",
        "mean.prod.2017 <- df.corn |>\n",
        "              dplyr::filter(MT > mean(MT, na.rm = TRUE) & YEAR ==2017)\n",
        "levels(as.factor(mean.prod.2017$STATE_NAME))"
      ],
      "metadata": {
        "colab": {
          "base_uri": "https://localhost:8080/"
        },
        "id": "mMbTZxvAxTxH",
        "outputId": "71ef3faf-18bd-4659-d273-179b528c3184"
      },
      "execution_count": 18,
      "outputs": [
        {
          "output_type": "stream",
          "name": "stdout",
          "text": [
            " [1] \"Illinois\"     \"Indiana\"      \"Iowa\"         \"Kansas\"       \"Minnesota\"   \n",
            " [6] \"Missouri\"     \"Nebraska\"     \"North Dakota\" \"Ohio\"         \"South Dakota\"\n",
            "[11] \"Wisconsin\"   \n"
          ]
        }
      ]
    },
    {
      "cell_type": "markdown",
      "source": [
        "Following command will select counties starting with \"A\". `filter()` with `grepl()` is used to search for pattern matching.\\"
      ],
      "metadata": {
        "id": "YvV899PBxZY5"
      }
    },
    {
      "cell_type": "code",
      "source": [
        "%%R\n",
        "state.a <- df.corn  |>\n",
        "          dplyr::filter(grepl(\"^A\", STATE_NAME))\n",
        "levels(as.factor(state.a $STATE_NAME))"
      ],
      "metadata": {
        "colab": {
          "base_uri": "https://localhost:8080/"
        },
        "id": "8h7bH80_xaC5",
        "outputId": "6fe626bc-9ad5-4195-8271-59c29e97eac6"
      },
      "execution_count": 19,
      "outputs": [
        {
          "output_type": "stream",
          "name": "stdout",
          "text": [
            "[1] \"Alabama\"  \"Arizona\"  \"Arkansas\"\n"
          ]
        }
      ]
    },
    {
      "cell_type": "markdown",
      "source": [
        "### Summarize\n",
        "\n",
        "In the dplyr package, there is a very useful function called `summarize()`. Its purpose is to condense multiple values in a data frame into a single summary value. Essentially, it takes a data frame as input and returns a smaller data frame that contains various summary statistics. For instance, you can use summarize to calculate the mean, sum, count, or any other statistical measure you need to analyze your data. This function is often used in conjunction with other dplyr functions, such as filter and mutate, to manipulate and analyze data effectively. Overall, summarize is a powerful tool that can help you streamline your data analysis tasks and quickly extract valuable insights from your data.\n",
        "\n",
        "-   **Center**: `mean()`, `median()`\n",
        "\n",
        "-   **Spread**: `sd()`, `IQR()`, `mad()`\n",
        "\n",
        "-   **Range**: `min()`, `max()`, `quantile()`\n",
        "\n",
        "-   **Position**: `first()`, `last()`, `nth()`,\n",
        "\n",
        "-   **Count**: `n()`, `n_distinct()`\n",
        "\n",
        "-   **Logical**: `any()`, `all()`\n",
        "\n",
        "`summarise()` and `summarize()` are synonyms."
      ],
      "metadata": {
        "id": "Rifuv2IHxm4T"
      }
    },
    {
      "cell_type": "code",
      "source": [
        "%%R\n",
        "# mean\n",
        "summarize(df.corn, Mean=mean(MT))\n",
        "# median\n",
        "summarise(df.corn, Median=median(MT))"
      ],
      "metadata": {
        "colab": {
          "base_uri": "https://localhost:8080/"
        },
        "id": "wJ5r_AdaxqJO",
        "outputId": "5b29e7cb-9874-4dff-f540-16db28e204a3"
      },
      "execution_count": 20,
      "outputs": [
        {
          "output_type": "stream",
          "name": "stdout",
          "text": [
            "# A tibble: 1 × 1\n",
            "    Median\n",
            "     <dbl>\n",
            "1 2072749.\n"
          ]
        }
      ]
    },
    {
      "cell_type": "markdown",
      "source": [
        "The scoped variants (`_if`, `_at`, `_all`) of `summarise()` make it easy to apply the same transformation to multiple variables. There are three variants.\n",
        "\n",
        "-   `summarise_at()` affects variables selected with a character vector or vars()\n",
        "\n",
        "-   `summarise_all()` affects every variable\n",
        "\n",
        "-   `summarise_if()` affects variables selected with a predicate function\n",
        "\n",
        "Following `summarise_at()`function mean of SOC from USA soil data (soil)."
      ],
      "metadata": {
        "id": "hi_85fZbxt9h"
      }
    },
    {
      "cell_type": "code",
      "source": [
        "%%R\n",
        "soil  |>\n",
        "    dplyr::summarise_at(\"SOC\", mean, na.rm = TRUE)"
      ],
      "metadata": {
        "colab": {
          "base_uri": "https://localhost:8080/"
        },
        "id": "CVbM0mnmxvJE",
        "outputId": "47edea93-464a-4ef7-d733-bdae71e735e0"
      },
      "execution_count": 21,
      "outputs": [
        {
          "output_type": "stream",
          "name": "stdout",
          "text": [
            "# A tibble: 1 × 1\n",
            "    SOC\n",
            "  <dbl>\n",
            "1  6.35\n"
          ]
        }
      ]
    },
    {
      "cell_type": "markdown",
      "source": [
        "For multiple variables:"
      ],
      "metadata": {
        "id": "C0yWWSLOx0Gj"
      }
    },
    {
      "cell_type": "code",
      "source": [
        "%%R\n",
        "soil  |>\n",
        "    dplyr::summarise_at(c(\"SOC\", \"NDVI\"), mean, na.rm = TRUE)"
      ],
      "metadata": {
        "colab": {
          "base_uri": "https://localhost:8080/"
        },
        "id": "k4MMIG8Ex07x",
        "outputId": "f9c416a6-a016-4ed8-d5c5-4eafa33b6736"
      },
      "execution_count": 22,
      "outputs": [
        {
          "output_type": "stream",
          "name": "stdout",
          "text": [
            "# A tibble: 1 × 2\n",
            "    SOC  NDVI\n",
            "  <dbl> <dbl>\n",
            "1  6.35 0.437\n"
          ]
        }
      ]
    },
    {
      "cell_type": "markdown",
      "source": [
        "The `summarise_if()` variants apply a predicate function (a function that returns `TRUE` or `FALSE`) to determine the relevant subset of columns.\n",
        "\n",
        "Here we apply `mean()` to the numeric columns:"
      ],
      "metadata": {
        "id": "QgAXib3ux8NZ"
      }
    },
    {
      "cell_type": "code",
      "source": [
        "%%R\n",
        "soil  |>\n",
        "    dplyr::summarise_if(is.numeric, mean, na.rm = TRUE)"
      ],
      "metadata": {
        "colab": {
          "base_uri": "https://localhost:8080/"
        },
        "id": "lskGTbUcx644",
        "outputId": "433f4cea-28a6-49da-e585-f8e76514ef57"
      },
      "execution_count": 23,
      "outputs": [
        {
          "output_type": "stream",
          "name": "stdout",
          "text": [
            "# A tibble: 1 × 15\n",
            "     ID   FIPS STATE_ID Longitude Latitude   SOC   DEM Aspect Slope     TPI\n",
            "  <dbl>  <dbl>    <dbl>     <dbl>    <dbl> <dbl> <dbl>  <dbl> <dbl>   <dbl>\n",
            "1  238. 29151.     29.1     -104.     38.9  6.35 1632.   165.  4.84 0.00937\n",
            "# ℹ 5 more variables: KFactor <dbl>, MAP <dbl>, MAT <dbl>, NDVI <dbl>,\n",
            "#   SiltClay <dbl>\n"
          ]
        }
      ]
    },
    {
      "cell_type": "code",
      "source": [
        "%%R\n",
        "soil  |>\n",
        "   dplyr::summarise(across(where(is.numeric), ~ mean(.x, na.rm = TRUE)))"
      ],
      "metadata": {
        "colab": {
          "base_uri": "https://localhost:8080/"
        },
        "id": "GDzEPoAVyClU",
        "outputId": "e3d5e205-25bc-4497-bfb2-d0b5d1666b10"
      },
      "execution_count": 24,
      "outputs": [
        {
          "output_type": "stream",
          "name": "stdout",
          "text": [
            "# A tibble: 1 × 15\n",
            "     ID   FIPS STATE_ID Longitude Latitude   SOC   DEM Aspect Slope     TPI\n",
            "  <dbl>  <dbl>    <dbl>     <dbl>    <dbl> <dbl> <dbl>  <dbl> <dbl>   <dbl>\n",
            "1  238. 29151.     29.1     -104.     38.9  6.35 1632.   165.  4.84 0.00937\n",
            "# ℹ 5 more variables: KFactor <dbl>, MAP <dbl>, MAT <dbl>, NDVI <dbl>,\n",
            "#   SiltClay <dbl>\n"
          ]
        }
      ]
    },
    {
      "cell_type": "markdown",
      "source": [
        "It is better to select first our target numerical columns and then apply `summarise_all()`:"
      ],
      "metadata": {
        "id": "FqlcHkJeyGVQ"
      }
    },
    {
      "cell_type": "code",
      "source": [
        "%%R\n",
        "soil  |>\n",
        "    # First select  numerical columns\n",
        "    dplyr::select(SOC, DEM, NDVI, MAP, MAT) |>\n",
        "    # get mean of all these variables\n",
        "    dplyr::summarise_all(mean, na.rm = TRUE)"
      ],
      "metadata": {
        "colab": {
          "base_uri": "https://localhost:8080/"
        },
        "id": "om80xST4yIe-",
        "outputId": "f659c175-72d4-4259-c28c-07eeb6e701a9"
      },
      "execution_count": 25,
      "outputs": [
        {
          "output_type": "stream",
          "name": "stdout",
          "text": [
            "# A tibble: 1 × 5\n",
            "    SOC   DEM  NDVI   MAP   MAT\n",
            "  <dbl> <dbl> <dbl> <dbl> <dbl>\n",
            "1  6.35 1632. 0.437  501.  8.88\n"
          ]
        }
      ]
    },
    {
      "cell_type": "markdown",
      "source": [
        "### Mutate\n",
        "\n",
        "The `mutate()` function is a powerful tool that can be used to create new columns in a data frame by using expressions that manipulate the values of existing columns or variables. It is a part of the **dplyr** package in R and is used extensively in data manipulation tasks.\n",
        "\n",
        "When you use the `mutate()` function, you can specify new column names and the expressions that will be used to generate the column values. The expressions can use the values from one or more existing columns or variables, and can include arithmetic operations, logical operators, and other functions.\n",
        "\n",
        "The `mutate()` function returns a new data frame with the added columns and the same number of rows as the original dataframe. This means that the original data frame is not modified, and the new data frame can be used for further analysis or visualization tasks.\n",
        "\n",
        "Overall, the `mutate()` function is a versatile tool that can simplify complex data manipulation tasks and streamline your data analysis workflow.\n",
        "\n",
        "In this exercise we will create a new column (MT_1000) in df.corn dataframe dividing MT column by 1000"
      ],
      "metadata": {
        "id": "siD6jQWwyNNP"
      }
    },
    {
      "cell_type": "code",
      "source": [
        "%%R\n",
        "df.corn  |>\n",
        "    # get mean of all these variables\n",
        "    dplyr::mutate(MT_1000 = MT / 10000)  |>\n",
        "    glimpse()"
      ],
      "metadata": {
        "colab": {
          "base_uri": "https://localhost:8080/"
        },
        "id": "5P1prFfWyNzB",
        "outputId": "3a89eda4-88a6-46dc-ac75-0edcd15b9f57"
      },
      "execution_count": 26,
      "outputs": [
        {
          "output_type": "stream",
          "name": "stdout",
          "text": [
            "Rows: 465\n",
            "Columns: 7\n",
            "$ DIVISION_ID   <dbl> 2, 2, 2, 2, 2, 2, 2, 2, 2, 2, 2, 4, 4, 4, 4, 4, 4, 4, 4,…\n",
            "$ DIVISION_NAME <chr> \"East South Central\", \"East South Central\", \"East South …\n",
            "$ STATE_FIPS    <dbl> 1, 1, 1, 1, 1, 1, 1, 1, 1, 1, 1, 4, 4, 4, 4, 4, 4, 4, 4,…\n",
            "$ STATE_NAME    <chr> \"Alabama\", \"Alabama\", \"Alabama\", \"Alabama\", \"Alabama\", \"…\n",
            "$ YEAR          <dbl> 2012, 2013, 2014, 2015, 2016, 2017, 2018, 2019, 2020, 20…\n",
            "$ MT            <dbl> 734352.8, 1101529.2, 1151061.8, 914829.3, 960170.7, 9968…\n",
            "$ MT_1000       <dbl> 73.43528, 110.15292, 115.10618, 91.48293, 96.01707, 99.6…\n"
          ]
        }
      ]
    },
    {
      "cell_type": "markdown",
      "source": [
        "### Group by\n",
        "\n",
        "The function `group_by()` is used to group a data frame by one or more variables. Once the data is grouped, you can perform various operations on it, such as aggregating with `summarize()`, transforming with `mutate()`, or filtering with `filter()`. The output of grouping is a grouped tibble, which is a data structure that retains the grouping structure and allows you to perform further operations on the grouped data.\n",
        "\n",
        "We can calculate global mean of USA corn production by division:"
      ],
      "metadata": {
        "id": "Z0TMYIhNyTQv"
      }
    },
    {
      "cell_type": "code",
      "source": [
        "%%R\n",
        "df.corn |>\n",
        "          dplyr::group_by(DIVISION_NAME) |>\n",
        "          dplyr::summarize(Prod_MT = mean(MT))"
      ],
      "metadata": {
        "colab": {
          "base_uri": "https://localhost:8080/"
        },
        "id": "W7z7tT8cyT9D",
        "outputId": "03c571bf-c022-4e1e-f1be-b61da9cc2851"
      },
      "execution_count": 27,
      "outputs": [
        {
          "output_type": "stream",
          "name": "stdout",
          "text": [
            "# A tibble: 9 × 2\n",
            "  DIVISION_NAME        Prod_MT\n",
            "  <chr>                  <dbl>\n",
            "1 East North Central 22246702.\n",
            "2 East South Central  3143670.\n",
            "3 Middle Atlantic     2036263.\n",
            "4 Mountain             712629.\n",
            "5 New England           15203.\n",
            "6 Pacific              384083.\n",
            "7 South Atlantic      1163065.\n",
            "8 West North Central 27893388.\n",
            "9 West South Central  3163740.\n"
          ]
        }
      ]
    },
    {
      "cell_type": "markdown",
      "source": [
        "We can also apply the `group_by()`, `summarize()` and `mutate()` functions with pipe to calculate mean of corn production in 1000 MT by division for the year 2022"
      ],
      "metadata": {
        "id": "GmIbJrGyyZNt"
      }
    },
    {
      "cell_type": "code",
      "source": [
        "%%R\n",
        "df.corn |>\n",
        "          dplyr::filter(YEAR==2020) |>\n",
        "          dplyr::group_by(DIVISION_NAME) |>\n",
        "          dplyr::summarize(Prod_MT = mean(MT)) |>\n",
        "          dplyr::mutate(Prod_1000_MT = Prod_MT / 1000)"
      ],
      "metadata": {
        "colab": {
          "base_uri": "https://localhost:8080/"
        },
        "id": "KF0Ea6BNyaOt",
        "outputId": "bf55f5ff-7012-4211-98e9-6d10c94d3265"
      },
      "execution_count": 28,
      "outputs": [
        {
          "output_type": "stream",
          "name": "stdout",
          "text": [
            "# A tibble: 8 × 3\n",
            "  DIVISION_NAME        Prod_MT Prod_1000_MT\n",
            "  <chr>                  <dbl>        <dbl>\n",
            "1 East North Central 22746952.       22747.\n",
            "2 East South Central  3350119.        3350.\n",
            "3 Middle Atlantic     1929554.        1930.\n",
            "4 Mountain             651221.         651.\n",
            "5 Pacific              391731.         392.\n",
            "6 South Atlantic      1223075.        1223.\n",
            "7 West North Central 28281091.       28281.\n",
            "8 West South Central  3009964.        3010.\n"
          ]
        }
      ]
    },
    {
      "cell_type": "markdown",
      "source": [
        "We can also apply the `group_by()` and `summarize()` functions to calculate statistic of multiple variable:"
      ],
      "metadata": {
        "id": "zBks2WmLyfqu"
      }
    },
    {
      "cell_type": "code",
      "source": [
        "%%R\n",
        "soil |>\n",
        "  group_by(STATE) |>\n",
        "  summarize(SOC = mean(SOC),\n",
        "            NDVI = mean(NDVI),\n",
        "            MAP = mean(MAP),\n",
        "            MAT = mean(MAT))"
      ],
      "metadata": {
        "colab": {
          "base_uri": "https://localhost:8080/"
        },
        "id": "7Ce5l1_2ygTv",
        "outputId": "c0e73d67-5795-4e0a-a552-5927d91c1b02"
      },
      "execution_count": 29,
      "outputs": [
        {
          "output_type": "stream",
          "name": "stdout",
          "text": [
            "# A tibble: 4 × 5\n",
            "  STATE        SOC  NDVI   MAP   MAT\n",
            "  <chr>      <dbl> <dbl> <dbl> <dbl>\n",
            "1 Colorado    7.29 0.482  473.  6.93\n",
            "2 Kansas      7.43 0.570  742. 12.6 \n",
            "3 New Mexico  3.51 0.301  388. 11.6 \n",
            "4 Wyoming     6.90 0.390  419.  5.27\n"
          ]
        }
      ]
    },
    {
      "cell_type": "markdown",
      "source": [
        "Following code will identify the states where corn production data has not reported for the all years."
      ],
      "metadata": {
        "id": "ns_WrPNtymNe"
      }
    },
    {
      "cell_type": "code",
      "source": [
        "%%R\n",
        "df.corn |>\n",
        "  dplyr::group_by(STATE_NAME) |>\n",
        "  dplyr::summarise(n = n()) |>\n",
        "  dplyr::filter(n < 11)"
      ],
      "metadata": {
        "colab": {
          "base_uri": "https://localhost:8080/"
        },
        "id": "jMA_GwveynDy",
        "outputId": "2d71fd98-1546-4269-f3a9-f16be3fe38e9"
      },
      "execution_count": 30,
      "outputs": [
        {
          "output_type": "stream",
          "name": "stdout",
          "text": [
            "# A tibble: 7 × 2\n",
            "  STATE_NAME        n\n",
            "  <chr>         <int>\n",
            "1 Connecticut       2\n",
            "2 Maine             2\n",
            "3 Massachusetts     2\n",
            "4 Nevada            2\n",
            "5 New Hampshire     2\n",
            "6 Rhode Island      2\n",
            "7 Vermont           2\n"
          ]
        }
      ]
    },
    {
      "cell_type": "markdown",
      "source": [
        "### Pivoting Data-frame\n",
        "\n",
        "Pivoting a DataFrame is a data manipulation technique that involves reorganizing the structure of the data to create a new view. This technique is particularly useful when working with large datasets because it can help to make the data more manageable and easier to analyze. In R, pivoting a DataFrame typically involves using the dplyr or tidyr packages to transform the data from a long format to a wide format or vice versa. This allows for easier analysis of the data and can help to highlight patterns, trends, and relationships that might otherwise be difficult to see. Overall, pivoting a DataFrame is an important tool in the data analyst's toolkit and can be used to gain valuable insights into complex datasets.\n",
        "\n",
        "In R, there are multiple ways to pivot a data frame, but the most common methods are:\n",
        "\n",
        "`tidyr::pivot_wider`: The pivot_wider() function is used to reshape a data frame from a long format to a wide format, in which each row becomes a variable, and each column is an observation.\n",
        "\n",
        "`tidyr::pivot_longer`: This is a relatively new function in the tidyr library that makes it easy to pivot a data frame from wide to long format. It is used to reshape a data frame from a wide format to a long format, in which each column becomes a variable, and each row is an observation.\n",
        "\n",
        "`tidyr::spread()`: This function is also used to pivot data from long to wide format. It creates new columns from the values of one column, based on the values of another column.\n",
        "\n",
        "`tidy::gather()` : This function is used to pivot data from wide to long format. It collects values of multiple columns into a single column, based on the values of another column."
      ],
      "metadata": {
        "id": "R41fYcNOytff"
      }
    },
    {
      "cell_type": "markdown",
      "source": [
        "#### pivot_wider\n",
        "\n",
        "`pivot_wider()` convert a dataset wider by increasing the number of columns and decreasing the number of rows."
      ],
      "metadata": {
        "id": "XNS7WXvDyupA"
      }
    },
    {
      "cell_type": "markdown",
      "source": [
        "#### pivot_longer\n",
        "\n",
        "The `pivot_longer()` function can be used to pivot a data frame from a wide format to a long format."
      ],
      "metadata": {
        "id": "hK0rTDo-y2Vr"
      }
    },
    {
      "cell_type": "markdown",
      "source": [
        "Following command combined `select()`, `rename()`, `summarize()` and `pivot_longer()` the data:"
      ],
      "metadata": {
        "id": "15JGvjt4y_NI"
      }
    }
  ]
}